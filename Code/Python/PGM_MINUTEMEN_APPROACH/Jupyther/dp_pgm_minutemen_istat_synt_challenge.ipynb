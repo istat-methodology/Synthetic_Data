{
  "nbformat": 4,
  "nbformat_minor": 0,
  "metadata": {
    "colab": {
      "name": "dp_pgm_minutemen_istat_synt_challenge.ipynb",
      "provenance": [],
      "collapsed_sections": []
    },
    "kernelspec": {
      "name": "python3",
      "display_name": "Python 3"
    },
    "language_info": {
      "name": "python"
    },
    "accelerator": "GPU"
  },
  "cells": [
    {
      "cell_type": "markdown",
      "source": [
        "# All imports"
      ],
      "metadata": {
        "id": "OgbUsjiHe9pS"
      }
    },
    {
      "cell_type": "code",
      "source": [
        "import os\n",
        "os.system('pip install numpy')\n",
        "os.system('pip install gdown')\n",
        "os.system('pip install jsonschema')\n",
        "import platform\n",
        "import numpy\n",
        "import pandas\n",
        "# Operating System\n",
        "OS = platform.system()                                                             # returns 'Windows', 'Linux', etc\n"
      ],
      "metadata": {
        "id": "HS6fWorwEiAB"
      },
      "execution_count": 3,
      "outputs": []
    },
    {
      "cell_type": "markdown",
      "source": [
        "# All Globals"
      ],
      "metadata": {
        "id": "NU8p30AHfA4h"
      }
    },
    {
      "cell_type": "code",
      "source": [
        "benchmark = False"
      ],
      "metadata": {
        "id": "6BkBAOfMnJgp"
      },
      "execution_count": 4,
      "outputs": []
    },
    {
      "cell_type": "markdown",
      "source": [
        "# All Program checks"
      ],
      "metadata": {
        "id": "oKk8NbUF3Ur1"
      }
    },
    {
      "cell_type": "code",
      "source": [
        "os.system('python --version')\n",
        "print(numpy.__version__)\n",
        "print(pandas.__version__)"
      ],
      "metadata": {
        "colab": {
          "base_uri": "https://localhost:8080/"
        },
        "id": "CcTw49-X3QLt",
        "outputId": "74c43aa6-e440-442f-beee-a4242bd6e26d"
      },
      "execution_count": 5,
      "outputs": [
        {
          "output_type": "stream",
          "name": "stdout",
          "text": [
            "1.19.5\n",
            "1.1.5\n"
          ]
        }
      ]
    },
    {
      "cell_type": "markdown",
      "source": [
        "# All Updates"
      ],
      "metadata": {
        "id": "uofmAmfD3wYN"
      }
    },
    {
      "cell_type": "code",
      "source": [
        "'''\n",
        "if colab \n",
        "  #install python 3.9\n",
        "  !sudo apt-get update -y\n",
        "  !sudo apt-get install python3.9\n",
        "\n",
        "  #change alternatives\n",
        "  !sudo update-alternatives --install /usr/bin/python3 python3 /usr/bin/python3.7 1\n",
        "  !sudo update-alternatives --install /usr/bin/python3 python3 /usr/bin/python3.9 2\n",
        "\n",
        "  #check python version\n",
        "  !python --version\n",
        "  #3.9.6\n",
        "'''"
      ],
      "metadata": {
        "colab": {
          "base_uri": "https://localhost:8080/",
          "height": 87
        },
        "id": "9O_yLLQA3thl",
        "outputId": "c7b3559f-b9e2-429c-fce1-b074bde963bb"
      },
      "execution_count": 6,
      "outputs": [
        {
          "output_type": "execute_result",
          "data": {
            "application/vnd.google.colaboratory.intrinsic+json": {
              "type": "string"
            },
            "text/plain": [
              "'\\nif colab \\n  #install python 3.9\\n  !sudo apt-get update -y\\n  !sudo apt-get install python3.9\\n\\n  #change alternatives\\n  !sudo update-alternatives --install /usr/bin/python3 python3 /usr/bin/python3.7 1\\n  !sudo update-alternatives --install /usr/bin/python3 python3 /usr/bin/python3.9 2\\n\\n  #check python version\\n  !python --version\\n  #3.9.6\\n'"
            ]
          },
          "metadata": {},
          "execution_count": 6
        }
      ]
    },
    {
      "cell_type": "markdown",
      "source": [
        "# Libraries Installation Section\n"
      ],
      "metadata": {
        "id": "PvRvKYjLohbA"
      }
    },
    {
      "cell_type": "markdown",
      "source": [
        "Installation of all required libraries: private-pgm and nist-synthetic-data"
      ],
      "metadata": {
        "id": "VgFPOrG9oKkH"
      }
    },
    {
      "cell_type": "code",
      "execution_count": 7,
      "metadata": {
        "colab": {
          "base_uri": "https://localhost:8080/"
        },
        "id": "N9Hu52yqkKsu",
        "outputId": "8e8d8475-db86-4f12-b53e-3112e4b53234"
      },
      "outputs": [
        {
          "output_type": "execute_result",
          "data": {
            "text/plain": [
              "0"
            ]
          },
          "metadata": {},
          "execution_count": 7
        }
      ],
      "source": [
        "os.system('git clone https://github.com/ryan112358/private-pgm.git')"
      ]
    },
    {
      "cell_type": "code",
      "source": [
        "os.system('pip install -r ./private-pgm/requirements.txt')\n",
        "os.system('pip install ./private-pgm')"
      ],
      "metadata": {
        "colab": {
          "base_uri": "https://localhost:8080/"
        },
        "id": "HHpg3YEwmErS",
        "outputId": "adc10158-9301-4a1c-8c1f-52ef88d702a2"
      },
      "execution_count": 8,
      "outputs": [
        {
          "output_type": "execute_result",
          "data": {
            "text/plain": [
              "0"
            ]
          },
          "metadata": {},
          "execution_count": 8
        }
      ]
    },
    {
      "cell_type": "code",
      "source": [
        "os.system('git clone https://github.com/ryan112358/nist-synthetic-data-2021.git')\n"
      ],
      "metadata": {
        "colab": {
          "base_uri": "https://localhost:8080/"
        },
        "id": "DffXF880mgxj",
        "outputId": "2627372b-c3fc-46f7-cd63-5aa36dea9ee7"
      },
      "execution_count": 9,
      "outputs": [
        {
          "output_type": "execute_result",
          "data": {
            "text/plain": [
              "0"
            ]
          },
          "metadata": {},
          "execution_count": 9
        }
      ]
    },
    {
      "cell_type": "code",
      "source": [
        "os.system('pip install -r ./nist-synthetic-data-2021/requirements.txt')"
      ],
      "metadata": {
        "colab": {
          "base_uri": "https://localhost:8080/"
        },
        "id": "esUujxsqn-nZ",
        "outputId": "be032b2a-ad97-4fbd-90c7-e111f547d07a"
      },
      "execution_count": 10,
      "outputs": [
        {
          "output_type": "execute_result",
          "data": {
            "text/plain": [
              "0"
            ]
          },
          "metadata": {},
          "execution_count": 10
        }
      ]
    },
    {
      "cell_type": "markdown",
      "source": [
        "# Data Download - ACS and SatGPA"
      ],
      "metadata": {
        "id": "456-Hs6gvjM2"
      }
    },
    {
      "cell_type": "code",
      "source": [
        "if benchmark == True: \n",
        "  if not os.path.exists(\"./adult.csv\"):\n",
        "      os.system('gdown --id \"1pvGlZG0ypswgey-rzvxdZev5F-PYnHVz\" --output \"./adult.csv\"')\n",
        "else: \n",
        "  if not os.path.exists(\"./satgpa.csv\"):\n",
        "      os.system('gdown --id \"1NNVF1LhBDkW_KKp5_QW8cAiQDFatzWMy\" --output \"./satgpa.csv\"')\n",
        "\n",
        "  '''\n",
        "  if not os.path.exists(\"./acs_dataset.zip\"):\n",
        "      os.system('gdown --id \"1mKZfDieGBJP-cS-R7_i3zVKVawXThfUc\" --output \"./acs_dataset.zip\"')\n",
        "      if OS == \"Linux\":\n",
        "          os.system('unzip -o -n \"./acs_dataset.zip\" -d \"./\"')\n",
        "  '''\n",
        "\n",
        "  if not os.path.exists(\"./satgpa_parameters.json\"):\n",
        "      os.system('gdown --id \"1sA-sWA8WktSM1yfvY0ceg5woaVyIFyfs\" --output \"./satgpa_parameters.json\"')"
      ],
      "metadata": {
        "id": "gif6H4EZvoNM"
      },
      "execution_count": 11,
      "outputs": []
    },
    {
      "cell_type": "markdown",
      "source": [
        "# Schema Generation via Schemagen"
      ],
      "metadata": {
        "id": "qgkPCcRQmkx0"
      }
    },
    {
      "cell_type": "code",
      "source": [
        "if benchmark == True: \n",
        "  os.system('python ./nist-synthetic-data-2021/extensions/schemagen.py ./adult.csv --max_categorical 40')\n",
        "  #!python ./nist-synthetic-data-2021/extensions/schemagen.py /content/nist-synthetic-data-2021/extensions/datasets/raw/adult.csv --max_categorical 40\n",
        "else:\n",
        "  os.system('python ./nist-synthetic-data-2021/extensions/schemagen.py ./satgpa.csv --max_categorical 100')\n",
        "  #!python ./nist-synthetic-data-2021/extensions/schemagen.py ./satgpa.csv --max_categorical 100"
      ],
      "metadata": {
        "id": "OK1ehZ-AmjBy"
      },
      "execution_count": 12,
      "outputs": []
    },
    {
      "cell_type": "markdown",
      "source": [
        "# Data Discretization via Schemagen"
      ],
      "metadata": {
        "id": "1PoTJAUh4h6L"
      }
    },
    {
      "cell_type": "code",
      "source": [
        "os.system('python ./nist-synthetic-data-2021/extensions/transform.py --transform discretize --df \"./satgpa.csv\" --schema \"./satgpa_parameters.json\" --output_dir \"./\"')\n",
        "#!python ./nist-synthetic-data-2021/extensions/transform.py --transform discretize --df \"./satgpa.csv\" --schema \"./satgpa_parameters.json\" --output_dir \"./\""
      ],
      "metadata": {
        "id": "w687fFK28E2g",
        "colab": {
          "base_uri": "https://localhost:8080/"
        },
        "outputId": "e498eeae-aab0-486f-c406-2ab9646b9f93"
      },
      "execution_count": 13,
      "outputs": [
        {
          "output_type": "execute_result",
          "data": {
            "text/plain": [
              "0"
            ]
          },
          "metadata": {},
          "execution_count": 13
        }
      ]
    },
    {
      "cell_type": "code",
      "source": [
        "os.system('python ./nist-synthetic-data-2021/extensions/check_domain.py --dataset \"./discretized.csv\" --domain \"./domain.json\"')"
      ],
      "metadata": {
        "colab": {
          "base_uri": "https://localhost:8080/"
        },
        "id": "weF7EvE0BjNL",
        "outputId": "41e903d2-bced-428c-fa5b-c13fe1c2281e"
      },
      "execution_count": 14,
      "outputs": [
        {
          "output_type": "execute_result",
          "data": {
            "text/plain": [
              "0"
            ]
          },
          "metadata": {},
          "execution_count": 14
        }
      ]
    },
    {
      "cell_type": "markdown",
      "source": [
        "# Synthetization of Input Discretized Data"
      ],
      "metadata": {
        "id": "V0GQ-fpgCWzQ"
      }
    },
    {
      "cell_type": "code",
      "source": [
        "os.system('python ./nist-synthetic-data-2021/extensions/adaptive_grid.py --dataset \"./discretized.csv\" --domain \"./domain.json\" --save \"./satgpa_discretized_synthetic.csv\" --epsilon 10')\n",
        "#!python ./nist-synthetic-data-2021/extensions/adaptive_grid.py --dataset \"./discretized.csv\" --domain \"./domain.json\" --save \"./satgpa_discretized_synthetic.csv\" --epsilon 10"
      ],
      "metadata": {
        "colab": {
          "base_uri": "https://localhost:8080/"
        },
        "id": "n62fUTUoCUbY",
        "outputId": "ac11b34e-fce1-452b-9118-612d8a605d70"
      },
      "execution_count": 15,
      "outputs": [
        {
          "output_type": "execute_result",
          "data": {
            "text/plain": [
              "0"
            ]
          },
          "metadata": {},
          "execution_count": 15
        }
      ]
    },
    {
      "cell_type": "code",
      "source": [
        "os.system('python ./nist-synthetic-data-2021/extensions/transform.py --transform undo_discretize --df \"./satgpa_discretized_synthetic.csv\" --schema \"./satgpa_parameters.json\"')\n",
        "#!python ./nist-synthetic-data-2021/extensions/transform.py --transform undo_discretize --df \"./\" --schema \"./satgpa_parameters.json\""
      ],
      "metadata": {
        "colab": {
          "base_uri": "https://localhost:8080/"
        },
        "id": "gtOjeaw7Z1vc",
        "outputId": "ef31cc34-ca23-4465-b5c5-0e30fb5bab8f"
      },
      "execution_count": null,
      "outputs": [
        {
          "output_type": "stream",
          "name": "stdout",
          "text": [
            "Traceback (most recent call last):\n",
            "  File \"./nist-synthetic-data-2021/extensions/transform.py\", line 83, in <module>\n",
            "    df = pd.read_csv(args.df)\n",
            "  File \"/usr/local/lib/python3.7/dist-packages/pandas/io/parsers.py\", line 688, in read_csv\n",
            "    return _read(filepath_or_buffer, kwds)\n",
            "  File \"/usr/local/lib/python3.7/dist-packages/pandas/io/parsers.py\", line 454, in _read\n",
            "    parser = TextFileReader(fp_or_buf, **kwds)\n",
            "  File \"/usr/local/lib/python3.7/dist-packages/pandas/io/parsers.py\", line 948, in __init__\n",
            "    self._make_engine(self.engine)\n",
            "  File \"/usr/local/lib/python3.7/dist-packages/pandas/io/parsers.py\", line 1180, in _make_engine\n",
            "    self._engine = CParserWrapper(self.f, **self.options)\n",
            "  File \"/usr/local/lib/python3.7/dist-packages/pandas/io/parsers.py\", line 2010, in __init__\n",
            "    self._reader = parsers.TextReader(src, **kwds)\n",
            "  File \"pandas/_libs/parsers.pyx\", line 537, in pandas._libs.parsers.TextReader.__cinit__\n",
            "  File \"pandas/_libs/parsers.pyx\", line 711, in pandas._libs.parsers.TextReader._get_header\n",
            "  File \"pandas/_libs/parsers.pyx\", line 905, in pandas._libs.parsers.TextReader._tokenize_rows\n",
            "  File \"pandas/_libs/parsers.pyx\", line 2042, in pandas._libs.parsers.raise_parser_error\n",
            "pandas.errors.ParserError: Error tokenizing data. C error: Calling read(nbytes) on source failed. Try engine='python'.\n"
          ]
        }
      ]
    }
  ]
}