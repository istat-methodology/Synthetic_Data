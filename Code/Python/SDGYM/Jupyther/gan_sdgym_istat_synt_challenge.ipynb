{
  "cells": [
    {
      "cell_type": "code",
      "execution_count": null,
      "metadata": {
        "id": "DOdCFauEVuGp"
      },
      "outputs": [],
      "source": [
        "import os\n",
        "import platform\n",
        "# Operating System\n",
        "OS = platform.system()                                                             # returns 'Windows', 'Linux', etc"
      ]
    },
    {
      "cell_type": "markdown",
      "metadata": {
        "id": "X1ybdcnwFsoX"
      },
      "source": [
        "# Libraries Installation Section"
      ]
    },
    {
      "cell_type": "markdown",
      "metadata": {
        "id": "ez8yfeaNF4fq"
      },
      "source": [
        "Installation of all required libraries: SDGym"
      ]
    },
    {
      "cell_type": "code",
      "execution_count": null,
      "metadata": {
        "colab": {
          "base_uri": "https://localhost:8080/"
        },
        "id": "M-D7vrLoFs_S",
        "outputId": "3d2ce442-8b78-4d98-bff0-dba822af56f5"
      },
      "outputs": [
        {
          "data": {
            "text/plain": [
              "0"
            ]
          },
          "execution_count": 2,
          "metadata": {},
          "output_type": "execute_result"
        }
      ],
      "source": [
        "os.system('pip install gdown')\n",
        "os.system('pip install sdgym')\n",
        "os.system('pip install pandas')"
      ]
    },
    {
      "cell_type": "markdown",
      "metadata": {
        "id": "ItRx2G5iqCVe"
      },
      "source": [
        "# All Imports"
      ]
    },
    {
      "cell_type": "code",
      "execution_count": null,
      "metadata": {
        "id": "pCaLrZdtqEyt"
      },
      "outputs": [],
      "source": [
        "import timeit\n",
        "import numpy as np\n",
        "import pandas as pd\n",
        "from sdv.demo import load_tabular_demo\n",
        "from sdv.tabular import GaussianCopula, CTGAN\n",
        "from sdv.evaluation import evaluate"
      ]
    },
    {
      "cell_type": "markdown",
      "metadata": {
        "id": "qpWlXh4Sp9Tu"
      },
      "source": [
        "# All Globals"
      ]
    },
    {
      "cell_type": "code",
      "execution_count": null,
      "metadata": {
        "id": "6BkBAOfMnJgp"
      },
      "outputs": [],
      "source": [
        "benchmark = False\n",
        "#benchmark = True\n",
        "gaussian_copula_synth_model = True\n",
        "ctgan_synth_model = True\n",
        "#dataset = 'satgpa'\n",
        "dataset = 'acs'\n",
        "model_names = []"
      ]
    },
    {
      "cell_type": "markdown",
      "metadata": {
        "id": "esg7OV_Er08N"
      },
      "source": [
        "# All Settings"
      ]
    },
    {
      "cell_type": "code",
      "execution_count": null,
      "metadata": {
        "id": "NwAd3ykNr3mM"
      },
      "outputs": [],
      "source": [
        "start_global_time = timeit.default_timer()\n",
        "pd.set_option('display.max_columns', 500) \n",
        "pd.set_option('display.max_rows', 500) "
      ]
    },
    {
      "cell_type": "markdown",
      "metadata": {
        "id": "ouW2OiOXJ6Ey"
      },
      "source": [
        "# All Functions Definitions"
      ]
    },
    {
      "cell_type": "code",
      "execution_count": null,
      "metadata": {
        "id": "lfElVjvcJ97x"
      },
      "outputs": [],
      "source": [
        "def explore_data(data): \n",
        "  print(\"\\nHead of Data: \\n\", data.head())\n",
        "  print(\"\\nTail of Data: \\n\", data.tail())\n",
        "  print(\"\\nShape of Data: \", data.shape)\n",
        "  print(\"\\nInformation about Data: \\n\")\n",
        "  try: \n",
        "    data.info()\n",
        "  except: \n",
        "    pass\n",
        "  print(\"\\nTypes of Data attributes: \\n\")\n",
        "  try: \n",
        "    data.dtypes\n",
        "  except: \n",
        "    pass\n",
        "  print(\"\\nSummary of all numerical fields in the dataset: \\n\")\n",
        "  try: \n",
        "    data.describe(include = [np.number])\n",
        "  except: \n",
        "    pass\n",
        "  print(\"\\nSummary of all categorical fields in the dataset: \\n\")\n",
        "  try: \n",
        "    data.describe(include = ['O'])\n",
        "  except: \n",
        "    pass\n",
        "  print(\"\\nLoop Through Each Column and Check for nulls: \\n\")\n",
        "  try: \n",
        "    for i in range(len(data.columns)):\n",
        "        print(data.columns[i] + \": \" + str(data[data.columns[i]].isna().sum()))\n",
        "  except: \n",
        "    pass"
      ]
    },
    {
      "cell_type": "markdown",
      "metadata": {
        "id": "g6RjXgJbqqjp"
      },
      "source": [
        "# Data Download - ACS and SatGPA"
      ]
    },
    {
      "cell_type": "code",
      "execution_count": null,
      "metadata": {
        "id": "cRaHeyccqra1"
      },
      "outputs": [],
      "source": [
        "if benchmark == True: \n",
        "  data = load_tabular_demo('student_placements')\n",
        "  n_to_generate = data.shape[0]\n",
        "else: \n",
        "  if dataset is 'satgpa':\n",
        "    if not os.path.exists(\"./satgpa.csv\"):\n",
        "      os.system('gdown --id \"1NNVF1LhBDkW_KKp5_QW8cAiQDFatzWMy\" --output \"./satgpa.csv\"')\n",
        "      data = pd.read_csv('./satgpa.csv')\n",
        "      data = data.drop(['sat_sum'], axis=1)\n",
        "      data.to_csv('satgpa_no_sum.csv', sep=',')\n",
        "      n_to_generate = data.shape[0]\n",
        "  elif dataset is 'acs':\n",
        "    if not os.path.exists(\"./acs_dataset.zip\"):\n",
        "      os.system('gdown --id \"1mKZfDieGBJP-cS-R7_i3zVKVawXThfUc\" --output \"./acs_dataset.zip\"')\n",
        "      if OS == \"Linux\":\n",
        "          os.system('unzip -o -n \"./acs_dataset.zip\" -d \"./\"')      \n",
        "      data = pd.read_csv('./acs_dataset.csv')\n",
        "      n_to_generate = data.shape[0]\n",
        "\n",
        "      #data = pd.read_csv('./acs_dataset.csv', nrows = 1000)\n",
        "      #n_to_generate = 1000"
      ]
    },
    {
      "cell_type": "markdown",
      "metadata": {
        "id": "Z98uJzgjsIC1"
      },
      "source": [
        "# Exploratory Analysis"
      ]
    },
    {
      "cell_type": "code",
      "execution_count": null,
      "metadata": {
        "colab": {
          "base_uri": "https://localhost:8080/"
        },
        "id": "G6rQLa3QsNr9",
        "outputId": "ce7e5c06-76b2-4eb5-ebbb-e9d8d85379cc"
      },
      "outputs": [
        {
          "name": "stdout",
          "output_type": "stream",
          "text": [
            "\n",
            "Head of Data: \n",
            "    Unnamed: 0     PUMA  YEAR   HHWT  GQ  PERWT  SEX  AGE  MARST  RACE  HISPAN  \\\n",
            "0           0  17-1001  2012   88.0   1   61.0    1   21      6     1       0   \n",
            "1           1  17-1001  2012   61.0   1   85.0    1   21      6     1       0   \n",
            "2           2  17-1001  2012   54.0   1   54.0    1   21      6     1       0   \n",
            "3           3  17-1001  2012  106.0   1   69.0    1   21      6     1       0   \n",
            "4           4  17-1001  2012   31.0   1   56.0    1   21      6     1       0   \n",
            "\n",
            "   CITIZEN  SPEAKENG  HCOVANY  HCOVPRIV  HINSEMP  HINSCAID  HINSCARE  EDUC  \\\n",
            "0        0         3        1         1        1         1         1     7   \n",
            "1        0         4        1         1        1         1         1     2   \n",
            "2        0         3        2         2        1         1         1     7   \n",
            "3        0         3        2         2        2         1         1     7   \n",
            "4        0         3        2         2        2         1         1     6   \n",
            "\n",
            "   EMPSTAT  EMPSTATD  LABFORCE  WRKLSTWK  ABSENT  LOOKING  AVAILBLE  WRKRECAL  \\\n",
            "0        1        10         2         2       4        3         5         3   \n",
            "1        1        10         2         2       4        3         5         3   \n",
            "2        1        10         2         2       4        3         5         3   \n",
            "3        3        30         1         1       1        1         5         3   \n",
            "4        1        10         2         3       4        3         5         3   \n",
            "\n",
            "   WORKEDYR  INCTOT  INCWAGE  INCWELFR  INCINVST  INCEARN  POVERTY  DEPARTS  \\\n",
            "0         3   14000    14000         0         0    14000      118      902   \n",
            "1         3   18000        0         0         0    18000      262      732   \n",
            "2         3   14000    14000         0         0    14000      118      642   \n",
            "3         3    3800     3800         0         0     3800      262        0   \n",
            "4         3   14000    14000         0         0    14000      501        0   \n",
            "\n",
            "   ARRIVES  sim_individual_id  \n",
            "0      909                 12  \n",
            "1      744                 33  \n",
            "2      654                401  \n",
            "3        0                470  \n",
            "4        0                702  \n",
            "\n",
            "Tail of Data: \n",
            "          Unnamed: 0     PUMA  YEAR   HHWT  GQ  PERWT  SEX  AGE  MARST  RACE  \\\n",
            "1035196     1035196  39-4300  2018  103.0   1   90.0    2   37      1     9   \n",
            "1035197     1035197  39-4106  2018  207.0   1  207.0    2   41      6     9   \n",
            "1035198     1035198  17-2200  2018   73.0   1   58.0    2   46      4     9   \n",
            "1035199     1035199  17-2300  2018   47.0   1   47.0    2   46      1     9   \n",
            "1035200     1035200   39-910  2018   86.0   1   86.0    2   75      1     9   \n",
            "\n",
            "         HISPAN  CITIZEN  SPEAKENG  HCOVANY  HCOVPRIV  HINSEMP  HINSCAID  \\\n",
            "1035196       0        0         3        2         2        2         1   \n",
            "1035197       0        0         3        1         1        1         1   \n",
            "1035198       0        0         3        2         1        1         1   \n",
            "1035199       0        0         3        2         2        2         1   \n",
            "1035200       0        0         3        2         1        1         1   \n",
            "\n",
            "         HINSCARE  EDUC  EMPSTAT  EMPSTATD  LABFORCE  WRKLSTWK  ABSENT  \\\n",
            "1035196         1     7        1        10         2         3       4   \n",
            "1035197         1     7        1        10         2         2       4   \n",
            "1035198         2    11        3        30         1         1       1   \n",
            "1035199         1    10        1        10         2         2       4   \n",
            "1035200         2    11        3        30         1         1       4   \n",
            "\n",
            "         LOOKING  AVAILBLE  WRKRECAL  WORKEDYR  INCTOT  INCWAGE  INCWELFR  \\\n",
            "1035196        3         5         3         3   36000    36000         0   \n",
            "1035197        3         5         3         3   52800    52000         0   \n",
            "1035198        1         5         3         2   25800        0         0   \n",
            "1035199        3         5         3         3    5000     5000         0   \n",
            "1035200        1         5         1         1    9600        0         0   \n",
            "\n",
            "         INCINVST  INCEARN  POVERTY  DEPARTS  ARRIVES  sim_individual_id  \n",
            "1035196         0    36000      231     1605     1624             556291  \n",
            "1035197         0    52000      361     1005     1019            1139708  \n",
            "1035198         0        0      200        0        0             346052  \n",
            "1035199         0     5000      399      732      754              40265  \n",
            "1035200         0        0      501        0        0             811103  \n",
            "\n",
            "Shape of Data:  (1035201, 37)\n",
            "\n",
            "Information about Data: \n",
            "\n",
            "<class 'pandas.core.frame.DataFrame'>\n",
            "RangeIndex: 1035201 entries, 0 to 1035200\n",
            "Data columns (total 37 columns):\n",
            " #   Column             Non-Null Count    Dtype  \n",
            "---  ------             --------------    -----  \n",
            " 0   Unnamed: 0         1035201 non-null  int64  \n",
            " 1   PUMA               1035201 non-null  object \n",
            " 2   YEAR               1035201 non-null  int64  \n",
            " 3   HHWT               1035201 non-null  float64\n",
            " 4   GQ                 1035201 non-null  int64  \n",
            " 5   PERWT              1035201 non-null  float64\n",
            " 6   SEX                1035201 non-null  int64  \n",
            " 7   AGE                1035201 non-null  int64  \n",
            " 8   MARST              1035201 non-null  int64  \n",
            " 9   RACE               1035201 non-null  int64  \n",
            " 10  HISPAN             1035201 non-null  int64  \n",
            " 11  CITIZEN            1035201 non-null  int64  \n",
            " 12  SPEAKENG           1035201 non-null  int64  \n",
            " 13  HCOVANY            1035201 non-null  int64  \n",
            " 14  HCOVPRIV           1035201 non-null  int64  \n",
            " 15  HINSEMP            1035201 non-null  int64  \n",
            " 16  HINSCAID           1035201 non-null  int64  \n",
            " 17  HINSCARE           1035201 non-null  int64  \n",
            " 18  EDUC               1035201 non-null  int64  \n",
            " 19  EMPSTAT            1035201 non-null  int64  \n",
            " 20  EMPSTATD           1035201 non-null  int64  \n",
            " 21  LABFORCE           1035201 non-null  int64  \n",
            " 22  WRKLSTWK           1035201 non-null  int64  \n",
            " 23  ABSENT             1035201 non-null  int64  \n",
            " 24  LOOKING            1035201 non-null  int64  \n",
            " 25  AVAILBLE           1035201 non-null  int64  \n",
            " 26  WRKRECAL           1035201 non-null  int64  \n",
            " 27  WORKEDYR           1035201 non-null  int64  \n",
            " 28  INCTOT             1035201 non-null  int64  \n",
            " 29  INCWAGE            1035201 non-null  int64  \n",
            " 30  INCWELFR           1035201 non-null  int64  \n",
            " 31  INCINVST           1035201 non-null  int64  \n",
            " 32  INCEARN            1035201 non-null  int64  \n",
            " 33  POVERTY            1035201 non-null  int64  \n",
            " 34  DEPARTS            1035201 non-null  int64  \n",
            " 35  ARRIVES            1035201 non-null  int64  \n",
            " 36  sim_individual_id  1035201 non-null  int64  \n",
            "dtypes: float64(2), int64(34), object(1)\n",
            "memory usage: 292.2+ MB\n",
            "\n",
            "Types of Data attributes: \n",
            "\n",
            "\n",
            "Summary of all numerical fields in the dataset: \n",
            "\n",
            "\n",
            "Summary of all categorical fields in the dataset: \n",
            "\n",
            "\n",
            "Loop Through Each Column and Check for nulls: \n",
            "\n",
            "Unnamed: 0: 0\n",
            "PUMA: 0\n",
            "YEAR: 0\n",
            "HHWT: 0\n",
            "GQ: 0\n",
            "PERWT: 0\n",
            "SEX: 0\n",
            "AGE: 0\n",
            "MARST: 0\n",
            "RACE: 0\n",
            "HISPAN: 0\n",
            "CITIZEN: 0\n",
            "SPEAKENG: 0\n",
            "HCOVANY: 0\n",
            "HCOVPRIV: 0\n",
            "HINSEMP: 0\n",
            "HINSCAID: 0\n",
            "HINSCARE: 0\n",
            "EDUC: 0\n",
            "EMPSTAT: 0\n",
            "EMPSTATD: 0\n",
            "LABFORCE: 0\n",
            "WRKLSTWK: 0\n",
            "ABSENT: 0\n",
            "LOOKING: 0\n",
            "AVAILBLE: 0\n",
            "WRKRECAL: 0\n",
            "WORKEDYR: 0\n",
            "INCTOT: 0\n",
            "INCWAGE: 0\n",
            "INCWELFR: 0\n",
            "INCINVST: 0\n",
            "INCEARN: 0\n",
            "POVERTY: 0\n",
            "DEPARTS: 0\n",
            "ARRIVES: 0\n",
            "sim_individual_id: 0\n"
          ]
        }
      ],
      "source": [
        "explore_data(data)"
      ]
    },
    {
      "cell_type": "markdown",
      "metadata": {
        "id": "Qi31R4QBEz_V"
      },
      "source": [
        "# Synthetic Data Generation via Gaussian Copula Method "
      ]
    },
    {
      "cell_type": "markdown",
      "metadata": {
        "id": "K5VaMElMMSya"
      },
      "source": [
        "In mathematical terms, a copula is a distribution over the unit cube [0,1]d which is constructed from a multivariate normal distribution over Rd by using the probability integral transform. Intuitively, a copula is a mathematical function that allows us to describe the joint distribution of multiple random variables by analyzing the dependencies between their marginal distributions."
      ]
    },
    {
      "cell_type": "code",
      "execution_count": null,
      "metadata": {
        "colab": {
          "background_save": true,
          "base_uri": "https://localhost:8080/"
        },
        "id": "UakSdALyDDcq",
        "outputId": "cec36b5c-23c3-4781-b842-465c614c64dd"
      },
      "outputs": [
        {
          "name": "stderr",
          "output_type": "stream",
          "text": [
            "/usr/local/lib/python3.7/dist-packages/scipy/stats/_continuous_distns.py:5320: RuntimeWarning: divide by zero encountered in true_divide\n",
            "  return c**2 / (c**2 - n**2)\n",
            "/usr/local/lib/python3.7/dist-packages/scipy/stats/_distn_infrastructure.py:2606: RuntimeWarning: invalid value encountered in double_scalars\n",
            "  Lhat = muhat - Shat*mu\n",
            "/usr/local/lib/python3.7/dist-packages/scipy/stats/_continuous_distns.py:639: RuntimeWarning: invalid value encountered in sqrt\n",
            "  sk = 2*(b-a)*np.sqrt(a + b + 1) / (a + b + 2) / np.sqrt(a*b)\n",
            "/usr/local/lib/python3.7/dist-packages/scipy/optimize/minpack.py:175: RuntimeWarning: The iteration is not making good progress, as measured by the \n",
            "  improvement from the last five Jacobian evaluations.\n",
            "  warnings.warn(msg, RuntimeWarning)\n",
            "/usr/local/lib/python3.7/dist-packages/scipy/optimize/minpack.py:175: RuntimeWarning: The iteration is not making good progress, as measured by the \n",
            "  improvement from the last ten iterations.\n",
            "  warnings.warn(msg, RuntimeWarning)\n",
            "/usr/local/lib/python3.7/dist-packages/copulas/univariate/truncated_gaussian.py:43: RuntimeWarning: invalid value encountered in double_scalars\n",
            "  a = (self.min - loc) / scale\n",
            "/usr/local/lib/python3.7/dist-packages/copulas/univariate/truncated_gaussian.py:44: RuntimeWarning: divide by zero encountered in double_scalars\n",
            "  b = (self.max - loc) / scale\n",
            "/usr/local/lib/python3.7/dist-packages/scipy/stats/_continuous_distns.py:5311: RuntimeWarning: divide by zero encountered in power\n",
            "  return cd2*x**(c-1)\n"
          ]
        }
      ],
      "source": [
        "if gaussian_copula_synth_model == True:\n",
        "  model = GaussianCopula()\n",
        "  model.fit(data)\n",
        "  model_names.append(dataset+'_gaussian_copula.pkl')\n",
        "  model.save(model_names[-1])"
      ]
    },
    {
      "cell_type": "markdown",
      "metadata": {
        "id": "sqJjwF_kRHdf"
      },
      "source": [
        "# Synthetic Data Generation via Conditional GAN "
      ]
    },
    {
      "cell_type": "markdown",
      "metadata": {
        "id": "ivhaUFEiRXeF"
      },
      "source": [
        "Modeling the probability distribution of rows in tabular data and generating realistic synthetic data is a non-trivial task. Tabular data usually contains a mix of discrete and continuous columns. Continuous columns may have multiple modes whereas discrete columns are sometimes imbalanced making the modeling difficult. Existing statistical and deep neural network models fail to properly model this type of data. We design TGAN, which uses a conditional generative adversarial network to address these challenges. To aid in a fair and thorough comparison, we design a benchmark with 7 simulated and 8 real datasets and several Bayesian network baselines. TGAN outperforms Bayesian methods on most of the real datasets whereas other deep learning methods could not."
      ]
    },
    {
      "cell_type": "code",
      "execution_count": null,
      "metadata": {
        "id": "ThtphOVcRSKB"
      },
      "outputs": [],
      "source": [
        "if ctgan_synth_model == True:\n",
        "  model = CTGAN(\n",
        "    epochs=500,\n",
        "    batch_size=100,\n",
        "    generator_dim=(256, 256, 256),\n",
        "    discriminator_dim=(256, 256, 256)\n",
        "  )\n",
        "  model.fit(data)\n",
        "  model_names.append(dataset+'_ctgan.pkl')\n",
        "  model.save(model_names[-1])"
      ]
    },
    {
      "cell_type": "markdown",
      "metadata": {
        "id": "QhaartIlNulb"
      },
      "source": [
        "# Model Loading and Preparation"
      ]
    },
    {
      "cell_type": "code",
      "execution_count": null,
      "metadata": {
        "id": "S6_ZCIS-M3oI"
      },
      "outputs": [],
      "source": [
        "model_file = []\n",
        "model_to_load = []\n",
        "if gaussian_copula_synth_model == True:\n",
        "  model_file.append(model_names[0])\n",
        "  model_to_load.append((\"GaussianCopula\", GaussianCopula))\n",
        "if ctgan_synth_model == True:\n",
        "  model_file.append(model_names[1])\n",
        "  model_to_load.append((\"CTGAN\", CTGAN))\n",
        "\n",
        "loaded_model = []\n",
        "for mf,ml in zip(model_file, model_to_load): \n",
        "  loaded_model.append((ml[0], ml[1].load(mf)))"
      ]
    },
    {
      "cell_type": "markdown",
      "metadata": {
        "id": "Gn0T8pLAa1aN"
      },
      "source": [
        "# Synthetic Data Generation"
      ]
    },
    {
      "cell_type": "code",
      "execution_count": null,
      "metadata": {
        "id": "PSjwsi4zMK2u"
      },
      "outputs": [],
      "source": [
        "synthetic_data = []\n",
        "for lm in loaded_model: \n",
        "  synthetic_data.append((lm[0], lm[1].sample(n_to_generate)))"
      ]
    },
    {
      "cell_type": "markdown",
      "metadata": {
        "id": "iY_hj9EWKRLM"
      },
      "source": [
        "# Synthetic Data Exploratory Analysis"
      ]
    },
    {
      "cell_type": "code",
      "execution_count": null,
      "metadata": {
        "id": "cEzGfEZKIWeV"
      },
      "outputs": [],
      "source": [
        "scored_and_synth_data = []\n",
        "for sd in synthetic_data:\n",
        "  try:\n",
        "    print(\"\\nMethod: \",sd[0])\n",
        "    explore_data(sd[1])\n",
        "    score = evaluate(sd[1], data)\n",
        "    print(\"\\n\\nScore: \", score)\n",
        "    scored_and_synth_data.append((sd[0], sd[1], score))  \n",
        "  except:\n",
        "    print(\"Error\")\n"
      ]
    },
    {
      "cell_type": "code",
      "execution_count": null,
      "metadata": {
        "id": "hXRRKM9i4cft"
      },
      "outputs": [],
      "source": [
        "total_time = timeit.default_timer() - start_global_time"
      ]
    },
    {
      "cell_type": "code",
      "execution_count": null,
      "metadata": {
        "id": "CticH5Bsg-Y0"
      },
      "outputs": [],
      "source": [
        "for sas in scored_and_synth_data:\n",
        "  sas[1].to_csv(dataset+'_synth_data_generated_by_method_'+sas[0].lower()+'total_time_'+str(round(total_time,2))+'_score_'+str(round(sas[2],3))+'.csv', sep=',')"
      ]
    },
    {
      "cell_type": "code",
      "execution_count": null,
      "metadata": {
        "id": "M0DMKRkeqSJZ"
      },
      "outputs": [],
      "source": [
        "print(\"Global Exectution Time: \", total_time)"
      ]
    }
  ],
  "metadata": {
    "accelerator": "GPU",
    "colab": {
      "collapsed_sections": [],
      "name": "gan_sdgym_istat_synt_challenge.ipynb",
      "provenance": []
    },
    "kernelspec": {
      "display_name": "Python 3",
      "name": "python3"
    },
    "language_info": {
      "name": "python"
    }
  },
  "nbformat": 4,
  "nbformat_minor": 0
}