{
  "cells": [
    {
      "cell_type": "code",
      "execution_count": 1,
      "metadata": {
        "id": "DOdCFauEVuGp"
      },
      "outputs": [],
      "source": [
        "import os\n",
        "import platform\n",
        "# Operating System\n",
        "OS = platform.system()                                                             # returns 'Windows', 'Linux', etc"
      ]
    },
    {
      "cell_type": "markdown",
      "metadata": {
        "id": "X1ybdcnwFsoX"
      },
      "source": [
        "# Libraries Installation Section"
      ]
    },
    {
      "cell_type": "markdown",
      "metadata": {
        "id": "ez8yfeaNF4fq"
      },
      "source": [
        "Installation of all required libraries: SDGym"
      ]
    },
    {
      "cell_type": "code",
      "execution_count": 2,
      "metadata": {
        "colab": {
          "base_uri": "https://localhost:8080/"
        },
        "id": "M-D7vrLoFs_S",
        "outputId": "09a97a4c-5e70-4524-a7cb-c7d8b2511fb7"
      },
      "outputs": [
        {
          "output_type": "execute_result",
          "data": {
            "text/plain": [
              "0"
            ]
          },
          "metadata": {},
          "execution_count": 2
        }
      ],
      "source": [
        "os.system('pip install gdown')\n",
        "os.system('pip install sdgym')\n",
        "os.system('pip install pandas')"
      ]
    },
    {
      "cell_type": "markdown",
      "metadata": {
        "id": "ItRx2G5iqCVe"
      },
      "source": [
        "# All Imports"
      ]
    },
    {
      "cell_type": "code",
      "execution_count": 3,
      "metadata": {
        "id": "pCaLrZdtqEyt"
      },
      "outputs": [],
      "source": [
        "import timeit\n",
        "import numpy as np\n",
        "import pandas as pd\n",
        "from sdv.demo import load_tabular_demo\n",
        "from sdv.tabular import GaussianCopula, CTGAN\n",
        "from sdv.evaluation import evaluate"
      ]
    },
    {
      "cell_type": "markdown",
      "metadata": {
        "id": "qpWlXh4Sp9Tu"
      },
      "source": [
        "# All Globals"
      ]
    },
    {
      "cell_type": "code",
      "execution_count": 4,
      "metadata": {
        "id": "6BkBAOfMnJgp"
      },
      "outputs": [],
      "source": [
        "benchmark = False\n",
        "#benchmark = True\n",
        "gaussian_copula_synth_model = False\n",
        "ctgan_synth_model = True\n",
        "#dataset = 'satgpa'\n",
        "dataset = 'acs'\n",
        "model_names = []"
      ]
    },
    {
      "cell_type": "markdown",
      "metadata": {
        "id": "esg7OV_Er08N"
      },
      "source": [
        "# All Settings"
      ]
    },
    {
      "cell_type": "code",
      "execution_count": 5,
      "metadata": {
        "id": "NwAd3ykNr3mM"
      },
      "outputs": [],
      "source": [
        "start_global_time = timeit.default_timer()\n",
        "pd.set_option('display.max_columns', 500) \n",
        "pd.set_option('display.max_rows', 500) "
      ]
    },
    {
      "cell_type": "markdown",
      "metadata": {
        "id": "ouW2OiOXJ6Ey"
      },
      "source": [
        "# All Functions Definitions"
      ]
    },
    {
      "cell_type": "code",
      "execution_count": 6,
      "metadata": {
        "id": "lfElVjvcJ97x"
      },
      "outputs": [],
      "source": [
        "def explore_data(data): \n",
        "  print(\"\\nHead of Data: \\n\", data.head())\n",
        "  print(\"\\nTail of Data: \\n\", data.tail())\n",
        "  print(\"\\nShape of Data: \", data.shape)\n",
        "  print(\"\\nInformation about Data: \\n\")\n",
        "  try: \n",
        "    data.info()\n",
        "  except: \n",
        "    pass\n",
        "  print(\"\\nTypes of Data attributes: \\n\")\n",
        "  try: \n",
        "    data.dtypes\n",
        "  except: \n",
        "    pass\n",
        "  print(\"\\nSummary of all numerical fields in the dataset: \\n\")\n",
        "  try: \n",
        "    data.describe(include = [np.number])\n",
        "  except: \n",
        "    pass\n",
        "  print(\"\\nSummary of all categorical fields in the dataset: \\n\")\n",
        "  try: \n",
        "    data.describe(include = ['O'])\n",
        "  except: \n",
        "    pass\n",
        "  print(\"\\nLoop Through Each Column and Check for nulls: \\n\")\n",
        "  try: \n",
        "    for i in range(len(data.columns)):\n",
        "        print(data.columns[i] + \": \" + str(data[data.columns[i]].isna().sum()))\n",
        "  except: \n",
        "    pass"
      ]
    },
    {
      "cell_type": "markdown",
      "metadata": {
        "id": "g6RjXgJbqqjp"
      },
      "source": [
        "# Data Download - ACS and SatGPA"
      ]
    },
    {
      "cell_type": "code",
      "execution_count": 7,
      "metadata": {
        "id": "cRaHeyccqra1"
      },
      "outputs": [],
      "source": [
        "if benchmark == True: \n",
        "  data = load_tabular_demo('student_placements')\n",
        "  n_to_generate = data.shape[0]\n",
        "else: \n",
        "  if dataset is 'satgpa':\n",
        "    if not os.path.exists(\"./satgpa.csv\"):\n",
        "      os.system('gdown --id \"1NNVF1LhBDkW_KKp5_QW8cAiQDFatzWMy\" --output \"./satgpa.csv\"')\n",
        "      data = pd.read_csv('./satgpa.csv')\n",
        "      data = data.drop(['sat_sum'], axis=1)\n",
        "      data.to_csv('satgpa_no_sum.csv', sep=',')\n",
        "      n_to_generate = data.shape[0]\n",
        "  elif dataset is 'acs':\n",
        "    if not os.path.exists(\"./acs_dataset.zip\"):\n",
        "      os.system('gdown --id \"1mKZfDieGBJP-cS-R7_i3zVKVawXThfUc\" --output \"./acs_dataset.zip\"')\n",
        "      if OS == \"Linux\":\n",
        "          os.system('unzip -o -n \"./acs_dataset.zip\" -d \"./\"')      \n",
        "      #data = pd.read_csv('./acs_dataset.csv')\n",
        "      #n_to_generate = data.shape[0]\n",
        "\n",
        "      data = pd.read_csv('./acs_dataset.csv', nrows = 4000)\n",
        "      n_to_generate = 4000"
      ]
    },
    {
      "cell_type": "markdown",
      "metadata": {
        "id": "Z98uJzgjsIC1"
      },
      "source": [
        "# Exploratory Analysis"
      ]
    },
    {
      "cell_type": "code",
      "execution_count": 8,
      "metadata": {
        "colab": {
          "base_uri": "https://localhost:8080/"
        },
        "id": "G6rQLa3QsNr9",
        "outputId": "45ed0473-f382-45f9-92cf-7f17c4752934"
      },
      "outputs": [
        {
          "output_type": "stream",
          "name": "stdout",
          "text": [
            "\n",
            "Head of Data: \n",
            "    sex  sat_v  sat_m  hs_gpa  fy_gpa\n",
            "0    1     65     62    3.40    3.18\n",
            "1    2     58     64    4.00    3.33\n",
            "2    2     56     60    3.75    3.25\n",
            "3    1     42     53    3.75    2.42\n",
            "4    1     55     52    4.00    2.63\n",
            "\n",
            "Tail of Data: \n",
            "      sex  sat_v  sat_m  hs_gpa  fy_gpa\n",
            "995    2     50     50     3.7    2.19\n",
            "996    1     54     54     3.3    1.50\n",
            "997    1     56     58     3.5    3.17\n",
            "998    1     55     65     2.3    1.94\n",
            "999    1     49     44     2.7    2.38\n",
            "\n",
            "Shape of Data:  (1000, 5)\n",
            "\n",
            "Information about Data: \n",
            "\n",
            "<class 'pandas.core.frame.DataFrame'>\n",
            "RangeIndex: 1000 entries, 0 to 999\n",
            "Data columns (total 5 columns):\n",
            " #   Column  Non-Null Count  Dtype  \n",
            "---  ------  --------------  -----  \n",
            " 0   sex     1000 non-null   int64  \n",
            " 1   sat_v   1000 non-null   int64  \n",
            " 2   sat_m   1000 non-null   int64  \n",
            " 3   hs_gpa  1000 non-null   float64\n",
            " 4   fy_gpa  1000 non-null   float64\n",
            "dtypes: float64(2), int64(3)\n",
            "memory usage: 39.2 KB\n",
            "\n",
            "Types of Data attributes: \n",
            "\n",
            "\n",
            "Summary of all numerical fields in the dataset: \n",
            "\n",
            "\n",
            "Summary of all categorical fields in the dataset: \n",
            "\n",
            "\n",
            "Loop Through Each Column and Check for nulls: \n",
            "\n",
            "sex: 0\n",
            "sat_v: 0\n",
            "sat_m: 0\n",
            "hs_gpa: 0\n",
            "fy_gpa: 0\n"
          ]
        }
      ],
      "source": [
        "explore_data(data)"
      ]
    },
    {
      "cell_type": "markdown",
      "metadata": {
        "id": "Qi31R4QBEz_V"
      },
      "source": [
        "# Synthetic Data Generation via Gaussian Copula Method "
      ]
    },
    {
      "cell_type": "markdown",
      "metadata": {
        "id": "K5VaMElMMSya"
      },
      "source": [
        "In mathematical terms, a copula is a distribution over the unit cube [0,1]d which is constructed from a multivariate normal distribution over Rd by using the probability integral transform. Intuitively, a copula is a mathematical function that allows us to describe the joint distribution of multiple random variables by analyzing the dependencies between their marginal distributions."
      ]
    },
    {
      "cell_type": "code",
      "execution_count": 9,
      "metadata": {
        "id": "UakSdALyDDcq"
      },
      "outputs": [],
      "source": [
        "if gaussian_copula_synth_model == True:\n",
        "  model = GaussianCopula()\n",
        "  model.fit(data)\n",
        "  model_names.append(dataset+'_gaussian_copula.pkl')\n",
        "  model.save(model_names[-1])"
      ]
    },
    {
      "cell_type": "markdown",
      "metadata": {
        "id": "sqJjwF_kRHdf"
      },
      "source": [
        "# Synthetic Data Generation via Conditional GAN "
      ]
    },
    {
      "cell_type": "markdown",
      "metadata": {
        "id": "ivhaUFEiRXeF"
      },
      "source": [
        "Modeling the probability distribution of rows in tabular data and generating realistic synthetic data is a non-trivial task. Tabular data usually contains a mix of discrete and continuous columns. Continuous columns may have multiple modes whereas discrete columns are sometimes imbalanced making the modeling difficult. Existing statistical and deep neural network models fail to properly model this type of data. We design TGAN, which uses a conditional generative adversarial network to address these challenges. To aid in a fair and thorough comparison, we design a benchmark with 7 simulated and 8 real datasets and several Bayesian network baselines. TGAN outperforms Bayesian methods on most of the real datasets whereas other deep learning methods could not."
      ]
    },
    {
      "cell_type": "code",
      "execution_count": 10,
      "metadata": {
        "id": "ThtphOVcRSKB",
        "colab": {
          "base_uri": "https://localhost:8080/"
        },
        "outputId": "99314af5-765e-47b4-a9dc-85106890c23a"
      },
      "outputs": [
        {
          "output_type": "stream",
          "name": "stderr",
          "text": [
            "/usr/local/lib/python3.7/dist-packages/sklearn/mixture/_base.py:148: ConvergenceWarning: Number of distinct clusters (2) found smaller than n_clusters (10). Possibly due to duplicate points in X.\n",
            "  random_state=random_state).fit(X).labels_\n",
            "/usr/local/lib/python3.7/dist-packages/sklearn/mixture/_base.py:269: ConvergenceWarning: Initialization 1 did not converge. Try different init parameters, or increase max_iter, tol or check for degenerate data.\n",
            "  % (init + 1), ConvergenceWarning)\n",
            "/usr/local/lib/python3.7/dist-packages/sklearn/mixture/_base.py:269: ConvergenceWarning: Initialization 1 did not converge. Try different init parameters, or increase max_iter, tol or check for degenerate data.\n",
            "  % (init + 1), ConvergenceWarning)\n",
            "/usr/local/lib/python3.7/dist-packages/sklearn/mixture/_base.py:269: ConvergenceWarning: Initialization 1 did not converge. Try different init parameters, or increase max_iter, tol or check for degenerate data.\n",
            "  % (init + 1), ConvergenceWarning)\n",
            "/usr/local/lib/python3.7/dist-packages/sklearn/mixture/_base.py:269: ConvergenceWarning: Initialization 1 did not converge. Try different init parameters, or increase max_iter, tol or check for degenerate data.\n",
            "  % (init + 1), ConvergenceWarning)\n"
          ]
        }
      ],
      "source": [
        "if ctgan_synth_model == True:\n",
        "  model = CTGAN(\n",
        "    epochs=500,\n",
        "    batch_size=256,\n",
        "    generator_dim=(256, 256, 256),\n",
        "    discriminator_dim=(256, 256, 256)\n",
        "  )\n",
        "  model.fit(data)\n",
        "  model_names.append(dataset+'_ctgan.pkl')\n",
        "  model.save(model_names[-1])"
      ]
    },
    {
      "cell_type": "markdown",
      "metadata": {
        "id": "QhaartIlNulb"
      },
      "source": [
        "# Model Loading and Preparation"
      ]
    },
    {
      "cell_type": "code",
      "execution_count": 12,
      "metadata": {
        "id": "S6_ZCIS-M3oI"
      },
      "outputs": [],
      "source": [
        "model_file = []\n",
        "model_to_load = []\n",
        "if gaussian_copula_synth_model == True:\n",
        "  model_file.append(model_names[0])\n",
        "  model_to_load.append((\"GaussianCopula\", GaussianCopula))\n",
        "if ctgan_synth_model == True:\n",
        "  model_file.append(model_names[-1])\n",
        "  model_to_load.append((\"CTGAN\", CTGAN))\n",
        "\n",
        "loaded_model = []\n",
        "for mf,ml in zip(model_file, model_to_load): \n",
        "  loaded_model.append((ml[0], ml[1].load(mf)))"
      ]
    },
    {
      "cell_type": "markdown",
      "metadata": {
        "id": "Gn0T8pLAa1aN"
      },
      "source": [
        "# Synthetic Data Generation"
      ]
    },
    {
      "cell_type": "code",
      "execution_count": 13,
      "metadata": {
        "id": "PSjwsi4zMK2u"
      },
      "outputs": [],
      "source": [
        "synthetic_data = []\n",
        "for lm in loaded_model: \n",
        "  synthetic_data.append((lm[0], lm[1].sample(n_to_generate)))"
      ]
    },
    {
      "cell_type": "markdown",
      "metadata": {
        "id": "iY_hj9EWKRLM"
      },
      "source": [
        "# Synthetic Data Exploratory Analysis"
      ]
    },
    {
      "cell_type": "code",
      "execution_count": 14,
      "metadata": {
        "id": "cEzGfEZKIWeV",
        "colab": {
          "base_uri": "https://localhost:8080/",
          "height": 1000
        },
        "outputId": "fad272be-f418-4997-afd6-2c4d8a2fb309"
      },
      "outputs": [
        {
          "output_type": "stream",
          "name": "stdout",
          "text": [
            "\n",
            "Method:  CTGAN\n",
            "\n",
            "Head of Data: \n",
            "    sex  sat_v  sat_m  hs_gpa  fy_gpa\n",
            "0    1     52     47    3.95    2.31\n",
            "1    1     50     52    2.07    3.32\n",
            "2    1     40     49    3.26    2.83\n",
            "3    1     57     34    3.65    2.70\n",
            "4    2     51     52    3.23    1.52\n",
            "\n",
            "Tail of Data: \n",
            "      sex  sat_v  sat_m  hs_gpa  fy_gpa\n",
            "995    1     59     48    2.45    2.77\n",
            "996    1     55     49    3.54    2.46\n",
            "997    1     57     53    2.41    2.78\n",
            "998    2     35     49    2.93    0.69\n",
            "999    1     55     41    4.06    2.80\n",
            "\n",
            "Shape of Data:  (1000, 5)\n",
            "\n",
            "Information about Data: \n",
            "\n",
            "<class 'pandas.core.frame.DataFrame'>\n",
            "RangeIndex: 1000 entries, 0 to 999\n",
            "Data columns (total 5 columns):\n",
            " #   Column  Non-Null Count  Dtype  \n",
            "---  ------  --------------  -----  \n",
            " 0   sex     1000 non-null   int64  \n",
            " 1   sat_v   1000 non-null   int64  \n",
            " 2   sat_m   1000 non-null   int64  \n",
            " 3   hs_gpa  1000 non-null   float64\n",
            " 4   fy_gpa  1000 non-null   float64\n",
            "dtypes: float64(2), int64(3)\n",
            "memory usage: 39.2 KB\n",
            "\n",
            "Types of Data attributes: \n",
            "\n",
            "\n",
            "Summary of all numerical fields in the dataset: \n",
            "\n",
            "\n",
            "Summary of all categorical fields in the dataset: \n",
            "\n",
            "\n",
            "Loop Through Each Column and Check for nulls: \n",
            "\n",
            "sex: 0\n",
            "sat_v: 0\n",
            "sat_m: 0\n",
            "hs_gpa: 0\n",
            "fy_gpa: 0\n"
          ]
        },
        {
          "output_type": "error",
          "ename": "OSError",
          "evalue": "ignored",
          "traceback": [
            "\u001b[0;31m---------------------------------------------------------------------------\u001b[0m",
            "\u001b[0;31mOSError\u001b[0m                                   Traceback (most recent call last)",
            "\u001b[0;32m_ctypes/callbacks.c\u001b[0m in \u001b[0;36m'calling callback function'\u001b[0;34m()\u001b[0m\n",
            "\u001b[0;32m/usr/local/lib/python3.7/dist-packages/threadpoolctl.py\u001b[0m in \u001b[0;36mmatch_library_callback\u001b[0;34m(info, size, data)\u001b[0m\n\u001b[1;32m    546\u001b[0m \u001b[0;34m\u001b[0m\u001b[0m\n\u001b[1;32m    547\u001b[0m                 \u001b[0;31m# Store the library controller if it is supported and selected\u001b[0m\u001b[0;34m\u001b[0m\u001b[0;34m\u001b[0m\u001b[0;34m\u001b[0m\u001b[0m\n\u001b[0;32m--> 548\u001b[0;31m                 \u001b[0mself\u001b[0m\u001b[0;34m.\u001b[0m\u001b[0m_make_controller_from_path\u001b[0m\u001b[0;34m(\u001b[0m\u001b[0mfilepath\u001b[0m\u001b[0;34m)\u001b[0m\u001b[0;34m\u001b[0m\u001b[0;34m\u001b[0m\u001b[0m\n\u001b[0m\u001b[1;32m    549\u001b[0m             \u001b[0;32mreturn\u001b[0m \u001b[0;36m0\u001b[0m\u001b[0;34m\u001b[0m\u001b[0;34m\u001b[0m\u001b[0m\n\u001b[1;32m    550\u001b[0m \u001b[0;34m\u001b[0m\u001b[0m\n",
            "\u001b[0;32m/usr/local/lib/python3.7/dist-packages/threadpoolctl.py\u001b[0m in \u001b[0;36m_make_controller_from_path\u001b[0;34m(self, filepath)\u001b[0m\n\u001b[1;32m    671\u001b[0m                 \u001b[0mprefix\u001b[0m\u001b[0;34m=\u001b[0m\u001b[0mprefix\u001b[0m\u001b[0;34m,\u001b[0m\u001b[0;34m\u001b[0m\u001b[0;34m\u001b[0m\u001b[0m\n\u001b[1;32m    672\u001b[0m                 \u001b[0muser_api\u001b[0m\u001b[0;34m=\u001b[0m\u001b[0muser_api\u001b[0m\u001b[0;34m,\u001b[0m\u001b[0;34m\u001b[0m\u001b[0;34m\u001b[0m\u001b[0m\n\u001b[0;32m--> 673\u001b[0;31m                 \u001b[0minternal_api\u001b[0m\u001b[0;34m=\u001b[0m\u001b[0minternal_api\u001b[0m\u001b[0;34m,\u001b[0m\u001b[0;34m\u001b[0m\u001b[0;34m\u001b[0m\u001b[0m\n\u001b[0m\u001b[1;32m    674\u001b[0m             )\n\u001b[1;32m    675\u001b[0m             \u001b[0mself\u001b[0m\u001b[0;34m.\u001b[0m\u001b[0mlib_controllers\u001b[0m\u001b[0;34m.\u001b[0m\u001b[0mappend\u001b[0m\u001b[0;34m(\u001b[0m\u001b[0mlib_controller\u001b[0m\u001b[0;34m)\u001b[0m\u001b[0;34m\u001b[0m\u001b[0;34m\u001b[0m\u001b[0m\n",
            "\u001b[0;32m/usr/local/lib/python3.7/dist-packages/threadpoolctl.py\u001b[0m in \u001b[0;36m__init__\u001b[0;34m(self, **kwargs)\u001b[0m\n\u001b[1;32m    784\u001b[0m \u001b[0;34m\u001b[0m\u001b[0m\n\u001b[1;32m    785\u001b[0m     \u001b[0;32mdef\u001b[0m \u001b[0m__init__\u001b[0m\u001b[0;34m(\u001b[0m\u001b[0mself\u001b[0m\u001b[0;34m,\u001b[0m \u001b[0;34m**\u001b[0m\u001b[0mkwargs\u001b[0m\u001b[0;34m)\u001b[0m\u001b[0;34m:\u001b[0m\u001b[0;34m\u001b[0m\u001b[0;34m\u001b[0m\u001b[0m\n\u001b[0;32m--> 786\u001b[0;31m         \u001b[0msuper\u001b[0m\u001b[0;34m(\u001b[0m\u001b[0;34m)\u001b[0m\u001b[0;34m.\u001b[0m\u001b[0m__init__\u001b[0m\u001b[0;34m(\u001b[0m\u001b[0;34m**\u001b[0m\u001b[0mkwargs\u001b[0m\u001b[0;34m)\u001b[0m\u001b[0;34m\u001b[0m\u001b[0;34m\u001b[0m\u001b[0m\n\u001b[0m\u001b[1;32m    787\u001b[0m         \u001b[0mself\u001b[0m\u001b[0;34m.\u001b[0m\u001b[0mthreading_layer\u001b[0m \u001b[0;34m=\u001b[0m \u001b[0mself\u001b[0m\u001b[0;34m.\u001b[0m\u001b[0m_get_threading_layer\u001b[0m\u001b[0;34m(\u001b[0m\u001b[0;34m)\u001b[0m\u001b[0;34m\u001b[0m\u001b[0;34m\u001b[0m\u001b[0m\n\u001b[1;32m    788\u001b[0m         \u001b[0mself\u001b[0m\u001b[0;34m.\u001b[0m\u001b[0marchitecture\u001b[0m \u001b[0;34m=\u001b[0m \u001b[0mself\u001b[0m\u001b[0;34m.\u001b[0m\u001b[0m_get_architecture\u001b[0m\u001b[0;34m(\u001b[0m\u001b[0;34m)\u001b[0m\u001b[0;34m\u001b[0m\u001b[0;34m\u001b[0m\u001b[0m\n",
            "\u001b[0;32m/usr/local/lib/python3.7/dist-packages/threadpoolctl.py\u001b[0m in \u001b[0;36m__init__\u001b[0;34m(self, filepath, prefix, user_api, internal_api)\u001b[0m\n\u001b[1;32m    752\u001b[0m         \u001b[0mself\u001b[0m\u001b[0;34m.\u001b[0m\u001b[0mprefix\u001b[0m \u001b[0;34m=\u001b[0m \u001b[0mprefix\u001b[0m\u001b[0;34m\u001b[0m\u001b[0;34m\u001b[0m\u001b[0m\n\u001b[1;32m    753\u001b[0m         \u001b[0mself\u001b[0m\u001b[0;34m.\u001b[0m\u001b[0mfilepath\u001b[0m \u001b[0;34m=\u001b[0m \u001b[0mfilepath\u001b[0m\u001b[0;34m\u001b[0m\u001b[0;34m\u001b[0m\u001b[0m\n\u001b[0;32m--> 754\u001b[0;31m         \u001b[0mself\u001b[0m\u001b[0;34m.\u001b[0m\u001b[0m_dynlib\u001b[0m \u001b[0;34m=\u001b[0m \u001b[0mctypes\u001b[0m\u001b[0;34m.\u001b[0m\u001b[0mCDLL\u001b[0m\u001b[0;34m(\u001b[0m\u001b[0mfilepath\u001b[0m\u001b[0;34m,\u001b[0m \u001b[0mmode\u001b[0m\u001b[0;34m=\u001b[0m\u001b[0m_RTLD_NOLOAD\u001b[0m\u001b[0;34m)\u001b[0m\u001b[0;34m\u001b[0m\u001b[0;34m\u001b[0m\u001b[0m\n\u001b[0m\u001b[1;32m    755\u001b[0m         \u001b[0mself\u001b[0m\u001b[0;34m.\u001b[0m\u001b[0mversion\u001b[0m \u001b[0;34m=\u001b[0m \u001b[0mself\u001b[0m\u001b[0;34m.\u001b[0m\u001b[0mget_version\u001b[0m\u001b[0;34m(\u001b[0m\u001b[0;34m)\u001b[0m\u001b[0;34m\u001b[0m\u001b[0;34m\u001b[0m\u001b[0m\n\u001b[1;32m    756\u001b[0m \u001b[0;34m\u001b[0m\u001b[0m\n",
            "\u001b[0;32m/usr/lib/python3.7/ctypes/__init__.py\u001b[0m in \u001b[0;36m__init__\u001b[0;34m(self, name, mode, handle, use_errno, use_last_error)\u001b[0m\n\u001b[1;32m    362\u001b[0m \u001b[0;34m\u001b[0m\u001b[0m\n\u001b[1;32m    363\u001b[0m         \u001b[0;32mif\u001b[0m \u001b[0mhandle\u001b[0m \u001b[0;32mis\u001b[0m \u001b[0;32mNone\u001b[0m\u001b[0;34m:\u001b[0m\u001b[0;34m\u001b[0m\u001b[0;34m\u001b[0m\u001b[0m\n\u001b[0;32m--> 364\u001b[0;31m             \u001b[0mself\u001b[0m\u001b[0;34m.\u001b[0m\u001b[0m_handle\u001b[0m \u001b[0;34m=\u001b[0m \u001b[0m_dlopen\u001b[0m\u001b[0;34m(\u001b[0m\u001b[0mself\u001b[0m\u001b[0;34m.\u001b[0m\u001b[0m_name\u001b[0m\u001b[0;34m,\u001b[0m \u001b[0mmode\u001b[0m\u001b[0;34m)\u001b[0m\u001b[0;34m\u001b[0m\u001b[0;34m\u001b[0m\u001b[0m\n\u001b[0m\u001b[1;32m    365\u001b[0m         \u001b[0;32melse\u001b[0m\u001b[0;34m:\u001b[0m\u001b[0;34m\u001b[0m\u001b[0;34m\u001b[0m\u001b[0m\n\u001b[1;32m    366\u001b[0m             \u001b[0mself\u001b[0m\u001b[0;34m.\u001b[0m\u001b[0m_handle\u001b[0m \u001b[0;34m=\u001b[0m \u001b[0mhandle\u001b[0m\u001b[0;34m\u001b[0m\u001b[0;34m\u001b[0m\u001b[0m\n",
            "\u001b[0;31mOSError\u001b[0m: /usr/local/lib/python3.7/dist-packages/numpy.libs/libopenblasp-r0-09e95953.3.13.so: cannot open shared object file: No such file or directory"
          ]
        },
        {
          "output_type": "stream",
          "name": "stdout",
          "text": [
            "\n",
            "\n",
            "Score:  0.5406277945882195\n"
          ]
        },
        {
          "output_type": "stream",
          "name": "stderr",
          "text": [
            "/usr/local/lib/python3.7/dist-packages/sdmetrics/column_pairs/statistical/kl_divergence.py:51: SettingWithCopyWarning: \n",
            "A value is trying to be set on a copy of a slice from a DataFrame.\n",
            "Try using .loc[row_indexer,col_indexer] = value instead\n",
            "\n",
            "See the caveats in the documentation: https://pandas.pydata.org/pandas-docs/stable/user_guide/indexing.html#returning-a-view-versus-a-copy\n",
            "  real_data[pd.isna(real_data)] = 0.0\n",
            "/usr/local/lib/python3.7/dist-packages/pandas/core/frame.py:3093: SettingWithCopyWarning: \n",
            "A value is trying to be set on a copy of a slice from a DataFrame\n",
            "\n",
            "See the caveats in the documentation: https://pandas.pydata.org/pandas-docs/stable/user_guide/indexing.html#returning-a-view-versus-a-copy\n",
            "  self._where(-key, value, inplace=True)\n",
            "/usr/local/lib/python3.7/dist-packages/sdmetrics/column_pairs/statistical/kl_divergence.py:52: SettingWithCopyWarning: \n",
            "A value is trying to be set on a copy of a slice from a DataFrame.\n",
            "Try using .loc[row_indexer,col_indexer] = value instead\n",
            "\n",
            "See the caveats in the documentation: https://pandas.pydata.org/pandas-docs/stable/user_guide/indexing.html#returning-a-view-versus-a-copy\n",
            "  synthetic_data[pd.isna(synthetic_data)] = 0.0\n"
          ]
        }
      ],
      "source": [
        "scored_and_synth_data = []\n",
        "for sd in synthetic_data:\n",
        "  try:\n",
        "    print(\"\\nMethod: \",sd[0])\n",
        "    explore_data(sd[1])\n",
        "    score = evaluate(sd[1], data)\n",
        "    print(\"\\n\\nScore: \", score)\n",
        "    scored_and_synth_data.append((sd[0], sd[1], score))  \n",
        "  except:\n",
        "    print(\"Error\")\n"
      ]
    },
    {
      "cell_type": "code",
      "execution_count": 15,
      "metadata": {
        "id": "hXRRKM9i4cft"
      },
      "outputs": [],
      "source": [
        "total_time = timeit.default_timer() - start_global_time"
      ]
    },
    {
      "cell_type": "code",
      "execution_count": 16,
      "metadata": {
        "id": "CticH5Bsg-Y0"
      },
      "outputs": [],
      "source": [
        "for sas in scored_and_synth_data:\n",
        "  sas[1].to_csv(dataset+'_synth_data_generated_by_method_'+sas[0].lower()+'total_time_'+str(round(total_time,2))+'_score_'+str(round(sas[2],3))+'.csv', sep=',')"
      ]
    },
    {
      "cell_type": "code",
      "execution_count": 17,
      "metadata": {
        "id": "M0DMKRkeqSJZ",
        "colab": {
          "base_uri": "https://localhost:8080/"
        },
        "outputId": "fb061885-bd5d-4a22-f5f6-1839c6786b27"
      },
      "outputs": [
        {
          "output_type": "stream",
          "name": "stdout",
          "text": [
            "Global Exectution Time:  828.276375455\n"
          ]
        }
      ],
      "source": [
        "print(\"Global Exectution Time: \", total_time)"
      ]
    }
  ],
  "metadata": {
    "accelerator": "GPU",
    "colab": {
      "collapsed_sections": [],
      "name": "gan_sdgym_istat_synt_challenge.ipynb",
      "provenance": []
    },
    "kernelspec": {
      "display_name": "Python 3",
      "name": "python3"
    },
    "language_info": {
      "name": "python"
    }
  },
  "nbformat": 4,
  "nbformat_minor": 0
}