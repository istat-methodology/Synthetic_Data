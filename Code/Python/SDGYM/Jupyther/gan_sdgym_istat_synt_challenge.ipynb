{
  "cells": [
    {
      "cell_type": "markdown",
      "metadata": {
        "id": "YURGLg2J5Yg4"
      },
      "source": [
        "# **SDGym - Synthetic Data Gym Training**"
      ]
    },
    {
      "cell_type": "markdown",
      "metadata": {
        "id": "BbxuIZUi5zz4"
      },
      "source": [
        "**Synthetic Data Gym** (SDGym) is a framework to benchmark the performance of synthetic data generators based on SDV and SDMetrics:\n",
        "\n",
        "*   Learn a tabular model to synthesize rows in a table\n",
        "*   Learn a relational data model to synthesize multiple, related tables\n",
        "*   Learn a time-series model to synthesize new events\n",
        "\n",
        "GitHub Link: https://github.com/sdv-dev/SDGym\n",
        "\n",
        "A **Synthetic Data Generator** is a Python function (or method) that takes as input some data, which we call the real data, learns a model from it, and outputs new synthetic data that has the same structure and similar mathematical properties as the real one."
      ]
    },
    {
      "cell_type": "code",
      "execution_count": null,
      "metadata": {
        "id": "DOdCFauEVuGp"
      },
      "outputs": [],
      "source": [
        "import os\n",
        "import sys\n",
        "import platform\n",
        "OS = platform.system()   # Operating System                                                             # returns 'Windows', 'Linux', etc"
      ]
    },
    {
      "cell_type": "markdown",
      "source": [
        "#**Platform Settings**"
      ],
      "metadata": {
        "id": "Zphxbwt6-Df0"
      }
    },
    {
      "cell_type": "code",
      "source": [
        "colab_active = 'google.colab' in sys.modules\n",
        "print(\"Colab Active: \", colab_active)\n",
        "# Operating System\n",
        "OS = platform.system()                           # returns 'Windows', 'Linux', etc"
      ],
      "metadata": {
        "colab": {
          "base_uri": "https://localhost:8080/"
        },
        "id": "5wvXHAhb-EKb",
        "outputId": "e2bdc605-b87e-447c-980c-8c3c919df760"
      },
      "execution_count": null,
      "outputs": [
        {
          "output_type": "stream",
          "name": "stdout",
          "text": [
            "Colab Active:  True\n"
          ]
        }
      ]
    },
    {
      "cell_type": "markdown",
      "metadata": {
        "id": "X1ybdcnwFsoX"
      },
      "source": [
        "# **Libraries Installation Section**"
      ]
    },
    {
      "cell_type": "markdown",
      "metadata": {
        "id": "ez8yfeaNF4fq"
      },
      "source": [
        "Installation of all required libraries: SDGym, gdown, pandas"
      ]
    },
    {
      "cell_type": "code",
      "execution_count": null,
      "metadata": {
        "colab": {
          "base_uri": "https://localhost:8080/"
        },
        "id": "M-D7vrLoFs_S",
        "outputId": "337e9273-ab71-4226-b5c0-85bb63938ec0"
      },
      "outputs": [
        {
          "output_type": "execute_result",
          "data": {
            "text/plain": [
              "0"
            ]
          },
          "metadata": {},
          "execution_count": 3
        }
      ],
      "source": [
        "os.system('pip install --upgrade --no-cache-dir gdown')\n",
        "os.system('pip install sdgym')\n",
        "os.system('pip install pandas')\n",
        "os.system('pip install matplotlib==3.1.3')"
      ]
    },
    {
      "cell_type": "code",
      "source": [
        "!pip install pandas==1.3.4"
      ],
      "metadata": {
        "colab": {
          "base_uri": "https://localhost:8080/",
          "height": 401
        },
        "id": "2kEzlE-XpUm8",
        "outputId": "d9ac67a6-0e01-4b0a-a86f-56a1ca8fbc92"
      },
      "execution_count": null,
      "outputs": [
        {
          "output_type": "stream",
          "name": "stdout",
          "text": [
            "Collecting pandas==1.3.4\n",
            "  Downloading pandas-1.3.4-cp37-cp37m-manylinux_2_17_x86_64.manylinux2014_x86_64.whl (11.3 MB)\n",
            "\u001b[K     |████████████████████████████████| 11.3 MB 4.2 MB/s \n",
            "\u001b[?25hRequirement already satisfied: python-dateutil>=2.7.3 in /usr/local/lib/python3.7/dist-packages (from pandas==1.3.4) (2.8.2)\n",
            "Requirement already satisfied: pytz>=2017.3 in /usr/local/lib/python3.7/dist-packages (from pandas==1.3.4) (2022.1)\n",
            "Requirement already satisfied: numpy>=1.17.3 in /usr/local/lib/python3.7/dist-packages (from pandas==1.3.4) (1.21.6)\n",
            "Requirement already satisfied: six>=1.5 in /usr/local/lib/python3.7/dist-packages (from python-dateutil>=2.7.3->pandas==1.3.4) (1.15.0)\n",
            "Installing collected packages: pandas\n",
            "  Attempting uninstall: pandas\n",
            "    Found existing installation: pandas 1.3.5\n",
            "    Uninstalling pandas-1.3.5:\n",
            "      Successfully uninstalled pandas-1.3.5\n",
            "\u001b[31mERROR: pip's dependency resolver does not currently take into account all the packages that are installed. This behaviour is the source of the following dependency conflicts.\n",
            "copulas 0.6.1 requires matplotlib<4,>=3.4.0; python_version >= \"3.7\", but you have matplotlib 3.1.3 which is incompatible.\u001b[0m\n",
            "Successfully installed pandas-1.3.4\n"
          ]
        },
        {
          "output_type": "display_data",
          "data": {
            "application/vnd.colab-display-data+json": {
              "pip_warning": {
                "packages": [
                  "pandas"
                ]
              }
            }
          },
          "metadata": {}
        }
      ]
    },
    {
      "cell_type": "markdown",
      "metadata": {
        "id": "ItRx2G5iqCVe"
      },
      "source": [
        "# **All Imports**"
      ]
    },
    {
      "cell_type": "code",
      "execution_count": null,
      "metadata": {
        "id": "pCaLrZdtqEyt"
      },
      "outputs": [],
      "source": [
        "import timeit\n",
        "import numpy as np\n",
        "import pandas as pd\n",
        "from sdv.demo import load_tabular_demo\n",
        "from sdv.tabular import GaussianCopula, CTGAN, CopulaGAN\n",
        "from sdv.evaluation import evaluate\n",
        "from sdv.metrics.tabular import CSTest, KSTest                                      # Statistical Metrics\n",
        "from sdv.metrics.tabular import BNLikelihood, BNLogLikelihood, GMLogLikelihood      # Likelihood Metrics¶\n",
        "from sdv.metrics.tabular import LogisticDetection, SVCDetection                     # Detection Metrics\n",
        "from sdv.metrics.tabular import MulticlassDecisionTreeClassifier                    # Machine Learning Efficacy Metrics¶\n",
        "from sdv.metrics.tabular import NumericalLR                                         # Privacy Metrics"
      ]
    },
    {
      "cell_type": "markdown",
      "metadata": {
        "id": "qpWlXh4Sp9Tu"
      },
      "source": [
        "# **All Globals**"
      ]
    },
    {
      "cell_type": "code",
      "execution_count": null,
      "metadata": {
        "id": "6BkBAOfMnJgp"
      },
      "outputs": [],
      "source": [
        "benchmark = False\n",
        "gaussian_copula_synth_model = False \n",
        "ctgan_synth_model = False\n",
        "copula_gan_synth_model = True\n",
        "dataset = 'telephony'   # satgpa, acs, telephony\n",
        "model_to_test = \"telephony_copulagan_1000_epochs.pkl\"\n",
        "#model_to_test = \"telephony_copulagan_3_epochs.pkl\"\n",
        "model_names = []\n",
        "limit_to_generate = 1000  # or None\n",
        "training = False\n",
        "save_score = True"
      ]
    },
    {
      "cell_type": "markdown",
      "source": [
        "#**All Hyper-parameters**"
      ],
      "metadata": {
        "id": "qoRAUOblVX92"
      }
    },
    {
      "cell_type": "code",
      "source": [
        "epochs = 3"
      ],
      "metadata": {
        "id": "FAkFaUnJVauj"
      },
      "execution_count": null,
      "outputs": []
    },
    {
      "cell_type": "markdown",
      "metadata": {
        "id": "esg7OV_Er08N"
      },
      "source": [
        "# **All Settings**"
      ]
    },
    {
      "cell_type": "code",
      "execution_count": null,
      "metadata": {
        "id": "NwAd3ykNr3mM"
      },
      "outputs": [],
      "source": [
        "start_global_time = timeit.default_timer()\n",
        "pd.set_option('display.max_columns', 500) \n",
        "pd.set_option('display.max_rows', 500) \n",
        "if ctgan_synth_model == True and copula_gan_synth_model == True: # Only one Gan \n",
        "  ctgan_synth_model = False"
      ]
    },
    {
      "cell_type": "markdown",
      "source": [
        "#**Mounting Google Drive via Code**"
      ],
      "metadata": {
        "id": "Nz3JN2Aj89Ne"
      }
    },
    {
      "cell_type": "code",
      "source": [
        "if colab_active is True: \n",
        "  from google.colab import drive\n",
        "  drive.mount('/content/drive')\n",
        "  sys.path.append('/content/drive/My Drive')\n",
        "  model_path = \"/content/drive/MyDrive/DL_Models/\"\n",
        "  if os.path.isdir(model_path) is False: \n",
        "    os.makedirs(model_path) \n",
        "else: \n",
        "  model_path = \"./\""
      ],
      "metadata": {
        "colab": {
          "base_uri": "https://localhost:8080/"
        },
        "id": "TQJgLdSY87bu",
        "outputId": "4adc15dd-65a4-4a6c-d13e-61b5eaa1a0cb"
      },
      "execution_count": null,
      "outputs": [
        {
          "output_type": "stream",
          "name": "stdout",
          "text": [
            "Drive already mounted at /content/drive; to attempt to forcibly remount, call drive.mount(\"/content/drive\", force_remount=True).\n"
          ]
        }
      ]
    },
    {
      "cell_type": "markdown",
      "metadata": {
        "id": "ouW2OiOXJ6Ey"
      },
      "source": [
        "# **All Functions Definitions**"
      ]
    },
    {
      "cell_type": "code",
      "execution_count": null,
      "metadata": {
        "id": "lfElVjvcJ97x"
      },
      "outputs": [],
      "source": [
        "def explore_data(data): \n",
        "  print(\"\\nHead of Data: \\n\", data.head())\n",
        "  print(\"\\nTail of Data: \\n\", data.tail())\n",
        "  print(\"\\nShape of Data: \", data.shape)\n",
        "  print(\"\\nInformation about Data: \\n\")\n",
        "  try: \n",
        "    data.info()\n",
        "  except: \n",
        "    pass\n",
        "  print(\"\\nTypes of Data attributes: \\n\")\n",
        "  try: \n",
        "    data.dtypes\n",
        "  except: \n",
        "    pass\n",
        "  print(\"\\nSummary of all numerical fields in the dataset: \\n\")\n",
        "  try: \n",
        "    data.describe(include = [np.number])\n",
        "  except: \n",
        "    pass\n",
        "  print(\"\\nSummary of all categorical fields in the dataset: \\n\")\n",
        "  try: \n",
        "    data.describe(include = ['O'])\n",
        "  except: \n",
        "    pass\n",
        "  print(\"\\nLoop Through Each Column and Check for nulls: \\n\")\n",
        "  try: \n",
        "    for i in range(len(data.columns)):\n",
        "        print(data.columns[i] + \": \" + str(data[data.columns[i]].isna().sum()))\n",
        "  except: \n",
        "    pass\n",
        "\n",
        "def data_download(file_to_download, gdrive_code, OS, uncompress = True):\n",
        "  if not os.path.exists(file_to_download):\n",
        "    os.system('gdown --id \"'+gdrive_code+'\" --output '+file_to_download)\n",
        "    if OS == \"Linux\" and uncompress:\n",
        "        os.system('unzip -o -n \"./'+file_to_download+'\" -d \"./\"')\n",
        "    return True\n",
        "  else: \n",
        "    return None"
      ]
    },
    {
      "cell_type": "markdown",
      "metadata": {
        "id": "g6RjXgJbqqjp"
      },
      "source": [
        "# **Data Download - ACS, SatGPA, Telephony**"
      ]
    },
    {
      "cell_type": "code",
      "execution_count": null,
      "metadata": {
        "id": "cRaHeyccqra1"
      },
      "outputs": [],
      "source": [
        "if benchmark == True: \n",
        "  data = load_tabular_demo('student_placements')\n",
        "  n_to_generate = data.shape[0]\n",
        "else: \n",
        "  if dataset is 'satgpa':\n",
        "    out = data_download(\"./satgpa.csv\", \"1NNVF1LhBDkW_KKp5_QW8cAiQDFatzWMy\", OS, False)\n",
        "    data = pd.read_csv('./satgpa.csv')\n",
        "    data = data.drop(['sat_sum'], axis=1)\n",
        "    data.to_csv('satgpa_no_sum.csv', sep=',')\n",
        "    n_to_generate = data.shape[0]\n",
        "  elif dataset is 'acs':\n",
        "    out = data_download(\"./acs_dataset.zip\", \"1mKZfDieGBJP-cS-R7_i3zVKVawXThfUc\", OS)\n",
        "    if limit_to_generate is not None: \n",
        "      data = pd.read_csv('./acs_dataset.csv', nrows = limit_to_generate)\n",
        "      n_to_generate = limit_to_generate\n",
        "    else: \n",
        "      data = pd.read_csv('./acs_dataset.csv')\n",
        "      n_to_generate = data.shape[0]\n",
        "  elif dataset is 'telephony':\n",
        "    out = data_download(\"./syntetic_telephony.zip\", \"1knlC9DQ-iQhxwpmd9qzFWSS0OcgI9-LA\", OS)\n",
        "    xl_file = pd.ExcelFile('./syntetic_telephony.xlsx')\n",
        "    dfs = {sheet_name: xl_file.parse(sheet_name) for sheet_name in xl_file.sheet_names}\n",
        "    data = dfs['Sheet1']\n",
        "    n_to_generate = data.shape[0]"
      ]
    },
    {
      "cell_type": "markdown",
      "metadata": {
        "id": "Z98uJzgjsIC1"
      },
      "source": [
        "#**Data Preparation**"
      ]
    },
    {
      "cell_type": "code",
      "source": [
        "if dataset is 'telephony':\n",
        "  data.COD_CELLA_CHIAMATA=data.COD_CELLA_CHIAMATA.astype(\"int64\").astype(\"str\")\n",
        "\n",
        "  data.DATA_CHIAMATA=pd.to_datetime(data.DATA_CHIAMATA, format='%Y%m%d')\n",
        "  data.CHIAVE_NUM_CHIAMANTE=data.CHIAVE_NUM_CHIAMANTE.astype(\"int64\").astype(\"str\")\n",
        "  \n",
        "  data.ORA_MIN_CHIAMATA=data.ORA_MIN_CHIAMATA.astype(\"str\").str.pad(width=6, side='left', fillchar='0')\n",
        "  data.ORA_MIN_CHIAMATA =pd.to_datetime(data.ORA_MIN_CHIAMATA , format='%H%M%S')\n"
      ],
      "metadata": {
        "id": "2-lQ5d2i7Apb"
      },
      "execution_count": null,
      "outputs": []
    },
    {
      "cell_type": "markdown",
      "source": [
        "#**Categorical Data Adjustment**"
      ],
      "metadata": {
        "id": "XO2kDbcS9zP4"
      }
    },
    {
      "cell_type": "code",
      "source": [
        "if dataset is 'telephony':\n",
        "  data[\"COD_CELLA_CHIAMATA\"]=\"F\"+data.COD_CELLA_CHIAMATA\n",
        "  data[\"CHIAVE_NUM_CHIAMANTE\"]=\"F\"+data.CHIAVE_NUM_CHIAMANTE"
      ],
      "metadata": {
        "id": "_N-diKFj9jY7"
      },
      "execution_count": null,
      "outputs": []
    },
    {
      "cell_type": "markdown",
      "source": [
        "# **Exploratory Analysis**"
      ],
      "metadata": {
        "id": "zMZXYzMN9V6b"
      }
    },
    {
      "cell_type": "code",
      "source": [
        "explore_data(data)"
      ],
      "metadata": {
        "colab": {
          "base_uri": "https://localhost:8080/"
        },
        "id": "KrW6gJp186Tg",
        "outputId": "de684fcd-da72-46e7-a90d-e1bce1fa8a27"
      },
      "execution_count": null,
      "outputs": [
        {
          "output_type": "stream",
          "name": "stdout",
          "text": [
            "\n",
            "Head of Data: \n",
            "   CHIAVE_NUM_CHIAMANTE DATA_CHIAMATA    ORA_MIN_CHIAMATA COD_CELLA_CHIAMATA\n",
            "0   F14615194667453690    2017-01-22 1900-01-01 15:49:53                 F0\n",
            "1   F14615194667453690    2017-01-29 1900-01-01 12:40:34                 F1\n",
            "2   F14615194667453690    2017-01-29 1900-01-01 12:41:19                 F1\n",
            "3   F14615194667453690    2017-01-22 1900-01-01 15:51:02                 F1\n",
            "4   F14615194667453690    2017-01-22 1900-01-01 15:51:38                 F1\n",
            "\n",
            "Tail of Data: \n",
            "      CHIAVE_NUM_CHIAMANTE DATA_CHIAMATA    ORA_MIN_CHIAMATA COD_CELLA_CHIAMATA\n",
            "9995   F14615368752090240    2017-01-12 1900-01-01 12:09:10               F272\n",
            "9996   F14615368752090240    2017-02-12 1900-01-01 18:26:01               F272\n",
            "9997    F1508338528891430    2017-01-04 1900-01-01 09:26:27               F272\n",
            "9998   F14615368752090240    2017-02-10 1900-01-01 15:11:58               F272\n",
            "9999   F14615337422429130    2017-01-30 1900-01-01 09:09:03               F272\n",
            "\n",
            "Shape of Data:  (10000, 4)\n",
            "\n",
            "Information about Data: \n",
            "\n",
            "<class 'pandas.core.frame.DataFrame'>\n",
            "RangeIndex: 10000 entries, 0 to 9999\n",
            "Data columns (total 4 columns):\n",
            " #   Column                Non-Null Count  Dtype         \n",
            "---  ------                --------------  -----         \n",
            " 0   CHIAVE_NUM_CHIAMANTE  10000 non-null  object        \n",
            " 1   DATA_CHIAMATA         10000 non-null  datetime64[ns]\n",
            " 2   ORA_MIN_CHIAMATA      10000 non-null  datetime64[ns]\n",
            " 3   COD_CELLA_CHIAMATA    10000 non-null  object        \n",
            "dtypes: datetime64[ns](2), object(2)\n",
            "memory usage: 312.6+ KB\n",
            "\n",
            "Types of Data attributes: \n",
            "\n",
            "\n",
            "Summary of all numerical fields in the dataset: \n",
            "\n",
            "\n",
            "Summary of all categorical fields in the dataset: \n",
            "\n",
            "\n",
            "Loop Through Each Column and Check for nulls: \n",
            "\n",
            "CHIAVE_NUM_CHIAMANTE: 0\n",
            "DATA_CHIAMATA: 0\n",
            "ORA_MIN_CHIAMATA: 0\n",
            "COD_CELLA_CHIAMATA: 0\n"
          ]
        }
      ]
    },
    {
      "cell_type": "markdown",
      "metadata": {
        "id": "Qi31R4QBEz_V"
      },
      "source": [
        "# **Synthetic Data Generation via Gaussian Copula Method**"
      ]
    },
    {
      "cell_type": "markdown",
      "metadata": {
        "id": "K5VaMElMMSya"
      },
      "source": [
        "In mathematical terms, a copula is a distribution over the unit cube [0,1]d which is constructed from a multivariate normal distribution over Rd by using the probability integral transform. Intuitively, a copula is a mathematical function that allows us to describe the joint distribution of multiple random variables by analyzing the dependencies between their marginal distributions."
      ]
    },
    {
      "cell_type": "code",
      "execution_count": null,
      "metadata": {
        "id": "UakSdALyDDcq"
      },
      "outputs": [],
      "source": [
        "if gaussian_copula_synth_model == True:\n",
        "  model = GaussianCopula()\n",
        "\n",
        "  if training is True:\n",
        "    model.fit(data)\n",
        "    model_names.append(model_path+dataset+'_gaussian_copula_'+str(epochs)+'_epochs.pkl')\n",
        "    model.save(model_names[-1])"
      ]
    },
    {
      "cell_type": "markdown",
      "metadata": {
        "id": "sqJjwF_kRHdf"
      },
      "source": [
        "# **Synthetic Data Generation via Conditional GAN**"
      ]
    },
    {
      "cell_type": "markdown",
      "metadata": {
        "id": "ivhaUFEiRXeF"
      },
      "source": [
        "Modeling the probability distribution of rows in tabular data and generating realistic synthetic data is a non-trivial task. Tabular data usually contains a mix of discrete and continuous columns. Continuous columns may have multiple modes whereas discrete columns are sometimes imbalanced making the modeling difficult. Existing statistical and deep neural network models fail to properly model this type of data. We design TGAN, which uses a conditional generative adversarial network to address these challenges. To aid in a fair and thorough comparison, we design a benchmark with 7 simulated and 8 real datasets and several Bayesian network baselines. TGAN outperforms Bayesian methods on most of the real datasets whereas other deep learning methods could not."
      ]
    },
    {
      "cell_type": "markdown",
      "metadata": {
        "id": "SPAn8ociK05K"
      },
      "source": [
        "![1 Jep3VTyXtrFIHZ-oQdbuEQ.jpeg](data:image/jpeg;base64,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)"
      ]
    },
    {
      "cell_type": "code",
      "execution_count": null,
      "metadata": {
        "id": "ThtphOVcRSKB"
      },
      "outputs": [],
      "source": [
        "if ctgan_synth_model == True:\n",
        "  model = CTGAN(\n",
        "    epochs=epochs,\n",
        "    batch_size=100,\n",
        "    generator_dim=(256, 256, 256),\n",
        "    discriminator_dim=(256, 256, 256)\n",
        "  )\n",
        "\n",
        "  if training is True:\n",
        "    model.fit(data)\n",
        "    model_names.append(model_path+dataset+'_ctgan_'+str(epochs)+'_epochs.pkl')\n",
        "    model.save(model_names[-1])"
      ]
    },
    {
      "cell_type": "markdown",
      "metadata": {
        "id": "Qc1f5o3yXpRN"
      },
      "source": [
        "# **Synthetic Data Generation via Copula GAN**"
      ]
    },
    {
      "cell_type": "markdown",
      "metadata": {
        "id": "6VdYznSanO5v"
      },
      "source": [
        "The CopulaGAN model is a variation of the CTGAN Model which takes advantage of the CDF based transformation that the GaussianCopulas apply to make the underlying CTGAN model task of learning the data easier.\n",
        "\n",
        "\n"
      ]
    },
    {
      "cell_type": "markdown",
      "metadata": {
        "id": "I35jIKXNLxln"
      },
      "source": [
        "![11-Figure3-1.png](data:image/png;base64,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)"
      ]
    },
    {
      "cell_type": "code",
      "execution_count": null,
      "metadata": {
        "id": "Nb-gXMC7mq9f"
      },
      "outputs": [],
      "source": [
        "if copula_gan_synth_model == True: \n",
        "  model = CopulaGAN(\n",
        "    epochs=epochs,\n",
        "    batch_size=100,\n",
        "    generator_dim=(256, 256, 256),\n",
        "    discriminator_dim=(256, 256, 256)\n",
        "  )\n",
        "\n",
        "  if training is True:\n",
        "    model.fit(data)\n",
        "    model_names.append(model_path+dataset+'_copulagan_'+str(epochs)+'_epochs.pkl')\n",
        "    model.save(model_names[-1])"
      ]
    },
    {
      "cell_type": "markdown",
      "source": [
        "#**Model Loading**"
      ],
      "metadata": {
        "id": "PQicpZaTdoyn"
      }
    },
    {
      "cell_type": "code",
      "source": [
        "if training is False: \n",
        "  model_names.append(model_path+model_to_test)"
      ],
      "metadata": {
        "id": "WCGjn0ovdcOx"
      },
      "execution_count": null,
      "outputs": []
    },
    {
      "cell_type": "code",
      "source": [
        "model_names"
      ],
      "metadata": {
        "colab": {
          "base_uri": "https://localhost:8080/"
        },
        "id": "-AU9AbYhfMHf",
        "outputId": "87b255b2-70cf-4315-b2c3-971bcc9ab02d"
      },
      "execution_count": null,
      "outputs": [
        {
          "output_type": "execute_result",
          "data": {
            "text/plain": [
              "['/content/drive/MyDrive/DL_Models/telephony_copulagan_1000_epochs.pkl']"
            ]
          },
          "metadata": {},
          "execution_count": 18
        }
      ]
    },
    {
      "cell_type": "markdown",
      "metadata": {
        "id": "QhaartIlNulb"
      },
      "source": [
        "# **Model Loading and Preparation**"
      ]
    },
    {
      "cell_type": "code",
      "execution_count": null,
      "metadata": {
        "id": "S6_ZCIS-M3oI",
        "colab": {
          "base_uri": "https://localhost:8080/",
          "height": 354
        },
        "outputId": "e6042d8f-6bf2-4010-fd62-084b22f1f08f"
      },
      "outputs": [
        {
          "output_type": "error",
          "ename": "AttributeError",
          "evalue": "ignored",
          "traceback": [
            "\u001b[0;31m---------------------------------------------------------------------------\u001b[0m",
            "\u001b[0;31mAttributeError\u001b[0m                            Traceback (most recent call last)",
            "\u001b[0;32m<ipython-input-19-b87df272d6ee>\u001b[0m in \u001b[0;36m<module>\u001b[0;34m()\u001b[0m\n\u001b[1;32m     13\u001b[0m \u001b[0mloaded_model\u001b[0m \u001b[0;34m=\u001b[0m \u001b[0;34m[\u001b[0m\u001b[0;34m]\u001b[0m\u001b[0;34m\u001b[0m\u001b[0;34m\u001b[0m\u001b[0m\n\u001b[1;32m     14\u001b[0m \u001b[0;32mfor\u001b[0m \u001b[0mmf\u001b[0m\u001b[0;34m,\u001b[0m\u001b[0mml\u001b[0m \u001b[0;32min\u001b[0m \u001b[0mzip\u001b[0m\u001b[0;34m(\u001b[0m\u001b[0mmodel_file\u001b[0m\u001b[0;34m,\u001b[0m \u001b[0mmodel_to_load\u001b[0m\u001b[0;34m)\u001b[0m\u001b[0;34m:\u001b[0m\u001b[0;34m\u001b[0m\u001b[0;34m\u001b[0m\u001b[0m\n\u001b[0;32m---> 15\u001b[0;31m   \u001b[0mloaded_model\u001b[0m\u001b[0;34m.\u001b[0m\u001b[0mappend\u001b[0m\u001b[0;34m(\u001b[0m\u001b[0;34m(\u001b[0m\u001b[0mml\u001b[0m\u001b[0;34m[\u001b[0m\u001b[0;36m0\u001b[0m\u001b[0;34m]\u001b[0m\u001b[0;34m,\u001b[0m \u001b[0mml\u001b[0m\u001b[0;34m[\u001b[0m\u001b[0;36m1\u001b[0m\u001b[0;34m]\u001b[0m\u001b[0;34m.\u001b[0m\u001b[0mload\u001b[0m\u001b[0;34m(\u001b[0m\u001b[0mmf\u001b[0m\u001b[0;34m)\u001b[0m\u001b[0;34m)\u001b[0m\u001b[0;34m)\u001b[0m\u001b[0;34m\u001b[0m\u001b[0;34m\u001b[0m\u001b[0m\n\u001b[0m",
            "\u001b[0;32m/usr/local/lib/python3.7/dist-packages/sdv/tabular/base.py\u001b[0m in \u001b[0;36mload\u001b[0;34m(cls, path)\u001b[0m\n\u001b[1;32m    879\u001b[0m         \"\"\"\n\u001b[1;32m    880\u001b[0m         \u001b[0;32mwith\u001b[0m \u001b[0mopen\u001b[0m\u001b[0;34m(\u001b[0m\u001b[0mpath\u001b[0m\u001b[0;34m,\u001b[0m \u001b[0;34m'rb'\u001b[0m\u001b[0;34m)\u001b[0m \u001b[0;32mas\u001b[0m \u001b[0mf\u001b[0m\u001b[0;34m:\u001b[0m\u001b[0;34m\u001b[0m\u001b[0;34m\u001b[0m\u001b[0m\n\u001b[0;32m--> 881\u001b[0;31m             \u001b[0mmodel\u001b[0m \u001b[0;34m=\u001b[0m \u001b[0mpickle\u001b[0m\u001b[0;34m.\u001b[0m\u001b[0mload\u001b[0m\u001b[0;34m(\u001b[0m\u001b[0mf\u001b[0m\u001b[0;34m)\u001b[0m\u001b[0;34m\u001b[0m\u001b[0;34m\u001b[0m\u001b[0m\n\u001b[0m\u001b[1;32m    882\u001b[0m             \u001b[0mthrow_version_mismatch_warning\u001b[0m\u001b[0;34m(\u001b[0m\u001b[0mgetattr\u001b[0m\u001b[0;34m(\u001b[0m\u001b[0mmodel\u001b[0m\u001b[0;34m,\u001b[0m \u001b[0;34m'_package_versions'\u001b[0m\u001b[0;34m,\u001b[0m \u001b[0;32mNone\u001b[0m\u001b[0;34m)\u001b[0m\u001b[0;34m)\u001b[0m\u001b[0;34m\u001b[0m\u001b[0;34m\u001b[0m\u001b[0m\n\u001b[1;32m    883\u001b[0m \u001b[0;34m\u001b[0m\u001b[0m\n",
            "\u001b[0;31mAttributeError\u001b[0m: Can't get attribute '_unpickle_block' on <module 'pandas._libs.internals' from '/usr/local/lib/python3.7/dist-packages/pandas/_libs/internals.cpython-37m-x86_64-linux-gnu.so'>"
          ]
        }
      ],
      "source": [
        "model_file = []\n",
        "model_to_load = []\n",
        "if gaussian_copula_synth_model == True:\n",
        "  model_file.append(model_names[0])\n",
        "  model_to_load.append((\"GaussianCopula\", GaussianCopula))\n",
        "if ctgan_synth_model == True:\n",
        "  model_file.append(model_names[-1])\n",
        "  model_to_load.append((\"CTGAN\", CTGAN))\n",
        "elif copula_gan_synth_model == True:\n",
        "  model_file.append(model_names[-1])\n",
        "  model_to_load.append((\"COPULAGAN\", CopulaGAN))\n",
        "\n",
        "loaded_model = []\n",
        "for mf,ml in zip(model_file, model_to_load): \n",
        "  loaded_model.append((ml[0], ml[1].load(mf)))"
      ]
    },
    {
      "cell_type": "markdown",
      "metadata": {
        "id": "Gn0T8pLAa1aN"
      },
      "source": [
        "# **Synthetic Data Generation**"
      ]
    },
    {
      "cell_type": "code",
      "execution_count": null,
      "metadata": {
        "id": "PSjwsi4zMK2u"
      },
      "outputs": [],
      "source": [
        "synthetic_data = []\n",
        "for lm in loaded_model: \n",
        "  synthetic_data.append((lm[0], lm[1].sample(n_to_generate)))"
      ]
    },
    {
      "cell_type": "markdown",
      "metadata": {
        "id": "iY_hj9EWKRLM"
      },
      "source": [
        "# **Synthetic Data Exploratory Analysis**"
      ]
    },
    {
      "cell_type": "markdown",
      "source": [
        "#**Aggregated Score**"
      ],
      "metadata": {
        "id": "dUU6cgMQ7DhW"
      }
    },
    {
      "cell_type": "markdown",
      "source": [
        "The aggregated score is a value between 0 and 1, and it is an average of all the following metrics"
      ],
      "metadata": {
        "id": "jBbcLtws7F82"
      }
    },
    {
      "cell_type": "code",
      "execution_count": null,
      "metadata": {
        "id": "cEzGfEZKIWeV"
      },
      "outputs": [],
      "source": [
        "  scored_and_synth_data = []\n",
        "  for sd in synthetic_data:\n",
        "    try:\n",
        "      print(\"\\nMethod: \",sd[0])\n",
        "      explore_data(sd[1])\n",
        "      if save_score is True: \n",
        "        score = evaluate(sd[1], data)\n",
        "        print(\"\\n\\nScore: \", score)\n",
        "      else: \n",
        "        score = -1\n",
        "      scored_and_synth_data.append((sd[0], sd[1], score))  \n",
        "    except:\n",
        "      print(\"Error\")\n"
      ]
    },
    {
      "cell_type": "code",
      "execution_count": null,
      "metadata": {
        "id": "hXRRKM9i4cft"
      },
      "outputs": [],
      "source": [
        "total_time = timeit.default_timer() - start_global_time"
      ]
    },
    {
      "cell_type": "code",
      "execution_count": null,
      "metadata": {
        "id": "CticH5Bsg-Y0"
      },
      "outputs": [],
      "source": [
        "for sas in scored_and_synth_data:\n",
        "  sas[1].to_csv(dataset+'_synth_data_generated_by_method_'+sas[0].lower()+'total_time_'+str(round(total_time,2))+'_score_'+str(round(sas[2],3))+'.csv', sep=',')"
      ]
    },
    {
      "cell_type": "code",
      "execution_count": null,
      "metadata": {
        "id": "HjXsUAY_gwK8"
      },
      "outputs": [],
      "source": [
        "for sas in scored_and_synth_data:\n",
        "  sas[1].to_excel(dataset+'_synth_data_generated_by_method_'+sas[0].lower()+'total_time_'+str(round(total_time,2))+'_score_'+str(round(sas[2],3))+'.xlsx')"
      ]
    },
    {
      "cell_type": "code",
      "execution_count": null,
      "metadata": {
        "id": "M0DMKRkeqSJZ"
      },
      "outputs": [],
      "source": [
        "print(\"Global Exectution Time: \", total_time)"
      ]
    }
  ],
  "metadata": {
    "accelerator": "GPU",
    "colab": {
      "collapsed_sections": [],
      "name": "gan_sdgym_istat_synt_challenge.ipynb",
      "provenance": []
    },
    "kernelspec": {
      "display_name": "Python 3",
      "language": "python",
      "name": "python3"
    },
    "language_info": {
      "codemirror_mode": {
        "name": "ipython",
        "version": 3
      },
      "file_extension": ".py",
      "mimetype": "text/x-python",
      "name": "python",
      "nbconvert_exporter": "python",
      "pygments_lexer": "ipython3",
      "version": "3.7.4"
    }
  },
  "nbformat": 4,
  "nbformat_minor": 0
}