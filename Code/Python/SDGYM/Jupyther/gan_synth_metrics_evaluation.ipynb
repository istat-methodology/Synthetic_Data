{
  "nbformat": 4,
  "nbformat_minor": 0,
  "metadata": {
    "colab": {
      "name": "gan_synth_metrics_evaluation.ipynb",
      "provenance": [],
      "collapsed_sections": []
    },
    "kernelspec": {
      "name": "python3",
      "display_name": "Python 3"
    },
    "language_info": {
      "name": "python"
    },
    "accelerator": "GPU"
  },
  "cells": [
    {
      "cell_type": "markdown",
      "source": [
        "# **SDGym - Synthetic Data Gym Metrics Evaluation**"
      ],
      "metadata": {
        "id": "-iYm9mPq3Wft"
      }
    },
    {
      "cell_type": "code",
      "source": [
        "import os\n",
        "import sys\n",
        "import platform\n",
        "import timeit\n",
        "import numpy as np\n",
        "import pandas as pd\n",
        "import matplotlib.pyplot as plt\n",
        "import pdb\n",
        "\n",
        "OS = platform.system()   # Operating System "
      ],
      "metadata": {
        "id": "Mfcwmsq1rljD"
      },
      "execution_count": 79,
      "outputs": []
    },
    {
      "cell_type": "markdown",
      "source": [
        "#**Data Download**"
      ],
      "metadata": {
        "id": "ZceC-F3iqcE4"
      }
    },
    {
      "cell_type": "code",
      "execution_count": 2,
      "metadata": {
        "colab": {
          "base_uri": "https://localhost:8080/"
        },
        "id": "WdRYfguEqSqt",
        "outputId": "46f52d28-f2c3-411f-e2b4-42c546b1de1d"
      },
      "outputs": [
        {
          "output_type": "execute_result",
          "data": {
            "text/plain": [
              "0"
            ]
          },
          "metadata": {},
          "execution_count": 2
        }
      ],
      "source": [
        "os.system('git clone https://github.com/istat-methodology/Synthetic_Data.git')"
      ]
    },
    {
      "cell_type": "markdown",
      "source": [
        "#**All Installations: SDGym, Matplotlib, etc**"
      ],
      "metadata": {
        "id": "GKjWGWaA5rnA"
      }
    },
    {
      "cell_type": "code",
      "source": [
        "os.system('pip install sdgym')\n",
        "os.system('pip install matplotlib==3.1.3')"
      ],
      "metadata": {
        "colab": {
          "base_uri": "https://localhost:8080/"
        },
        "id": "U6n2e-Cds6HV",
        "outputId": "6f5e4488-a217-405e-d6ea-f09b3dd1ec8f"
      },
      "execution_count": 3,
      "outputs": [
        {
          "output_type": "execute_result",
          "data": {
            "text/plain": [
              "0"
            ]
          },
          "metadata": {},
          "execution_count": 3
        }
      ]
    },
    {
      "cell_type": "markdown",
      "source": [
        "#**All Sythetic Data Gym Imports**"
      ],
      "metadata": {
        "id": "_eE-NKqw5moo"
      }
    },
    {
      "cell_type": "code",
      "source": [
        "from sdv.evaluation import evaluate\n",
        "from sdv.metrics.tabular import CSTest, KSTest                                      # Statistical Metrics\n",
        "from sdv.metrics.tabular import BNLikelihood, BNLogLikelihood, GMLogLikelihood      # Likelihood Metrics¶\n",
        "from sdv.metrics.tabular import LogisticDetection, SVCDetection                     # Detection Metrics\n",
        "from sdv.metrics.tabular import MulticlassDecisionTreeClassifier                    # Machine Learning Efficacy Metrics¶\n",
        "from sdv.metrics.tabular import NumericalLR "
      ],
      "metadata": {
        "id": "lQ1QVlP4tAn2"
      },
      "execution_count": 4,
      "outputs": []
    },
    {
      "cell_type": "markdown",
      "source": [
        "#**Visualization Options Settings**"
      ],
      "metadata": {
        "id": "jujguSyQ5yLU"
      }
    },
    {
      "cell_type": "code",
      "source": [
        "pd.set_option('display.max_columns', 500) \n",
        "pd.set_option('display.max_rows', 500) "
      ],
      "metadata": {
        "id": "snRKltS4tIee"
      },
      "execution_count": 5,
      "outputs": []
    },
    {
      "cell_type": "markdown",
      "source": [
        "#**All Initializations**"
      ],
      "metadata": {
        "id": "vdH0dK1752t-"
      }
    },
    {
      "cell_type": "code",
      "source": [
        "orig_data_path = './Synthetic_Data/Datasets/syntetic_telephony.xlsx'\n",
        "synth_data_path = './Synthetic_Data/Output/Telephony Synt Results/telephony_synth_data_generated_by_method_copulagantotal_time_2863.58_score_0.45.xlsx'"
      ],
      "metadata": {
        "id": "vui5vJQCtmAX"
      },
      "execution_count": 6,
      "outputs": []
    },
    {
      "cell_type": "markdown",
      "source": [
        "#**All General Functions Definitions**"
      ],
      "metadata": {
        "id": "5HLGlxL158As"
      }
    },
    {
      "cell_type": "code",
      "source": [
        "def explore_data(data): \n",
        "  print(\"\\nHead of Data: \\n\", data.head())\n",
        "  print(\"\\nTail of Data: \\n\", data.tail())\n",
        "  print(\"\\nShape of Data: \", data.shape)\n",
        "  print(\"\\nInformation about Data: \\n\")\n",
        "  try: \n",
        "    data.info()\n",
        "  except: \n",
        "    pass\n",
        "  print(\"\\nTypes of Data attributes: \\n\")\n",
        "  try: \n",
        "    data.dtypes\n",
        "  except: \n",
        "    pass\n",
        "  print(\"\\nSummary of all numerical fields in the dataset: \\n\")\n",
        "  try: \n",
        "    data.describe(include = [np.number])\n",
        "  except: \n",
        "    pass\n",
        "  print(\"\\nSummary of all categorical fields in the dataset: \\n\")\n",
        "  try: \n",
        "    data.describe(include = ['O'])\n",
        "  except: \n",
        "    pass\n",
        "  print(\"\\nLoop Through Each Column and Check for nulls: \\n\")\n",
        "  try: \n",
        "    for i in range(len(data.columns)):\n",
        "        print(data.columns[i] + \": \" + str(data[data.columns[i]].isna().sum()))\n",
        "  except: \n",
        "    pass\n",
        "\n",
        "def data_download(file_to_download, gdrive_code, OS, uncompress = True):\n",
        "  if not os.path.exists(file_to_download):\n",
        "    os.system('gdown --id \"'+gdrive_code+'\" --output '+file_to_download)\n",
        "    if OS == \"Linux\" and uncompress:\n",
        "        os.system('unzip -o -n \"./'+file_to_download+'\" -d \"./\"')\n",
        "    return True\n",
        "  else: \n",
        "    return None"
      ],
      "metadata": {
        "id": "PtQkoJKZtW25"
      },
      "execution_count": 13,
      "outputs": []
    },
    {
      "cell_type": "markdown",
      "source": [
        "#**Original Data Reading**"
      ],
      "metadata": {
        "id": "HRY_SqVd6BPv"
      }
    },
    {
      "cell_type": "code",
      "source": [
        "xl_file = pd.ExcelFile(orig_data_path)\n",
        "dfs = {sheet_name: xl_file.parse(sheet_name) for sheet_name in xl_file.sheet_names}\n",
        "orig_data = dfs['Sheet1']"
      ],
      "metadata": {
        "id": "Q0-vuH8utf7g"
      },
      "execution_count": 66,
      "outputs": []
    },
    {
      "cell_type": "markdown",
      "source": [
        "#**Original Data Preprocessing**"
      ],
      "metadata": {
        "id": "Sz2qcZE06FfV"
      }
    },
    {
      "cell_type": "code",
      "source": [
        "# Renaming Columns into English\n",
        "orig_data.rename(columns = {'COD_CELLA_CHIAMATA':'CELL_CALL_CODE', \n",
        "                      'DATA_CHIAMATA':'CALL_DATE',\n",
        "                      'CHIAVE_NUM_CHIAMANTE':'NUM_CALLER_KEY',\n",
        "                      'ORA_MIN_CHIAMATA':'TIME_MIN_CALL'}, inplace = True)\n",
        "\n",
        "# Casting Datatypes  \n",
        "orig_data.CELL_CALL_CODE=orig_data.CELL_CALL_CODE.astype(\"int64\").astype(\"str\")\n",
        "\n",
        "orig_data.CALL_DATE=pd.to_datetime(orig_data.CALL_DATE, format='%Y%m%d')\n",
        "orig_data.NUM_CALLER_KEY=orig_data.NUM_CALLER_KEY.astype(\"int64\").astype(\"str\")\n",
        "\n",
        "orig_data.TIME_MIN_CALL=orig_data.TIME_MIN_CALL.astype(\"str\").str.pad(width=6, side='left', fillchar='0')\n",
        "orig_data.TIME_MIN_CALL =pd.to_datetime(orig_data.TIME_MIN_CALL , format='%H%M%S').dt.time.astype(\"str\")\n",
        "orig_data.TIME_MIN_CALL =pd.to_datetime(orig_data.TIME_MIN_CALL)\n",
        "\n",
        "explore_data(orig_data)"
      ],
      "metadata": {
        "colab": {
          "base_uri": "https://localhost:8080/"
        },
        "id": "WgOIZ-yyuxL_",
        "outputId": "8af5d00e-5218-4b07-918a-86ac43a826fa"
      },
      "execution_count": 67,
      "outputs": [
        {
          "output_type": "stream",
          "name": "stdout",
          "text": [
            "\n",
            "Head of Data: \n",
            "       NUM_CALLER_KEY  CALL_DATE       TIME_MIN_CALL CELL_CALL_CODE\n",
            "0  14615194667453690 2017-01-22 2022-05-26 15:49:53              0\n",
            "1  14615194667453690 2017-01-29 2022-05-26 12:40:34              1\n",
            "2  14615194667453690 2017-01-29 2022-05-26 12:41:19              1\n",
            "3  14615194667453690 2017-01-22 2022-05-26 15:51:02              1\n",
            "4  14615194667453690 2017-01-22 2022-05-26 15:51:38              1\n",
            "\n",
            "Tail of Data: \n",
            "          NUM_CALLER_KEY  CALL_DATE       TIME_MIN_CALL CELL_CALL_CODE\n",
            "9995  14615368752090240 2017-01-12 2022-05-26 12:09:10            272\n",
            "9996  14615368752090240 2017-02-12 2022-05-26 18:26:01            272\n",
            "9997   1508338528891430 2017-01-04 2022-05-26 09:26:27            272\n",
            "9998  14615368752090240 2017-02-10 2022-05-26 15:11:58            272\n",
            "9999  14615337422429130 2017-01-30 2022-05-26 09:09:03            272\n",
            "\n",
            "Shape of Data:  (10000, 4)\n",
            "\n",
            "Information about Data: \n",
            "\n",
            "<class 'pandas.core.frame.DataFrame'>\n",
            "RangeIndex: 10000 entries, 0 to 9999\n",
            "Data columns (total 4 columns):\n",
            " #   Column          Non-Null Count  Dtype         \n",
            "---  ------          --------------  -----         \n",
            " 0   NUM_CALLER_KEY  10000 non-null  object        \n",
            " 1   CALL_DATE       10000 non-null  datetime64[ns]\n",
            " 2   TIME_MIN_CALL   10000 non-null  datetime64[ns]\n",
            " 3   CELL_CALL_CODE  10000 non-null  object        \n",
            "dtypes: datetime64[ns](2), object(2)\n",
            "memory usage: 312.6+ KB\n",
            "\n",
            "Types of Data attributes: \n",
            "\n",
            "\n",
            "Summary of all numerical fields in the dataset: \n",
            "\n",
            "\n",
            "Summary of all categorical fields in the dataset: \n",
            "\n",
            "\n",
            "Loop Through Each Column and Check for nulls: \n",
            "\n",
            "NUM_CALLER_KEY: 0\n",
            "CALL_DATE: 0\n",
            "TIME_MIN_CALL: 0\n",
            "CELL_CALL_CODE: 0\n"
          ]
        }
      ]
    },
    {
      "cell_type": "markdown",
      "source": [
        "#**Original Data Exports**"
      ],
      "metadata": {
        "id": "DN4VflRI6ebW"
      }
    },
    {
      "cell_type": "code",
      "source": [
        "orig_data.to_excel('./'+os.path.basename(orig_data_path).rsplit('.', 1)[0]+'_export.xlsx')\n",
        "orig_data.to_csv('./'+os.path.basename(orig_data_path).rsplit('.', 1)[0]+'_export.csv')"
      ],
      "metadata": {
        "id": "HgOR7EFHsd7p"
      },
      "execution_count": 68,
      "outputs": []
    },
    {
      "cell_type": "markdown",
      "source": [
        "#**Synthetic Data Reading**"
      ],
      "metadata": {
        "id": "Pk8IOIV56hgx"
      }
    },
    {
      "cell_type": "code",
      "source": [
        "xl_file = pd.ExcelFile(synth_data_path)\n",
        "dfs = {sheet_name: xl_file.parse(sheet_name) for sheet_name in xl_file.sheet_names}\n",
        "synth_data = dfs['Sheet1']"
      ],
      "metadata": {
        "id": "k3QlS2h1ubkq"
      },
      "execution_count": 69,
      "outputs": []
    },
    {
      "cell_type": "markdown",
      "source": [
        "#**Synthetic Data Preprocessing**"
      ],
      "metadata": {
        "id": "boOc4PhV6l4J"
      }
    },
    {
      "cell_type": "code",
      "source": [
        "# Renaming Columns into English\n",
        "synth_data.rename(columns = {'COD_CELLA_CHIAMATA':'CELL_CALL_CODE', \n",
        "                      'DATA_CHIAMATA':'CALL_DATE',\n",
        "                      'CHIAVE_NUM_CHIAMANTE':'NUM_CALLER_KEY',\n",
        "                      'ORA_MIN_CHIAMATA':'TIME_MIN_CALL'}, inplace = True)\n",
        "\n",
        "# Removing F character from Dataframe\n",
        "synth_data[\"CELL_CALL_CODE\"] = synth_data[\"CELL_CALL_CODE\"].str.replace(\"F\",\"\")\n",
        "synth_data[\"NUM_CALLER_KEY\"] = synth_data[\"NUM_CALLER_KEY\"].str.replace(\"F\",\"\")\n",
        "\n",
        "# Casting Datatypes  \n",
        "synth_data.CELL_CALL_CODE=synth_data.CELL_CALL_CODE.astype(\"int64\").astype(\"str\")\n",
        "\n",
        "synth_data.CALL_DATE=pd.to_datetime(synth_data.CALL_DATE, format='%Y%m%d')\n",
        "synth_data.NUM_CALLER_KEY=synth_data.NUM_CALLER_KEY.astype(\"int64\").astype(\"str\")\n",
        "\n",
        "synth_data.TIME_MIN_CALL=synth_data.TIME_MIN_CALL.astype(\"str\").str.pad(width=6, side='left', fillchar='0')\n",
        "synth_data.TIME_MIN_CALL =pd.to_datetime(synth_data.TIME_MIN_CALL).dt.time.astype(\"str\")\n",
        "synth_data.TIME_MIN_CALL =pd.to_datetime(synth_data.TIME_MIN_CALL)\n",
        "\n",
        "synth_data.drop(\"Unnamed: 0\", axis=1, inplace=True)\n",
        "\n",
        "explore_data(synth_data)"
      ],
      "metadata": {
        "colab": {
          "base_uri": "https://localhost:8080/"
        },
        "id": "yxxwSaeBuyvM",
        "outputId": "46395f39-3693-4eea-bfc5-5237028a276b"
      },
      "execution_count": 70,
      "outputs": [
        {
          "output_type": "stream",
          "name": "stdout",
          "text": [
            "\n",
            "Head of Data: \n",
            "       NUM_CALLER_KEY  CALL_DATE       TIME_MIN_CALL CELL_CALL_CODE\n",
            "0  14615366112382500 2017-01-30 2022-05-26 15:54:19            258\n",
            "1  14615362915496210 2017-01-14 2022-05-26 11:54:30            781\n",
            "2  14615430050428180 2017-01-20 2022-05-26 21:25:36             18\n",
            "3  14615339806425970 2017-01-09 2022-05-26 17:36:41            311\n",
            "4  14615390824437770 2017-01-06 2022-05-26 13:20:43            565\n",
            "\n",
            "Tail of Data: \n",
            "          NUM_CALLER_KEY  CALL_DATE       TIME_MIN_CALL CELL_CALL_CODE\n",
            "9995  14615362915496210 2017-01-04 2022-05-26 12:00:18            107\n",
            "9996  14615224339316630 2017-01-05 2022-05-26 08:12:24            231\n",
            "9997  14615228723636630 2017-01-02 2022-05-26 16:51:31              9\n",
            "9998  14615362915496210 2017-01-25 2022-05-26 21:06:11            644\n",
            "9999  14615420085225040 2017-02-06 2022-05-26 15:19:53            779\n",
            "\n",
            "Shape of Data:  (10000, 4)\n",
            "\n",
            "Information about Data: \n",
            "\n",
            "<class 'pandas.core.frame.DataFrame'>\n",
            "RangeIndex: 10000 entries, 0 to 9999\n",
            "Data columns (total 4 columns):\n",
            " #   Column          Non-Null Count  Dtype         \n",
            "---  ------          --------------  -----         \n",
            " 0   NUM_CALLER_KEY  10000 non-null  object        \n",
            " 1   CALL_DATE       10000 non-null  datetime64[ns]\n",
            " 2   TIME_MIN_CALL   10000 non-null  datetime64[ns]\n",
            " 3   CELL_CALL_CODE  10000 non-null  object        \n",
            "dtypes: datetime64[ns](2), object(2)\n",
            "memory usage: 312.6+ KB\n",
            "\n",
            "Types of Data attributes: \n",
            "\n",
            "\n",
            "Summary of all numerical fields in the dataset: \n",
            "\n",
            "\n",
            "Summary of all categorical fields in the dataset: \n",
            "\n",
            "\n",
            "Loop Through Each Column and Check for nulls: \n",
            "\n",
            "NUM_CALLER_KEY: 0\n",
            "CALL_DATE: 0\n",
            "TIME_MIN_CALL: 0\n",
            "CELL_CALL_CODE: 0\n"
          ]
        }
      ]
    },
    {
      "cell_type": "markdown",
      "source": [
        "#**Synthetic Data Export**"
      ],
      "metadata": {
        "id": "A7zZe1tf6r6c"
      }
    },
    {
      "cell_type": "code",
      "source": [
        "synth_data.to_excel('./'+os.path.basename(synth_data_path).rsplit('.', 1)[0]+'_export.xlsx')\n",
        "synth_data.to_csv('./'+os.path.basename(synth_data_path).rsplit('.', 1)[0]+'_export.csv')"
      ],
      "metadata": {
        "id": "X2XQhCvUtAfD"
      },
      "execution_count": 64,
      "outputs": []
    },
    {
      "cell_type": "markdown",
      "source": [
        "#**Model Evaluation via SDGym Tools**"
      ],
      "metadata": {
        "id": "XjnO9kaftelf"
      }
    },
    {
      "cell_type": "markdown",
      "source": [
        "#**Statistical Metrics**"
      ],
      "metadata": {
        "id": "OCsxwSsWthhc"
      }
    },
    {
      "cell_type": "markdown",
      "source": [
        "The metrics of this family compare the tables by running different types of statistical tests on them. In the most simple scenario, these metrics compare individual columns from the real table with the corresponding column from the synthetic table, and at the end report the average outcome from the test."
      ],
      "metadata": {
        "id": "Zto-vAF1tip6"
      }
    },
    {
      "cell_type": "markdown",
      "source": [
        "**sdv.metrics.tabular.CSTest:** This metric uses the Chi-Squared test to compare the distributions of two discrete columns. The output for each column is the CSTest p-value, which indicates the probability of the two columns having been sampled from the same distribution.\n"
      ],
      "metadata": {
        "id": "CnzQZzRTtla7"
      }
    },
    {
      "cell_type": "code",
      "source": [
        "start_test_time = timeit.default_timer()\n",
        "results = CSTest.compute(orig_data, synth_data)\n",
        "print(\"Chi-Squared Test Test Results: \", results)\n",
        "print(\"Chi-Squared Metrics Test - Elapsed Time = \", timeit.default_timer() - start_test_time)"
      ],
      "metadata": {
        "colab": {
          "base_uri": "https://localhost:8080/"
        },
        "id": "aOkd4PE5tfTh",
        "outputId": "8f4e8295-a9ff-4b8f-917c-c58c3c44169c"
      },
      "execution_count": 71,
      "outputs": [
        {
          "output_type": "stream",
          "name": "stdout",
          "text": [
            "Chi-Squared Test Test Results:  1.0\n",
            "Chi-Squared Metrics Test - Elapsed Time =  0.028185748999931093\n"
          ]
        }
      ]
    },
    {
      "cell_type": "markdown",
      "source": [
        " Chi_squared test p-value must be between 0 and 1, so **1.0** means that the distributions (original and synthetic) are sampled from the same distribution of data"
      ],
      "metadata": {
        "id": "yEtkNok16_LE"
      }
    },
    {
      "cell_type": "markdown",
      "source": [
        "**sdv.metrics.tabular.KSTest:** This metric uses the two-sample Kolmogorov–Smirnov test to compare the distributions of continuous columns using the empirical CDF. "
      ],
      "metadata": {
        "id": "lhJhAugF9V7G"
      }
    },
    {
      "cell_type": "markdown",
      "source": [
        "**Note:** Inverted Kolmogorov-Smirnov not working because there are not numerical fields within the dataset"
      ],
      "metadata": {
        "id": "1hDGbrU-9rk9"
      }
    },
    {
      "cell_type": "markdown",
      "source": [
        "We preliminarly convert categorical variabels into numeric in order to calculate the Kolmogorov-Smirnov test"
      ],
      "metadata": {
        "id": "ODzDT-109Jre"
      }
    },
    {
      "cell_type": "code",
      "source": [
        "start_test_time = timeit.default_timer()\n",
        "tmp_orig_data = orig_data.copy()\n",
        "tmp_synth_data = synth_data.copy()\n",
        "tmp_orig_data.CELL_CALL_CODE = pd.to_numeric(tmp_orig_data.CELL_CALL_CODE)\n",
        "tmp_orig_data.NUM_CALLER_KEY = pd.to_numeric(tmp_orig_data.NUM_CALLER_KEY)\n",
        "tmp_synth_data.CELL_CALL_CODE = pd.to_numeric(tmp_synth_data.CELL_CALL_CODE)\n",
        "tmp_synth_data.NUM_CALLER_KEY = pd.to_numeric(tmp_synth_data.NUM_CALLER_KEY)\n",
        "results = KSTest.compute(orig_data, tmp_synth_data)\n",
        "print(\"Kolmogorov-Smirnov Test Test Results: \", results)\n",
        "print(\"Kolmogorov-Smirnov Metrics Test - Elapsed Time = \", timeit.default_timer() - start_test_time)"
      ],
      "metadata": {
        "colab": {
          "base_uri": "https://localhost:8080/"
        },
        "id": "2N-jzJnt7R8L",
        "outputId": "5d032f01-6aec-4479-db6d-3bb8d5cdf84f"
      },
      "execution_count": 38,
      "outputs": [
        {
          "output_type": "stream",
          "name": "stdout",
          "text": [
            "Kolmogorov-Smirnov Test Test Results:  0.95375\n",
            "Kolmogorov-Smirnov Metrics Test - Elapsed Time =  0.038176102000306855\n"
          ]
        }
      ]
    },
    {
      "cell_type": "markdown",
      "source": [
        "The output of KSTest for each column is 1 minus the KS Test D statistic, which indicates the maximum distance between the expected CDF and the observed CDF values."
      ],
      "metadata": {
        "id": "Xxl4yAVv9I9W"
      }
    },
    {
      "cell_type": "markdown",
      "source": [
        "The letter \"D\" stands for \"distance.\" Geometrically, D measures the maximum vertical distance between the empirical cumulative distribution function (ECDF) of the sample and the cumulative distribution function (CDF) of the reference distribution."
      ],
      "metadata": {
        "id": "XQy1_E5E-qYx"
      }
    },
    {
      "cell_type": "markdown",
      "source": [
        "If the two samples were randomly sampled from identical populations, what is the probability that the two cumulative frequency distributions would be as far apart as observed? More precisely, what is the chance that the value of the Komogorov-Smirnov D statistic would be as large or larger than observed?\n",
        "\n",
        "If the P value is small, conclude that the two groups were sampled from populations with different distributions. The populations may differ in median, variability or the shape of the distribution. "
      ],
      "metadata": {
        "id": "krzoGnUi-Zb-"
      }
    },
    {
      "cell_type": "markdown",
      "source": [
        "So **0.95375** which is 1-D, means that the distance is low, and the two distribution are very close. "
      ],
      "metadata": {
        "id": "g4K0on9y-6bp"
      }
    },
    {
      "cell_type": "markdown",
      "source": [
        "In each case, the statistical test will be executed on all the compatible column (so, categorical or boolean columns for CSTest and numerical columns for KSTest), and report the average score obtained."
      ],
      "metadata": {
        "id": "u5HUUTVG-0xD"
      }
    },
    {
      "cell_type": "markdown",
      "source": [
        "#**Likelihood Metrics**"
      ],
      "metadata": {
        "id": "iMhYRH-FuFKm"
      }
    },
    {
      "cell_type": "markdown",
      "source": [
        "The metrics of this family compare the tables by fitting the real data to a probabilistic model and afterwards compute the likelihood of the synthetic data belonging to the learned distribution."
      ],
      "metadata": {
        "id": "fStqKKpGuHdO"
      }
    },
    {
      "cell_type": "markdown",
      "source": [
        "**sdv.metrics.tabular.BNLikelihood:** This metric fits a BayesianNetwork to the real data and then evaluates the average likelihood of the rows from the synthetic data on it.\n",
        "\n"
      ],
      "metadata": {
        "id": "vLejqOISuJr-"
      }
    },
    {
      "cell_type": "code",
      "source": [
        "start_test_time = timeit.default_timer()\n",
        "results = BNLikelihood.compute(orig_data.fillna(0), synth_data.fillna(0))\n",
        "print(\"BNLikelihood Test Results: \", results)\n",
        "print(\"BNLikelihood Metrics Test - Elapsed Time = \", timeit.default_timer() - start_test_time)"
      ],
      "metadata": {
        "colab": {
          "base_uri": "https://localhost:8080/"
        },
        "id": "TTVZkPE-je1W",
        "outputId": "07cc1c91-d673-4187-e4e8-497e07b854fd"
      },
      "execution_count": 37,
      "outputs": [
        {
          "output_type": "stream",
          "name": "stdout",
          "text": [
            "BNLikelihood Test Results:  0.00013183\n",
            "Likelihood Metrics Test n.1 - Elapsed Time =  70.74522885399983\n"
          ]
        }
      ]
    },
    {
      "cell_type": "markdown",
      "source": [
        "Bayesian Networks Likelihood is the Error calculated on Synthetic data after fitting the model on Real Data. Very low error (likelihood) like **0.00013183** means the two datasets are very close in terms of probabilistic models. "
      ],
      "metadata": {
        "id": "wTRRPNlCALbF"
      }
    },
    {
      "cell_type": "markdown",
      "source": [
        "**sdv.metrics.tabular.BNLogLikelihood:** This metric fits a BayesianNetwork to the real data and then evaluates the average log likelihood of the rows from the synthetic data on it.\n",
        "\n"
      ],
      "metadata": {
        "id": "njvQJlKA_PlQ"
      }
    },
    {
      "cell_type": "code",
      "source": [
        "start_test_time = timeit.default_timer()\n",
        "results = BNLogLikelihood.compute(orig_data.fillna(0), synth_data.fillna(0))\n",
        "print(\"BNLogLikelihood Test Results: \", results)\n",
        "print(\"BNLogLikelihood Metrics Test - Elapsed Time = \", timeit.default_timer() - start_test_time)"
      ],
      "metadata": {
        "colab": {
          "base_uri": "https://localhost:8080/"
        },
        "id": "Ibuqn8SelYLj",
        "outputId": "67564cc8-ad0f-42b3-f8d2-77498669ef3e"
      },
      "execution_count": 45,
      "outputs": [
        {
          "output_type": "stream",
          "name": "stdout",
          "text": [
            "BNLogLikelihood Test Results:  -17.415473543655498\n",
            "BNLogLikelihood Metrics Test - Elapsed Time =  63.65368466500013\n"
          ]
        }
      ]
    },
    {
      "cell_type": "markdown",
      "source": [
        "![Binary_logarithm_plot_with_ticks.svg](data:image/svg+xml;base64,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)"
      ],
      "metadata": {
        "id": "awFK1YhlBYIB"
      }
    },
    {
      "cell_type": "markdown",
      "source": [
        "With very low error (close to 0) according to the Log function, the output value must be negative such as: **-17.415473543655498**, so it is very good.\n"
      ],
      "metadata": {
        "id": "JPhYNcb7BGRq"
      }
    },
    {
      "cell_type": "markdown",
      "source": [
        "#**Detection Metrics**"
      ],
      "metadata": {
        "id": "QkzvE2ssueRk"
      }
    },
    {
      "cell_type": "markdown",
      "source": [
        "The metrics of this family evaluate how hard it is to distinguish the synthetic data from the real data by using a Machine Learning model. To do this, the metrics will shuffle the real data and synthetic data together with flags indicating whether the data is real or synthetic, and then cross validate a Machine Learning model that tries to predict this flag. \n",
        "\n"
      ],
      "metadata": {
        "id": "d2jRQLIiug5-"
      }
    },
    {
      "cell_type": "markdown",
      "source": [
        "**sdv.metrics.tabular.LogisticDetection**: Detection metric based on a LogisticRegression classifier from scikit-learn."
      ],
      "metadata": {
        "id": "2cKpckqnClEA"
      }
    },
    {
      "cell_type": "code",
      "source": [
        "start_test_time = timeit.default_timer()\n",
        "results = LogisticDetection.compute(orig_data, synth_data)\n",
        "print(\"Detection Metrics Test n.1 (Logistic) Results: \", results)\n",
        "print(\"Detection Metrics Test n.1 (Logistic) - Elapsed Time = \", timeit.default_timer() - start_test_time)"
      ],
      "metadata": {
        "colab": {
          "base_uri": "https://localhost:8080/"
        },
        "id": "8yAbvF3Jue3j",
        "outputId": "4def1193-db08-4f23-d1a4-760db1d5bb16"
      },
      "execution_count": 53,
      "outputs": [
        {
          "output_type": "stream",
          "name": "stdout",
          "text": [
            "Detection Metrics Test n.1 (Logistic) Results:  0.9557033149931881\n",
            "Detection Metrics Test n.1 (Logistic) - Elapsed Time =  0.12409467399993446\n"
          ]
        }
      ]
    },
    {
      "cell_type": "markdown",
      "source": [
        "The output of the metrics will be the 1 minus the average ROC AUC score across all the cross validation splits. So the higher it is, the better it is. "
      ],
      "metadata": {
        "id": "GV6QI9LVC5_m"
      }
    },
    {
      "cell_type": "markdown",
      "source": [
        "AUC stands for \"Area under the ROC Curve.\" That is, AUC measures the entire two-dimensional area underneath the entire ROC curve (think integral calculus) from (0,0) to (1,1)."
      ],
      "metadata": {
        "id": "lgUAfqC4DQ9y"
      }
    },
    {
      "cell_type": "markdown",
      "source": [
        "AUC provides an aggregate measure of performance across all possible classification thresholds. One way of interpreting AUC is as the probability that the model ranks a random positive example more highly than a random negative example. AUC represents the probability that a random positive (green) example is positioned to the right of a random negative (red) example. AUC ranges in value from 0 to 1. A model whose predictions are 100% wrong has an AUC of 0.0; one whose predictions are 100% correct has an AUC of 1.0."
      ],
      "metadata": {
        "id": "wbyvJv1_Dua6"
      }
    },
    {
      "cell_type": "markdown",
      "source": [
        "![AUC.svg](data:image/svg+xml;base64,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)"
      ],
      "metadata": {
        "id": "S8ZYqFfcDV2j"
      }
    },
    {
      "cell_type": "markdown",
      "source": [
        "**sdv.metrics.tabular.SVCDetection:** Detection metric based on a SVC classifier from scikit-learn."
      ],
      "metadata": {
        "id": "0HG6-BERCoK2"
      }
    },
    {
      "cell_type": "code",
      "source": [
        "start_test_time = timeit.default_timer()\n",
        "results = SVCDetection.compute(orig_data, synth_data)\n",
        "print(\"Detection Metrics Test n.1 (Support Vector Machine) Results: \", results)\n",
        "print(\"Detection Metrics Test n.1 (Support Vector Machine) - Elapsed Time = \", timeit.default_timer() - start_test_time)"
      ],
      "metadata": {
        "colab": {
          "base_uri": "https://localhost:8080/"
        },
        "id": "NWaRRSoLoQc6",
        "outputId": "09587337-4b69-40f8-9d4f-d4d6c069ced3"
      },
      "execution_count": null,
      "outputs": [
        {
          "output_type": "stream",
          "name": "stderr",
          "text": [
            "/usr/local/lib/python3.7/dist-packages/pandas/core/frame.py:3678: PerformanceWarning: DataFrame is highly fragmented.  This is usually the result of calling `frame.insert` many times, which has poor performance.  Consider joining all columns at once using pd.concat(axis=1) instead.  To get a de-fragmented frame, use `newframe = frame.copy()`\n",
            "  self[col] = igetitem(value, i)\n"
          ]
        }
      ]
    },
    {
      "cell_type": "markdown",
      "source": [
        "#**Machine Learning Efficacy Metrics**"
      ],
      "metadata": {
        "id": "BIXrFNSYr3f3"
      }
    },
    {
      "cell_type": "markdown",
      "source": [
        "This family of metrics will evaluate whether it is possible to replace the real data with synthetic data in order to solve a Machine Learning Problem by learning a Machine Learning model on the synthetic data and then evaluating the score which it obtains when evaluated on the real data."
      ],
      "metadata": {
        "id": "YDDdr8_or6KL"
      }
    },
    {
      "cell_type": "markdown",
      "source": [
        "The metrics on this family are organized by Machine Learning problem type and model.\n",
        "\n",
        "    Binary Classification Metrics:\n",
        "\n",
        "        BinaryDecisionTreeClassifier\n",
        "\n",
        "        BinaryAdaBoostClassifier\n",
        "\n",
        "        BinaryLogisticRegression\n",
        "\n",
        "        BinaryMLPClassifier\n",
        "\n",
        "    Multiclass Classification Metrics:\n",
        "\n",
        "        MulticlassDecisionTreeClassifier\n",
        "\n",
        "        MulticlassMLPClassifier\n",
        "\n",
        "    Regression Metrics:\n",
        "\n",
        "        LinearRegression\n",
        "\n",
        "        MLPRegressor\n",
        "\n",
        "In order to run these metrics we will need to select a column from our dataset which we will use as the target for the prediction problem. "
      ],
      "metadata": {
        "id": "_9n-ETP4v_7L"
      }
    },
    {
      "cell_type": "code",
      "source": [
        "start_test_time = timeit.default_timer()\n",
        "results = MulticlassDecisionTreeClassifier.compute(orig_data, synth_data, target='CELL_CALL_CODE')\n",
        "print(\"Machine Learning Efficacy Metrics Test n.1 Results: \", results)\n",
        "print(\"Machine Learning Efficacy Metrics Test n.1 - Elapsed Time = \", timeit.default_timer() - start_test_time)"
      ],
      "metadata": {
        "id": "L8k-N_D0r5j2",
        "colab": {
          "base_uri": "https://localhost:8080/"
        },
        "outputId": "b4e3bb93-3e5a-4284-9aa2-fce4998b848a"
      },
      "execution_count": 55,
      "outputs": [
        {
          "output_type": "stream",
          "name": "stdout",
          "text": [
            "Machine Learning Efficacy Metrics Test n.1 Results:  0.0008137391275926499\n",
            "Machine Learning Efficacy Metrics Test n.1 - Elapsed Time =  0.526010825999947\n"
          ]
        }
      ]
    },
    {
      "cell_type": "markdown",
      "source": [
        "Notice that the value returned by the metric does not only depend on how good our synthetic data is, but also on how hard the Machine Learning problem that we are trying to solve is. "
      ],
      "metadata": {
        "id": "4m1XQAfDEykA"
      }
    },
    {
      "cell_type": "code",
      "source": [
        "start_test_time = timeit.default_timer()\n",
        "results = MulticlassDecisionTreeClassifier.compute(orig_data, synth_data, target='NUM_CALLER_KEY')\n",
        "print(\"Machine Learning Efficacy Metrics Test n.2 Results: \", results)\n",
        "print(\"Machine Learning Efficacy Metrics Test n.2 - Elapsed Time = \", timeit.default_timer() - start_test_time)"
      ],
      "metadata": {
        "colab": {
          "base_uri": "https://localhost:8080/"
        },
        "id": "6p55bd-JFB9P",
        "outputId": "e10040af-11d5-4371-ad1d-73558f50a8c1"
      },
      "execution_count": 57,
      "outputs": [
        {
          "output_type": "stream",
          "name": "stdout",
          "text": [
            "Machine Learning Efficacy Metrics Test n.2 Results:  0.001955794271742283\n",
            "Machine Learning Efficacy Metrics Test n.2 - Elapsed Time =  0.27411728699962623\n"
          ]
        }
      ]
    },
    {
      "cell_type": "markdown",
      "source": [
        "**Note:** Since this metrics will be evaluated by trying to solve a Machine Learning problem, they can only be used on datasets that contain a target column that needs or can be predicted using the rest of the data, and the scores obtained by the metrics will be inversely proportional to how hard that Machine Problem is."
      ],
      "metadata": {
        "id": "b--QO3_XFbyL"
      }
    },
    {
      "cell_type": "markdown",
      "source": [
        "#**Privacy Metrics 1**"
      ],
      "metadata": {
        "id": "ddLg5Jfkukeg"
      }
    },
    {
      "cell_type": "markdown",
      "source": [
        "This family of metrics measures the privacy of a synthetic dataset by positing the question: given the synthetic data, can an attacker predict sensitive attributes in the real dataset? These models accomplish this by fitting an adversarial attacker model on the synthetic data to predict sensitive attributes from “key” attributes and then evaluating its accuracy on the real data.\n",
        "\n",
        "The metrics on this family are organized according to the data type they take as input:\n",
        "\n",
        "    Categorical metrics:\n",
        "\n",
        "        sdv.metrics.tabular.CategoricalCAP\n",
        "\n",
        "        sdv.metrics.tabular.CategoricalZeroCAP\n",
        "\n",
        "        sdv.metrics.tabular.CategoricalGeneralizedCAP\n",
        "\n",
        "        sdv.metrics.tabular.CategoricalKNN\n",
        "\n",
        "        sdv.metrics.tabular.CategoricalNB\n",
        "\n",
        "        sdv.metrics.tabular.CategoricalRF\n",
        "\n",
        "        sdv.metrics.tabular.CategoricalEnsemble\n",
        "\n",
        "    Numerical metrics:\n",
        "\n",
        "        sdv.metrics.tabular.NumericalMLP\n",
        "\n",
        "        sdv.metrics.tabular.NumericalLR\n",
        "\n",
        "        sdv.metrics.tabular.NumericalSVR\n",
        "\n",
        "        sdv.metrics.tabular.NumericalRadiusNearestNeighbor"
      ],
      "metadata": {
        "id": "cKNGOHZpu0Q1"
      }
    },
    {
      "cell_type": "markdown",
      "source": [
        "In addition to the real and synthetic data, these metrics also require two additional inputs, sensitive_fields which is a list of columns considered private and key_fields which are the columns that will be used to try to predict the sensitive ones.\n",
        "\n",
        "Using the demo data set, one possible example is to use:\n",
        "\n",
        "    salary as a sensitive column, which is the column we are measuring ahow private it is\n",
        "\n",
        "    second_perc, mba_perc and degree_perc as the key columns, which will be used by the adversarial attacker to predict the sensitive column\n",
        "\n",
        "Notice that as all the involved columns are numerical, we need to apply a numerical privacy metric. Conversely, if all of the columns are categorical, we need to use a categorical privacy metric. Currently, the privacy metrics do not support mixed data types.\n",
        "\n",
        "**Note:**These metrics do not accept missing data, so we will replace all the missing values with a 0 before executing them."
      ],
      "metadata": {
        "id": "hfckJ-uku5l0"
      }
    },
    {
      "cell_type": "code",
      "source": [
        "start_test_time = timeit.default_timer()\n",
        "tmp_orig_data = orig_data.copy()\n",
        "tmp_synth_data = synth_data.copy()\n",
        "tmp_orig_data.CELL_CALL_CODE = pd.to_numeric(tmp_orig_data.CELL_CALL_CODE)\n",
        "tmp_orig_data.NUM_CALLER_KEY = pd.to_numeric(tmp_orig_data.NUM_CALLER_KEY)\n",
        "tmp_synth_data.CELL_CALL_CODE = pd.to_numeric(tmp_synth_data.CELL_CALL_CODE)\n",
        "tmp_synth_data.NUM_CALLER_KEY = pd.to_numeric(tmp_synth_data.NUM_CALLER_KEY)\n",
        "results = NumericalLR.compute(tmp_orig_data.fillna(0), tmp_synth_data.fillna(0), key_fields=['NUM_CALLER_KEY'], sensitive_fields=['CELL_CALL_CODE'])\n",
        "print(\"Privacy Metrics 1 Test n.1 Results: \", results)\n",
        "print(\"Privacy Metrics 1 Test n.1 - Elapsed Time = \", timeit.default_timer() - start_test_time)"
      ],
      "metadata": {
        "id": "aloWkT5mu1pj",
        "colab": {
          "base_uri": "https://localhost:8080/"
        },
        "outputId": "92bba1dc-5898-4909-8a6c-c5132021d8e5"
      },
      "execution_count": 77,
      "outputs": [
        {
          "output_type": "stream",
          "name": "stderr",
          "text": [
            "/usr/local/lib/python3.7/dist-packages/scipy/stats/_continuous_distns.py:5320: RuntimeWarning: divide by zero encountered in true_divide\n",
            "  return c**2 / (c**2 - n**2)\n",
            "/usr/local/lib/python3.7/dist-packages/scipy/stats/_distn_infrastructure.py:2606: RuntimeWarning: invalid value encountered in double_scalars\n",
            "  Lhat = muhat - Shat*mu\n"
          ]
        },
        {
          "output_type": "stream",
          "name": "stdout",
          "text": [
            "Privacy Metrics 1 Test n.1 Results:  0.08976442388552597\n",
            "Privacy Metrics 1 Test n.1 - Elapsed Time =  50.414666835999924\n"
          ]
        }
      ]
    },
    {
      "cell_type": "code",
      "source": [
        "start_test_time = timeit.default_timer()\n",
        "tmp_orig_data = orig_data.copy()\n",
        "tmp_synth_data = synth_data.copy()\n",
        "tmp_orig_data.CELL_CALL_CODE = pd.to_numeric(tmp_orig_data.CELL_CALL_CODE)\n",
        "tmp_orig_data.NUM_CALLER_KEY = pd.to_numeric(tmp_orig_data.NUM_CALLER_KEY)\n",
        "tmp_synth_data.CELL_CALL_CODE = pd.to_numeric(tmp_synth_data.CELL_CALL_CODE)\n",
        "tmp_synth_data.NUM_CALLER_KEY = pd.to_numeric(tmp_synth_data.NUM_CALLER_KEY)\n",
        "results = NumericalLR.compute(tmp_orig_data.fillna(0), tmp_synth_data.fillna(0), key_fields=['CELL_CALL_CODE'], sensitive_fields=['NUM_CALLER_KEY'])\n",
        "print(\"Privacy Metrics 1 Test n.2 Results: \", results)\n",
        "print(\"Privacy Metrics 1 Test n.2 - Elapsed Time = \", timeit.default_timer() - start_test_time)"
      ],
      "metadata": {
        "colab": {
          "base_uri": "https://localhost:8080/"
        },
        "id": "pr4B4JM_IEZ4",
        "outputId": "593f5fbe-e4ce-484f-fd8c-ba2c48ffd3d7"
      },
      "execution_count": 78,
      "outputs": [
        {
          "output_type": "stream",
          "name": "stderr",
          "text": [
            "/usr/local/lib/python3.7/dist-packages/scipy/stats/_continuous_distns.py:639: RuntimeWarning: invalid value encountered in sqrt\n",
            "  sk = 2*(b-a)*np.sqrt(a + b + 1) / (a + b + 2) / np.sqrt(a*b)\n",
            "/usr/local/lib/python3.7/dist-packages/scipy/stats/_continuous_distns.py:5320: RuntimeWarning: divide by zero encountered in true_divide\n",
            "  return c**2 / (c**2 - n**2)\n",
            "/usr/local/lib/python3.7/dist-packages/scipy/stats/_distn_infrastructure.py:2606: RuntimeWarning: invalid value encountered in double_scalars\n",
            "  Lhat = muhat - Shat*mu\n"
          ]
        },
        {
          "output_type": "stream",
          "name": "stdout",
          "text": [
            "Privacy Metrics 1 Test n.2 Results:  0.156501232102125\n",
            "Privacy Metrics 1 Test n.2 - Elapsed Time =  58.19724421200044\n"
          ]
        }
      ]
    },
    {
      "cell_type": "markdown",
      "source": [
        "The output of this metric is between 0 and 1, where the closer the value is to 0, the less private it is."
      ],
      "metadata": {
        "id": "xaGkB-xBIb5g"
      }
    },
    {
      "cell_type": "markdown",
      "source": [
        "#**Privacy Metrics 2**"
      ],
      "metadata": {
        "id": "ceewix1GJePb"
      }
    },
    {
      "cell_type": "markdown",
      "source": [
        "**Pmetrics.py to evaluate Privacy**"
      ],
      "metadata": {
        "id": "nQn2a5wHVGul"
      }
    },
    {
      "cell_type": "markdown",
      "source": [
        "#**All Privacy Metrics Functions Definitions**"
      ],
      "metadata": {
        "id": "JZneMC-9J5TB"
      }
    },
    {
      "cell_type": "code",
      "source": [
        "def cellchange(df1, df2, quasi, exclude_cols):\n",
        "    uniques1 = df1.drop_duplicates(subset=quasi, keep=False)\n",
        "    uniques2 = df2.drop_duplicates(subset=quasi, keep=False)\n",
        "    matcheduniq = uniques1.merge(uniques2, how='inner', on = quasi)\n",
        "    allcols = set(df1.columns).intersection(set(df2.columns))\n",
        "       \n",
        "    cols = allcols - set(quasi) - set(exclude_cols)\n",
        "    m = match(matcheduniq, cols)\n",
        "    \n",
        "    return m, uniques1, uniques2, matcheduniq\n",
        "\n",
        "def match(df, cols):\n",
        "    S = pd.Series(data=0, index=df.index)\n",
        "    for c in cols:\n",
        "        c_x = c + \"_x\"\n",
        "        c_y = c + \"_y\"\n",
        "        S = S + (df[c_x] == df[c_y]).astype(int)\n",
        "\n",
        "    S = (S/len(cols))*100\n",
        "\n",
        "    return S"
      ],
      "metadata": {
        "id": "2vF54Wl1VVlx"
      },
      "execution_count": 82,
      "outputs": []
    },
    {
      "cell_type": "code",
      "source": [
        "start_test_time = timeit.default_timer()\n",
        "'''\n",
        "# Load datasets \n",
        "dataset = pd.read_csv('/content/telephony_synth_data_generated_by_method_copulagantotal_time_2863.58_score_0.45_export.csv')  \n",
        "#groundtruth = pd.read_csv(args.groundtruth, dtypye=dtypes)\n",
        "groundtruth = pd.read_csv('/content/syntetic_telephony_export.csv')\n",
        "\n",
        "dataset.drop(\"Unnamed: 0\", axis=1, inplace=True)\n",
        "groundtruth.drop(\"Unnamed: 0\", axis=1, inplace=True)\n",
        "'''\n",
        "\n",
        "q = 'CELL_CALL_CODE'\n",
        "Qs = q.split(\",\")\n",
        "Qs = [s.strip(\" \") for s in Qs]\n",
        "\n",
        "x = 'CALL_DATE,TIME_MIN_CALL'\n",
        "Xs = x.split(\",\")\n",
        "Xs = [s.strip(\" \") for s in Xs]\n",
        "#percents, uniques1, uniques2, matched  = cellchange(groundtruth, dataset, Qs, Xs)\n",
        "percents, uniques1, uniques2, matched  = cellchange(orig_data, synth_data, Qs, Xs)\n",
        "    \n",
        "#print(\"Matched: \\n\",matched)\n",
        "#print(\"Percents: \\n\",percents)\n",
        "\n",
        "#Histogram\n",
        "plt.figure(figsize = (10,10))\n",
        "plt.title('Percentage of raw synthetic records that had an apparent match with groundtruth dataset')\n",
        "percents.hist()\n",
        "plt.xlim(0,100)\n",
        "plt.savefig('privacy_metric.png')\n",
        "plt.show()\n",
        "print(\"Privacy Metrics 2 Test n.1 - Elapsed Time = \", timeit.default_timer() - start_test_time)"
      ],
      "metadata": {
        "colab": {
          "base_uri": "https://localhost:8080/",
          "height": 626
        },
        "id": "JeWdJDI8XFb5",
        "outputId": "27944c1c-6b89-4bcd-8c17-7846f228b55d"
      },
      "execution_count": 85,
      "outputs": [
        {
          "output_type": "display_data",
          "data": {
            "text/plain": [
              "<Figure size 720x720 with 1 Axes>"
            ],
            "image/png": "[encoded data removed]"
          },
          "metadata": {
            "needs_background": "light"
          }
        },
        {
          "output_type": "stream",
          "name": "stdout",
          "text": [
            "Privacy Metrics 2 Test n.1 - Elapsed Time =  0.28096183900015603\n"
          ]
        }
      ]
    },
    {
      "cell_type": "code",
      "source": [
        "start_test_time = timeit.default_timer()\n",
        "\n",
        "q = 'NUM_CALLER_KEY'\n",
        "Qs = q.split(\",\")\n",
        "Qs = [s.strip(\" \") for s in Qs]\n",
        "\n",
        "x = 'CALL_DATE,TIME_MIN_CALL'\n",
        "Xs = x.split(\",\")\n",
        "Xs = [s.strip(\" \") for s in Xs]\n",
        "percents, uniques1, uniques2, matched  = cellchange(orig_data, synth_data, Qs, Xs)\n",
        "\n",
        "#Histogram\n",
        "plt.figure(figsize = (10,10))\n",
        "plt.title('Percentage of raw synthetic records that had an apparent match with groundtruth dataset')\n",
        "percents.hist()\n",
        "plt.xlim(0,100)\n",
        "plt.savefig('privacy_metric.png')\n",
        "plt.show()\n",
        "print(\"Privacy Metrics 2 Test n.2 - Elapsed Time = \", timeit.default_timer() - start_test_time)"
      ],
      "metadata": {
        "colab": {
          "base_uri": "https://localhost:8080/",
          "height": 626
        },
        "id": "h5Gl1PbUKs2A",
        "outputId": "a4acfeb7-dbe7-49cc-f5b1-df5e1b0b8881"
      },
      "execution_count": 86,
      "outputs": [
        {
          "output_type": "display_data",
          "data": {
            "text/plain": [
              "<Figure size 720x720 with 1 Axes>"
            ],
            "image/png": "[encoded data removed]"
          },
          "metadata": {
            "needs_background": "light"
          }
        },
        {
          "output_type": "stream",
          "name": "stdout",
          "text": [
            "Privacy Metrics 2 Test n.2 - Elapsed Time =  0.2607539310001812\n"
          ]
        }
      ]
    },
    {
      "cell_type": "markdown",
      "source": [
        "#**Model Visual Evaluation**"
      ],
      "metadata": {
        "id": "WuWYB-vvIwIG"
      }
    },
    {
      "cell_type": "code",
      "source": [
        "if OS!=\"Linux\" or colab_active is True and dataset is 'telephony':\n",
        "  outputData=pd.read_excel(\"/content/telephony_synth_data_generated_by_method_copulagantotal_time_3309.26_score_0.429.xlsx\")\n",
        "\n",
        "  pd.DataFrame(data.CHIAVE_NUM_CHIAMANTE.value_counts()).hist(bins=20)\n",
        "  plt.show()\n",
        "\n",
        "  pd.DataFrame(outputData.CHIAVE_NUM_CHIAMANTE.value_counts()).hist(bins=20)\n",
        "  plt.show()\n",
        "\n",
        "  A=set(data.CHIAVE_NUM_CHIAMANTE.astype(\"str\"))\n",
        "  B=set(outputData.CHIAVE_NUM_CHIAMANTE.astype(\"str\"))\n",
        "  print(B.difference(A))\n",
        "\n",
        "  print(data.info())\n",
        "\n",
        "\n",
        "  pd.DataFrame(data.COD_CELLA_CHIAMATA.value_counts()).hist(bins=20)\n",
        "  plt.show()\n",
        "\n",
        "  pd.DataFrame(outputData.COD_CELLA_CHIAMATA.value_counts()).hist(bins=20)\n",
        "  plt.show()\n",
        "\n",
        "  outputData.plot.scatter(\"COD_CELLA_CHIAMATA\",\"DATA_CHIAMATA\")\n",
        "  plt.show()\n",
        "  data.plot.scatter(\"COD_CELLA_CHIAMATA\",\"DATA_CHIAMATA\")\n",
        "  plt.show()\n",
        "\n",
        "  data.ORA_MIN_CHIAMATA.hist()\n",
        "  plt.show()\n",
        "  outputData.info()\n",
        "  outputData\n",
        "\n",
        "  pd.to_datetime(outputData.DATA_CHIAMATA, format='%Y%m%d').hist()\n",
        "\n",
        "  pd.to_datetime(data.DATA_CHIAMATA, format='%Y%m%d').hist()\n",
        "\n",
        "  data.ORA_MIN_CHIAMATA.hist()\n",
        "  plt.show()\n",
        "  outputData.info()\n",
        "  outputData\n",
        "\n",
        "  data.ORA_MIN_CHIAMATA.hist()\n",
        "\n",
        "  inputData=sas[1]\n",
        "  pd.DataFrame(inputData).COD_CELLA_CHIAMATA.plot()\n",
        "\n",
        "  data.COD_CELLA_CHIAMATA.value_counts()"
      ],
      "metadata": {
        "id": "rw6-W5NVIwxU"
      },
      "execution_count": null,
      "outputs": []
    },
    {
      "cell_type": "markdown",
      "source": [
        "#**Aggregated Score Metrics**"
      ],
      "metadata": {
        "id": "6MKpWU-qI6Jc"
      }
    },
    {
      "cell_type": "code",
      "source": [
        "start_test_time = timeit.default_timer()\n",
        "tmp_orig_data = orig_data.copy()\n",
        "tmp_synth_data = synth_data.copy()\n",
        "tmp_orig_data.CELL_CALL_CODE = pd.to_numeric(tmp_orig_data.CELL_CALL_CODE)\n",
        "tmp_orig_data.NUM_CALLER_KEY = pd.to_numeric(tmp_orig_data.NUM_CALLER_KEY)\n",
        "tmp_synth_data.CELL_CALL_CODE = pd.to_numeric(tmp_synth_data.CELL_CALL_CODE)\n",
        "tmp_synth_data.NUM_CALLER_KEY = pd.to_numeric(tmp_synth_data.NUM_CALLER_KEY)\n",
        "results = evaluate(tmp_synth_data, orig_data)\n",
        "results = NumericalLR.compute(tmp_orig_data.fillna(0), tmp_synth_data.fillna(0), key_fields=['NUM_CALLER_KEY'], sensitive_fields=['CELL_CALL_CODE'])\n",
        "print(\"Aggregated Metrics Results: \", results)\n",
        "print(\"Aggregated Metrics - Elapsed Time = \", timeit.default_timer() - start_test_time)"
      ],
      "metadata": {
        "id": "DqCOoWQGI82R"
      },
      "execution_count": null,
      "outputs": []
    }
  ]
}