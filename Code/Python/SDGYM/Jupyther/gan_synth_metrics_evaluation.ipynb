{
  "nbformat": 4,
  "nbformat_minor": 0,
  "metadata": {
    "colab": {
      "name": "gan_synth_metrics_evaluation.ipynb",
      "provenance": [],
      "collapsed_sections": []
    },
    "kernelspec": {
      "name": "python3",
      "display_name": "Python 3"
    },
    "language_info": {
      "name": "python"
    }
  },
  "cells": [
    {
      "cell_type": "code",
      "source": [
        "import os\n",
        "import sys\n",
        "import platform\n",
        "import timeit\n",
        "import numpy as np\n",
        "import pandas as pd\n",
        "OS = platform.system()   # Operating System "
      ],
      "metadata": {
        "id": "Mfcwmsq1rljD"
      },
      "execution_count": 77,
      "outputs": []
    },
    {
      "cell_type": "markdown",
      "source": [
        "#**Data Download**"
      ],
      "metadata": {
        "id": "ZceC-F3iqcE4"
      }
    },
    {
      "cell_type": "code",
      "execution_count": null,
      "metadata": {
        "colab": {
          "base_uri": "https://localhost:8080/"
        },
        "id": "WdRYfguEqSqt",
        "outputId": "0b069bf5-4ca4-40eb-84ea-cac02ca72aaa"
      },
      "outputs": [
        {
          "output_type": "execute_result",
          "data": {
            "text/plain": [
              "0"
            ]
          },
          "metadata": {},
          "execution_count": 2
        }
      ],
      "source": [
        "os.system('git clone https://github.com/istat-methodology/Synthetic_Data.git')"
      ]
    },
    {
      "cell_type": "code",
      "source": [
        "os.system('pip install sdgym')\n",
        "os.system('pip install matplotlib==3.1.3')"
      ],
      "metadata": {
        "colab": {
          "base_uri": "https://localhost:8080/"
        },
        "id": "U6n2e-Cds6HV",
        "outputId": "2f877cc8-825f-4d02-8134-cc99b5105b02"
      },
      "execution_count": null,
      "outputs": [
        {
          "output_type": "execute_result",
          "data": {
            "text/plain": [
              "0"
            ]
          },
          "metadata": {},
          "execution_count": 3
        }
      ]
    },
    {
      "cell_type": "code",
      "source": [
        "from sdv.evaluation import evaluate\n",
        "from sdv.metrics.tabular import CSTest, KSTest                                      # Statistical Metrics\n",
        "from sdv.metrics.tabular import BNLikelihood, BNLogLikelihood, GMLogLikelihood      # Likelihood Metrics¶\n",
        "from sdv.metrics.tabular import LogisticDetection, SVCDetection                     # Detection Metrics\n",
        "from sdv.metrics.tabular import MulticlassDecisionTreeClassifier                    # Machine Learning Efficacy Metrics¶\n",
        "from sdv.metrics.tabular import NumericalLR "
      ],
      "metadata": {
        "id": "lQ1QVlP4tAn2"
      },
      "execution_count": 78,
      "outputs": []
    },
    {
      "cell_type": "code",
      "source": [
        "pd.set_option('display.max_columns', 500) \n",
        "pd.set_option('display.max_rows', 500) "
      ],
      "metadata": {
        "id": "snRKltS4tIee"
      },
      "execution_count": 79,
      "outputs": []
    },
    {
      "cell_type": "code",
      "source": [
        "orig_data_path = './Synthetic_Data/Datasets/syntetic_telephony.xlsx'\n",
        "dest_data_path = './Synthetic_Data/Output/Telephony Synt Results/telephony_synth_data_generated_by_method_copulagantotal_time_2863.58_score_0.45.xlsx'"
      ],
      "metadata": {
        "id": "vui5vJQCtmAX"
      },
      "execution_count": 80,
      "outputs": []
    },
    {
      "cell_type": "code",
      "source": [
        "def explore_data(data): \n",
        "  print(\"\\nHead of Data: \\n\", data.head())\n",
        "  print(\"\\nTail of Data: \\n\", data.tail())\n",
        "  print(\"\\nShape of Data: \", data.shape)\n",
        "  print(\"\\nInformation about Data: \\n\")\n",
        "  try: \n",
        "    data.info()\n",
        "  except: \n",
        "    pass\n",
        "  print(\"\\nTypes of Data attributes: \\n\")\n",
        "  try: \n",
        "    data.dtypes\n",
        "  except: \n",
        "    pass\n",
        "  print(\"\\nSummary of all numerical fields in the dataset: \\n\")\n",
        "  try: \n",
        "    data.describe(include = [np.number])\n",
        "  except: \n",
        "    pass\n",
        "  print(\"\\nSummary of all categorical fields in the dataset: \\n\")\n",
        "  try: \n",
        "    data.describe(include = ['O'])\n",
        "  except: \n",
        "    pass\n",
        "  print(\"\\nLoop Through Each Column and Check for nulls: \\n\")\n",
        "  try: \n",
        "    for i in range(len(data.columns)):\n",
        "        print(data.columns[i] + \": \" + str(data[data.columns[i]].isna().sum()))\n",
        "  except: \n",
        "    pass\n",
        "\n",
        "def data_download(file_to_download, gdrive_code, OS, uncompress = True):\n",
        "  if not os.path.exists(file_to_download):\n",
        "    os.system('gdown --id \"'+gdrive_code+'\" --output '+file_to_download)\n",
        "    if OS == \"Linux\" and uncompress:\n",
        "        os.system('unzip -o -n \"./'+file_to_download+'\" -d \"./\"')\n",
        "    return True\n",
        "  else: \n",
        "    return None"
      ],
      "metadata": {
        "id": "PtQkoJKZtW25"
      },
      "execution_count": 81,
      "outputs": []
    },
    {
      "cell_type": "code",
      "source": [
        "xl_file = pd.ExcelFile(orig_data_path)\n",
        "dfs = {sheet_name: xl_file.parse(sheet_name) for sheet_name in xl_file.sheet_names}\n",
        "orig_data = dfs['Sheet1']"
      ],
      "metadata": {
        "id": "Q0-vuH8utf7g"
      },
      "execution_count": 113,
      "outputs": []
    },
    {
      "cell_type": "code",
      "source": [
        "# Renaming Columns into English\n",
        "orig_data.rename(columns = {'COD_CELLA_CHIAMATA':'CELL_CALL_CODE', \n",
        "                      'DATA_CHIAMATA':'CALL_DATE',\n",
        "                      'CHIAVE_NUM_CHIAMANTE':'NUM_CALLER_KEY',\n",
        "                      'ORA_MIN_CHIAMATA':'TIME_MIN_CALL'}, inplace = True)\n",
        "\n",
        "# Casting Datatypes  \n",
        "orig_data.CELL_CALL_CODE=orig_data.CELL_CALL_CODE.astype(\"int64\").astype(\"str\")\n",
        "\n",
        "orig_data.CALL_DATE=pd.to_datetime(orig_data.CALL_DATE, format='%Y%m%d')\n",
        "orig_data.NUM_CALLER_KEY=orig_data.NUM_CALLER_KEY.astype(\"int64\").astype(\"str\")\n",
        "\n",
        "orig_data.TIME_MIN_CALL=orig_data.TIME_MIN_CALL.astype(\"str\").str.pad(width=6, side='left', fillchar='0')\n",
        "orig_data.TIME_MIN_CALL =pd.to_datetime(orig_data.TIME_MIN_CALL , format='%H%M%S').dt.time.astype(\"str\")\n",
        "orig_data.TIME_MIN_CALL =pd.to_datetime(orig_data.TIME_MIN_CALL)\n",
        "\n",
        "explore_data(orig_data)"
      ],
      "metadata": {
        "colab": {
          "base_uri": "https://localhost:8080/"
        },
        "id": "WgOIZ-yyuxL_",
        "outputId": "6f7fddd7-ec12-4276-f78c-828ac06f63b3"
      },
      "execution_count": 114,
      "outputs": [
        {
          "output_type": "stream",
          "name": "stdout",
          "text": [
            "\n",
            "Head of Data: \n",
            "       NUM_CALLER_KEY  CALL_DATE       TIME_MIN_CALL CELL_CALL_CODE\n",
            "0  14615194667453690 2017-01-22 2022-05-19 15:49:53              0\n",
            "1  14615194667453690 2017-01-29 2022-05-19 12:40:34              1\n",
            "2  14615194667453690 2017-01-29 2022-05-19 12:41:19              1\n",
            "3  14615194667453690 2017-01-22 2022-05-19 15:51:02              1\n",
            "4  14615194667453690 2017-01-22 2022-05-19 15:51:38              1\n",
            "\n",
            "Tail of Data: \n",
            "          NUM_CALLER_KEY  CALL_DATE       TIME_MIN_CALL CELL_CALL_CODE\n",
            "9995  14615368752090240 2017-01-12 2022-05-19 12:09:10            272\n",
            "9996  14615368752090240 2017-02-12 2022-05-19 18:26:01            272\n",
            "9997   1508338528891430 2017-01-04 2022-05-19 09:26:27            272\n",
            "9998  14615368752090240 2017-02-10 2022-05-19 15:11:58            272\n",
            "9999  14615337422429130 2017-01-30 2022-05-19 09:09:03            272\n",
            "\n",
            "Shape of Data:  (10000, 4)\n",
            "\n",
            "Information about Data: \n",
            "\n",
            "<class 'pandas.core.frame.DataFrame'>\n",
            "RangeIndex: 10000 entries, 0 to 9999\n",
            "Data columns (total 4 columns):\n",
            " #   Column          Non-Null Count  Dtype         \n",
            "---  ------          --------------  -----         \n",
            " 0   NUM_CALLER_KEY  10000 non-null  object        \n",
            " 1   CALL_DATE       10000 non-null  datetime64[ns]\n",
            " 2   TIME_MIN_CALL   10000 non-null  datetime64[ns]\n",
            " 3   CELL_CALL_CODE  10000 non-null  object        \n",
            "dtypes: datetime64[ns](2), object(2)\n",
            "memory usage: 312.6+ KB\n",
            "\n",
            "Types of Data attributes: \n",
            "\n",
            "\n",
            "Summary of all numerical fields in the dataset: \n",
            "\n",
            "\n",
            "Summary of all categorical fields in the dataset: \n",
            "\n",
            "\n",
            "Loop Through Each Column and Check for nulls: \n",
            "\n",
            "NUM_CALLER_KEY: 0\n",
            "CALL_DATE: 0\n",
            "TIME_MIN_CALL: 0\n",
            "CELL_CALL_CODE: 0\n"
          ]
        }
      ]
    },
    {
      "cell_type": "code",
      "source": [
        "xl_file = pd.ExcelFile(dest_data_path)\n",
        "dfs = {sheet_name: xl_file.parse(sheet_name) for sheet_name in xl_file.sheet_names}\n",
        "dest_data = dfs['Sheet1']"
      ],
      "metadata": {
        "id": "k3QlS2h1ubkq"
      },
      "execution_count": 115,
      "outputs": []
    },
    {
      "cell_type": "code",
      "source": [
        "# Renaming Columns into English\n",
        "dest_data.rename(columns = {'COD_CELLA_CHIAMATA':'CELL_CALL_CODE', \n",
        "                      'DATA_CHIAMATA':'CALL_DATE',\n",
        "                      'CHIAVE_NUM_CHIAMANTE':'NUM_CALLER_KEY',\n",
        "                      'ORA_MIN_CHIAMATA':'TIME_MIN_CALL'}, inplace = True)\n",
        "\n",
        "# Removing F character from Dataframe\n",
        "dest_data[\"CELL_CALL_CODE\"] = dest_data[\"CELL_CALL_CODE\"].str.replace(\"F\",\"\")\n",
        "dest_data[\"NUM_CALLER_KEY\"] = dest_data[\"NUM_CALLER_KEY\"].str.replace(\"F\",\"\")\n",
        "\n",
        "# Casting Datatypes  \n",
        "dest_data.CELL_CALL_CODE=dest_data.CELL_CALL_CODE.astype(\"int64\").astype(\"str\")\n",
        "\n",
        "dest_data.CALL_DATE=pd.to_datetime(dest_data.CALL_DATE, format='%Y%m%d')\n",
        "dest_data.NUM_CALLER_KEY=dest_data.NUM_CALLER_KEY.astype(\"int64\").astype(\"str\")\n",
        "\n",
        "dest_data.TIME_MIN_CALL=dest_data.TIME_MIN_CALL.astype(\"str\").str.pad(width=6, side='left', fillchar='0')\n",
        "dest_data.TIME_MIN_CALL =pd.to_datetime(dest_data.TIME_MIN_CALL).dt.time.astype(\"str\")\n",
        "dest_data.TIME_MIN_CALL =pd.to_datetime(dest_data.TIME_MIN_CALL)\n",
        "\n",
        "explore_data(dest_data)"
      ],
      "metadata": {
        "colab": {
          "base_uri": "https://localhost:8080/"
        },
        "id": "yxxwSaeBuyvM",
        "outputId": "fea00281-e2b3-4281-be8e-98866428c98c"
      },
      "execution_count": 116,
      "outputs": [
        {
          "output_type": "stream",
          "name": "stdout",
          "text": [
            "\n",
            "Head of Data: \n",
            "    Unnamed: 0     NUM_CALLER_KEY  CALL_DATE       TIME_MIN_CALL CELL_CALL_CODE\n",
            "0           0  14615366112382500 2017-01-30 2022-05-19 15:54:19            258\n",
            "1           1  14615362915496210 2017-01-14 2022-05-19 11:54:30            781\n",
            "2           2  14615430050428180 2017-01-20 2022-05-19 21:25:36             18\n",
            "3           3  14615339806425970 2017-01-09 2022-05-19 17:36:41            311\n",
            "4           4  14615390824437770 2017-01-06 2022-05-19 13:20:43            565\n",
            "\n",
            "Tail of Data: \n",
            "       Unnamed: 0     NUM_CALLER_KEY  CALL_DATE       TIME_MIN_CALL  \\\n",
            "9995        9995  14615362915496210 2017-01-04 2022-05-19 12:00:18   \n",
            "9996        9996  14615224339316630 2017-01-05 2022-05-19 08:12:24   \n",
            "9997        9997  14615228723636630 2017-01-02 2022-05-19 16:51:31   \n",
            "9998        9998  14615362915496210 2017-01-25 2022-05-19 21:06:11   \n",
            "9999        9999  14615420085225040 2017-02-06 2022-05-19 15:19:53   \n",
            "\n",
            "     CELL_CALL_CODE  \n",
            "9995            107  \n",
            "9996            231  \n",
            "9997              9  \n",
            "9998            644  \n",
            "9999            779  \n",
            "\n",
            "Shape of Data:  (10000, 5)\n",
            "\n",
            "Information about Data: \n",
            "\n",
            "<class 'pandas.core.frame.DataFrame'>\n",
            "RangeIndex: 10000 entries, 0 to 9999\n",
            "Data columns (total 5 columns):\n",
            " #   Column          Non-Null Count  Dtype         \n",
            "---  ------          --------------  -----         \n",
            " 0   Unnamed: 0      10000 non-null  int64         \n",
            " 1   NUM_CALLER_KEY  10000 non-null  object        \n",
            " 2   CALL_DATE       10000 non-null  datetime64[ns]\n",
            " 3   TIME_MIN_CALL   10000 non-null  datetime64[ns]\n",
            " 4   CELL_CALL_CODE  10000 non-null  object        \n",
            "dtypes: datetime64[ns](2), int64(1), object(2)\n",
            "memory usage: 390.8+ KB\n",
            "\n",
            "Types of Data attributes: \n",
            "\n",
            "\n",
            "Summary of all numerical fields in the dataset: \n",
            "\n",
            "\n",
            "Summary of all categorical fields in the dataset: \n",
            "\n",
            "\n",
            "Loop Through Each Column and Check for nulls: \n",
            "\n",
            "Unnamed: 0: 0\n",
            "NUM_CALLER_KEY: 0\n",
            "CALL_DATE: 0\n",
            "TIME_MIN_CALL: 0\n",
            "CELL_CALL_CODE: 0\n"
          ]
        }
      ]
    },
    {
      "cell_type": "code",
      "source": [
        "dest_data.TIME_MIN_CALL =pd.to_datetime(dest_data.TIME_MIN_CALL)"
      ],
      "metadata": {
        "id": "9l8qlvTVDb2f"
      },
      "execution_count": null,
      "outputs": []
    },
    {
      "cell_type": "code",
      "source": [
        "explore_data(dest_data)"
      ],
      "metadata": {
        "colab": {
          "base_uri": "https://localhost:8080/"
        },
        "id": "9a0Bg2esDm_W",
        "outputId": "3fab964c-fa19-4524-d315-649bddc519c5"
      },
      "execution_count": null,
      "outputs": [
        {
          "output_type": "stream",
          "name": "stdout",
          "text": [
            "\n",
            "Head of Data: \n",
            "    Unnamed: 0     NUM_CALLER_KEY  CALL_DATE       TIME_MIN_CALL CELL_CALL_CODE\n",
            "0           0  14615366112382500 2017-01-30 2022-05-19 15:54:19            258\n",
            "1           1  14615362915496210 2017-01-14 2022-05-19 11:54:30            781\n",
            "2           2  14615430050428180 2017-01-20 2022-05-19 21:25:36             18\n",
            "3           3  14615339806425970 2017-01-09 2022-05-19 17:36:41            311\n",
            "4           4  14615390824437770 2017-01-06 2022-05-19 13:20:43            565\n",
            "\n",
            "Tail of Data: \n",
            "       Unnamed: 0     NUM_CALLER_KEY  CALL_DATE       TIME_MIN_CALL  \\\n",
            "9995        9995  14615362915496210 2017-01-04 2022-05-19 12:00:18   \n",
            "9996        9996  14615224339316630 2017-01-05 2022-05-19 08:12:24   \n",
            "9997        9997  14615228723636630 2017-01-02 2022-05-19 16:51:31   \n",
            "9998        9998  14615362915496210 2017-01-25 2022-05-19 21:06:11   \n",
            "9999        9999  14615420085225040 2017-02-06 2022-05-19 15:19:53   \n",
            "\n",
            "     CELL_CALL_CODE  \n",
            "9995            107  \n",
            "9996            231  \n",
            "9997              9  \n",
            "9998            644  \n",
            "9999            779  \n",
            "\n",
            "Shape of Data:  (10000, 5)\n",
            "\n",
            "Information about Data: \n",
            "\n",
            "<class 'pandas.core.frame.DataFrame'>\n",
            "RangeIndex: 10000 entries, 0 to 9999\n",
            "Data columns (total 5 columns):\n",
            " #   Column          Non-Null Count  Dtype         \n",
            "---  ------          --------------  -----         \n",
            " 0   Unnamed: 0      10000 non-null  int64         \n",
            " 1   NUM_CALLER_KEY  10000 non-null  object        \n",
            " 2   CALL_DATE       10000 non-null  datetime64[ns]\n",
            " 3   TIME_MIN_CALL   10000 non-null  datetime64[ns]\n",
            " 4   CELL_CALL_CODE  10000 non-null  object        \n",
            "dtypes: datetime64[ns](2), int64(1), object(2)\n",
            "memory usage: 390.8+ KB\n",
            "\n",
            "Types of Data attributes: \n",
            "\n",
            "\n",
            "Summary of all numerical fields in the dataset: \n",
            "\n",
            "\n",
            "Summary of all categorical fields in the dataset: \n",
            "\n",
            "\n",
            "Loop Through Each Column and Check for nulls: \n",
            "\n",
            "Unnamed: 0: 0\n",
            "NUM_CALLER_KEY: 0\n",
            "CALL_DATE: 0\n",
            "TIME_MIN_CALL: 0\n",
            "CELL_CALL_CODE: 0\n"
          ]
        }
      ]
    }
  ]
}