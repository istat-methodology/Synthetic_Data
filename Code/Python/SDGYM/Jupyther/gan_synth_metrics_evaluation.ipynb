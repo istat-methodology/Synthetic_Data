{
  "nbformat": 4,
  "nbformat_minor": 0,
  "metadata": {
    "colab": {
      "name": "gan_synth_metrics_evaluation.ipynb",
      "provenance": [],
      "collapsed_sections": []
    },
    "kernelspec": {
      "name": "python3",
      "display_name": "Python 3"
    },
    "language_info": {
      "name": "python"
    },
    "accelerator": "GPU"
  },
  "cells": [
    {
      "cell_type": "markdown",
      "source": [
        "# **SDGym - Synthetic Data Gym Metrics Evaluation**"
      ],
      "metadata": {
        "id": "-iYm9mPq3Wft"
      }
    },
    {
      "cell_type": "code",
      "source": [
        "import os\n",
        "import sys\n",
        "import platform\n",
        "import timeit\n",
        "import numpy as np\n",
        "import pandas as pd\n",
        "OS = platform.system()   # Operating System "
      ],
      "metadata": {
        "id": "Mfcwmsq1rljD"
      },
      "execution_count": 1,
      "outputs": []
    },
    {
      "cell_type": "markdown",
      "source": [
        "#**Data Download**"
      ],
      "metadata": {
        "id": "ZceC-F3iqcE4"
      }
    },
    {
      "cell_type": "code",
      "execution_count": 2,
      "metadata": {
        "colab": {
          "base_uri": "https://localhost:8080/"
        },
        "id": "WdRYfguEqSqt",
        "outputId": "cb4a46b4-3ff1-45d7-f1c8-0b0b4462b98a"
      },
      "outputs": [
        {
          "output_type": "execute_result",
          "data": {
            "text/plain": [
              "0"
            ]
          },
          "metadata": {},
          "execution_count": 2
        }
      ],
      "source": [
        "os.system('git clone https://github.com/istat-methodology/Synthetic_Data.git')"
      ]
    },
    {
      "cell_type": "code",
      "source": [
        "os.system('pip install sdgym')\n",
        "os.system('pip install matplotlib==3.1.3')"
      ],
      "metadata": {
        "colab": {
          "base_uri": "https://localhost:8080/"
        },
        "id": "U6n2e-Cds6HV",
        "outputId": "1d388ccd-8a7c-4f9c-f024-99200fd5d910"
      },
      "execution_count": 3,
      "outputs": [
        {
          "output_type": "execute_result",
          "data": {
            "text/plain": [
              "0"
            ]
          },
          "metadata": {},
          "execution_count": 3
        }
      ]
    },
    {
      "cell_type": "code",
      "source": [
        "from sdv.evaluation import evaluate\n",
        "from sdv.metrics.tabular import CSTest, KSTest                                      # Statistical Metrics\n",
        "from sdv.metrics.tabular import BNLikelihood, BNLogLikelihood, GMLogLikelihood      # Likelihood Metrics¶\n",
        "from sdv.metrics.tabular import LogisticDetection, SVCDetection                     # Detection Metrics\n",
        "from sdv.metrics.tabular import MulticlassDecisionTreeClassifier                    # Machine Learning Efficacy Metrics¶\n",
        "from sdv.metrics.tabular import NumericalLR "
      ],
      "metadata": {
        "id": "lQ1QVlP4tAn2"
      },
      "execution_count": 4,
      "outputs": []
    },
    {
      "cell_type": "code",
      "source": [
        "pd.set_option('display.max_columns', 500) \n",
        "pd.set_option('display.max_rows', 500) "
      ],
      "metadata": {
        "id": "snRKltS4tIee"
      },
      "execution_count": 5,
      "outputs": []
    },
    {
      "cell_type": "code",
      "source": [
        "orig_data_path = './Synthetic_Data/Datasets/syntetic_telephony.xlsx'\n",
        "synth_data_path = './Synthetic_Data/Output/Telephony Synt Results/telephony_synth_data_generated_by_method_copulagantotal_time_2863.58_score_0.45.xlsx'"
      ],
      "metadata": {
        "id": "vui5vJQCtmAX"
      },
      "execution_count": 6,
      "outputs": []
    },
    {
      "cell_type": "code",
      "source": [
        "def explore_data(data): \n",
        "  print(\"\\nHead of Data: \\n\", data.head())\n",
        "  print(\"\\nTail of Data: \\n\", data.tail())\n",
        "  print(\"\\nShape of Data: \", data.shape)\n",
        "  print(\"\\nInformation about Data: \\n\")\n",
        "  try: \n",
        "    data.info()\n",
        "  except: \n",
        "    pass\n",
        "  print(\"\\nTypes of Data attributes: \\n\")\n",
        "  try: \n",
        "    data.dtypes\n",
        "  except: \n",
        "    pass\n",
        "  print(\"\\nSummary of all numerical fields in the dataset: \\n\")\n",
        "  try: \n",
        "    data.describe(include = [np.number])\n",
        "  except: \n",
        "    pass\n",
        "  print(\"\\nSummary of all categorical fields in the dataset: \\n\")\n",
        "  try: \n",
        "    data.describe(include = ['O'])\n",
        "  except: \n",
        "    pass\n",
        "  print(\"\\nLoop Through Each Column and Check for nulls: \\n\")\n",
        "  try: \n",
        "    for i in range(len(data.columns)):\n",
        "        print(data.columns[i] + \": \" + str(data[data.columns[i]].isna().sum()))\n",
        "  except: \n",
        "    pass\n",
        "\n",
        "def data_download(file_to_download, gdrive_code, OS, uncompress = True):\n",
        "  if not os.path.exists(file_to_download):\n",
        "    os.system('gdown --id \"'+gdrive_code+'\" --output '+file_to_download)\n",
        "    if OS == \"Linux\" and uncompress:\n",
        "        os.system('unzip -o -n \"./'+file_to_download+'\" -d \"./\"')\n",
        "    return True\n",
        "  else: \n",
        "    return None"
      ],
      "metadata": {
        "id": "PtQkoJKZtW25"
      },
      "execution_count": 7,
      "outputs": []
    },
    {
      "cell_type": "code",
      "source": [
        "xl_file = pd.ExcelFile(orig_data_path)\n",
        "dfs = {sheet_name: xl_file.parse(sheet_name) for sheet_name in xl_file.sheet_names}\n",
        "orig_data = dfs['Sheet1']"
      ],
      "metadata": {
        "id": "Q0-vuH8utf7g"
      },
      "execution_count": 8,
      "outputs": []
    },
    {
      "cell_type": "code",
      "source": [
        "# Renaming Columns into English\n",
        "orig_data.rename(columns = {'COD_CELLA_CHIAMATA':'CELL_CALL_CODE', \n",
        "                      'DATA_CHIAMATA':'CALL_DATE',\n",
        "                      'CHIAVE_NUM_CHIAMANTE':'NUM_CALLER_KEY',\n",
        "                      'ORA_MIN_CHIAMATA':'TIME_MIN_CALL'}, inplace = True)\n",
        "\n",
        "# Casting Datatypes  \n",
        "orig_data.CELL_CALL_CODE=orig_data.CELL_CALL_CODE.astype(\"int64\").astype(\"str\")\n",
        "\n",
        "orig_data.CALL_DATE=pd.to_datetime(orig_data.CALL_DATE, format='%Y%m%d')\n",
        "orig_data.NUM_CALLER_KEY=orig_data.NUM_CALLER_KEY.astype(\"int64\").astype(\"str\")\n",
        "\n",
        "orig_data.TIME_MIN_CALL=orig_data.TIME_MIN_CALL.astype(\"str\").str.pad(width=6, side='left', fillchar='0')\n",
        "orig_data.TIME_MIN_CALL =pd.to_datetime(orig_data.TIME_MIN_CALL , format='%H%M%S').dt.time.astype(\"str\")\n",
        "orig_data.TIME_MIN_CALL =pd.to_datetime(orig_data.TIME_MIN_CALL)\n",
        "\n",
        "explore_data(orig_data)"
      ],
      "metadata": {
        "colab": {
          "base_uri": "https://localhost:8080/"
        },
        "id": "WgOIZ-yyuxL_",
        "outputId": "32eb63c1-4be6-4a9b-d086-a45459728d33"
      },
      "execution_count": 9,
      "outputs": [
        {
          "output_type": "stream",
          "name": "stdout",
          "text": [
            "\n",
            "Head of Data: \n",
            "       NUM_CALLER_KEY  CALL_DATE       TIME_MIN_CALL CELL_CALL_CODE\n",
            "0  14615194667453690 2017-01-22 2022-05-20 15:49:53              0\n",
            "1  14615194667453690 2017-01-29 2022-05-20 12:40:34              1\n",
            "2  14615194667453690 2017-01-29 2022-05-20 12:41:19              1\n",
            "3  14615194667453690 2017-01-22 2022-05-20 15:51:02              1\n",
            "4  14615194667453690 2017-01-22 2022-05-20 15:51:38              1\n",
            "\n",
            "Tail of Data: \n",
            "          NUM_CALLER_KEY  CALL_DATE       TIME_MIN_CALL CELL_CALL_CODE\n",
            "9995  14615368752090240 2017-01-12 2022-05-20 12:09:10            272\n",
            "9996  14615368752090240 2017-02-12 2022-05-20 18:26:01            272\n",
            "9997   1508338528891430 2017-01-04 2022-05-20 09:26:27            272\n",
            "9998  14615368752090240 2017-02-10 2022-05-20 15:11:58            272\n",
            "9999  14615337422429130 2017-01-30 2022-05-20 09:09:03            272\n",
            "\n",
            "Shape of Data:  (10000, 4)\n",
            "\n",
            "Information about Data: \n",
            "\n",
            "<class 'pandas.core.frame.DataFrame'>\n",
            "RangeIndex: 10000 entries, 0 to 9999\n",
            "Data columns (total 4 columns):\n",
            " #   Column          Non-Null Count  Dtype         \n",
            "---  ------          --------------  -----         \n",
            " 0   NUM_CALLER_KEY  10000 non-null  object        \n",
            " 1   CALL_DATE       10000 non-null  datetime64[ns]\n",
            " 2   TIME_MIN_CALL   10000 non-null  datetime64[ns]\n",
            " 3   CELL_CALL_CODE  10000 non-null  object        \n",
            "dtypes: datetime64[ns](2), object(2)\n",
            "memory usage: 312.6+ KB\n",
            "\n",
            "Types of Data attributes: \n",
            "\n",
            "\n",
            "Summary of all numerical fields in the dataset: \n",
            "\n",
            "\n",
            "Summary of all categorical fields in the dataset: \n",
            "\n",
            "\n",
            "Loop Through Each Column and Check for nulls: \n",
            "\n",
            "NUM_CALLER_KEY: 0\n",
            "CALL_DATE: 0\n",
            "TIME_MIN_CALL: 0\n",
            "CELL_CALL_CODE: 0\n"
          ]
        }
      ]
    },
    {
      "cell_type": "code",
      "source": [
        "orig_data.to_excel('./'+os.path.basename(orig_data_path).rsplit('.', 1)[0]+'_export.xlsx')\n",
        "orig_data.to_csv('./'+os.path.basename(orig_data_path).rsplit('.', 1)[0]+'_export.csv')"
      ],
      "metadata": {
        "id": "HgOR7EFHsd7p"
      },
      "execution_count": 19,
      "outputs": []
    },
    {
      "cell_type": "code",
      "source": [
        "xl_file = pd.ExcelFile(synth_data_path)\n",
        "dfs = {sheet_name: xl_file.parse(sheet_name) for sheet_name in xl_file.sheet_names}\n",
        "synth_data = dfs['Sheet1']"
      ],
      "metadata": {
        "id": "k3QlS2h1ubkq"
      },
      "execution_count": 20,
      "outputs": []
    },
    {
      "cell_type": "code",
      "source": [
        "# Renaming Columns into English\n",
        "synth_data.rename(columns = {'COD_CELLA_CHIAMATA':'CELL_CALL_CODE', \n",
        "                      'DATA_CHIAMATA':'CALL_DATE',\n",
        "                      'CHIAVE_NUM_CHIAMANTE':'NUM_CALLER_KEY',\n",
        "                      'ORA_MIN_CHIAMATA':'TIME_MIN_CALL'}, inplace = True)\n",
        "\n",
        "# Removing F character from Dataframe\n",
        "synth_data[\"CELL_CALL_CODE\"] = synth_data[\"CELL_CALL_CODE\"].str.replace(\"F\",\"\")\n",
        "synth_data[\"NUM_CALLER_KEY\"] = synth_data[\"NUM_CALLER_KEY\"].str.replace(\"F\",\"\")\n",
        "\n",
        "# Casting Datatypes  \n",
        "synth_data.CELL_CALL_CODE=synth_data.CELL_CALL_CODE.astype(\"int64\").astype(\"str\")\n",
        "\n",
        "synth_data.CALL_DATE=pd.to_datetime(synth_data.CALL_DATE, format='%Y%m%d')\n",
        "synth_data.NUM_CALLER_KEY=synth_data.NUM_CALLER_KEY.astype(\"int64\").astype(\"str\")\n",
        "\n",
        "synth_data.TIME_MIN_CALL=synth_data.TIME_MIN_CALL.astype(\"str\").str.pad(width=6, side='left', fillchar='0')\n",
        "synth_data.TIME_MIN_CALL =pd.to_datetime(synth_data.TIME_MIN_CALL).dt.time.astype(\"str\")\n",
        "synth_data.TIME_MIN_CALL =pd.to_datetime(synth_data.TIME_MIN_CALL)\n",
        "\n",
        "synth_data.drop(\"Unnamed: 0\", axis=1, inplace=True)\n",
        "\n",
        "explore_data(synth_data)"
      ],
      "metadata": {
        "colab": {
          "base_uri": "https://localhost:8080/"
        },
        "id": "yxxwSaeBuyvM",
        "outputId": "393d1eeb-8d26-420d-a38c-69778db15393"
      },
      "execution_count": 21,
      "outputs": [
        {
          "output_type": "stream",
          "name": "stdout",
          "text": [
            "\n",
            "Head of Data: \n",
            "       NUM_CALLER_KEY  CALL_DATE       TIME_MIN_CALL CELL_CALL_CODE\n",
            "0  14615366112382500 2017-01-30 2022-05-20 15:54:19            258\n",
            "1  14615362915496210 2017-01-14 2022-05-20 11:54:30            781\n",
            "2  14615430050428180 2017-01-20 2022-05-20 21:25:36             18\n",
            "3  14615339806425970 2017-01-09 2022-05-20 17:36:41            311\n",
            "4  14615390824437770 2017-01-06 2022-05-20 13:20:43            565\n",
            "\n",
            "Tail of Data: \n",
            "          NUM_CALLER_KEY  CALL_DATE       TIME_MIN_CALL CELL_CALL_CODE\n",
            "9995  14615362915496210 2017-01-04 2022-05-20 12:00:18            107\n",
            "9996  14615224339316630 2017-01-05 2022-05-20 08:12:24            231\n",
            "9997  14615228723636630 2017-01-02 2022-05-20 16:51:31              9\n",
            "9998  14615362915496210 2017-01-25 2022-05-20 21:06:11            644\n",
            "9999  14615420085225040 2017-02-06 2022-05-20 15:19:53            779\n",
            "\n",
            "Shape of Data:  (10000, 4)\n",
            "\n",
            "Information about Data: \n",
            "\n",
            "<class 'pandas.core.frame.DataFrame'>\n",
            "RangeIndex: 10000 entries, 0 to 9999\n",
            "Data columns (total 4 columns):\n",
            " #   Column          Non-Null Count  Dtype         \n",
            "---  ------          --------------  -----         \n",
            " 0   NUM_CALLER_KEY  10000 non-null  object        \n",
            " 1   CALL_DATE       10000 non-null  datetime64[ns]\n",
            " 2   TIME_MIN_CALL   10000 non-null  datetime64[ns]\n",
            " 3   CELL_CALL_CODE  10000 non-null  object        \n",
            "dtypes: datetime64[ns](2), object(2)\n",
            "memory usage: 312.6+ KB\n",
            "\n",
            "Types of Data attributes: \n",
            "\n",
            "\n",
            "Summary of all numerical fields in the dataset: \n",
            "\n",
            "\n",
            "Summary of all categorical fields in the dataset: \n",
            "\n",
            "\n",
            "Loop Through Each Column and Check for nulls: \n",
            "\n",
            "NUM_CALLER_KEY: 0\n",
            "CALL_DATE: 0\n",
            "TIME_MIN_CALL: 0\n",
            "CELL_CALL_CODE: 0\n"
          ]
        }
      ]
    },
    {
      "cell_type": "code",
      "source": [
        "synth_data.to_excel('./'+os.path.basename(synth_data_path).rsplit('.', 1)[0]+'_export.xlsx')\n",
        "synth_data.to_csv('./'+os.path.basename(synth_data_path).rsplit('.', 1)[0]+'_export.csv')"
      ],
      "metadata": {
        "id": "X2XQhCvUtAfD"
      },
      "execution_count": 22,
      "outputs": []
    },
    {
      "cell_type": "markdown",
      "source": [
        "#**Model Evaluation**"
      ],
      "metadata": {
        "id": "XjnO9kaftelf"
      }
    },
    {
      "cell_type": "markdown",
      "source": [
        "#**Statistical Metrics**"
      ],
      "metadata": {
        "id": "OCsxwSsWthhc"
      }
    },
    {
      "cell_type": "markdown",
      "source": [
        "The metrics of this family compare the tables by running different types of statistical tests on them. In the most simple scenario, these metrics compare individual columns from the real table with the corresponding column from the synthetic table, and at the end report the average outcome from the test."
      ],
      "metadata": {
        "id": "Zto-vAF1tip6"
      }
    },
    {
      "cell_type": "markdown",
      "source": [
        "**sdv.metrics.tabular.KSTest:** This metric uses the two-sample Kolmogorov–Smirnov test to compare the distributions of continuous columns using the empirical CDF. The output for each column is 1 minus the KS Test D statistic, which indicates the maximum distance between the expected CDF and the observed CDF values.\n",
        "\n",
        "**sdv.metrics.tabular.CSTest:** This metric uses the Chi-Squared test to compare the distributions of two discrete columns. The output for each column is the CSTest p-value, which indicates the probability of the two columns having been sampled from the same distribution.\n"
      ],
      "metadata": {
        "id": "CnzQZzRTtla7"
      }
    },
    {
      "cell_type": "code",
      "source": [
        "print(CSTest.compute(orig_data, synth_data))"
      ],
      "metadata": {
        "colab": {
          "base_uri": "https://localhost:8080/"
        },
        "id": "aOkd4PE5tfTh",
        "outputId": "67fdf026-70c5-4d70-b70b-f11dc8ceb62c"
      },
      "execution_count": 23,
      "outputs": [
        {
          "output_type": "stream",
          "name": "stdout",
          "text": [
            "1.0\n"
          ]
        }
      ]
    },
    {
      "cell_type": "markdown",
      "source": [
        "**Note:** Inverted Kolmogorov-Smirnov not working because there are not numerical fields within the dataset"
      ],
      "metadata": {
        "id": "cbxMDlCCioTo"
      }
    },
    {
      "cell_type": "code",
      "source": [
        "start_test_time = timeit.default_timer()\n",
        "results = evaluate(synth_data, orig_data, metrics=['CSTest', 'KSTest'], aggregate=False)\n",
        "print(\"Statistical Metrics Test - Elapsed Time = \", timeit.default_timer() - start_test_time)"
      ],
      "metadata": {
        "colab": {
          "base_uri": "https://localhost:8080/"
        },
        "id": "NKMkbYkChmD2",
        "outputId": "06562dab-b442-4adc-b940-5f9095708625"
      },
      "execution_count": 24,
      "outputs": [
        {
          "output_type": "stream",
          "name": "stdout",
          "text": [
            "Statistical Metrics Test - Elapsed Time =  0.03435272399997302\n"
          ]
        }
      ]
    },
    {
      "cell_type": "code",
      "source": [
        "print(results)"
      ],
      "metadata": {
        "colab": {
          "base_uri": "https://localhost:8080/"
        },
        "id": "VOp3gffWis46",
        "outputId": "b15075ec-c674-4eac-d910-a7228a57e129"
      },
      "execution_count": 25,
      "outputs": [
        {
          "output_type": "stream",
          "name": "stdout",
          "text": [
            "   metric                                     name  raw_score  \\\n",
            "0  CSTest                              Chi-Squared        1.0   \n",
            "1  KSTest  Inverted Kolmogorov-Smirnov D statistic        NaN   \n",
            "\n",
            "   normalized_score  min_value  max_value      goal  \\\n",
            "0               1.0        0.0        1.0  MAXIMIZE   \n",
            "1               NaN        0.0        1.0  MAXIMIZE   \n",
            "\n",
            "                                        error  \n",
            "0                                        None  \n",
            "1  Cannot find fields of types ('numerical',)  \n"
          ]
        }
      ]
    },
    {
      "cell_type": "code",
      "source": [
        "results"
      ],
      "metadata": {
        "colab": {
          "base_uri": "https://localhost:8080/",
          "height": 190
        },
        "id": "UfpiXgASjBZv",
        "outputId": "9e5bccd3-9dec-4047-80d6-869e602fa91a"
      },
      "execution_count": 26,
      "outputs": [
        {
          "output_type": "execute_result",
          "data": {
            "text/plain": [
              "   metric                                     name  raw_score  \\\n",
              "0  CSTest                              Chi-Squared        1.0   \n",
              "1  KSTest  Inverted Kolmogorov-Smirnov D statistic        NaN   \n",
              "\n",
              "   normalized_score  min_value  max_value      goal  \\\n",
              "0               1.0        0.0        1.0  MAXIMIZE   \n",
              "1               NaN        0.0        1.0  MAXIMIZE   \n",
              "\n",
              "                                        error  \n",
              "0                                        None  \n",
              "1  Cannot find fields of types ('numerical',)  "
            ],
            "text/html": [
              "\n",
              "  <div id=\"df-67c82652-30b9-42c8-b89a-5932d3d776a9\">\n",
              "    <div class=\"colab-df-container\">\n",
              "      <div>\n",
              "<style scoped>\n",
              "    .dataframe tbody tr th:only-of-type {\n",
              "        vertical-align: middle;\n",
              "    }\n",
              "\n",
              "    .dataframe tbody tr th {\n",
              "        vertical-align: top;\n",
              "    }\n",
              "\n",
              "    .dataframe thead th {\n",
              "        text-align: right;\n",
              "    }\n",
              "</style>\n",
              "<table border=\"1\" class=\"dataframe\">\n",
              "  <thead>\n",
              "    <tr style=\"text-align: right;\">\n",
              "      <th></th>\n",
              "      <th>metric</th>\n",
              "      <th>name</th>\n",
              "      <th>raw_score</th>\n",
              "      <th>normalized_score</th>\n",
              "      <th>min_value</th>\n",
              "      <th>max_value</th>\n",
              "      <th>goal</th>\n",
              "      <th>error</th>\n",
              "    </tr>\n",
              "  </thead>\n",
              "  <tbody>\n",
              "    <tr>\n",
              "      <th>0</th>\n",
              "      <td>CSTest</td>\n",
              "      <td>Chi-Squared</td>\n",
              "      <td>1.0</td>\n",
              "      <td>1.0</td>\n",
              "      <td>0.0</td>\n",
              "      <td>1.0</td>\n",
              "      <td>MAXIMIZE</td>\n",
              "      <td>None</td>\n",
              "    </tr>\n",
              "    <tr>\n",
              "      <th>1</th>\n",
              "      <td>KSTest</td>\n",
              "      <td>Inverted Kolmogorov-Smirnov D statistic</td>\n",
              "      <td>NaN</td>\n",
              "      <td>NaN</td>\n",
              "      <td>0.0</td>\n",
              "      <td>1.0</td>\n",
              "      <td>MAXIMIZE</td>\n",
              "      <td>Cannot find fields of types ('numerical',)</td>\n",
              "    </tr>\n",
              "  </tbody>\n",
              "</table>\n",
              "</div>\n",
              "      <button class=\"colab-df-convert\" onclick=\"convertToInteractive('df-67c82652-30b9-42c8-b89a-5932d3d776a9')\"\n",
              "              title=\"Convert this dataframe to an interactive table.\"\n",
              "              style=\"display:none;\">\n",
              "        \n",
              "  <svg xmlns=\"http://www.w3.org/2000/svg\" height=\"24px\"viewBox=\"0 0 24 24\"\n",
              "       width=\"24px\">\n",
              "    <path d=\"M0 0h24v24H0V0z\" fill=\"none\"/>\n",
              "    <path d=\"M18.56 5.44l.94 2.06.94-2.06 2.06-.94-2.06-.94-.94-2.06-.94 2.06-2.06.94zm-11 1L8.5 8.5l.94-2.06 2.06-.94-2.06-.94L8.5 2.5l-.94 2.06-2.06.94zm10 10l.94 2.06.94-2.06 2.06-.94-2.06-.94-.94-2.06-.94 2.06-2.06.94z\"/><path d=\"M17.41 7.96l-1.37-1.37c-.4-.4-.92-.59-1.43-.59-.52 0-1.04.2-1.43.59L10.3 9.45l-7.72 7.72c-.78.78-.78 2.05 0 2.83L4 21.41c.39.39.9.59 1.41.59.51 0 1.02-.2 1.41-.59l7.78-7.78 2.81-2.81c.8-.78.8-2.07 0-2.86zM5.41 20L4 18.59l7.72-7.72 1.47 1.35L5.41 20z\"/>\n",
              "  </svg>\n",
              "      </button>\n",
              "      \n",
              "  <style>\n",
              "    .colab-df-container {\n",
              "      display:flex;\n",
              "      flex-wrap:wrap;\n",
              "      gap: 12px;\n",
              "    }\n",
              "\n",
              "    .colab-df-convert {\n",
              "      background-color: #E8F0FE;\n",
              "      border: none;\n",
              "      border-radius: 50%;\n",
              "      cursor: pointer;\n",
              "      display: none;\n",
              "      fill: #1967D2;\n",
              "      height: 32px;\n",
              "      padding: 0 0 0 0;\n",
              "      width: 32px;\n",
              "    }\n",
              "\n",
              "    .colab-df-convert:hover {\n",
              "      background-color: #E2EBFA;\n",
              "      box-shadow: 0px 1px 2px rgba(60, 64, 67, 0.3), 0px 1px 3px 1px rgba(60, 64, 67, 0.15);\n",
              "      fill: #174EA6;\n",
              "    }\n",
              "\n",
              "    [theme=dark] .colab-df-convert {\n",
              "      background-color: #3B4455;\n",
              "      fill: #D2E3FC;\n",
              "    }\n",
              "\n",
              "    [theme=dark] .colab-df-convert:hover {\n",
              "      background-color: #434B5C;\n",
              "      box-shadow: 0px 1px 3px 1px rgba(0, 0, 0, 0.15);\n",
              "      filter: drop-shadow(0px 1px 2px rgba(0, 0, 0, 0.3));\n",
              "      fill: #FFFFFF;\n",
              "    }\n",
              "  </style>\n",
              "\n",
              "      <script>\n",
              "        const buttonEl =\n",
              "          document.querySelector('#df-67c82652-30b9-42c8-b89a-5932d3d776a9 button.colab-df-convert');\n",
              "        buttonEl.style.display =\n",
              "          google.colab.kernel.accessAllowed ? 'block' : 'none';\n",
              "\n",
              "        async function convertToInteractive(key) {\n",
              "          const element = document.querySelector('#df-67c82652-30b9-42c8-b89a-5932d3d776a9');\n",
              "          const dataTable =\n",
              "            await google.colab.kernel.invokeFunction('convertToInteractive',\n",
              "                                                     [key], {});\n",
              "          if (!dataTable) return;\n",
              "\n",
              "          const docLinkHtml = 'Like what you see? Visit the ' +\n",
              "            '<a target=\"_blank\" href=https://colab.research.google.com/notebooks/data_table.ipynb>data table notebook</a>'\n",
              "            + ' to learn more about interactive tables.';\n",
              "          element.innerHTML = '';\n",
              "          dataTable['output_type'] = 'display_data';\n",
              "          await google.colab.output.renderOutput(dataTable, element);\n",
              "          const docLink = document.createElement('div');\n",
              "          docLink.innerHTML = docLinkHtml;\n",
              "          element.appendChild(docLink);\n",
              "        }\n",
              "      </script>\n",
              "    </div>\n",
              "  </div>\n",
              "  "
            ]
          },
          "metadata": {},
          "execution_count": 26
        }
      ]
    },
    {
      "cell_type": "markdown",
      "source": [
        "#**Likelihood Metrics**"
      ],
      "metadata": {
        "id": "iMhYRH-FuFKm"
      }
    },
    {
      "cell_type": "markdown",
      "source": [
        "The metrics of this family compare the tables by fitting the real data to a probabilistic model and afterwards compute the likelihood of the synthetic data belonging to the learned distribution."
      ],
      "metadata": {
        "id": "fStqKKpGuHdO"
      }
    },
    {
      "cell_type": "markdown",
      "source": [
        "**sdv.metrics.tabular.BNLikelihood:** This metric fits a BayesianNetwork to the real data and then evaluates the average likelihood of the rows from the synthetic data on it.\n",
        "\n",
        "**sdv.metrics.tabular.BNLogLikelihood:** This metric fits a BayesianNetwork to the real data and then evaluates the average log likelihood of the rows from the synthetic data on it.\n",
        "\n",
        "**sdv.metrics.tabular.GMLogLikelihood:** This metric fits multiple GaussianMixture models to the real data and then evaluates the average log likelihood of the synthetic data on them."
      ],
      "metadata": {
        "id": "vLejqOISuJr-"
      }
    },
    {
      "cell_type": "markdown",
      "source": [
        "**Note:** GaussianMixture models not working because there are not numerical fields within the dataset"
      ],
      "metadata": {
        "id": "_iFhX3_omTNG"
      }
    },
    {
      "cell_type": "code",
      "source": [
        "start_test_time = timeit.default_timer()\n",
        "results = BNLikelihood.compute(orig_data.fillna(0), synth_data.fillna(0))\n",
        "print(\"Likelihood Metrics Test n.1 - Elapsed Time = \", timeit.default_timer() - start_test_time)"
      ],
      "metadata": {
        "colab": {
          "base_uri": "https://localhost:8080/"
        },
        "id": "TTVZkPE-je1W",
        "outputId": "25a0d072-ff16-4a3d-d4b7-d7f6faf40b9d"
      },
      "execution_count": 27,
      "outputs": [
        {
          "output_type": "stream",
          "name": "stdout",
          "text": [
            "Likelihood Metrics Test n.1 - Elapsed Time =  96.64920306099998\n"
          ]
        }
      ]
    },
    {
      "cell_type": "code",
      "source": [
        "type(results)"
      ],
      "metadata": {
        "colab": {
          "base_uri": "https://localhost:8080/"
        },
        "id": "mtrlA5otlPjM",
        "outputId": "38c75b29-9b35-43ae-cfe9-ff0bb73344fc"
      },
      "execution_count": 18,
      "outputs": [
        {
          "output_type": "execute_result",
          "data": {
            "text/plain": [
              "numpy.float64"
            ]
          },
          "metadata": {},
          "execution_count": 18
        }
      ]
    },
    {
      "cell_type": "code",
      "source": [
        "results"
      ],
      "metadata": {
        "colab": {
          "base_uri": "https://localhost:8080/"
        },
        "id": "tI7cz3JklVhx",
        "outputId": "215c8994-eb6f-4ee0-cdcc-5a054c0d416a"
      },
      "execution_count": 19,
      "outputs": [
        {
          "output_type": "execute_result",
          "data": {
            "text/plain": [
              "0.00013183"
            ]
          },
          "metadata": {},
          "execution_count": 19
        }
      ]
    },
    {
      "cell_type": "code",
      "source": [
        "start_test_time = timeit.default_timer()\n",
        "results = BNLogLikelihood.compute(orig_data.fillna(0), synth_data.fillna(0))\n",
        "print(\"Likelihood Metrics Test n.2 - Elapsed Time = \", timeit.default_timer() - start_test_time)"
      ],
      "metadata": {
        "colab": {
          "base_uri": "https://localhost:8080/"
        },
        "id": "Ibuqn8SelYLj",
        "outputId": "1967bca9-769a-4493-9f58-24236f100f8a"
      },
      "execution_count": 20,
      "outputs": [
        {
          "output_type": "stream",
          "name": "stdout",
          "text": [
            "Likelihood Metrics Test n.2 - Elapsed Time =  62.50358864300051\n"
          ]
        }
      ]
    },
    {
      "cell_type": "code",
      "source": [
        "type(results)"
      ],
      "metadata": {
        "colab": {
          "base_uri": "https://localhost:8080/"
        },
        "id": "omuqRJEpl6Ej",
        "outputId": "6422d60b-b0d5-4ce0-8353-1f85210dcc52"
      },
      "execution_count": 21,
      "outputs": [
        {
          "output_type": "execute_result",
          "data": {
            "text/plain": [
              "numpy.float64"
            ]
          },
          "metadata": {},
          "execution_count": 21
        }
      ]
    },
    {
      "cell_type": "code",
      "source": [
        "results"
      ],
      "metadata": {
        "colab": {
          "base_uri": "https://localhost:8080/"
        },
        "id": "gG46vbULl6l_",
        "outputId": "fef587dd-3e86-4e9a-8818-26fc70d61930"
      },
      "execution_count": 22,
      "outputs": [
        {
          "output_type": "execute_result",
          "data": {
            "text/plain": [
              "-17.415473543655498"
            ]
          },
          "metadata": {},
          "execution_count": 22
        }
      ]
    },
    {
      "cell_type": "markdown",
      "source": [
        "#**Detection Metrics**"
      ],
      "metadata": {
        "id": "QkzvE2ssueRk"
      }
    },
    {
      "cell_type": "markdown",
      "source": [
        "The metrics of this family evaluate how hard it is to distinguish the synthetic data from the real data by using a Machine Learning model. To do this, the metrics will shuffle the real data and synthetic data together with flags indicating whether the data is real or synthetic, and then cross validate a Machine Learning model that tries to predict this flag. The output of the metrics will be the 1 minus the average ROC AUC score across all the cross validation splits.\n",
        "\n",
        "Such metrics are:\n",
        "\n",
        "**sdv.metrics.tabular.LogisticDetection**: Detection metric based on a LogisticRegression classifier from scikit-learn.\n",
        "\n",
        "**sdv.metrics.tabular.SVCDetection:** Detection metric based on a SVC classifier from scikit-learn."
      ],
      "metadata": {
        "id": "d2jRQLIiug5-"
      }
    },
    {
      "cell_type": "code",
      "source": [
        "start_test_time = timeit.default_timer()\n",
        "results = LogisticDetection.compute(orig_data, synth_data)\n",
        "print(\"Detection Metrics Test n.1 - Elapsed Time = \", timeit.default_timer() - start_test_time)"
      ],
      "metadata": {
        "colab": {
          "base_uri": "https://localhost:8080/"
        },
        "id": "8yAbvF3Jue3j",
        "outputId": "cc7a03af-3f38-45f4-dbcd-e3c9dbfe8bad"
      },
      "execution_count": 23,
      "outputs": [
        {
          "output_type": "stream",
          "name": "stderr",
          "text": [
            "/usr/local/lib/python3.7/dist-packages/pandas/core/frame.py:3678: PerformanceWarning: DataFrame is highly fragmented.  This is usually the result of calling `frame.insert` many times, which has poor performance.  Consider joining all columns at once using pd.concat(axis=1) instead.  To get a de-fragmented frame, use `newframe = frame.copy()`\n",
            "  self[col] = igetitem(value, i)\n",
            "/usr/local/lib/python3.7/dist-packages/sklearn/linear_model/_logistic.py:818: ConvergenceWarning: lbfgs failed to converge (status=1):\n",
            "STOP: TOTAL NO. of ITERATIONS REACHED LIMIT.\n",
            "\n",
            "Increase the number of iterations (max_iter) or scale the data as shown in:\n",
            "    https://scikit-learn.org/stable/modules/preprocessing.html\n",
            "Please also refer to the documentation for alternative solver options:\n",
            "    https://scikit-learn.org/stable/modules/linear_model.html#logistic-regression\n",
            "  extra_warning_msg=_LOGISTIC_SOLVER_CONVERGENCE_MSG,\n",
            "/usr/local/lib/python3.7/dist-packages/sklearn/linear_model/_logistic.py:818: ConvergenceWarning: lbfgs failed to converge (status=1):\n",
            "STOP: TOTAL NO. of ITERATIONS REACHED LIMIT.\n",
            "\n",
            "Increase the number of iterations (max_iter) or scale the data as shown in:\n",
            "    https://scikit-learn.org/stable/modules/preprocessing.html\n",
            "Please also refer to the documentation for alternative solver options:\n",
            "    https://scikit-learn.org/stable/modules/linear_model.html#logistic-regression\n",
            "  extra_warning_msg=_LOGISTIC_SOLVER_CONVERGENCE_MSG,\n"
          ]
        },
        {
          "output_type": "stream",
          "name": "stdout",
          "text": [
            "Detection Metrics Test n.1 - Elapsed Time =  11.863354027000241\n"
          ]
        },
        {
          "output_type": "stream",
          "name": "stderr",
          "text": [
            "/usr/local/lib/python3.7/dist-packages/sklearn/linear_model/_logistic.py:818: ConvergenceWarning: lbfgs failed to converge (status=1):\n",
            "STOP: TOTAL NO. of ITERATIONS REACHED LIMIT.\n",
            "\n",
            "Increase the number of iterations (max_iter) or scale the data as shown in:\n",
            "    https://scikit-learn.org/stable/modules/preprocessing.html\n",
            "Please also refer to the documentation for alternative solver options:\n",
            "    https://scikit-learn.org/stable/modules/linear_model.html#logistic-regression\n",
            "  extra_warning_msg=_LOGISTIC_SOLVER_CONVERGENCE_MSG,\n"
          ]
        }
      ]
    },
    {
      "cell_type": "code",
      "source": [
        "results"
      ],
      "metadata": {
        "colab": {
          "base_uri": "https://localhost:8080/"
        },
        "id": "z6uA6jyloKgY",
        "outputId": "7101e8b5-2881-4e26-eb4a-a2f5f040767e"
      },
      "execution_count": 24,
      "outputs": [
        {
          "output_type": "execute_result",
          "data": {
            "text/plain": [
              "0.6160828732872541"
            ]
          },
          "metadata": {},
          "execution_count": 24
        }
      ]
    },
    {
      "cell_type": "code",
      "source": [
        "start_test_time = timeit.default_timer()\n",
        "results = SVCDetection.compute(orig_data, synth_data)\n",
        "print(\"Detection Metrics Test n.2 - Elapsed Time = \", timeit.default_timer() - start_test_time)"
      ],
      "metadata": {
        "colab": {
          "base_uri": "https://localhost:8080/"
        },
        "id": "NWaRRSoLoQc6",
        "outputId": "09587337-4b69-40f8-9d4f-d4d6c069ced3"
      },
      "execution_count": null,
      "outputs": [
        {
          "output_type": "stream",
          "name": "stderr",
          "text": [
            "/usr/local/lib/python3.7/dist-packages/pandas/core/frame.py:3678: PerformanceWarning: DataFrame is highly fragmented.  This is usually the result of calling `frame.insert` many times, which has poor performance.  Consider joining all columns at once using pd.concat(axis=1) instead.  To get a de-fragmented frame, use `newframe = frame.copy()`\n",
            "  self[col] = igetitem(value, i)\n"
          ]
        }
      ]
    },
    {
      "cell_type": "code",
      "source": [
        "results"
      ],
      "metadata": {
        "id": "dbEdvt_tmy_e"
      },
      "execution_count": null,
      "outputs": []
    },
    {
      "cell_type": "markdown",
      "source": [
        "#**Machine Learning Efficacy Metrics**"
      ],
      "metadata": {
        "id": "BIXrFNSYr3f3"
      }
    },
    {
      "cell_type": "markdown",
      "source": [
        "This family of metrics will evaluate whether it is possible to replace the real data with synthetic data in order to solve a Machine Learning Problem by learning a Machine Learning model on the synthetic data and then evaluating the score which it obtains when evaluated on the real data."
      ],
      "metadata": {
        "id": "YDDdr8_or6KL"
      }
    },
    {
      "cell_type": "markdown",
      "source": [
        "**Note:** Since this metrics will be evaluated by trying to solve a Machine Learning problem, they can only be used on datasets that contain a target column that needs or can be predicted using the rest of the data, and the scores obtained by the metrics will be inversely proportional to how hard that Machine Problem is."
      ],
      "metadata": {
        "id": "vCc_ApnWsHvt"
      }
    },
    {
      "cell_type": "markdown",
      "source": [
        "The metrics on this family are organized by Machine Learning problem type and model.\n",
        "\n",
        "    Binary Classification Metrics:\n",
        "\n",
        "        BinaryDecisionTreeClassifier\n",
        "\n",
        "        BinaryAdaBoostClassifier\n",
        "\n",
        "        BinaryLogisticRegression\n",
        "\n",
        "        BinaryMLPClassifier\n",
        "\n",
        "    Multiclass Classification Metrics:\n",
        "\n",
        "        MulticlassDecisionTreeClassifier\n",
        "\n",
        "        MulticlassMLPClassifier\n",
        "\n",
        "    Regression Metrics:\n",
        "\n",
        "        LinearRegression\n",
        "\n",
        "        MLPRegressor\n",
        "\n",
        "In order to run these metrics we will need to select a column from our dataset which we will use as the target for the prediction problem. "
      ],
      "metadata": {
        "id": "_9n-ETP4v_7L"
      }
    },
    {
      "cell_type": "code",
      "source": [
        "MulticlassDecisionTreeClassifier.compute(orig_data, synth_data, target='mba_spec')"
      ],
      "metadata": {
        "id": "L8k-N_D0r5j2"
      },
      "execution_count": null,
      "outputs": []
    },
    {
      "cell_type": "markdown",
      "source": [
        "#**Privacy Metrics**"
      ],
      "metadata": {
        "id": "ddLg5Jfkukeg"
      }
    },
    {
      "cell_type": "markdown",
      "source": [
        "This family of metrics measures the privacy of a synthetic dataset by positing the question: given the synthetic data, can an attacker predict sensitive attributes in the real dataset? These models accomplish this by fitting an adversarial attacker model on the synthetic data to predict sensitive attributes from “key” attributes and then evaluating its accuracy on the real data.\n",
        "\n",
        "The metrics on this family are organized according to the data type they take as input:\n",
        "\n",
        "    Categorical metrics:\n",
        "\n",
        "        sdv.metrics.tabular.CategoricalCAP\n",
        "\n",
        "        sdv.metrics.tabular.CategoricalZeroCAP\n",
        "\n",
        "        sdv.metrics.tabular.CategoricalGeneralizedCAP\n",
        "\n",
        "        sdv.metrics.tabular.CategoricalKNN\n",
        "\n",
        "        sdv.metrics.tabular.CategoricalNB\n",
        "\n",
        "        sdv.metrics.tabular.CategoricalRF\n",
        "\n",
        "        sdv.metrics.tabular.CategoricalEnsemble\n",
        "\n",
        "    Numerical metrics:\n",
        "\n",
        "        sdv.metrics.tabular.NumericalMLP\n",
        "\n",
        "        sdv.metrics.tabular.NumericalLR\n",
        "\n",
        "        sdv.metrics.tabular.NumericalSVR\n",
        "\n",
        "        sdv.metrics.tabular.NumericalRadiusNearestNeighbor"
      ],
      "metadata": {
        "id": "cKNGOHZpu0Q1"
      }
    },
    {
      "cell_type": "markdown",
      "source": [
        "In addition to the real and synthetic data, these metrics also require two additional inputs, sensitive_fields which is a list of columns considered private and key_fields which are the columns that will be used to try to predict the sensitive ones.\n",
        "\n",
        "Using the demo data set, one possible example is to use:\n",
        "\n",
        "    salary as a sensitive column, which is the column we are measuring ahow private it is\n",
        "\n",
        "    second_perc, mba_perc and degree_perc as the key columns, which will be used by the adversarial attacker to predict the sensitive column\n",
        "\n",
        "Notice that as all the involved columns are numerical, we need to apply a numerical privacy metric. Conversely, if all of the columns are categorical, we need to use a categorical privacy metric. Currently, the privacy metrics do not support mixed data types.\n",
        "\n",
        "**Note:**These metrics do not accept missing data, so we will replace all the missing values with a 0 before executing them."
      ],
      "metadata": {
        "id": "hfckJ-uku5l0"
      }
    },
    {
      "cell_type": "code",
      "source": [
        "if OS!=\"Linux\" or colab_active is True:\n",
        "  NumericalLR.compute(\n",
        "          data.fillna(0), \n",
        "          synthetic_data.fillna(0),\n",
        "              key_fields=['second_perc', 'mba_perc', 'degree_perc'],\n",
        "              sensitive_fields=['salary']\n",
        "          )"
      ],
      "metadata": {
        "id": "aloWkT5mu1pj"
      },
      "execution_count": null,
      "outputs": []
    },
    {
      "cell_type": "markdown",
      "source": [
        "#**Output Visual Analysis**"
      ],
      "metadata": {
        "id": "6n2gsle12RXH"
      }
    },
    {
      "cell_type": "code",
      "source": [
        "if OS!=\"Linux\" or colab_active is True and dataset is 'telephony':\n",
        "  outputData=pd.read_excel(\"/content/telephony_synth_data_generated_by_method_copulagantotal_time_3309.26_score_0.429.xlsx\")\n",
        "\n",
        "  pd.DataFrame(data.CHIAVE_NUM_CHIAMANTE.value_counts()).hist(bins=20)\n",
        "  plt.show()\n",
        "\n",
        "  pd.DataFrame(outputData.CHIAVE_NUM_CHIAMANTE.value_counts()).hist(bins=20)\n",
        "  plt.show()\n",
        "\n",
        "  A=set(data.CHIAVE_NUM_CHIAMANTE.astype(\"str\"))\n",
        "  B=set(outputData.CHIAVE_NUM_CHIAMANTE.astype(\"str\"))\n",
        "  print(B.difference(A))\n",
        "\n",
        "  print(data.info())\n",
        "\n",
        "\n",
        "  pd.DataFrame(data.COD_CELLA_CHIAMATA.value_counts()).hist(bins=20)\n",
        "  plt.show()\n",
        "\n",
        "  pd.DataFrame(outputData.COD_CELLA_CHIAMATA.value_counts()).hist(bins=20)\n",
        "  plt.show()\n",
        "\n",
        "  outputData.plot.scatter(\"COD_CELLA_CHIAMATA\",\"DATA_CHIAMATA\")\n",
        "  plt.show()\n",
        "  data.plot.scatter(\"COD_CELLA_CHIAMATA\",\"DATA_CHIAMATA\")\n",
        "  plt.show()\n",
        "\n",
        "  data.ORA_MIN_CHIAMATA.hist()\n",
        "  plt.show()\n",
        "  outputData.info()\n",
        "  outputData\n",
        "\n",
        "  pd.to_datetime(outputData.DATA_CHIAMATA, format='%Y%m%d').hist()\n",
        "\n",
        "  pd.to_datetime(data.DATA_CHIAMATA, format='%Y%m%d').hist()\n",
        "\n",
        "  data.ORA_MIN_CHIAMATA.hist()\n",
        "  plt.show()\n",
        "  outputData.info()\n",
        "  outputData\n",
        "\n",
        "  data.ORA_MIN_CHIAMATA.hist()\n",
        "\n",
        "  inputData=sas[1]\n",
        "  pd.DataFrame(inputData).COD_CELLA_CHIAMATA.plot()\n",
        "\n",
        "  data.COD_CELLA_CHIAMATA.value_counts()"
      ],
      "metadata": {
        "id": "m-9kre0X2Q5D"
      },
      "execution_count": null,
      "outputs": []
    },
    {
      "cell_type": "markdown",
      "source": [
        "#**Aggregated Score Metrics**"
      ],
      "metadata": {
        "id": "SaezYhXX2o8w"
      }
    },
    {
      "cell_type": "code",
      "source": [
        "score = evaluate(sd[1], data)"
      ],
      "metadata": {
        "id": "4l8AJsgi2pau"
      },
      "execution_count": null,
      "outputs": []
    }
  ]
}