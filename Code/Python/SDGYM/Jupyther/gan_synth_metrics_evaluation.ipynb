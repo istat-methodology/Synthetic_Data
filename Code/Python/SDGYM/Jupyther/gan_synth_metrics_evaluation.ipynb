{
  "nbformat": 4,
  "nbformat_minor": 0,
  "metadata": {
    "colab": {
      "name": "gan_synth_metrics_evaluation.ipynb",
      "provenance": [],
      "collapsed_sections": []
    },
    "kernelspec": {
      "name": "python3",
      "display_name": "Python 3"
    },
    "language_info": {
      "name": "python"
    },
    "accelerator": "GPU"
  },
  "cells": [
    {
      "cell_type": "markdown",
      "source": [
        "# **SDGym - Synthetic Data Gym Metrics Evaluation**"
      ],
      "metadata": {
        "id": "-iYm9mPq3Wft"
      }
    },
    {
      "cell_type": "code",
      "source": [
        "import os\n",
        "import sys\n",
        "import platform\n",
        "import timeit\n",
        "import numpy as np\n",
        "import pandas as pd\n",
        "import matplotlib.pyplot as plt\n",
        "import pdb\n",
        "\n",
<<<<<<< HEAD
        "from sklearn.model_selection import train_test_split\n",
        "from sklearn.ensemble import RandomForestClassifier\n",
        "from sklearn import metrics\n",
        "\n",
=======
>>>>>>> e268813069110c05f9123a4bfc18d8087957aa03
        "OS = platform.system()   # Operating System "
      ],
      "metadata": {
        "id": "Mfcwmsq1rljD"
      },
<<<<<<< HEAD
      "execution_count": 2,
=======
      "execution_count": 79,
>>>>>>> e268813069110c05f9123a4bfc18d8087957aa03
      "outputs": []
    },
    {
      "cell_type": "markdown",
      "source": [
        "#**Data Download**"
      ],
      "metadata": {
        "id": "ZceC-F3iqcE4"
      }
    },
    {
      "cell_type": "code",
      "execution_count": 3,
      "metadata": {
        "colab": {
          "base_uri": "https://localhost:8080/"
        },
        "id": "WdRYfguEqSqt",
<<<<<<< HEAD
        "outputId": "183241dc-a119-417b-af02-58479a76d5ae"
=======
        "outputId": "46f52d28-f2c3-411f-e2b4-42c546b1de1d"
>>>>>>> e268813069110c05f9123a4bfc18d8087957aa03
      },
      "outputs": [
        {
          "output_type": "execute_result",
          "data": {
            "text/plain": [
              "32768"
            ]
          },
          "metadata": {},
          "execution_count": 3
        }
      ],
      "source": [
        "os.system('git clone https://github.com/istat-methodology/Synthetic_Data.git')"
      ]
    },
    {
      "cell_type": "markdown",
      "source": [
<<<<<<< HEAD
        "#**All Installations: SDGym, Matplotlib, Table Evaluatoretc**"
=======
        "#**All Installations: SDGym, Matplotlib, etc**"
>>>>>>> e268813069110c05f9123a4bfc18d8087957aa03
      ],
      "metadata": {
        "id": "GKjWGWaA5rnA"
      }
    },
    {
      "cell_type": "code",
      "source": [
        "os.system('pip install sdgym')\n",
        "os.system('pip install matplotlib==3.1.3')"
      ],
      "metadata": {
        "colab": {
          "base_uri": "https://localhost:8080/"
        },
        "id": "U6n2e-Cds6HV",
<<<<<<< HEAD
        "outputId": "d95892a0-9026-47b2-e0c6-f15e9420b687"
=======
        "outputId": "6f5e4488-a217-405e-d6ea-f09b3dd1ec8f"
>>>>>>> e268813069110c05f9123a4bfc18d8087957aa03
      },
      "execution_count": 4,
      "outputs": [
        {
          "output_type": "execute_result",
          "data": {
            "text/plain": [
              "0"
            ]
          },
          "metadata": {},
          "execution_count": 4
        }
      ]
    },
    {
      "cell_type": "markdown",
      "source": [
        "#**All Sythetic Data Gym Imports**"
      ],
      "metadata": {
        "id": "_eE-NKqw5moo"
      }
    },
    {
      "cell_type": "code",
      "source": [
        "from sdv.evaluation import evaluate\n",
        "from sdv.metrics.tabular import CSTest, KSTest                                      # Statistical Metrics\n",
        "from sdv.metrics.tabular import BNLikelihood, BNLogLikelihood, GMLogLikelihood      # Likelihood Metrics¶\n",
        "from sdv.metrics.tabular import LogisticDetection, SVCDetection                     # Detection Metrics\n",
        "from sdv.metrics.tabular import MulticlassDecisionTreeClassifier                    # Machine Learning Efficacy Metrics¶\n",
        "from sdv.metrics.tabular import NumericalLR "
      ],
      "metadata": {
        "id": "lQ1QVlP4tAn2"
      },
      "execution_count": 5,
      "outputs": []
    },
    {
      "cell_type": "markdown",
      "source": [
        "#**Visualization Options Settings**"
      ],
      "metadata": {
        "id": "jujguSyQ5yLU"
      }
    },
    {
      "cell_type": "code",
      "source": [
        "pd.set_option('display.max_columns', 500) \n",
        "pd.set_option('display.max_rows', 500) "
      ],
      "metadata": {
        "id": "snRKltS4tIee"
      },
      "execution_count": 6,
      "outputs": []
    },
    {
      "cell_type": "markdown",
      "source": [
        "#**All Initializations**"
      ],
      "metadata": {
        "id": "vdH0dK1752t-"
      }
    },
    {
      "cell_type": "code",
      "source": [
        "orig_data_path = './Synthetic_Data/Datasets/syntetic_telephony.xlsx'\n",
        "synth_data_path = './Synthetic_Data/Output/Telephony Synt Results/telephony_synth_data_generated_by_method_copulagantotal_time_2863.58_score_0.45.xlsx'\n",
        "display_matches = False"
      ],
      "metadata": {
        "id": "vui5vJQCtmAX"
      },
      "execution_count": 7,
      "outputs": []
    },
    {
      "cell_type": "markdown",
      "source": [
        "#**All General Functions Definitions**"
      ],
      "metadata": {
        "id": "5HLGlxL158As"
      }
    },
    {
      "cell_type": "code",
      "source": [
        "def explore_data(data): \n",
        "  print(\"\\nHead of Data: \\n\", data.head())\n",
        "  print(\"\\nTail of Data: \\n\", data.tail())\n",
        "  print(\"\\nShape of Data: \", data.shape)\n",
        "  print(\"\\nInformation about Data: \\n\")\n",
        "  try: \n",
        "    data.info()\n",
        "  except: \n",
        "    pass\n",
        "  print(\"\\nTypes of Data attributes: \\n\")\n",
        "  try: \n",
        "    data.dtypes\n",
        "  except: \n",
        "    pass\n",
        "  print(\"\\nSummary of all numerical fields in the dataset: \\n\")\n",
        "  try: \n",
        "    data.describe(include = [np.number])\n",
        "  except: \n",
        "    pass\n",
        "  print(\"\\nSummary of all categorical fields in the dataset: \\n\")\n",
        "  try: \n",
        "    data.describe(include = ['O'])\n",
        "  except: \n",
        "    pass\n",
        "  print(\"\\nLoop Through Each Column and Check for nulls: \\n\")\n",
        "  try: \n",
        "    for i in range(len(data.columns)):\n",
        "        print(data.columns[i] + \": \" + str(data[data.columns[i]].isna().sum()))\n",
        "  except: \n",
        "    pass\n",
        "\n",
        "def data_download(file_to_download, gdrive_code, OS, uncompress = True):\n",
        "  if not os.path.exists(file_to_download):\n",
        "    os.system('gdown --id \"'+gdrive_code+'\" --output '+file_to_download)\n",
        "    if OS == \"Linux\" and uncompress:\n",
        "        os.system('unzip -o -n \"./'+file_to_download+'\" -d \"./\"')\n",
        "    return True\n",
        "  else: \n",
        "    return None"
      ],
      "metadata": {
        "id": "PtQkoJKZtW25"
      },
<<<<<<< HEAD
      "execution_count": 8,
=======
      "execution_count": 13,
>>>>>>> e268813069110c05f9123a4bfc18d8087957aa03
      "outputs": []
    },
    {
      "cell_type": "markdown",
      "source": [
        "#**Original Data Reading**"
      ],
      "metadata": {
        "id": "HRY_SqVd6BPv"
      }
    },
    {
      "cell_type": "code",
      "source": [
        "xl_file = pd.ExcelFile(orig_data_path)\n",
        "dfs = {sheet_name: xl_file.parse(sheet_name) for sheet_name in xl_file.sheet_names}\n",
        "orig_data = dfs['Sheet1']"
      ],
      "metadata": {
        "id": "Q0-vuH8utf7g"
      },
<<<<<<< HEAD
      "execution_count": 9,
=======
      "execution_count": 66,
>>>>>>> e268813069110c05f9123a4bfc18d8087957aa03
      "outputs": []
    },
    {
      "cell_type": "markdown",
      "source": [
        "#**Original Data Preprocessing**"
      ],
      "metadata": {
        "id": "Sz2qcZE06FfV"
      }
    },
    {
      "cell_type": "code",
      "source": [
        "# Renaming Columns into English\n",
        "orig_data.rename(columns = {'COD_CELLA_CHIAMATA':'CELL_CALL_CODE', \n",
        "                      'DATA_CHIAMATA':'CALL_DATE',\n",
        "                      'CHIAVE_NUM_CHIAMANTE':'NUM_CALLER_KEY',\n",
        "                      'ORA_MIN_CHIAMATA':'TIME_MIN_CALL'}, inplace = True)\n",
        "\n",
        "# Casting Datatypes  \n",
        "orig_data.CELL_CALL_CODE=orig_data.CELL_CALL_CODE.astype(\"int64\").astype(\"str\")\n",
        "\n",
        "orig_data.CALL_DATE=pd.to_datetime(orig_data.CALL_DATE, format='%Y%m%d')\n",
        "orig_data.NUM_CALLER_KEY=orig_data.NUM_CALLER_KEY.astype(\"int64\").astype(\"str\")\n",
        "\n",
        "orig_data.TIME_MIN_CALL=orig_data.TIME_MIN_CALL.astype(\"str\").str.pad(width=6, side='left', fillchar='0')\n",
        "orig_data.TIME_MIN_CALL =pd.to_datetime(orig_data.TIME_MIN_CALL , format='%H%M%S').dt.time.astype(\"str\")\n",
        "orig_data.TIME_MIN_CALL =pd.to_datetime(orig_data.TIME_MIN_CALL)\n",
        "\n",
        "explore_data(orig_data)"
      ],
      "metadata": {
        "colab": {
          "base_uri": "https://localhost:8080/"
        },
        "id": "WgOIZ-yyuxL_",
<<<<<<< HEAD
        "outputId": "7d8f724e-a281-4e92-dc70-e15b36a53e33"
      },
      "execution_count": 10,
=======
        "outputId": "8af5d00e-5218-4b07-918a-86ac43a826fa"
      },
      "execution_count": 67,
>>>>>>> e268813069110c05f9123a4bfc18d8087957aa03
      "outputs": [
        {
          "output_type": "stream",
          "name": "stdout",
          "text": [
            "\n",
            "Head of Data: \n",
            "       NUM_CALLER_KEY  CALL_DATE       TIME_MIN_CALL CELL_CALL_CODE\n",
<<<<<<< HEAD
            "0  14615194667453690 2017-01-22 2022-05-28 15:49:53              0\n",
            "1  14615194667453690 2017-01-29 2022-05-28 12:40:34              1\n",
            "2  14615194667453690 2017-01-29 2022-05-28 12:41:19              1\n",
            "3  14615194667453690 2017-01-22 2022-05-28 15:51:02              1\n",
            "4  14615194667453690 2017-01-22 2022-05-28 15:51:38              1\n",
            "\n",
            "Tail of Data: \n",
            "          NUM_CALLER_KEY  CALL_DATE       TIME_MIN_CALL CELL_CALL_CODE\n",
            "9995  14615368752090240 2017-01-12 2022-05-28 12:09:10            272\n",
            "9996  14615368752090240 2017-02-12 2022-05-28 18:26:01            272\n",
            "9997   1508338528891430 2017-01-04 2022-05-28 09:26:27            272\n",
            "9998  14615368752090240 2017-02-10 2022-05-28 15:11:58            272\n",
            "9999  14615337422429130 2017-01-30 2022-05-28 09:09:03            272\n",
=======
            "0  14615194667453690 2017-01-22 2022-05-26 15:49:53              0\n",
            "1  14615194667453690 2017-01-29 2022-05-26 12:40:34              1\n",
            "2  14615194667453690 2017-01-29 2022-05-26 12:41:19              1\n",
            "3  14615194667453690 2017-01-22 2022-05-26 15:51:02              1\n",
            "4  14615194667453690 2017-01-22 2022-05-26 15:51:38              1\n",
            "\n",
            "Tail of Data: \n",
            "          NUM_CALLER_KEY  CALL_DATE       TIME_MIN_CALL CELL_CALL_CODE\n",
            "9995  14615368752090240 2017-01-12 2022-05-26 12:09:10            272\n",
            "9996  14615368752090240 2017-02-12 2022-05-26 18:26:01            272\n",
            "9997   1508338528891430 2017-01-04 2022-05-26 09:26:27            272\n",
            "9998  14615368752090240 2017-02-10 2022-05-26 15:11:58            272\n",
            "9999  14615337422429130 2017-01-30 2022-05-26 09:09:03            272\n",
>>>>>>> e268813069110c05f9123a4bfc18d8087957aa03
            "\n",
            "Shape of Data:  (10000, 4)\n",
            "\n",
            "Information about Data: \n",
            "\n",
            "<class 'pandas.core.frame.DataFrame'>\n",
            "RangeIndex: 10000 entries, 0 to 9999\n",
            "Data columns (total 4 columns):\n",
            " #   Column          Non-Null Count  Dtype         \n",
            "---  ------          --------------  -----         \n",
            " 0   NUM_CALLER_KEY  10000 non-null  object        \n",
            " 1   CALL_DATE       10000 non-null  datetime64[ns]\n",
            " 2   TIME_MIN_CALL   10000 non-null  datetime64[ns]\n",
            " 3   CELL_CALL_CODE  10000 non-null  object        \n",
            "dtypes: datetime64[ns](2), object(2)\n",
            "memory usage: 312.6+ KB\n",
            "\n",
            "Types of Data attributes: \n",
            "\n",
            "\n",
            "Summary of all numerical fields in the dataset: \n",
            "\n",
            "\n",
            "Summary of all categorical fields in the dataset: \n",
            "\n",
            "\n",
            "Loop Through Each Column and Check for nulls: \n",
            "\n",
            "NUM_CALLER_KEY: 0\n",
            "CALL_DATE: 0\n",
            "TIME_MIN_CALL: 0\n",
            "CELL_CALL_CODE: 0\n"
          ]
        }
      ]
    },
    {
      "cell_type": "markdown",
      "source": [
        "#**Original Data Exports**"
      ],
      "metadata": {
        "id": "DN4VflRI6ebW"
      }
    },
    {
      "cell_type": "code",
      "source": [
        "orig_data.to_excel('./'+os.path.basename(orig_data_path).rsplit('.', 1)[0]+'_export.xlsx')\n",
        "orig_data.to_csv('./'+os.path.basename(orig_data_path).rsplit('.', 1)[0]+'_export.csv')"
      ],
      "metadata": {
        "id": "HgOR7EFHsd7p"
      },
<<<<<<< HEAD
      "execution_count": 11,
=======
      "execution_count": 68,
>>>>>>> e268813069110c05f9123a4bfc18d8087957aa03
      "outputs": []
    },
    {
      "cell_type": "markdown",
      "source": [
        "#**Synthetic Data Reading**"
      ],
      "metadata": {
        "id": "Pk8IOIV56hgx"
      }
    },
    {
      "cell_type": "code",
      "source": [
        "xl_file = pd.ExcelFile(synth_data_path)\n",
        "dfs = {sheet_name: xl_file.parse(sheet_name) for sheet_name in xl_file.sheet_names}\n",
        "synth_data = dfs['Sheet1']"
      ],
      "metadata": {
        "id": "k3QlS2h1ubkq"
      },
<<<<<<< HEAD
      "execution_count": 12,
=======
      "execution_count": 69,
>>>>>>> e268813069110c05f9123a4bfc18d8087957aa03
      "outputs": []
    },
    {
      "cell_type": "markdown",
      "source": [
        "#**Synthetic Data Preprocessing**"
      ],
      "metadata": {
        "id": "boOc4PhV6l4J"
      }
    },
    {
      "cell_type": "code",
      "source": [
        "# Renaming Columns into English\n",
        "synth_data.rename(columns = {'COD_CELLA_CHIAMATA':'CELL_CALL_CODE', \n",
        "                      'DATA_CHIAMATA':'CALL_DATE',\n",
        "                      'CHIAVE_NUM_CHIAMANTE':'NUM_CALLER_KEY',\n",
        "                      'ORA_MIN_CHIAMATA':'TIME_MIN_CALL'}, inplace = True)\n",
        "\n",
        "# Removing F character from Dataframe\n",
        "synth_data[\"CELL_CALL_CODE\"] = synth_data[\"CELL_CALL_CODE\"].str.replace(\"F\",\"\")\n",
        "synth_data[\"NUM_CALLER_KEY\"] = synth_data[\"NUM_CALLER_KEY\"].str.replace(\"F\",\"\")\n",
        "\n",
        "# Casting Datatypes  \n",
        "synth_data.CELL_CALL_CODE=synth_data.CELL_CALL_CODE.astype(\"int64\").astype(\"str\")\n",
        "\n",
        "synth_data.CALL_DATE=pd.to_datetime(synth_data.CALL_DATE, format='%Y%m%d')\n",
        "synth_data.NUM_CALLER_KEY=synth_data.NUM_CALLER_KEY.astype(\"int64\").astype(\"str\")\n",
        "\n",
        "synth_data.TIME_MIN_CALL=synth_data.TIME_MIN_CALL.astype(\"str\").str.pad(width=6, side='left', fillchar='0')\n",
        "synth_data.TIME_MIN_CALL =pd.to_datetime(synth_data.TIME_MIN_CALL).dt.time.astype(\"str\")\n",
        "synth_data.TIME_MIN_CALL =pd.to_datetime(synth_data.TIME_MIN_CALL)\n",
        "\n",
        "synth_data.drop(\"Unnamed: 0\", axis=1, inplace=True)\n",
        "\n",
        "explore_data(synth_data)"
      ],
      "metadata": {
        "colab": {
          "base_uri": "https://localhost:8080/"
        },
        "id": "yxxwSaeBuyvM",
<<<<<<< HEAD
        "outputId": "5b337409-64f5-4272-adcb-dc35648729c3"
      },
      "execution_count": 13,
=======
        "outputId": "46395f39-3693-4eea-bfc5-5237028a276b"
      },
      "execution_count": 70,
>>>>>>> e268813069110c05f9123a4bfc18d8087957aa03
      "outputs": [
        {
          "output_type": "stream",
          "name": "stdout",
          "text": [
            "\n",
            "Head of Data: \n",
            "       NUM_CALLER_KEY  CALL_DATE       TIME_MIN_CALL CELL_CALL_CODE\n",
<<<<<<< HEAD
            "0  14615366112382500 2017-01-30 2022-05-28 15:54:19            258\n",
            "1  14615362915496210 2017-01-14 2022-05-28 11:54:30            781\n",
            "2  14615430050428180 2017-01-20 2022-05-28 21:25:36             18\n",
            "3  14615339806425970 2017-01-09 2022-05-28 17:36:41            311\n",
            "4  14615390824437770 2017-01-06 2022-05-28 13:20:43            565\n",
            "\n",
            "Tail of Data: \n",
            "          NUM_CALLER_KEY  CALL_DATE       TIME_MIN_CALL CELL_CALL_CODE\n",
            "9995  14615362915496210 2017-01-04 2022-05-28 12:00:18            107\n",
            "9996  14615224339316630 2017-01-05 2022-05-28 08:12:24            231\n",
            "9997  14615228723636630 2017-01-02 2022-05-28 16:51:31              9\n",
            "9998  14615362915496210 2017-01-25 2022-05-28 21:06:11            644\n",
            "9999  14615420085225040 2017-02-06 2022-05-28 15:19:53            779\n",
=======
            "0  14615366112382500 2017-01-30 2022-05-26 15:54:19            258\n",
            "1  14615362915496210 2017-01-14 2022-05-26 11:54:30            781\n",
            "2  14615430050428180 2017-01-20 2022-05-26 21:25:36             18\n",
            "3  14615339806425970 2017-01-09 2022-05-26 17:36:41            311\n",
            "4  14615390824437770 2017-01-06 2022-05-26 13:20:43            565\n",
            "\n",
            "Tail of Data: \n",
            "          NUM_CALLER_KEY  CALL_DATE       TIME_MIN_CALL CELL_CALL_CODE\n",
            "9995  14615362915496210 2017-01-04 2022-05-26 12:00:18            107\n",
            "9996  14615224339316630 2017-01-05 2022-05-26 08:12:24            231\n",
            "9997  14615228723636630 2017-01-02 2022-05-26 16:51:31              9\n",
            "9998  14615362915496210 2017-01-25 2022-05-26 21:06:11            644\n",
            "9999  14615420085225040 2017-02-06 2022-05-26 15:19:53            779\n",
>>>>>>> e268813069110c05f9123a4bfc18d8087957aa03
            "\n",
            "Shape of Data:  (10000, 4)\n",
            "\n",
            "Information about Data: \n",
            "\n",
            "<class 'pandas.core.frame.DataFrame'>\n",
            "RangeIndex: 10000 entries, 0 to 9999\n",
            "Data columns (total 4 columns):\n",
            " #   Column          Non-Null Count  Dtype         \n",
            "---  ------          --------------  -----         \n",
            " 0   NUM_CALLER_KEY  10000 non-null  object        \n",
            " 1   CALL_DATE       10000 non-null  datetime64[ns]\n",
            " 2   TIME_MIN_CALL   10000 non-null  datetime64[ns]\n",
            " 3   CELL_CALL_CODE  10000 non-null  object        \n",
            "dtypes: datetime64[ns](2), object(2)\n",
            "memory usage: 312.6+ KB\n",
            "\n",
            "Types of Data attributes: \n",
            "\n",
            "\n",
            "Summary of all numerical fields in the dataset: \n",
            "\n",
            "\n",
            "Summary of all categorical fields in the dataset: \n",
            "\n",
            "\n",
            "Loop Through Each Column and Check for nulls: \n",
            "\n",
            "NUM_CALLER_KEY: 0\n",
            "CALL_DATE: 0\n",
            "TIME_MIN_CALL: 0\n",
            "CELL_CALL_CODE: 0\n"
          ]
        }
      ]
    },
    {
      "cell_type": "markdown",
      "source": [
        "#**Synthetic Data Export**"
      ],
      "metadata": {
        "id": "A7zZe1tf6r6c"
      }
    },
    {
      "cell_type": "code",
      "source": [
        "synth_data.to_excel('./'+os.path.basename(synth_data_path).rsplit('.', 1)[0]+'_export.xlsx')\n",
        "synth_data.to_csv('./'+os.path.basename(synth_data_path).rsplit('.', 1)[0]+'_export.csv')"
      ],
      "metadata": {
        "id": "X2XQhCvUtAfD"
      },
<<<<<<< HEAD
      "execution_count": 14,
=======
      "execution_count": 64,
>>>>>>> e268813069110c05f9123a4bfc18d8087957aa03
      "outputs": []
    },
    {
      "cell_type": "markdown",
      "source": [
        "#**Model Evaluation via SDGym Tools**"
      ],
      "metadata": {
        "id": "XjnO9kaftelf"
      }
    },
    {
      "cell_type": "markdown",
      "source": [
        "#**Statistical Metrics**"
      ],
      "metadata": {
        "id": "OCsxwSsWthhc"
      }
    },
    {
      "cell_type": "markdown",
      "source": [
        "The metrics of this family compare the tables by running different types of statistical tests on them. In the most simple scenario, these metrics compare individual columns from the real table with the corresponding column from the synthetic table, and at the end report the average outcome from the test."
      ],
      "metadata": {
        "id": "Zto-vAF1tip6"
      }
    },
    {
      "cell_type": "markdown",
      "source": [
        "**sdv.metrics.tabular.CSTest:** This metric uses the Chi-Squared test to compare the distributions of two discrete columns. The output for each column is the CSTest p-value, which indicates the probability of the two columns having been sampled from the same distribution.\n"
      ],
      "metadata": {
        "id": "CnzQZzRTtla7"
      }
    },
    {
      "cell_type": "code",
      "source": [
        "start_test_time = timeit.default_timer()\n",
        "results = CSTest.compute(orig_data, synth_data)\n",
        "print(\"Chi-Squared Test Test Results: \", results)\n",
        "print(\"Chi-Squared Metrics Test - Elapsed Time = \", timeit.default_timer() - start_test_time)"
      ],
      "metadata": {
        "colab": {
          "base_uri": "https://localhost:8080/"
        },
        "id": "aOkd4PE5tfTh",
<<<<<<< HEAD
        "outputId": "52e314fb-3a80-4bac-f910-a87b17249dd5"
      },
      "execution_count": null,
=======
        "outputId": "8f4e8295-a9ff-4b8f-917c-c58c3c44169c"
      },
      "execution_count": 71,
>>>>>>> e268813069110c05f9123a4bfc18d8087957aa03
      "outputs": [
        {
          "output_type": "stream",
          "name": "stdout",
          "text": [
            "Chi-Squared Test Test Results:  1.0\n",
<<<<<<< HEAD
            "Chi-Squared Metrics Test - Elapsed Time =  0.024924832999886348\n"
=======
            "Chi-Squared Metrics Test - Elapsed Time =  0.028185748999931093\n"
>>>>>>> e268813069110c05f9123a4bfc18d8087957aa03
          ]
        }
      ]
    },
    {
      "cell_type": "markdown",
      "source": [
        " Chi_squared test p-value must be between 0 and 1, so **1.0** means that the distributions (original and synthetic) are sampled from the same distribution of data"
      ],
      "metadata": {
        "id": "yEtkNok16_LE"
      }
    },
    {
      "cell_type": "markdown",
      "source": [
        "**sdv.metrics.tabular.KSTest:** This metric uses the two-sample Kolmogorov–Smirnov test to compare the distributions of continuous columns using the empirical CDF. "
      ],
      "metadata": {
        "id": "lhJhAugF9V7G"
      }
    },
    {
      "cell_type": "markdown",
      "source": [
        "**Note:** Inverted Kolmogorov-Smirnov not working because there are not numerical fields within the dataset"
      ],
      "metadata": {
        "id": "1hDGbrU-9rk9"
      }
    },
    {
      "cell_type": "markdown",
      "source": [
        "We preliminarly convert categorical variabels into numeric in order to calculate the Kolmogorov-Smirnov test"
      ],
      "metadata": {
        "id": "ODzDT-109Jre"
      }
    },
    {
      "cell_type": "code",
      "source": [
        "start_test_time = timeit.default_timer()\n",
        "tmp_orig_data = orig_data.copy()\n",
        "tmp_synth_data = synth_data.copy()\n",
        "tmp_orig_data.CELL_CALL_CODE = pd.to_numeric(tmp_orig_data.CELL_CALL_CODE)\n",
        "tmp_orig_data.NUM_CALLER_KEY = pd.to_numeric(tmp_orig_data.NUM_CALLER_KEY)\n",
        "tmp_synth_data.CELL_CALL_CODE = pd.to_numeric(tmp_synth_data.CELL_CALL_CODE)\n",
        "tmp_synth_data.NUM_CALLER_KEY = pd.to_numeric(tmp_synth_data.NUM_CALLER_KEY)\n",
<<<<<<< HEAD
        "results = KSTest.compute(tmp_orig_data, tmp_synth_data)\n",
=======
        "results = KSTest.compute(orig_data, tmp_synth_data)\n",
>>>>>>> e268813069110c05f9123a4bfc18d8087957aa03
        "print(\"Kolmogorov-Smirnov Test Test Results: \", results)\n",
        "print(\"Kolmogorov-Smirnov Metrics Test - Elapsed Time = \", timeit.default_timer() - start_test_time)"
      ],
      "metadata": {
        "colab": {
          "base_uri": "https://localhost:8080/"
        },
        "id": "2N-jzJnt7R8L",
<<<<<<< HEAD
        "outputId": "f929936c-c119-4e4c-8f85-b38fda09773c"
      },
      "execution_count": null,
=======
        "outputId": "5d032f01-6aec-4479-db6d-3bb8d5cdf84f"
      },
      "execution_count": 38,
>>>>>>> e268813069110c05f9123a4bfc18d8087957aa03
      "outputs": [
        {
          "output_type": "stream",
          "name": "stdout",
          "text": [
            "Kolmogorov-Smirnov Test Test Results:  0.95375\n",
<<<<<<< HEAD
            "Kolmogorov-Smirnov Metrics Test - Elapsed Time =  0.15046943700008342\n"
=======
            "Kolmogorov-Smirnov Metrics Test - Elapsed Time =  0.038176102000306855\n"
>>>>>>> e268813069110c05f9123a4bfc18d8087957aa03
          ]
        }
      ]
    },
    {
      "cell_type": "markdown",
      "source": [
        "The output of KSTest for each column is 1 minus the KS Test D statistic, which indicates the maximum distance between the expected CDF and the observed CDF values."
      ],
      "metadata": {
        "id": "Xxl4yAVv9I9W"
      }
    },
    {
      "cell_type": "markdown",
      "source": [
        "The letter \"D\" stands for \"distance.\" Geometrically, D measures the maximum vertical distance between the empirical cumulative distribution function (ECDF) of the sample and the cumulative distribution function (CDF) of the reference distribution."
      ],
      "metadata": {
        "id": "XQy1_E5E-qYx"
      }
    },
    {
      "cell_type": "markdown",
      "source": [
        "If the two samples were randomly sampled from identical populations, what is the probability that the two cumulative frequency distributions would be as far apart as observed? More precisely, what is the chance that the value of the Komogorov-Smirnov D statistic would be as large or larger than observed?\n",
        "\n",
        "If the P value is small, conclude that the two groups were sampled from populations with different distributions. The populations may differ in median, variability or the shape of the distribution. "
      ],
      "metadata": {
        "id": "krzoGnUi-Zb-"
      }
    },
    {
      "cell_type": "markdown",
      "source": [
        "So **0.95375** which is 1-D, means that the distance is low, and the two distribution are very close. "
      ],
      "metadata": {
        "id": "g4K0on9y-6bp"
      }
    },
    {
      "cell_type": "markdown",
      "source": [
        "In each case, the statistical test will be executed on all the compatible column (so, categorical or boolean columns for CSTest and numerical columns for KSTest), and report the average score obtained."
      ],
      "metadata": {
        "id": "u5HUUTVG-0xD"
      }
    },
    {
      "cell_type": "markdown",
      "source": [
        "#**Likelihood Metrics**"
      ],
      "metadata": {
        "id": "iMhYRH-FuFKm"
      }
    },
    {
      "cell_type": "markdown",
      "source": [
        "The metrics of this family compare the tables by fitting the real data to a probabilistic model and afterwards compute the likelihood of the synthetic data belonging to the learned distribution."
      ],
      "metadata": {
        "id": "fStqKKpGuHdO"
      }
    },
    {
      "cell_type": "markdown",
      "source": [
        "**sdv.metrics.tabular.BNLikelihood:** This metric fits a BayesianNetwork to the real data and then evaluates the average likelihood of the rows from the synthetic data on it.\n",
        "\n"
      ],
      "metadata": {
        "id": "vLejqOISuJr-"
      }
    },
    {
      "cell_type": "code",
      "source": [
        "start_test_time = timeit.default_timer()\n",
        "results = BNLikelihood.compute(orig_data.fillna(0), synth_data.fillna(0))\n",
        "print(\"BNLikelihood Test Results: \", results)\n",
        "print(\"BNLikelihood Metrics Test - Elapsed Time = \", timeit.default_timer() - start_test_time)"
      ],
      "metadata": {
        "colab": {
          "base_uri": "https://localhost:8080/"
        },
        "id": "TTVZkPE-je1W",
<<<<<<< HEAD
        "outputId": "afa3ebdc-49bf-4ba1-dcee-23fdbc42971b"
      },
      "execution_count": null,
=======
        "outputId": "07cc1c91-d673-4187-e4e8-497e07b854fd"
      },
      "execution_count": 37,
>>>>>>> e268813069110c05f9123a4bfc18d8087957aa03
      "outputs": [
        {
          "output_type": "stream",
          "name": "stdout",
          "text": [
            "BNLikelihood Test Results:  0.00013183\n",
<<<<<<< HEAD
            "BNLikelihood Metrics Test - Elapsed Time =  63.34669593400008\n"
=======
            "Likelihood Metrics Test n.1 - Elapsed Time =  70.74522885399983\n"
>>>>>>> e268813069110c05f9123a4bfc18d8087957aa03
          ]
        }
      ]
    },
    {
      "cell_type": "markdown",
      "source": [
        "Bayesian Networks Likelihood is the Error calculated on Synthetic data after fitting the model on Real Data. Very low error (likelihood) like **0.00013183** means the two datasets are very close in terms of probabilistic models. "
      ],
      "metadata": {
        "id": "wTRRPNlCALbF"
      }
    },
    {
      "cell_type": "markdown",
      "source": [
        "**sdv.metrics.tabular.BNLogLikelihood:** This metric fits a BayesianNetwork to the real data and then evaluates the average log likelihood of the rows from the synthetic data on it.\n",
        "\n"
      ],
      "metadata": {
        "id": "njvQJlKA_PlQ"
      }
    },
    {
      "cell_type": "code",
      "source": [
        "start_test_time = timeit.default_timer()\n",
        "results = BNLogLikelihood.compute(orig_data.fillna(0), synth_data.fillna(0))\n",
        "print(\"BNLogLikelihood Test Results: \", results)\n",
        "print(\"BNLogLikelihood Metrics Test - Elapsed Time = \", timeit.default_timer() - start_test_time)"
      ],
      "metadata": {
        "colab": {
          "base_uri": "https://localhost:8080/"
        },
        "id": "Ibuqn8SelYLj",
        "outputId": "67564cc8-ad0f-42b3-f8d2-77498669ef3e"
      },
<<<<<<< HEAD
      "execution_count": null,
=======
      "execution_count": 45,
>>>>>>> e268813069110c05f9123a4bfc18d8087957aa03
      "outputs": [
        {
          "output_type": "stream",
          "name": "stdout",
          "text": [
            "BNLogLikelihood Test Results:  -17.415473543655498\n",
            "BNLogLikelihood Metrics Test - Elapsed Time =  63.65368466500013\n"
          ]
        }
      ]
    },
    {
      "cell_type": "markdown",
      "source": [
        "![Binary_logarithm_plot_with_ticks.svg](data:image/svg+xml;base64,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)"
      ],
      "metadata": {
        "id": "awFK1YhlBYIB"
      }
    },
    {
      "cell_type": "markdown",
      "source": [
        "With very low error (close to 0) according to the Log function, the output value must be negative such as: **-17.415473543655498**, so it is very good.\n"
      ],
      "metadata": {
        "id": "JPhYNcb7BGRq"
      }
    },
    {
      "cell_type": "markdown",
      "source": [
        "#**Detection Metrics**"
      ],
      "metadata": {
        "id": "QkzvE2ssueRk"
      }
    },
    {
      "cell_type": "markdown",
      "source": [
        "The metrics of this family evaluate how hard it is to distinguish the synthetic data from the real data by using a Machine Learning model. To do this, the metrics will shuffle the real data and synthetic data together with flags indicating whether the data is real or synthetic, and then cross validate a Machine Learning model that tries to predict this flag. \n",
        "\n"
      ],
      "metadata": {
        "id": "d2jRQLIiug5-"
      }
    },
    {
      "cell_type": "markdown",
      "source": [
        "**sdv.metrics.tabular.LogisticDetection**: Detection metric based on a LogisticRegression classifier from scikit-learn."
      ],
      "metadata": {
        "id": "2cKpckqnClEA"
      }
    },
    {
      "cell_type": "code",
      "source": [
        "start_test_time = timeit.default_timer()\n",
        "results = LogisticDetection.compute(orig_data, synth_data)\n",
        "print(\"Detection Metrics Test n.1 (Logistic) Results: \", results)\n",
        "print(\"Detection Metrics Test n.1 (Logistic) - Elapsed Time = \", timeit.default_timer() - start_test_time)"
      ],
      "metadata": {
        "colab": {
          "base_uri": "https://localhost:8080/"
        },
        "id": "8yAbvF3Jue3j",
<<<<<<< HEAD
        "outputId": "24666dec-05e4-4067-d47b-9639596528b1"
      },
      "execution_count": null,
=======
        "outputId": "4def1193-db08-4f23-d1a4-760db1d5bb16"
      },
      "execution_count": 53,
>>>>>>> e268813069110c05f9123a4bfc18d8087957aa03
      "outputs": [
        {
          "output_type": "stream",
          "name": "stdout",
          "text": [
<<<<<<< HEAD
            "Detection Metrics Test n.1 (Logistic) Results:  0.6225615390876011\n",
            "Detection Metrics Test n.1 (Logistic) - Elapsed Time =  11.794518487000005\n"
          ]
        },
        {
          "output_type": "stream",
          "name": "stderr",
          "text": [
            "/usr/local/lib/python3.7/dist-packages/sklearn/linear_model/_logistic.py:818: ConvergenceWarning: lbfgs failed to converge (status=1):\n",
            "STOP: TOTAL NO. of ITERATIONS REACHED LIMIT.\n",
            "\n",
            "Increase the number of iterations (max_iter) or scale the data as shown in:\n",
            "    https://scikit-learn.org/stable/modules/preprocessing.html\n",
            "Please also refer to the documentation for alternative solver options:\n",
            "    https://scikit-learn.org/stable/modules/linear_model.html#logistic-regression\n",
            "  extra_warning_msg=_LOGISTIC_SOLVER_CONVERGENCE_MSG,\n"
=======
            "Detection Metrics Test n.1 (Logistic) Results:  0.9557033149931881\n",
            "Detection Metrics Test n.1 (Logistic) - Elapsed Time =  0.12409467399993446\n"
>>>>>>> e268813069110c05f9123a4bfc18d8087957aa03
          ]
        }
      ]
    },
    {
      "cell_type": "markdown",
      "source": [
<<<<<<< HEAD
        "**0.6225615390876011** is a good result"
      ],
      "metadata": {
        "id": "XU4rEr4hj5JV"
      }
    },
    {
      "cell_type": "markdown",
      "source": [
        "The output of the metrics will be the 1 minus the average ROC AUC score across all the cross validation splits. So the higher it is, the better it is. "
      ],
      "metadata": {
=======
        "The output of the metrics will be the 1 minus the average ROC AUC score across all the cross validation splits. So the higher it is, the better it is. "
      ],
      "metadata": {
>>>>>>> e268813069110c05f9123a4bfc18d8087957aa03
        "id": "GV6QI9LVC5_m"
      }
    },
    {
      "cell_type": "markdown",
      "source": [
        "AUC stands for \"Area under the ROC Curve.\" That is, AUC measures the entire two-dimensional area underneath the entire ROC curve (think integral calculus) from (0,0) to (1,1)."
      ],
      "metadata": {
        "id": "lgUAfqC4DQ9y"
      }
    },
    {
      "cell_type": "markdown",
      "source": [
        "AUC provides an aggregate measure of performance across all possible classification thresholds. One way of interpreting AUC is as the probability that the model ranks a random positive example more highly than a random negative example. AUC represents the probability that a random positive (green) example is positioned to the right of a random negative (red) example. AUC ranges in value from 0 to 1. A model whose predictions are 100% wrong has an AUC of 0.0; one whose predictions are 100% correct has an AUC of 1.0."
      ],
      "metadata": {
        "id": "wbyvJv1_Dua6"
      }
    },
    {
      "cell_type": "markdown",
      "source": [
        "![AUC.svg](data:image/svg+xml;base64,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)"
      ],
      "metadata": {
        "id": "S8ZYqFfcDV2j"
      }
    },
    {
      "cell_type": "markdown",
      "source": [
        "**sdv.metrics.tabular.SVCDetection:** Detection metric based on a SVC classifier from scikit-learn."
      ],
      "metadata": {
        "id": "0HG6-BERCoK2"
      }
    },
    {
      "cell_type": "code",
      "source": [
        "start_test_time = timeit.default_timer()\n",
        "results = SVCDetection.compute(orig_data, synth_data)\n",
        "print(\"Detection Metrics Test n.1 (Support Vector Machine) Results: \", results)\n",
        "print(\"Detection Metrics Test n.1 (Support Vector Machine) - Elapsed Time = \", timeit.default_timer() - start_test_time)"
      ],
      "metadata": {
        "colab": {
          "base_uri": "https://localhost:8080/"
        },
        "id": "NWaRRSoLoQc6",
        "outputId": "4bea816e-bd2c-4f3c-f1e7-2377d153d9b2"
      },
      "execution_count": null,
      "outputs": [
        {
          "output_type": "stream",
          "name": "stderr",
          "text": [
            "/usr/local/lib/python3.7/dist-packages/pandas/core/frame.py:3678: PerformanceWarning: DataFrame is highly fragmented.  This is usually the result of calling `frame.insert` many times, which has poor performance.  Consider joining all columns at once using pd.concat(axis=1) instead.  To get a de-fragmented frame, use `newframe = frame.copy()`\n",
            "  self[col] = igetitem(value, i)\n"
          ]
        },
        {
          "output_type": "stream",
          "name": "stdout",
          "text": [
            "Detection Metrics Test n.1 (Support Vector Machine) Results:  0.15382461499843092\n",
            "Detection Metrics Test n.1 (Support Vector Machine) - Elapsed Time =  1925.9618467890002\n"
          ]
        }
      ]
    },
    {
      "cell_type": "markdown",
      "source": [
        "#**Machine Learning Efficacy Metrics**"
      ],
      "metadata": {
        "id": "BIXrFNSYr3f3"
      }
    },
    {
      "cell_type": "markdown",
      "source": [
        "This family of metrics will evaluate whether it is possible to replace the real data with synthetic data in order to solve a Machine Learning Problem by learning a Machine Learning model on the synthetic data and then evaluating the score which it obtains when evaluated on the real data."
      ],
      "metadata": {
        "id": "YDDdr8_or6KL"
      }
    },
    {
      "cell_type": "markdown",
      "source": [
        "The metrics on this family are organized by Machine Learning problem type and model.\n",
        "\n",
        "    Binary Classification Metrics:\n",
        "\n",
        "        BinaryDecisionTreeClassifier\n",
        "\n",
        "        BinaryAdaBoostClassifier\n",
        "\n",
        "        BinaryLogisticRegression\n",
        "\n",
        "        BinaryMLPClassifier\n",
        "\n",
        "    Multiclass Classification Metrics:\n",
        "\n",
        "        MulticlassDecisionTreeClassifier\n",
        "\n",
        "        MulticlassMLPClassifier\n",
        "\n",
        "    Regression Metrics:\n",
        "\n",
        "        LinearRegression\n",
        "\n",
        "        MLPRegressor\n",
        "\n",
        "In order to run these metrics we will need to select a column from our dataset which we will use as the target for the prediction problem. "
      ],
      "metadata": {
        "id": "_9n-ETP4v_7L"
      }
    },
    {
      "cell_type": "code",
      "source": [
        "start_test_time = timeit.default_timer()\n",
        "results = MulticlassDecisionTreeClassifier.compute(orig_data, synth_data, target='CELL_CALL_CODE')\n",
        "print(\"Machine Learning Efficacy Metrics Test n.1 Results: \", results)\n",
        "print(\"Machine Learning Efficacy Metrics Test n.1 - Elapsed Time = \", timeit.default_timer() - start_test_time)"
      ],
      "metadata": {
        "id": "L8k-N_D0r5j2",
        "colab": {
          "base_uri": "https://localhost:8080/"
        },
<<<<<<< HEAD
        "outputId": "0191a1e3-883a-4a04-8ee8-161cb0253009"
      },
      "execution_count": null,
      "outputs": [
        {
          "output_type": "stream",
          "name": "stderr",
          "text": [
            "/usr/local/lib/python3.7/dist-packages/pandas/core/frame.py:3678: PerformanceWarning: DataFrame is highly fragmented.  This is usually the result of calling `frame.insert` many times, which has poor performance.  Consider joining all columns at once using pd.concat(axis=1) instead.  To get a de-fragmented frame, use `newframe = frame.copy()`\n",
            "  self[col] = igetitem(value, i)\n"
          ]
        },
        {
          "output_type": "stream",
          "name": "stdout",
          "text": [
            "Machine Learning Efficacy Metrics Test n.1 Results:  6.896227054769832e-05\n",
            "Machine Learning Efficacy Metrics Test n.1 - Elapsed Time =  1.346930365999924\n"
=======
        "outputId": "b4e3bb93-3e5a-4284-9aa2-fce4998b848a"
      },
      "execution_count": 55,
      "outputs": [
        {
          "output_type": "stream",
          "name": "stdout",
          "text": [
            "Machine Learning Efficacy Metrics Test n.1 Results:  0.0008137391275926499\n",
            "Machine Learning Efficacy Metrics Test n.1 - Elapsed Time =  0.526010825999947\n"
>>>>>>> e268813069110c05f9123a4bfc18d8087957aa03
          ]
        }
      ]
    },
    {
      "cell_type": "markdown",
      "source": [
        "Notice that the value returned by the metric does not only depend on how good our synthetic data is, but also on how hard the Machine Learning problem that we are trying to solve is. "
      ],
      "metadata": {
        "id": "4m1XQAfDEykA"
      }
    },
    {
      "cell_type": "code",
      "source": [
        "start_test_time = timeit.default_timer()\n",
        "results = MulticlassDecisionTreeClassifier.compute(orig_data, synth_data, target='NUM_CALLER_KEY')\n",
        "print(\"Machine Learning Efficacy Metrics Test n.2 Results: \", results)\n",
        "print(\"Machine Learning Efficacy Metrics Test n.2 - Elapsed Time = \", timeit.default_timer() - start_test_time)"
      ],
      "metadata": {
        "colab": {
          "base_uri": "https://localhost:8080/"
        },
        "id": "6p55bd-JFB9P",
        "outputId": "e10040af-11d5-4371-ad1d-73558f50a8c1"
      },
<<<<<<< HEAD
      "execution_count": null,
=======
      "execution_count": 57,
>>>>>>> e268813069110c05f9123a4bfc18d8087957aa03
      "outputs": [
        {
          "output_type": "stream",
          "name": "stdout",
          "text": [
            "Machine Learning Efficacy Metrics Test n.2 Results:  0.001955794271742283\n",
            "Machine Learning Efficacy Metrics Test n.2 - Elapsed Time =  0.27411728699962623\n"
          ]
        }
      ]
    },
    {
      "cell_type": "markdown",
      "source": [
        "**Note:** Since this metrics will be evaluated by trying to solve a Machine Learning problem, they can only be used on datasets that contain a target column that needs or can be predicted using the rest of the data, and the scores obtained by the metrics will be inversely proportional to how hard that Machine Problem is."
      ],
      "metadata": {
        "id": "b--QO3_XFbyL"
      }
    },
    {
      "cell_type": "markdown",
      "source": [
        "#**Privacy Metrics 1**"
      ],
      "metadata": {
        "id": "ddLg5Jfkukeg"
      }
    },
    {
      "cell_type": "markdown",
      "source": [
        "This family of metrics measures the privacy of a synthetic dataset by positing the question: given the synthetic data, can an attacker predict sensitive attributes in the real dataset? These models accomplish this by fitting an adversarial attacker model on the synthetic data to predict sensitive attributes from “key” attributes and then evaluating its accuracy on the real data.\n",
        "\n",
        "The metrics on this family are organized according to the data type they take as input:\n",
        "\n",
        "    Categorical metrics:\n",
        "\n",
        "        sdv.metrics.tabular.CategoricalCAP\n",
        "\n",
        "        sdv.metrics.tabular.CategoricalZeroCAP\n",
        "\n",
        "        sdv.metrics.tabular.CategoricalGeneralizedCAP\n",
        "\n",
        "        sdv.metrics.tabular.CategoricalKNN\n",
        "\n",
        "        sdv.metrics.tabular.CategoricalNB\n",
        "\n",
        "        sdv.metrics.tabular.CategoricalRF\n",
        "\n",
        "        sdv.metrics.tabular.CategoricalEnsemble\n",
        "\n",
        "    Numerical metrics:\n",
        "\n",
        "        sdv.metrics.tabular.NumericalMLP\n",
        "\n",
        "        sdv.metrics.tabular.NumericalLR\n",
        "\n",
        "        sdv.metrics.tabular.NumericalSVR\n",
        "\n",
        "        sdv.metrics.tabular.NumericalRadiusNearestNeighbor"
      ],
      "metadata": {
        "id": "cKNGOHZpu0Q1"
      }
    },
    {
      "cell_type": "markdown",
      "source": [
        "In addition to the real and synthetic data, these metrics also require two additional inputs, sensitive_fields which is a list of columns considered private and key_fields which are the columns that will be used to try to predict the sensitive ones.\n",
        "\n",
        "Using the demo data set, one possible example is to use:\n",
        "\n",
        "    salary as a sensitive column, which is the column we are measuring ahow private it is\n",
        "\n",
        "    second_perc, mba_perc and degree_perc as the key columns, which will be used by the adversarial attacker to predict the sensitive column\n",
        "\n",
        "Notice that as all the involved columns are numerical, we need to apply a numerical privacy metric. Conversely, if all of the columns are categorical, we need to use a categorical privacy metric. Currently, the privacy metrics do not support mixed data types.\n",
        "\n",
        "**Note:**These metrics do not accept missing data, so we will replace all the missing values with a 0 before executing them."
      ],
      "metadata": {
        "id": "hfckJ-uku5l0"
      }
    },
    {
      "cell_type": "code",
      "source": [
        "start_test_time = timeit.default_timer()\n",
        "tmp_orig_data = orig_data.copy()\n",
        "tmp_synth_data = synth_data.copy()\n",
        "tmp_orig_data.CELL_CALL_CODE = pd.to_numeric(tmp_orig_data.CELL_CALL_CODE)\n",
        "tmp_orig_data.NUM_CALLER_KEY = pd.to_numeric(tmp_orig_data.NUM_CALLER_KEY)\n",
        "tmp_synth_data.CELL_CALL_CODE = pd.to_numeric(tmp_synth_data.CELL_CALL_CODE)\n",
        "tmp_synth_data.NUM_CALLER_KEY = pd.to_numeric(tmp_synth_data.NUM_CALLER_KEY)\n",
        "results = NumericalLR.compute(tmp_orig_data.fillna(0), tmp_synth_data.fillna(0), key_fields=['NUM_CALLER_KEY'], sensitive_fields=['CELL_CALL_CODE'])\n",
        "print(\"Privacy Metrics 1 Test n.1 Results: \", results)\n",
        "print(\"Privacy Metrics 1 Test n.1 - Elapsed Time = \", timeit.default_timer() - start_test_time)"
      ],
      "metadata": {
        "id": "aloWkT5mu1pj",
        "colab": {
          "base_uri": "https://localhost:8080/"
        },
<<<<<<< HEAD
        "outputId": "6ab0660b-fe5e-4ab7-c763-f745e068d96a"
      },
      "execution_count": null,
      "outputs": [
        {
          "output_type": "stream",
          "name": "stderr",
          "text": [
            "/usr/local/lib/python3.7/dist-packages/scipy/stats/_continuous_distns.py:5320: RuntimeWarning: divide by zero encountered in true_divide\n",
            "  return c**2 / (c**2 - n**2)\n",
            "/usr/local/lib/python3.7/dist-packages/scipy/stats/_distn_infrastructure.py:2606: RuntimeWarning: invalid value encountered in double_scalars\n",
            "  Lhat = muhat - Shat*mu\n"
          ]
        },
        {
          "output_type": "stream",
          "name": "stdout",
          "text": [
            "Privacy Metrics 1 Test n.1 Results:  0.08976442388552597\n",
            "Privacy Metrics 1 Test n.1 - Elapsed Time =  51.86975963000009\n"
          ]
        }
      ]
    },
    {
      "cell_type": "code",
      "source": [
        "start_test_time = timeit.default_timer()\n",
        "tmp_orig_data = orig_data.copy()\n",
        "tmp_synth_data = synth_data.copy()\n",
        "tmp_orig_data.CELL_CALL_CODE = pd.to_numeric(tmp_orig_data.CELL_CALL_CODE)\n",
        "tmp_orig_data.NUM_CALLER_KEY = pd.to_numeric(tmp_orig_data.NUM_CALLER_KEY)\n",
        "tmp_synth_data.CELL_CALL_CODE = pd.to_numeric(tmp_synth_data.CELL_CALL_CODE)\n",
        "tmp_synth_data.NUM_CALLER_KEY = pd.to_numeric(tmp_synth_data.NUM_CALLER_KEY)\n",
        "results = NumericalLR.compute(tmp_orig_data.fillna(0), tmp_synth_data.fillna(0), key_fields=['CELL_CALL_CODE'], sensitive_fields=['NUM_CALLER_KEY'])\n",
        "print(\"Privacy Metrics 1 Test n.2 Results: \", results)\n",
        "print(\"Privacy Metrics 1 Test n.2 - Elapsed Time = \", timeit.default_timer() - start_test_time)"
      ],
      "metadata": {
        "colab": {
          "base_uri": "https://localhost:8080/"
        },
        "id": "pr4B4JM_IEZ4",
        "outputId": "593f5fbe-e4ce-484f-fd8c-ba2c48ffd3d7"
      },
      "execution_count": null,
      "outputs": [
        {
          "output_type": "stream",
          "name": "stderr",
          "text": [
            "/usr/local/lib/python3.7/dist-packages/scipy/stats/_continuous_distns.py:639: RuntimeWarning: invalid value encountered in sqrt\n",
            "  sk = 2*(b-a)*np.sqrt(a + b + 1) / (a + b + 2) / np.sqrt(a*b)\n",
            "/usr/local/lib/python3.7/dist-packages/scipy/stats/_continuous_distns.py:5320: RuntimeWarning: divide by zero encountered in true_divide\n",
            "  return c**2 / (c**2 - n**2)\n",
            "/usr/local/lib/python3.7/dist-packages/scipy/stats/_distn_infrastructure.py:2606: RuntimeWarning: invalid value encountered in double_scalars\n",
            "  Lhat = muhat - Shat*mu\n"
          ]
        },
        {
          "output_type": "stream",
          "name": "stdout",
          "text": [
            "Privacy Metrics 1 Test n.2 Results:  0.156501232102125\n",
            "Privacy Metrics 1 Test n.2 - Elapsed Time =  58.19724421200044\n"
          ]
        }
      ]
    },
    {
      "cell_type": "markdown",
      "source": [
        "The output of this metric is between 0 and 1, where the closer the value is to 0, the less private it is."
      ],
      "metadata": {
        "id": "xaGkB-xBIb5g"
      }
    },
    {
      "cell_type": "markdown",
      "source": [
        "#**Privacy Metrics 2**"
      ],
      "metadata": {
        "id": "ceewix1GJePb"
      }
    },
    {
      "cell_type": "markdown",
      "source": [
        "**Pmetrics.py to evaluate Privacy**"
      ],
      "metadata": {
        "id": "nQn2a5wHVGul"
      }
    },
    {
      "cell_type": "markdown",
      "source": [
        "#**All Privacy Metrics Functions Definitions**"
      ],
      "metadata": {
        "id": "JZneMC-9J5TB"
      }
    },
    {
      "cell_type": "code",
      "source": [
        "def cellchange(df1, df2, quasi, exclude_cols):\n",
        "    uniques1 = df1.drop_duplicates(subset=quasi, keep=False)\n",
        "    uniques2 = df2.drop_duplicates(subset=quasi, keep=False)\n",
        "    matcheduniq = uniques1.merge(uniques2, how='inner', on = quasi)\n",
        "    allcols = set(df1.columns).intersection(set(df2.columns))\n",
        "       \n",
        "    cols = allcols - set(quasi) - set(exclude_cols)\n",
        "    m = match(matcheduniq, cols)\n",
        "    \n",
        "    return m, uniques1, uniques2, matcheduniq\n",
        "\n",
        "def match(df, cols):\n",
        "    S = pd.Series(data=0, index=df.index)\n",
        "    for c in cols:\n",
        "        c_x = c + \"_x\"\n",
        "        c_y = c + \"_y\"\n",
        "        S = S + (df[c_x] == df[c_y]).astype(int)\n",
        "\n",
        "    S = (S/len(cols))*100\n",
        "\n",
        "    return S\n",
        "\n",
        "def aggr_privacy(S): \n",
        "  return 1 - (S / 100).sum() / len(S)"
      ],
      "metadata": {
        "id": "2vF54Wl1VVlx"
      },
      "execution_count": 24,
      "outputs": []
    },
    {
      "cell_type": "code",
      "source": [
        "start_test_time = timeit.default_timer()\n",
        "'''\n",
        "# Load datasets \n",
        "dataset = pd.read_csv('/content/telephony_synth_data_generated_by_method_copulagantotal_time_2863.58_score_0.45_export.csv')  \n",
        "#groundtruth = pd.read_csv(args.groundtruth, dtypye=dtypes)\n",
        "groundtruth = pd.read_csv('/content/syntetic_telephony_export.csv')\n",
        "\n",
        "dataset.drop(\"Unnamed: 0\", axis=1, inplace=True)\n",
        "groundtruth.drop(\"Unnamed: 0\", axis=1, inplace=True)\n",
        "'''\n",
        "\n",
        "q = 'CELL_CALL_CODE'\n",
        "Qs = q.split(\",\")\n",
        "Qs = [s.strip(\" \") for s in Qs]\n",
        "\n",
        "x = 'CALL_DATE,TIME_MIN_CALL'\n",
        "Xs = x.split(\",\")\n",
        "Xs = [s.strip(\" \") for s in Xs]\n",
        "#percents, uniques1, uniques2, matched  = cellchange(groundtruth, dataset, Qs, Xs)\n",
        "percents, uniques1, uniques2, matched  = cellchange(orig_data, synth_data, Qs, Xs)\n",
        "    \n",
        "if display_matches is True: \n",
        "  print(\"Matched: \\n\",matched)\n",
        "  print(\"Percents: \\n\",percents)\n",
        "\n",
        "#Histogram\n",
        "plt.figure(figsize = (10,10))\n",
        "plt.title('Percentage of raw synthetic records that had an apparent match with groundtruth dataset')\n",
        "percents.hist()\n",
        "plt.xlim(0,100)\n",
        "plt.savefig('privacy_metric.png')\n",
        "plt.show()\n",
        "\n",
        "print(\"Privacy Metrics 2 Test n.1 Aggregated Results: \", aggr_privacy(percents))\n",
        "print(\"Privacy Metrics 2 Test n.1 - Elapsed Time = \", timeit.default_timer() - start_test_time)"
      ],
      "metadata": {
        "colab": {
          "base_uri": "https://localhost:8080/",
          "height": 642
        },
        "id": "JeWdJDI8XFb5",
        "outputId": "cffcfd63-5970-4bfb-ed51-b907f92ec1ae"
      },
      "execution_count": 28,
      "outputs": [
        {
          "output_type": "display_data",
          "data": {
            "text/plain": [
              "<Figure size 720x720 with 1 Axes>"
            ],
            "image/png": "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\n"
          },
          "metadata": {
            "needs_background": "light"
          }
        },
        {
          "output_type": "stream",
          "name": "stdout",
          "text": [
            "Privacy Metrics 2 Test n.1 Aggregated Results:  0.9876543209876543\n",
            "Privacy Metrics 2 Test n.1 - Elapsed Time =  0.2935875470002429\n"
          ]
        }
      ]
    },
    {
      "cell_type": "markdown",
      "source": [
        "Aggregated Privacy is 1 - the normalized sum of all matches. More matches means less privacy, so 1 means high privacy, 0 means low privacy. In our first test **0.9876543209876543** means high privacy. "
      ],
      "metadata": {
        "id": "_fNuN1Jg2iP1"
      }
    },
    {
      "cell_type": "code",
      "source": [
        "start_test_time = timeit.default_timer()\n",
        "\n",
        "q = 'NUM_CALLER_KEY'\n",
        "Qs = q.split(\",\")\n",
        "Qs = [s.strip(\" \") for s in Qs]\n",
        "\n",
        "x = 'CALL_DATE,TIME_MIN_CALL'\n",
        "Xs = x.split(\",\")\n",
        "Xs = [s.strip(\" \") for s in Xs]\n",
        "percents, uniques1, uniques2, matched  = cellchange(orig_data, synth_data, Qs, Xs)\n",
        "\n",
        "if display_matches is True: \n",
        "  print(\"Matched: \\n\",matched)\n",
        "  print(\"Percents: \\n\",percents)\n",
        "\n",
        "#Histogram\n",
        "plt.figure(figsize = (10,10))\n",
        "plt.title('Percentage of raw synthetic records that had an apparent match with groundtruth dataset')\n",
        "percents.hist()\n",
        "plt.xlim(0,100)\n",
        "plt.savefig('privacy_metric.png')\n",
        "plt.show()\n",
        "print(\"Privacy Metrics 2 Test n.2 Aggregated Results: \", aggr_privacy(percents))\n",
        "print(\"Privacy Metrics 2 Test n.2 - Elapsed Time = \", timeit.default_timer() - start_test_time)"
      ],
      "metadata": {
        "colab": {
          "base_uri": "https://localhost:8080/",
          "height": 642
        },
        "id": "h5Gl1PbUKs2A",
        "outputId": "83f5769e-8eee-46d6-ef82-6095a2fb7d59"
      },
      "execution_count": 29,
      "outputs": [
        {
          "output_type": "display_data",
          "data": {
            "text/plain": [
              "<Figure size 720x720 with 1 Axes>"
            ],
            "image/png": "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\n"
          },
          "metadata": {
            "needs_background": "light"
          }
        },
        {
          "output_type": "stream",
          "name": "stdout",
          "text": [
            "Privacy Metrics 2 Test n.2 Aggregated Results:  1.0\n",
            "Privacy Metrics 2 Test n.2 - Elapsed Time =  0.27324818299985054\n"
          ]
        }
      ]
    },
    {
      "cell_type": "markdown",
      "source": [
        "#**Model Visual Evaluation**"
      ],
      "metadata": {
        "id": "WuWYB-vvIwIG"
      }
    },
    {
      "cell_type": "markdown",
      "source": [
        "#**Original Data Univariate Distribution on NUM_CALLER_KEY**"
      ],
      "metadata": {
        "id": "klJL1YAOlel9"
      }
    },
    {
      "cell_type": "code",
      "source": [
        "pd.DataFrame(orig_data.NUM_CALLER_KEY.value_counts()).hist(bins=20)\n",
        "plt.show()"
      ],
      "metadata": {
        "colab": {
          "base_uri": "https://localhost:8080/",
          "height": 281
        },
        "id": "UWMBS7oylZkD",
        "outputId": "63625041-9079-4046-f3ae-f48a864f301e"
      },
      "execution_count": 30,
      "outputs": [
        {
          "output_type": "display_data",
          "data": {
            "text/plain": [
              "<Figure size 432x288 with 1 Axes>"
            ],
            "image/png": "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\n"
          },
          "metadata": {
            "needs_background": "light"
          }
        }
      ]
    },
    {
      "cell_type": "markdown",
      "source": [
        "#**Synthetic Data Univariate Distribution on NUM_CALLER_KEY**"
      ],
      "metadata": {
        "id": "TCEy6wIglN_z"
      }
    },
    {
      "cell_type": "code",
      "source": [
        "pd.DataFrame(synth_data.NUM_CALLER_KEY.value_counts()).hist(bins=20)\n",
        "plt.show()"
      ],
      "metadata": {
        "colab": {
          "base_uri": "https://localhost:8080/",
          "height": 281
        },
        "id": "nwfPaC0Ik746",
        "outputId": "4c92c8de-a6dc-4ab3-da7c-7982a5c2fd86"
      },
      "execution_count": 31,
      "outputs": [
        {
          "output_type": "display_data",
          "data": {
            "text/plain": [
              "<Figure size 432x288 with 1 Axes>"
            ],
            "image/png": "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\n"
          },
          "metadata": {
            "needs_background": "light"
          }
        }
      ]
    },
    {
      "cell_type": "markdown",
      "source": [
        "#**Original Data Univariate Distribution on CELL_CALL_CODE**"
      ],
      "metadata": {
        "id": "5Dlt6HmulpME"
      }
    },
    {
      "cell_type": "code",
      "source": [
        "pd.DataFrame(orig_data.CELL_CALL_CODE.value_counts()).hist(bins=20)\n",
        "plt.show()"
      ],
      "metadata": {
        "colab": {
          "base_uri": "https://localhost:8080/",
          "height": 281
        },
        "id": "36wrbLKPl5X1",
        "outputId": "b58faa16-7930-40f5-9919-fbe552aed982"
      },
      "execution_count": 32,
      "outputs": [
        {
          "output_type": "display_data",
          "data": {
            "text/plain": [
              "<Figure size 432x288 with 1 Axes>"
            ],
            "image/png": "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\n"
          },
          "metadata": {
            "needs_background": "light"
          }
        }
      ]
    },
    {
      "cell_type": "markdown",
      "source": [
        "#**Synthetic Data Univariate Distribution on CELL_CALL_CODE**"
      ],
      "metadata": {
        "id": "kB5BIqyFl04E"
      }
    },
    {
      "cell_type": "code",
      "source": [
        "pd.DataFrame(synth_data.CELL_CALL_CODE.value_counts()).hist(bins=20)\n",
        "plt.show()"
      ],
      "metadata": {
        "colab": {
          "base_uri": "https://localhost:8080/",
          "height": 281
        },
        "id": "1gZuBu4vly4r",
        "outputId": "0971896c-44c1-4df7-d51c-6bf5cee6d0c9"
      },
      "execution_count": 33,
      "outputs": [
        {
          "output_type": "display_data",
          "data": {
            "text/plain": [
              "<Figure size 432x288 with 1 Axes>"
            ],
            "image/png": "iVBORw0KGgoAAAANSUhEUgAAAXcAAAEICAYAAACktLTqAAAABHNCSVQICAgIfAhkiAAAAAlwSFlzAAALEgAACxIB0t1+/AAAADh0RVh0U29mdHdhcmUAbWF0cGxvdGxpYiB2ZXJzaW9uMy4yLjIsIGh0dHA6Ly9tYXRwbG90bGliLm9yZy+WH4yJAAATrElEQVR4nO3de5DdZX3H8fdXIqBsm+WiGUxiNy2MDoV629F4mc6GSw2gQltksIwkNjb/6BSrVmKd8TLTC46tVKeKkxpLUGpEFEkDVjGyRTuCJmoJF6lRoyaNRCBEF0WIfvvHeVYPh7OXkz27Z8/D+zXzmz2/53l+53zPs7uf/eU5v3MSmYkkqS5P6HUBkqTuM9wlqUKGuyRVyHCXpAoZ7pJUIcNdkipkuEtShQx3SaqQ4a5ZERF/FhHbImIsIvZGxGcj4iUR8c6IeKS0j28PNB2XEXFCm/tbHRFfPoQ6XhoRN0fETyPixxHxXxHxipYxI+VxL2lpHyrtC9rc7zsj4mOHUE/beWnqPykiNkfEgVLzTRHxojY1jc/dPRGxJSLOaHmcXRHx85Z5/pdO61X/MtzVdRHxRuCfgb8HFgFPBz4InFOGfCIzB5q2wVmq4zzgk8CVwJJSy9uBl7cMXQXcD1w0G3U01TPpvETE7wH/DewAlgFPA64FPh8RL2y5u8HMHACeBdwIXBsRq1vGvLxlnl8/O89M81Jmurl1bQMWAmPAKyfofyfwsUmOT+CENu2rgS93UEcAPwD+eopxRwE/BS4AHgaGm/qGSj0LOn0enc5LGfNR4IY27ZcDN09WE/Bm4B7gCWV/F3B6r38e3Hq3eeaubnshcCSNM85eegawFLhminF/QiN0Pwl8jsZZ/GyYzrycUepodTXw4oh40iTHfhp4Ko3nLRnu6rpjgXsz8+AkY86PiAeatptmqQ6AvVOMW0VjmeiXwL8DF0TEE2epnqnm5Tja17uXxu/qMZMc+3/la/OYz7TM8190VLH6muGubrsPOK7di5BNrs7MwaZtxSzVAXD8RAMiYimwAriqNF1H4+z67FmqZ6p5uZf29R4P/ArYP8mxi8vX+5vazm2Z53/tqGL1NcNd3fYV4BfAuT2u427gh8CfTjLm1TR+B/4jIn4EfJdGuM/G0sx05uULwCvbtJ8PfCUzfzbJsX8M7KPxvCUmO4uQOpaZByLi7cAHIuIg8HngEeB0GmfJkwXUuMMj4sim/UfK12hpJzMfmqCOLFenbIiI+4BP0VhbfxFwUWaupRHi7wI+1HTo84FPRsSxTW1HtJxxP1y+PqGlnszMX0xQz6TzkplvKbV8LSL+Dvin0r+axlU8f9TufiNiEY0/CO8ALs7MX7Ubp8ehXr+i61bnBlwIbAMeBH4EXE8jWN9JI7TGWranluOyzfZaGiHXru8xV7K01LES+FJ5jB8DozSWXZYDDwFPaXPMHcDr+c2VKa3b6eV5tLbvPtR5aeo/GdgC/KTUPAq8pKl/vKaxch/7gBuAlS2Pswv4ecscX9vrnwu3udui/CBIkirimrskVcg1d/W1iBiboOvMzPzSHNfydODOCbpPyswfzGU9enxzWUaSKjQvztyPO+64HBoa6uiYBx98kKOOOmp2CpoD1t9b1t9b/Vz/fKp9+/bt92bmU9r1zYtwHxoaYtu2bR0dMzo6ysjIyOwUNAesv7esv7f6uf75VHtEfH+iPl9QlaQKGe6SVCHDXZIqZLhLUoUMd0mqkOEuSRUy3CWpQoa7JFXIcJekCs2Ld6jOxNC662d0/K5LZ+N/VJOk3vLMXZIqZLhLUoUMd0mqkOEuSRUy3CWpQoa7JFXIcJekChnuklQhw12SKmS4S1KFDHdJqpDhLkkVMtwlqUKGuyRVyHCXpAoZ7pJUIcNdkipkuEtShQx3SaqQ4S5JFTLcJalChrskVchwl6QKGe6SVCHDXZIqNO1wj4jDIuIbEbGl7C+LiFsjYmdEfCIiDi/tR5T9naV/aHZKlyRNpJMz94uBu5r23w1clpknAPuBNaV9DbC/tF9WxkmS5tC0wj0ilgBnAx8u+wGcClxThmwEzi23zyn7lP7TynhJ0hyJzJx6UMQ1wD8AvwW8GVgN3FLOzomIpcBnM/PkiLgdWJmZu0vfd4AXZOa9Lfe5FlgLsGjRoudt2rSpo8LHxsYYGBhgx54DHR3X6pTFC2d0/KEar79fWX9vWX/vzKfaV6xYsT0zh9v1LZjq4Ih4GbAvM7dHxEi3isrM9cB6gOHh4RwZ6eyuR0dHGRkZYfW662dUx64LO3vcbhmvv19Zf29Zf+/0S+1ThjvwYuAVEXEWcCTw28D7gMGIWJCZB4ElwJ4yfg+wFNgdEQuAhcB9Xa9ckjShKdfcM/OtmbkkM4eAC4AvZuaFwE3AeWXYKuC6cntz2af0fzGns/YjSeqamVznfgnwxojYCRwLbCjtG4BjS/sbgXUzK1GS1KnpLMv8WmaOAqPl9neB57cZ8xDwyi7UJkk6RL5DVZIqZLhLUoUMd0mqkOEuSRUy3CWpQoa7JFXIcJekChnuklQhw12SKmS4S1KFDHdJqpDhLkkVMtwlqUKGuyRVyHCXpAoZ7pJUIcNdkipkuEtShQx3SaqQ4S5JFTLcJalChrskVchwl6QKGe6SVCHDXZIqZLhLUoUMd0mqkOEuSRUy3CWpQoa7JFXIcJekChnuklQhw12SKmS4S1KFDHdJqtCU4R4RR0bEVyPifyLijoh4V2lfFhG3RsTOiPhERBxe2o8o+ztL/9DsPgVJUqvpnLn/Ajg1M58FPBtYGRHLgXcDl2XmCcB+YE0ZvwbYX9ovK+MkSXNoynDPhrGy+8SyJXAqcE1p3wicW26fU/Yp/adFRHStYknSlCIzpx4UcRiwHTgB+ADwHuCWcnZORCwFPpuZJ0fE7cDKzNxd+r4DvCAz7225z7XAWoBFixY9b9OmTR0VPjY2xsDAADv2HOjouFanLF44o+MP1Xj9/cr6e8v6e2c+1b5ixYrtmTncrm/BdO4gM38JPDsiBoFrgWfOtKjMXA+sBxgeHs6RkZGOjh8dHWVkZITV666fUR27LuzscbtlvP5+Zf29Zf290y+1d3S1TGY+ANwEvBAYjIjxPw5LgD3l9h5gKUDpXwjc15VqJUnTMp2rZZ5SztiJiCcBZwB30Qj588qwVcB15fbmsk/p/2JOZ+1HktQ101mWOR7YWNbdnwBcnZlbIuJOYFNE/C3wDWBDGb8B+GhE7ATuBy6YhbolSZOYMtwz8zbgOW3avws8v037Q8Aru1KdJOmQ+A5VSaqQ4S5JFTLcJalChrskVchwl6QKGe6SVCHDXZIqZLhLUoUMd0mqkOEuSRUy3CWpQoa7JFXIcJekChnuklQhw12SKmS4S1KFDHdJqpDhLkkVMtwlqUKGuyRVyHCXpAoZ7pJUIcNdkipkuEtShQx3SaqQ4S5JFTLcJalChrskVchwl6QKGe6SVCHDXZIqZLhLUoUMd0mqkOEuSRUy3CWpQoa7JFVoynCPiKURcVNE3BkRd0TExaX9mIi4MSK+Xb4eXdojIt4fETsj4raIeO5sPwlJ0qNN58z9IPCmzDwJWA68LiJOAtYBWzPzRGBr2Qc4EzixbGuBy7tetSRpUlOGe2buzcyvl9s/Be4CFgPnABvLsI3AueX2OcCV2XALMBgRx3e9cknShCIzpz84Ygi4GTgZ+EFmDpb2APZn5mBEbAEuzcwvl76twCWZua3lvtbSOLNn0aJFz9u0aVNHhY+NjTEwMMCOPQc6Oq7VKYsXzuj4QzVef7+y/t6y/t6ZT7WvWLFie2YOt+tbMN07iYgB4FPAGzLzJ408b8jMjIjp/5VoHLMeWA8wPDycIyMjnRzO6OgoIyMjrF53fUfHtdp1YWeP2y3j9fcr6+8t6++dfql9WlfLRMQTaQT7VZn56dJ8z/hyS/m6r7TvAZY2Hb6ktEmS5sh0rpYJYANwV2a+t6lrM7Cq3F4FXNfUflG5amY5cCAz93axZknSFKazLPNi4NXAjoj4Zmn7G+BS4OqIWAN8Hzi/9N0AnAXsBH4GvKarFUuSpjRluJcXRmOC7tPajE/gdTOsS5I0A75DVZIqZLhLUoUMd0mqkOEuSRUy3CWpQoa7JFXIcJekChnuklQhw12SKmS4S1KFDHdJqpDhLkkVMtwlqUKGuyRVyHCXpAoZ7pJUIcNdkipkuEtShQx3SaqQ4S5JFTLcJalChrskVchwl6QKGe6SVCHDXZIqZLhLUoUMd0mqkOEuSRUy3CWpQoa7JFXIcJekChnuklQhw12SKmS4S1KFDHdJqtCU4R4RH4mIfRFxe1PbMRFxY0R8u3w9urRHRLw/InZGxG0R8dzZLF6S1N50ztyvAFa2tK0DtmbmicDWsg9wJnBi2dYCl3enTElSJ6YM98y8Gbi/pfkcYGO5vRE4t6n9ymy4BRiMiOO7VawkaXoiM6ceFDEEbMnMk8v+A5k5WG4HsD8zByNiC3BpZn659G0FLsnMbW3ucy2Ns3sWLVr0vE2bNnVU+NjYGAMDA+zYc6Cj41qdsnjhjI4/VOP19yvr7y3r7535VPuKFSu2Z+Zwu74FM73zzMyImPovxGOPWw+sBxgeHs6RkZGOjh8dHWVkZITV667v9KEfZdeFnT1ut4zX36+sv7esv3f6pfZDvVrmnvHllvJ1X2nfAyxtGrektEmS5tChhvtmYFW5vQq4rqn9onLVzHLgQGbunWGNkqQOTbksExEfB0aA4yJiN/AO4FLg6ohYA3wfOL8MvwE4C9gJ/Ax4zSzULEmawpThnpmvmqDrtDZjE3jdTIuSJM2M71CVpAoZ7pJUIcNdkipkuEtShQx3SaqQ4S5JFTLcJalChrskVchwl6QKGe6SVCHDXZIqZLhLUoUMd0mqkOEuSRWa8X+z1++GZvDf9O269OwuViJJ3eOZuyRVyHCXpAoZ7pJUIcNdkipkuEtShQx3SaqQ4S5JFTLcJalChrskVehx/w7VmZjJu1uvWHlUFyuRpEfzzF2SKmS4S1KFXJZRR8aXot50ykFWd7gs5QetSXPHM3dJqpBn7n3IjymWNBXDvUd27DnQ8bLG45l/0KTOGO6aMzMJaEmdcc1dkirkmfvjzOPx7Lndc57u1T4u6ahfGe7SJGb6x9A/DuoVl2UkqUKzEu4RsTIi7o6InRGxbjYeQ5I0sa4vy0TEYcAHgDOA3cDXImJzZt7Z7ceS5jsv4Zw7zvWjzcaa+/OBnZn5XYCI2AScAxju0hyZ7y+cH8rHV8ymTuar27XP1h+WyMzu3mHEecDKzHxt2X818ILMfH3LuLXA2rL7DODuDh/qOODeGZbbS9bfW9bfW/1c/3yq/Xcy8yntOnp2tUxmrgfWH+rxEbEtM4e7WNKcsv7esv7e6uf6+6X22XhBdQ+wtGl/SWmTJM2R2Qj3rwEnRsSyiDgcuADYPAuPI0maQNeXZTLzYES8HvgccBjwkcy8o9uPwwyWdOYJ6+8t6++tfq6/L2rv+guqkqTe8x2qklQhw12SKtR34d5vH20QEUsj4qaIuDMi7oiIi0v7MRFxY0R8u3w9ute1TiYiDouIb0TElrK/LCJuLd+HT5QXz+eliBiMiGsi4lsRcVdEvLCf5j8i/qr87NweER+PiCPn8/xHxEciYl9E3N7U1na+o+H95XncFhHP7V3lv661Xf3vKT8/t0XEtREx2NT31lL/3RHx0t5U/Vh9Fe5NH21wJnAS8KqIOKm3VU3pIPCmzDwJWA68rtS8DtiamScCW8v+fHYxcFfT/ruByzLzBGA/sKYnVU3P+4D/zMxnAs+i8Tz6Yv4jYjHwl8BwZp5M4yKFC5jf838FsLKlbaL5PhM4sWxrgcvnqMbJXMFj678RODkz/wD4X+CtAOV3+QLg98sxHyw51XN9Fe40fbRBZj4MjH+0wbyVmXsz8+vl9k9pBMtiGnVvLMM2Auf2psKpRcQS4Gzgw2U/gFOBa8qQeVt/RCwE/hDYAJCZD2fmA/TR/NO4qu1JEbEAeDKwl3k8/5l5M3B/S/NE830OcGU23AIMRsTxc1Npe+3qz8zPZ+bBsnsLjffvQKP+TZn5i8z8HrCTRk71XL+F+2Lgh037u0tbX4iIIeA5wK3AoszcW7p+BCzqUVnT8c/AW4Bflf1jgQeaftjn8/dhGfBj4N/KstKHI+Io+mT+M3MP8I/AD2iE+gFgO/0z/+Mmmu9+/J3+c+Cz5fa8rb/fwr1vRcQA8CngDZn5k+a+bFyPOi+vSY2IlwH7MnN7r2s5RAuA5wKXZ+ZzgAdpWYKZ5/N/NI2zw2XA04CjeOySQV+Zz/M9lYh4G42l1qt6XctU+i3c+/KjDSLiiTSC/arM/HRpvmf8n5/l675e1TeFFwOviIhdNJbBTqWxhj1Ylglgfn8fdgO7M/PWsn8NjbDvl/k/HfheZv44Mx8BPk3je9Iv8z9uovnum9/piFgNvAy4MH/zBqF5W3+/hXvffbRBWZ/eANyVme9t6toMrCq3VwHXzXVt05GZb83MJZk5RGO+v5iZFwI3AeeVYfO5/h8BP4yIZ5Sm02h8/HRfzD+N5ZjlEfHk8rM0Xn9fzH+TieZ7M3BRuWpmOXCgaflm3oiIlTSWJl+RmT9r6toMXBARR0TEMhovDH+1FzU+Rmb21QacRePV6u8Ab+t1PdOo9yU0/gl6G/DNsp1FY916K/Bt4AvAMb2udRrPZQTYUm7/Lo0f4p3AJ4Ejel3fJHU/G9hWvgefAY7up/kH3gV8C7gd+ChwxHyef+DjNF4feITGv5zWTDTfQNC4Au47wA4aVwXNx/p30lhbH/8d/lDT+LeV+u8Gzux1/eObHz8gSRXqt2UZSdI0GO6SVCHDXZIqZLhLUoUMd0mqkOEuSRUy3CWpQv8P4nkt9r26ZJgAAAAASUVORK5CYII=\n"
          },
          "metadata": {
            "needs_background": "light"
          }
        }
      ]
    },
    {
      "cell_type": "markdown",
      "source": [
        "#**Original Data Bivariate Distribution on NUM_CALLER_KEY and CELL_CALL_CODE**"
      ],
      "metadata": {
        "id": "W9j6GN52nA_c"
      }
    },
    {
      "cell_type": "code",
      "source": [
        "orig_data.plot.scatter(\"NUM_CALLER_KEY\", \"CELL_CALL_CODE\")\n",
        "plt.show()"
      ],
      "metadata": {
        "colab": {
          "base_uri": "https://localhost:8080/",
          "height": 280
        },
        "id": "Z07SDmfOmMir",
        "outputId": "059ba7e0-1f55-45ec-d493-25d533f34738"
      },
      "execution_count": 34,
      "outputs": [
        {
          "output_type": "display_data",
          "data": {
            "text/plain": [
              "<Figure size 432x288 with 1 Axes>"
            ],
            "image/png": "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\n"
          },
          "metadata": {
            "needs_background": "light"
          }
        }
      ]
    },
    {
      "cell_type": "code",
      "source": [
        "orig_data.plot.scatter(\"NUM_CALLER_KEY\", \"CALL_DATE\")\n",
        "plt.show()"
      ],
      "metadata": {
        "colab": {
          "base_uri": "https://localhost:8080/",
          "height": 280
        },
        "id": "Fah3Mq2Y3qDQ",
        "outputId": "8e915985-8dd5-4817-914e-38e6486f5576"
      },
      "execution_count": 35,
      "outputs": [
        {
          "output_type": "display_data",
          "data": {
            "text/plain": [
              "<Figure size 432x288 with 1 Axes>"
            ],
            "image/png": "iVBORw0KGgoAAAANSUhEUgAAAdMAAAEHCAYAAAD1UayUAAAABHNCSVQICAgIfAhkiAAAAAlwSFlzAAALEgAACxIB0t1+/AAAADh0RVh0U29mdHdhcmUAbWF0cGxvdGxpYiB2ZXJzaW9uMy4yLjIsIGh0dHA6Ly9tYXRwbG90bGliLm9yZy+WH4yJAAAgAElEQVR4nOx9eXxU1d3+c+bOkpAECEkMSBIIBtAISYQom1ARxaoItEKKldK+rZX+3i6Kda3W+rqiYF1ebWtdXqvYKoIFwQ0ELDslxrAFhJQACZIAQ5AkwCSZOb8/7tzJXc65y8ydLHCfzwfNnHvPOd+z3Dlzz/c5z5dQSuHAgQMHDhw4iB6ujjbAgQMHDhw46OpwFlMHDhw4cOAgRjiLqQMHDhw4cBAjnMXUgQMHDhw4iBHOYurAgQMHDhzECHdHG3AuIz09nfbv37+jzXDgwIGDLoUvv/zyOKU0o6PtsAJnMY0j+vfvj9LS0o42w4EDBw66FAghBzvaBqtwtnkdOHDgwIGDGOEspg4cOHDgwEGMcBZTBw4cOHDgIEY4i6kDBw4cOHAQI5zF1IEDBw4cOIgRDpu3E6KyrgHl1SdRlN0TeZkpAIDSKj+e/nQ3qo6dxiUXpuDCHolYvecozrYGMaXwQky/vB+yUhNR39SM9ZXH8eFXNdhT14ArL0rDLycMRtWxBmzafwLdfQK+PtqE1EQ3iIvgpoIL0S8tCR98VYNTZ1owtagvinPTFPb4GwOoqT+DHdX1+GLfcUwa2htTh2XrtkHKk5WaiLRknyJ95a5a7PzmWxAQNARacNWgDLgFAccbz+LKPJENX159EqndPKg/3RL5f/+0bvC4BSR5BTQ1ByP/l9qt7jOz4NlqdmxYZcltMyrTLlhph5W8Rm0urfJj7b7jKMzqgfSUhHZtM8+2VRW1WFFRh4n5mZiQ39tS3vaG2o7OYpcDayBO1Jj4obi4mFo9GvPwkh14a/OhyOdZo3Kw/1gT1lf6DfMKLoJgKPbxHJuXhrdvGwkAWFp+GPct3o6zLSHFPX26e7Hpd9cy80t5PC4XWkIhPHNzASYX9cXS8sOY8145YjGRAKAAPAJBS5DCJxA0BynkRc4alYNHpww1VR7PVhZYYyOvRyqLhigCQYoEj7jxo1emXbDSDit5jdo887XNirkpEMDjdrVLm3m2TXzuC+yta4qkD85MwmdzrjKVt72htmNQZpLC9o6yq6NBCPmSUlrc0XZYgbPN24lQWdegeLAA4K1Nh0wtpABsWUgBYF2lH6VVfvgbA8yFFACOnGrGkrJqTbo8T0OgFWdbQrh38XZU1jXgnve3x7SQAogsmi1B8a+AaiEFxD6rrGswLItnq78xoLmXNzZSPfKyAmHbzraEdMu0C1baYSWvUZtLq/yauRmkaJc282xbsLFKsRgBwNd1TVhVUWuY18ycsRMsO9S2d4RdDqKDs5h2IpRXn+xoEyJYu+84aurPwOPiT5HlO2o1aaw8Hpcr3Lb22wUx05c8W2vqz5guT0rX6ytemXbBSjus5DVq89p9x7nlxrvNPNuWbj/CTF9RUWeYt72fP7P1dabvBQd8OItpJ0JRds+ONiGCcQPTkZWaiJaQ9q1UwqShWl8UK09LKBRuG7HbTC7M9CXP1qzURNPlSel6fcUr0y5YaYeVvEZtHjcwnVtuvNvMs21KQR9m+sT8TMO87f38ma2vM30vOODDWUw7EfIyUzBrVI4ibdaoHIzNS+PkUEJw2bNYDcpIQs9uXqQl+/DMzQUR358cfbp7FSSku98rQ+Ejn+Kpj3ZF8qT43EjwiP6zvMwUzJ9eAJtMhEcQC2KVN2tUjoK49ccVX6O0SrtVLrUvXBQEIvo3WeQZ3thI9cj7yhcuMMHjirQ/LdmHyroGLCqtRmmVH9uqTxpugy4pq8Ztf9uq2U73NwYU+eV1y/vcDAlIL69em/2NAXjcAkbmpiquu8LtNls/C+r2scCy7buXXoAErxu5acpFfHBmkoKEZDSWsdhlJS/LjryMborPJcVZaGoOxnXLXM/GWO473+AQkOKIaAhI/e//SJN2YO6NzHQ5krwuDOnbA1uq6jXXJLKOVUjkh3c2H8QfPtyFVpnD88UZRRGCCcu2Lx+6RsMOXVp+GHe8W86tz+0CKBX9brFAsltNjpETqyQMuP8jyN/LXAD2z72RWe4lD32MM61txiW6CXY/foPiHh6bV000MSLqjHxyJWpPNUc+S4QvPbJQPNi8rDbPnVYYsaEx0KrYvHcR4LGpQ3DriH6W6pdghUilHl8eeGNqhTXbXgQvFlJ8bst1WoXZ9sXSD1bgEJAcxIRfL9jKTB9ksJACQFNziLmQAohqIQVE8kNplR+PLq9QLKQAcM+ibfA3BnD3e2XMvE99tAuF2T0jX8z+xgDu0llIAaA1FPtCKtm9pKxa80UrEaskPLFsJ9Qbs6FwuhqvrNmnWFQA4EwrxStr9inS0pJ9KAx/OUvtZxFN9Ig6S8qqFQspIBK+Fmys0iUaSXVH80bIystr853vlkdsUA9XiAKPLquI+u3NLJGKRX7igTemeZkpmFacbeqNtL0IXixYrdMqzLYvln44H+Aspp0Iq/eyCR3NzNT2wdp9x5nbxwIRCSYrdx9l5lOn19SfaUf6EZscBShJM8t3su9hpS/hEFt46XLoEUhYRB2e7Uu3H4maaBQNeG0zM47R2GSFSKVHfmKBN9Z222Ulr1ViUbzG2mz7YumH8wHOYtqJcPUgNqHD2852yDFuYDrzyE2QigSTay+5gJlPnZ6VmtiO9CM2OQpQkmYmDWHfw0qfyiG28NLl0COQsIg6PNunFPSJmmgUDXhtMzOO0dhkhUilR35igTfWdttlJa9VYlG8xtps+2Lph/MBzmLaifC/My9npn88Z5xh3iSvCyNUZJCc1AT43K4IWccqZo3KQXFuGuZNK9CUkZbkxVsb9uNHowcw887/wTD4GwNYu/cY1u4V31Lvu/5i3frsWmxnjcrB1GHZGuLW2Lw0hbrTgzcN0TwArnC6BIkElNkjAYlupYUJAjDt8hxsqz6JyroGJinD3xhAU3MQJcVZinSB8Ik6U4dlo0935U8oAcDjH+9GXnoil2jEIobEQiqZPX6gps2JboIXZhRFbFCPmeAimDctOvKRRIbyCi54BQKvwCcyFeemmSbmuQD8YvzAqEkzZgleEsFMfi7UKsGLBV6deuS6eLRPus/ndqGbV4DPHRvR7FyDIyfYBXDNc2sN72H5TA/Vn40oBsUCCq3f9ZtvA3hhzX68sGa/5v5EN8HS8sP47cJytIZ/yLoIDAUbYrVz9EW98OjkIREf2DqGz9QK5CSgzxnb2WeDwIgnP4dACFPxSE3W+N31F6NXkjcii6hHFNr0u2tx66ubsOE/JwAAQQDBVoqdR8RD/e/9cpSG3KUmhlAgZlLJ3GmFuCusWuUiwNPTCjG5qC/G5KVHCEuShGV6sg+jLkqL6ct1YWk1moPS2w/F+6XVXIJLXcNZxefs1ATcMWEQTjQ148lP9kTSZ47MwZinV8dEmlG3Wd1GPUUl3byqST8yNxVbq+pBIf64fPR7QzDkwh6afHLy1YurK5nkOjvbpzSXAtSOb5ZzCw6bN46wyuYd/8wqVJ04a3xjO2LR7JG45dXNYIggdUp8Pmcc8jJTMP1P67D10CnN9ctzuuP9/x4LQCSlvLrhoOaen4/ph0v79sCdC7dHZUOCx4Xlv7oSk15ar1CPSvC4sOG+q00tNpV1Dbo/oiZenI6//mQEAPGtcszTqxV1+dwEAEGgVb9+Vl7pPgDca/F4Gymt8mPaK5s16Ytmj9ToRa+qqMXP3vpSc+/zJQW4/587mapdEuxuA2+spLloNZ8cLFut9JOd0Jsrds8Hh83rICZ0toUUCBM9SHt6O2ODROooq9YupOp0PQISjwRkBpLiUyxkDSNyylrZWzaLGCIQl4Y4ZpVU0t6EEx6piJUuVzSSY/mOWl3VLsD+NkSrqGSGgMSy1Uo/2QmHgKQPZzHtRMjtldDRJmgwbmA6qE2av+0Bd3hGD8vuzrwuT9cjIPFIQGYgKT7xyBpGfkx/YwAJHkG3jnEyfyGLGBKkIQ1xzCyppDko3meWcCL5xpdv+wZr9x4zfWRE6gPp78KsHuy2MshGckUjOSYN7a2r2iVvA8vHGQ2iVVQyQ0Bi9TePfGWVlKUH1hzlzYckr+CIOMDxmXYqrLl3gqE4Q3vj1/8o05zFNINZI3NMnaGzG3cu3I7FZYfx/n+PZfaltMULiEQj1javRED6w4e78O3ZoG59bheYPtO8zBQ8c3MB7lX5ItdXHtf1Y8r9l3qQtniBNmKIui4AmjQWqaRkeJZirJpbQ9hQeRyTi/oyy5WXofaNS33yx5Iirl9S3sazrUFQSpHoEYUJBmcm4WuZ2LuaNCZhQn5vzb2DM5MwdVg2XC6XwuaS4iwsLK1RtOGFz/faFjUmLzMFY/PSFD75sXlphudXJQLSW5uUzwkBkCwTalCPWXFuGrPtdm3x8nzorLlS3C8Vk15aH3cRh64Ax2caR1j1mQ55+CM0duShUhshQCTNdBRenzUcv/zHV7r+HZ7f7fVZw1GUk6rxD7HwfEkBcjNSuPFL5cpCgL4PkuWT4uGB6wZh9viBijSWipGRKpK/MYDRc1crfKuA6HPdeP+EiF282LSj565CoFX7HSLPr65Pr40JHhdevuUybKv5FuMGphsuELy4pWqb5Z/rm5qj8nHyEIsvkTcHH7rhYnxvWBZ3zOLlu7TqQ1fDLju6os/UeTPtRDhXFlKg43l+KyrqxDcf2Xu15N+RHnSe321FRR3SUxI0+VnYtP+EbqD0tGRfpL5tYT8qzybJJ2VUJyAKKqgXU3ldemly1NSf0RXlkPKzyqipPwOBuMD62STPr86j10aPy4X0lATcNdHcNvuE/N7M4N9qm+Wf1+xhC42UV5+MajFltUk913jgzcF9Rxu5eWOpzwh6ZUt/681Pu+zoinB8pp0IyR2pzmAzOpqyNDE/09Dfx/O7TczPNIyYY1QGC0Y+SLN1AubEIszapCfKYZiXsu3l5TdqY3uIANgdNSYWMQO9ORiP+oygV7aZ+Xk+izjEdTElhGQTQtYQQioIIbsIIXeE03sRQlYSQvaF/58aTr+YELKJEBIghNwtK2cwIaRc9u8UIeROTp3fJYR8TQipJITcL0t/J5y+kxDyBiHEw8mfSwjZEs7/HiHEG07PCbflK0LIdkLIDaz8sWDno2yBdTMLEyOwiy1IS3LDquZDd5+A+264WCH0YPfiqndgf3hOD1TXn8aM4uzw4X+tAIC/MYD0lARNlA4pwojkh3QTQHABbgKNkMLgzCQ0nG1hRnaxeoCfdV30x2rb5yZgvo1Fg7Rkn0aUgxDgtxMHR+ziiQOIeQs1XyICAeZNK2S+najb6BEI3C6lMEF9U3Ok79REGOlzaZXfVASeBRurMP0vG7FgY1UkLZqoMXpkpVii9kzI742cVCXxUB3lhldfNOIJRkIPem1pq5egm0eAz00wa1ROVO0+FxFXnykhpA+APpTSMkJICoAvAUwF8BMAJyilc8MLXiql9D5CyAUA+oXvqaeUzmeUKQA4DGAEpfQg49peANcCqAGwFcAtlNKK8OL3SfjWvwNYSyn9M6P8hQA+oJS+Swj5C4BtlNI/E0L+CuCr8N/5AD6mlPbXa380UWMKH/lUQXpJdBOEVOcF442+PXzI7tUNZYdOwucW0BBojaocAtGH0hqicIEiYMKJ+tT3hmDipb3xly/+g9fWVzG3i31ugh9cno13/12NYJCa9s1KB9vlBAt126ToLAAw8bkvsFdG8kh0E4Xwu4cALVSbV+8AP2DOj1lTfwZPflyhEOIQiDIQQCykGVad9y3erhCnmDUqB/uPNelG3mFFbvG5XZg3TZ+IovYlS3+riUEuAiR53QoiUWswpCA8eQQCwUU05Bf1s9QjQcC2R74b+Ww2aozReLLaZHZBYfWfPCITD0vLD+PeRdsgEBeCNIR5YTENK3XpCT3w2iLWux2CiyAYopg3rcCU2INVdEWfaVzfTCmlRyilZeG/GwDsBtAXwBQAfwvf9jeIiycopUcppVsBtOgUOwHAf9QLaRhXAKiklO6nlDYDeDdcFyilH9MwAPwbQJY6MyGEALgawCK1bRDdgNK5ih4AvjFovmUs2FilYY+eaaXtupACwOFvAyg7dBLNQRr1QgqIHXamJYSWoLmFFAB2HRbP3r295SDX7xpopXhr0yE0W1hIAVEBaVVFrSLyhRpHTjVjSVk1VlXUKhZSAJoIKi0qA4+casYra/ZpWMxvbTqkeUPVi+6SluxDS2tQo2iljqijLjcW1Dc1a1Se3tp0SDfyDi9yS6DVOJqIvA+kv+ubmjV9F6JtUVPe2nQIZ1uUCykgqnOpI5iwnqVvzwY1b6hGUWNYkV14/W41ag+v/367sFy376QfPoFWitMtQQRaqWF/s+pSR1EyaktbvSGcbg5GxhlA1NGKziW0m8+UENIfwGUAtgDIpJRKISlqAZh3PAEzAPyDc60vAPl+W004TW6HB8CPAHzKyJ8G4CSlVPqWled/BMBMQkgNgI8B/JplACHkdkJIKSGk9NixY8atkWGpiQgk7YWOInl/squOeTjcLkjEJD0s31HLJYYYgRdpxWqEELMH8K2Wa0c5km16NkZzmD/Wtsjr5D1LVp+xaAUZzIDbf4To9l004gl2CD04og36aJfFlBCSDGAxgDsppQppmvCboqmv7rD/cjKA92Mw508Qt3jXWcx3C4A3KaVZAG4A8DYhRNN/lNK/UkqLKaXFGRkZliqYYhOpxA50lOjR9ZeaJ/9EAxYxSY1JQ3tbIhbJwSMGWSW3mD2AHy1pJpZyJNv0bIyGiBJrW+R18p4lq8+Y3WQlObj9R6lu30VDQLJD6MGJGqOPuC+m4TfBxQDeoZR+EE6uC/tTJb8qm6uuxfUAyiildeG82TJS0i8g+lLl5xSywmmSLX8AkAHgLlnaZ+H8rwHwA+hJCHEz8v8MwEIAoJRuApAAwD7JEQAzR+eiR4JS+SZBaH/K9eDMJMyfXhghFkQLFwES3AQuIvoXzeB4UwvKD9Xj9zfmR9SM1PC5CW4YmgmPC/BaYEeNzUvDhPzemD1uAAQXkMgwqk93L6YOy0ZRTipyVIpU6ggq6ux9unsxe/xAXXKL2SguZqKiSOWaVfLRq5tHylHbICfLsGyU/ORmiShy21k2SOXJyS7qeUEgEvDkdY68KB0JqvHqkSBg5uhcQ5vkiIaspAav33MzklHEUH16tqRIt++sEJ6kunMzkg2jKBkhFqLV+YB4E5AIRL/jCUrpnbL0eQD8MgJSL0rpvbLrjwBoVBOQCCHvAviMUvp/nPrcEAlIEyAuglsB/JBSuosQchuAnwKYQCnl7ksQQt4HsFhGQNpOKf0TIeQTAO9RSt8khFwCYBWAvlSnA6MhIHUGBSSJmOBvDOBnb/4b5TVsnVsJvPgRKT4XGgL2v2FKzFN1JBsJU4r64LLsnnj6k904I3OL9kgQMDSrp8J3NDI3FTMuz8byHbWYNLQ3pg7LjhCUAi0hRbvUhKOxeWm4eVhfRV4JLHKLXnQWHnii5pLAgFlyjNm61XarSVjytktkrnve3w5pBvz66oH44YgcU1+wPNsr6xrwxoYDePffhyInGj0CwbPTCyNkl5bWIB74YAf2HVOqJb1920hNuRnJHtxx9UDLC6kcZslKavD6XUpnCSCYISABxoQndd05vRIVYxltpJloiFZW0RUJSPFeTK8EsA7ADiDyXPwOot90IYAcAAcBlFBKTxBCegMohUj0CQFoBJBPKT1FCEkCcAjAAErptzp13gDgeYgiPG9QSp8Ip7eG65J+vn9AKX2UkX8AROJSLwBfAZhJKQ2EGbyvAkiG+M1xL6V0hV77rS6mv16wFct2mn1Jjy8WzRYfMtYXeVfAHeMHMMPDsSCPtmFFhUidVw/Rqtbc/V4ZFn2l9fNNu6wPfnHVQFNKPtHWzVPnkWBGZYoHvUgrqUleprKSz+3CxvvFsnk/Mp4vKWBG+4lW3SgW8PqdFVFIDheArQ9dE9NCZXYexzvSTLToiotpXBWQKKXrwT9iOIFxfy0YLNvwtSaIBCGjOj+GSBBSp5tqK6V0P0RWsDq9AsAYM2VEi9V74xv1wQriHYEi3li63XzUl7X7jke+UKyoEKnz6iFa1ZqVjDiqUvrIi9g+ebWST7R1G5GwzKhM8aBH7BmYmcJUVhJcJFI2b37yov1Eq24UC3j9Xs5QwpKDhvPGspiancdm568DYzgKSJ0IVw+y1QUbE8YNTLc1CkV7Y0qBeVEDeTutkp/M9lG05I1rL7mAm26WHBNt3UYkLDMqUzzo2c5TVgqG2og5vH7nRfuxi6hlBbx+Z0UUkoOE89pdNwtd+RnvbHAW006E/515eUebAAAoyu6O3Ixk5GYkY8iFyVGXk2SWdWQRbhfRnbizRuVgznWXaMhcSR5o1GbUJAw5yUJtvZrrJM9rRCyKhjTibwxg/g+GMcub/4NhpskxZutWt0GKzMKCROaSK+J4BYL/Gt0fu745ZUiwYtl+45DeSE3yRpSV5EQjtwuYN63NZhb5aWxeGqYOy46ZMBQtlpRVK9SwWIpB8ohCCRzZsudn6BOQJFhVZVKPpVUCkpl6z2c4QvfnOEbkpmLPkVOGocTkKK8+hRFPfo4QFQ/NW0XvFC8uTE1E2SGua9sQKT4XzrZSJsmoVWXUuIFp+M3VA3HAf1pBEJlS1FdBRGlqAZrqlQHYczO0i8Xkor4Yk5eOn765Fdtq2tqgNqXyqPhlYpbcI5VrhTTyzM0FODD3Rtz9XhlW7j6Kay+5QLHADu/XC+/++xAIXKAIobhfL02ZZurmteG/xw/Eb98rB4U4F67Lz8RtY3MjX8JilxC0hiiagxR//td+/Plf+w3DsAHAo1OGYtbI/nhjwwEs+rIaa/cdx5inV0fqbjjbiv9ZVgHBxZ6Hb982EqVVfqzdd1wRYUYd0uytTYdsU4riYeSTK1F7SoxU8fnuo3j60z3Y9LtrI/0jsvTafo3Jx+O1tf/Bsh21cAMQeBR2FcwQz1hjzuovKzBLeDsf4YRgiyOsEpB+8tomfFF5Io4WnbtQE0x4BBczeQE+i1aNxyfn4/FP9tgSDssqUciuUFxWiDJWQsbxwrDZUTcPD32wDQv+XaNJn3lFFh7/fiE3XyxYUlbNJD2ZmRvRjKEeeSueb+DtWW9XJCA527ydCBurnIU0WqgJLVYUalj3miVgLd1+xDZVGKsKM3Yp0vDKkYgyvPKNlKqkMGzxqJuHT3axSVO8dDvAIz2ZmRvRjGE8VZn00FH1dhU4i2knwuhc9hadA2OoCSZWCCese80SM0bnpuJsq3ILPVpVGDNEIbm/yi5FmqzURDQHtW1gEWWshIwzG8ZNXUZzMIgEj8C0SV2eOirM9ZeySVO8dDvAIz1NKehjOD5ZqYk426LUiD7bGkRLa5Drm4xFlcmsaIiV8juC3NUZ4SymnQhv3jaqo02wBYMzkwzVe+zGW5sPKD6zCC4sjM1LY25RmVEgAoAX1uyP+HU9AolJFcaIKPTwkh245rm1uHvRdlzz3Fq8sGqvLYo06yuPK3yS7rCaUF5mCkqGK0+qlRRnKULGXd4vlVmmSBhih2HTa7M77B994IMdCFFowrPJyyt85FM89GEFth6ox0MfVqDwkU+5W7nx2uIFwA0OP3N0ruH43PHuV1DvkrcEKaa9slkx1g8v3RG5Hq0q09Lywxjz9GrMfG0Lxjy9Gh+WH9a9X428zBT0VoUh7NPd2+5HjjorHJ9pHGHVZ7pgYxUe+rAijhbxkZnsQV2jNliP20U0hB818tITcUmfHmhqDuLWETmYkN/bks/SLIZemIIpRX2Rm57EFBNg+W4k5Zr+ad1wy6ubNV9cRn49ibCxqfIoth7SV4IC7DkEz1KYMRI5iFaRhuWzk8QRAOj683g2SWH0rPptd31zCj9/q1QRJcnnduHVWcW49MLuivJ4z8rEi9OxYo92i/6B6wZh9viBpu2xAp7P9PmSAkwdls1VDDLrl5fA4gWYVWWyw7/Oszcewg+Oz9RBTOjIqDGJPmasdFNBvfcfP4P/vXU43vivKyJBjePhR/nx6FzcNu4i1J9mR+hj1SmF2fK4BXjcgua6kV+vODcNd00cjIraRlM2HvCfNnWfHljhr/T8VVZDf8nB8tl5BbFPjPx5PJs8gsuyLWnJPvRI9MAraG3pkejRso85z8paRkgzgB/Nxw7wfKZSOm98rAqjqPvbTAg5CXb41+2IPHMuw1lMOxE6MmoMT+TATPSYgr7as6jx8KNIZUbju8lKTUSQ8YZtxq8HmBfUiJf/KF7+Kj2/q5FP1m6brPiAec/KOM7WPC+ajx3g+Ux56RKsCibEMtZ2+NftiDxzLsNZTDsRWFFj2mOAEj3Asu21UL+3zRqVg/nTCyG49FfUhyYNwZgnV6L//R9hzJMrAYi/mkuKlf62WaNyTPkx3S4x4ow6r/QL/KC/CXmq86FDL+yOk6ebFWlysoUoBFAQEcmX6jHj1wPMCWrcMDQTqUleTd2xwt8YQFNzkNmfZv1VPHv0/LQ80QGpv+yIqMKyxSsAPsEFrwCuD5j1rPRIEPDXn4zQRPdJdJO4bfHe/uYW3P/BDqj1F6ToQ3ow65cHYheeMBpLM+AJZci3eO2c910NjmhDJ4NaXCEEwOsCmuMT3hMAcKYF2K/anpT7ZxrOtuLBJTu5+eV+lMOnmtH//o/wwowiLCxVnvdb+tVhPDp1qOZQvQZUG5y8KhwdhBfFZMc3pzDtlc2KaCYsEYIxeenY9c23AIjGDxcNPp8zDm9sqMLissNYt9ePMU+vRklxFhaW1liKDsODuh2/u/5i9EryWopeYiQqoSfowBMdUN1gG0oPnEBzEJDiYpQePMHtO3UEoIIs8c1teP9eivTi/vFhyetFeDrdbE4kJTc9Cetktk4p7IOxAzMib6HRRKrhwXAso7BXLnoSTVSkcwnOm2knwu1vbmGmx3Mh5eHNDWLEFX9jAP+zjL+Q8nDHu+WatG/PBjHnPW26Gq1U+x29rtKPV8iFVBkAACAASURBVNbsYy6k6vtWVdRGwls1BFpxtiWEexdvj7yhjht0AcYNyrC0kP56wVZm+jOfVOCDrw4j0NpW11ubDjHrtgp/Y0DTjj9+vhfjL77A0hspry/kYPn1pLyB1hBONwcRaFXmraxrUKjhAKLaULQyc1bKK63yKxZMQBz7BRurmOmlVWxfarTgPasSvj0bjBzX4YHV3qXbjkQWTys+USMYjaUZ6I2P2Xl2LsNZTDsReOSJjoB0yL2m/gz0lXCtIRp5QglmSSRSNBM5ohVSkMCL6LO20q8rXBBL3XaQRmIpI1oCUrTkMyvl8UgvXGKSzSQZM8+qEaGwPUUQ7JhLevbaJSDSleEspp0IPPJER0A65J6VmghqMhyZGRi4X3VhlkQSSzQTHngEpHF5aYbROeIp4hDPMtqbgGSlPB7phUtMspkkY+ZZNSIUtqcIgh1zySjSj93PXFeDs5h2Ivz1JyOY6d4OGKXHv18YOR9398SLLed/cUaRJq2bh2hITiwI0B7JGZmbipF5GcjL6Kabd1hOj0g0E68gvlO7AMweO0Chh2qWJCGp0NxxLbsPnppWhF9elQef24UknwCv24WS4iwFoeeuawZh2bZvsHzbYWadRuQgOWnkF+MG4G8bDyi2LfXaYyVaDS+vO+xmcxMYEpBKirOi3pa0QmjikWFmjs41JMnYAd6zKqFHgoCZo3N177G7//QQyzyQwCMV5mWm2FJ+V4dDQOoCiLfPNL93Es62UBxtOoOpBX3x+PcLI2QCGqIIMCK3GIGV43SLuXJY1I3NVfWY+doWtIRC+PmVuVjz9VFUHtP6T8sOfYuHl+7A5v1+NMvsfmF1JcoO1WNacbZpkoQ6QoaHAPImJLoJxjy9Gh6XC8FQCK1BIMEj4MNt3+D3k/Ix5MIeeGfzATz5yZ5IHhcBnv9BWzQVI9KGnDTS0krx/KpKAMCLqysxNi/NVHvMRKvh4b5F29AabnMrFT/Ly390ylBk9eyGZz7bA6/gwofbvsGVeelRE0+G9+uF97bWiBwZgBsFBwCmFWdj834/wowaTC8W2bPrGD7TeODA3Btx+5tbsLbSj0SPC/Vn2mauRIYyhOqReL+0Jqb+00Ms8wAQ5+oHZW2kQreLKMYn1vK7OhwFpDjCqgLSNfNXo/J4x/gY5ComRtFAOhpeATBJltTA44JCBYmnAhOrglOCx4UFP72CqRjjFQg2PTABgL7CkJlx8ApE8aMh2og1LLyyZh+e+myvJl2uJmRX5BqrZfHuvXZwOpbtPKope9plfbixYWNFtMpAvDnmFYBND1zTqRYjf2MAo+euQqBVuV5Iall22+ooIDmICR21kAJKgoZRNJCORmyEKOUGMo8kESsJxONycUkvhBBTCkPRjIOdpA8e4UuebifxxEpZvHt5RLGVu7ULrF2IVhmIN8cIOh9xp6b+DASinYuCi3Q6WzsKnfcb8zxEXnrHOetf/Vcl+t//EcbN/Rzff3kDGgKtxpk6CLERopS/rFkkCX9jAC3B2N7KW0IhLumFUmpKYcgoKguvXrtIHzzClzw9KzURgXaMmmN0L48odu0lF1i2hwd1NJdolYF4hB6KzkfcyUpNRJBq52IwRDudrR0FZzHtRPj87qs7rG7J3XPoZIDps7SKeESNkYgN86cXYVBmEve+RDfBYMb1sXlpeLakSJcksbT8MEY8+Tke+Ke5s7UegcAnaCnKl/dLRXFumoZg4iLA/OmFCoUhnj3q62om9Ni8NMy4XKmyI4/qEitmjx+o+YJwhdMlvPD5XsU2s4vwVYuMYIXEkpbsQ7EqYs3l/VK5SlV2bfGqI/c8vHQHinPTmNFUjEhPrCgsADDjipxOtcULIKwgpo28c0X/1E5na0fBISB1IvCEAboi4kH6+M2EPHx/WBbqm5p1xRvOtFL8v+9chJQED97ZchBJXjd+PLp/5MuNR5LwNwZw76JtaFX9AHe7CH75nVy8sGa/pq7WIIWbsZiuq/Sjsq4Bj04Zilkj+2N95XGkJ3sx6qJ0RZ1GpA319apjjVi77zjGDUxHbkYyxjy9WnH/wtIa3DFhkC1fcJV1DZo9gFA4PS8zhXmIP0SB/D7do67TLImlsq6BKc5QWdeAA3NvxN3vlWHl7qO49pILbFtIeaIF3xmYgdpTSinLI6eaI/3EQ2mVX5MPAP6x5ZBtY2gnWOMq9bkThs1ZTDsVeP4eByIqjzYiLdmHNXuM/V/Ld9TitR9fHoliI4f0VqhGm19I+W7udbuwsaqeWxfv6Gx59cmIko3elw3PHtb1tGRf5EfBtuqT8LhcOCtb8iQfox1fxHqH9PMyUwyvRwuj/jBjWzzIRrw6V1TU6drCA9+nSmwbQzsRr/E+V+Bs83YimI1Mcr5iYr4oJGHmULtRxA4W9PxCvAP4RPZfNeIVQUZCvA/KG4kKtKfogNk64lk3r2xpXlq1he9T7Zx+yI4c766AuC6mhJBsQsgaQkgFIWQXIeSOcHovQshKQsi+8P9Tw+kXE0I2EUIChJC7ZeUMJoSUy/6dIoTcyanzu4SQrwkhlYSQ+2Xp74TTdxJC3iCEMAN4EkJyCSFbwvnfI4R4w+njCCFlhJBWQsg0O/tJgpnIJF0BLkDjK1RH8ogGL3+xL7KlpBd9Rh6xw4pAg+QXklvqdhE8fFM+Zo7ORR+Gf+uxqUMwf3qBJrJOLFE+9GxWR8JR+xh/PykfNfVnotJEVRNreCIKqUlebKs+idQkr61RY6zA7og1sdQ5Ib93VBF9eFFjni0p6nRvpYB+n5/P0WIkxHubtxXAbymlZYSQFABfEkJWAvgJgFWU0rnhBe9+APcBOAHgNwCmyguhlH4NoAgACCECgMMA/qmuLHztZQDXAqgBsJUQ8iGltALAOwBmhm/9O4DbAPyZYfPTAJ6jlL5LCPkLgJ+F7zsUtvtuRp4OR4Kb4Gxr5zgzLBBEfIVS1Ivrn4/+zKaEskOncM1za8UHWqep3RPF30nRRLF4ac0+RdGtIYrHllcgxefG8Qatf+uxjyrwzM0F+PfvJmDTf/w43hjAlXnpUX+p69msFwmnpv4Mdh7+Fo8tr4gqaodaoGLWqBw8OmUo9quEMbbs92NM6epIHSXFWfAKBIQQUEp1RRbshtq2KoaIh91giUpoxQz0xSbkePu2kSit8uOziloMSE/GxEt7d8qFVML7W6s1n4f363VeR4uR0K6iDYSQpQBeCv+7ilJ6hBDSB8AXlNLBsvseAdBIKZ3PKGMigD9QSscwro0C8Ail9Lrw5wcAgFL6lOq+OQDSKaUPqtIJgGMAelNKW9Xlhe95E8BySukio/ZaFW24/c0tWLHn3PCb3jF+AOZcdwkA4LnPdjPJO/HE8yUFuP+fOy2JCayqqMXP3vrScl12CSXoiRYA1gUezNrFEw94vqQAdy7cbqkNdopG6CFaoYRYwOpjn9sFSkMaEZF4iRl0JHgiHm4XQWvIXuEQR7RBB4SQ/gAuA7AFQCalVDr5XQuA7XRgYwaAf3Cu9QUg/+lUE06T2+EB8CMAnzLypwE4SSmVDllq8huBEHI7IaSUEFJ67NgxK1k7VdSYWLF0ey3z7/bC8h21lsUEeEQSI9gllKAnWhCNwINZu3jEkuU7rI9be0UKiVYoIRaw+lhwEaaIyLkoZsAT8QipXsjOt2gxEtplMSWEJANYDOBOSukp+TUqvhqbej0O+y8nA3g/BnP+BGAtpXRdDGVwQSn9K6W0mFJanJGRYSlvZ4oaEyumFPRm/t1emDS0t2VyDo9IYgS7SD96hKJoBB7M2sUjkERD4mqvSCHRCiXEAlYfB0OUKSJyLooZ8EQ8XETJFzjfosVIiPtiGn4TXAzgHUrpB+HkuvD2LsL/N6v1dT2AMkppXThvtoyU9AuIvlT5KfascJpkyx8AZAC4S5b2WTj/awD8AHoSQtys/PGGUSQKPSR1RGgZDjwEkS1eQPzbEzv/KIKS4r7o14v/sA7OTMLUYdnhiCuuyD+5AICabAMAE/J7M8UeEjwuvDijiNkGubCAHgmDVZ8aeqIFetcq6xqwZs9R3HXNoKiidvCIJVOHZWsIMoMzkxR1zBqVo6kTQEz9YAYs8s7I3FR43AL8jQGUVvnxxxVfR6LryOuNxQYpQpDU3nnTCjB/ehHcssdPIMDDN+XHfYs3nqQfVtmzxw/UEAkT3QR/LCk8r6PFSIgrASnsg3wdwG5K6R9llz4E8GMAc8P/X2qyyFsg2+KllFYjTEwK1+cGMJAQkgtxEZwB4Ifha7cBuA7ABErbzj/I/aHh+9YAmAbgXYu2dSiamkMRUkRHgxUcZv4PinDHu+W6+RIFoG+vJGY0GAnJXhcWlpr7fVN64AQCMgWG0oMnMLmoL5dsAwCfzbkKTyyvwOsbquB1ASEiMmQnF/XFkx9XKA7Zp3XzYMVd30Fask+XOKRXnxp6ogWsa+qyS4qzcOuIfpajdqzYpdzSXbmrFo9OGYrc9CSFAMeIAWn4+88HKWy4Y0Lb5/WVxyORdGLpBzPYd1S5GEqRheRSmC+urkSf7l4cYYgjWLFBPr4Axe3jBuCHI9qUihrOtuLhD3chGKIIUuAPS3cixeeOGxEnGnKdHWXPnVaI375XjiAVfzQ8Pa3wvI8WIyHerzNjIPonr5a9Qd4AcRG9lhCyD8A14c8ghPQmhNRAfHN8iBBSQwjpHr6WBJGl+wGrIgAI+zp/BeAzALsBLKSU7gpf/gtE3+ymsB0Pc4q5D8BdhJBKiD7U18P1Xx62bTqAVwghuzj5o8Y181cb36SDzrCQSpCrOfkbA7jnfWMiy5kgUHVcn5HZaCIe3dd1TViwsYqpVrOqopaZLr2l+BsDeHvLQYQocDYINLeG8NjyCizYWKVRq/GfbsG6vUfhbwzgvsXbcbYlhIZAK862hHDv4u3wNwa4qjlGb6iF2T25MnrSNVbZC0trkOQVLH2hLSmrZir4vLJmH9P2+qZmhX2STQBs7QerNgNgakrzFlKzNqjHN9BK8fIXlYrrjy6vQFBGwmkNAfcs2ha3t0ZeP8ezbOlaKxW/a1opItf05uz5gri+mVJK14MvEDOBcX8txK1VVllNEBc3ozo/BvAxI91UWyml+wFcwUjfyrPNLnRk1Bi7IVdzEskIJmOZ2vSLYCmHLGGkViORTNSqQrzylu+oRW5GCleJaB/ni9oO1Ri7FGl4RCMe4YRXPq/v4tEP0ZCjeDCyQa9dack+UTlLLZwMQCD2qVFZsSdeZUt/x0txq6uj8zjaHHRo1Bi7IVdzEskI5pymDJnbqMBTLDJSq+EReXjlTRraW5f8E0/VGLvK5hGNeIQTXvnt2Q/RkKN4MLLBDPlL/lYqIUjjQ8SJp/JVLCS48x3OYtqJ0JFRY6wiM4UpIBWBXM0pLdmH+dMLNFFP1OiZKGDG5XxlIwDwCca25aQm4MCJMxiVq4wqIqnV6CnnSEQfr0Dgc7vgFQieubmAqYAkKS2lJfvw+0n58LpdSPIJChJGrEo9qypqcd+ibfjhKxtQ+MinuPu9ssg1u1SApg7LZrZt9viBpsqvrGvAy6v34Y31+zHj8mz43ERDRmHZeuOQ3khN0qpKRWszIEYWUoN1n1571DAT3WfetAJ4ZL8E3S5g3rRCU29s/sYA1u49hrVhl4HefdvCuxFqe+66ZhDW7DkaM7HLDAnOKxB4BBJ5Npy3UhHtKtpwvsGqaAMA9L//ozhZYy8IgG5eF043hzQbuC4A++feqMnzzuaDeHCJudBm8UCf7l5s+t21WFp+GPe8vy2i2jN/eqGCvMEjykx87gtFtJrBmUn4bM5VEcKGQAhagiH84aZLcevIfoq6K+saImpQZhc7dX1yHJD1bzRls7CkrBrLd9Ri0tDeETlGsa/KQeACRQjzpxfp9hUACITgzmsGKgg6clvf2HAAi748BJ/bHRN5ZuZrmxWRY0bmpuKBG/Kx8/C3eOTDnUCYkvdsSRHy+3SP9BGAqPrL3xjQJdn4GwPY9c23AAguvbC7qUVmaflh/HZheSRSkUcgeFY1H6X71KQgifTzzuYDWPhlGykvVmKXXlvVfT42Lw1v3zYyprpY6IqiDc5iGkdYXUzvfq8Mi75i+6m6Gn4+ph8evGlI5LO/MYCRT36OFmP+UFzx+OR8PP7JHq5SEE8N6PHJ+XjowwpNejRKS2ZgpMY07bI+cYmMIoeRqhKvrwC+AlAsSk1y8BSQXp81HL/8x1e2j0c84G8MYPTcVQioZEDVfafXZ/VNzcwx+HzOONt1ittTdaorLqbONm8nwsrdZo/bdn4s36kkiIgEBhsPm0aJpduP6CoF8Ug9egSkaJWH9GCkxtQec8VIVYnXV/L8Vss0C57S0YqKuriMRzzQFvJPCbV6kl6f6ZHQ7EZHqE51JTiLaSfCtZdc0NEm2IYxA5RC31mpiegMuyBTCvrokih4ZBQeAenynJ5xIWUYqTG1x1wxIpyYIe6w0k6rjq9E0188paO8C5LRHOwaJJms1ES0hrRbNWr1JN44JHkFJHjYJAKjsZH8r5V1DaaFHzpCdaorwVlMOxHivW1nJ4zeMRd9dQQPL90R+by+8jiIEQMpznABmDk6Fz0TlSSV1ER3ZEuNR+qZOTqX+bA89dleXN4v1XYFGJ4ak4T2mCtpyT5NaLGS4ixFX7FsFFwE86ax++Dq+WtUodcRVX/xthVfXFWJYCgEj6AlQXU2rK88rtW1FbR9xyIFlQzPwqSX1uOBD3ZYDv+3tPwwxjy9GiV/2YhrnluLH/x1E8Y8vRofluuLobBUp8bmpcUtsEBXQ7xDsDmwAEn6LFo8X1KAu98XD1XbATcBt6zv5PXCF5UndPO/tekQZo3sj9QkL+5bvB0tJg+R/nxMP/zfpkOKSBR2IAQxgg1LoGBVRS0m5IvHLdTh4/IyU7CkrJqhwCpiXaUfi2aPhMct2KoA8/efj8KIJz7XjMGXD11jS/lG8DcGsLC0RpG2sLQGd0wYFPGZfs0gSL338xHML9gFG6vw7Vn1UgqcOs0XVeDhiWVsIpsk2uBzAy/fehkuvbBHp1xIIwIIsknlEYBPfjOWuRDKVYaSvAImvbQeZ1tCkTOfPrcLD1x/sWH4P7kogwTp73sXb8eYvHTd/pJCxq3ddxzjBqY7C6kMzptpJ0KsvodN+08g0av8fRTLu6Ag8KfH5gP1psoorz7J9PnooerEGSRytq9iBS+CjdpHmZeZgmnF2ZEvJiORgAP+07YrwNTUn9GMZ4rP3W7+v2h9pgf8p5npPL8zL10Pap+8Gl5BQI9Eb6dcSAF23ya43WhSx3KTQVIZamoOavJ6BRcuy0k1JB3pPYtmfcvFuWm4a+JgZyFVwVlMOxFi9T1MzM/U+FbitbNqNsJNUXZPps9HD6yIL3aBF8HGyEdpJBJghwiDGh19SD5an6lVvzMvXQ+ThuiPR2f1k0qIZWztzmu1DAdsOItpJwLPJ2Em4srYvDRMyO+N2eMGRNIEAjw6dQjMvONJVQgu8TC2VxAjYqj9hwCQnZqAv/5khOHkkXw3clEDj8HqnpHkwZC+PfFfo/vDy5FD8oQPjeuBdXh/cGYS5lx3icbPNzgzKbLFy8PUYdm4IJktVBGNUAIL6mgmRmIBdkIeJYQnDuAVgJsvy0J9k7gtqyfEwIo6MnN0LnokKGdjjwQBM0fncm3h4cGbhjDnXzePAJ+bLSZgNcoK735RZOEo1u49primjlSjB2lsfW6ia7NeXivzgjWmvvAzlOBxMcvQa/+7Ww7i8eUVMbumziU450zjiGhEG1iHonPTkzQH49VwARidl6bIGyukA9m/+UcZPtx2hHntiWU78eqGgxpbVsjOuUkHzptbQly/ox6kaDgEgNftwsOT8rGh8hg+3tm2NXvdpRdgcGZ3jBuYjtyMZPEw+5aDCp+f/DD7qoparKiow8T8TMOFVGqDOupNd5+AD/57jC0LqV5EFSOxgFghFwQ42xoEpRSJHrdCHOChJTvxiWxrVbJPbbdAAEIAQggS3AJTlGHBxios3X4EUwr6aBZSq9FQnli2E8t31mLwBSnYVHUCgosgGKKYN02Zz2q5vPuXlh/G3e9vi/j/3S7gjyVFWFhabVnMYGn5Ydy7aDvXZiOYnRd6gg9JXgFNzUFNGXrtn/NeOeR0hngIN3TFc6bOYhpHWF1MeYeiOxLPlxTgzoXsiC+LZo/Eur1H8cKa/Zprd4wfgDnXXcI8cB4rfG6XIrSaBPlBdZ6gQDSH2fUEJ54vKYioBUULO221CqPxSfC4sOCnV3AFEvSEJeRlmBFNiFbQwSif1XJ59y//1ZW48X/Xa+Yej6inJ2Zgl3iFEaKpR6/9N7y4XnP0CLBfuKErLqbONm8nQmc8/KxHvFm77ziX0COlWyUfxQI5IcbOw+w19WfAIxbbEb2kPQ/eq2E0Ph6XS1cgwQzMEluiFXQwyme1XN795dUnmdFheK8jes+zXeIVRoimHr3281rbGb+72hvOYtqJ0BkPP+sRb8YNTOcSeqR0q+SjWCAnvtgZpSQrNZFL5LIjekk8I8sYwWh8WkIh7rw0Im3Jy4gnscZMVBcr5fLuL8ruyYwOw/Pe6z3P7UUui6YevfbzWtsZv7vaG85i2onAIyCxSEBqEAAjVFFSYkVB3xTsP34aV16k3b6RDmvPue4SDUHKBeCmoixU1jVgzZ6juOuaQUjwuGIOryZA3G76xbgBGNq3u+JaZooXk19aFwlKnpeZgpJipf8pGqKQ5Jd6ZPIQzTUpakw0UJM7ruinjXDDstUqicYoTxsRxoVuXgEegcDtgoLYUpyrnYO8CDwCEf2I0YgmsIg1v5+Uj5r6M9z2LthYhVtf3YQLuyeIwRcYZBqrhB3e/XmZKczoMH/8QZFlMQN5HYluAoEAs8cOML3F628MYPm2b/Dmhv2KwPbqcY6GrMQjR+VlpmD+9ALNcuoIN4gwFG0ghHSnlJ7iXMuhlOozYxxYwjoVgWhdpR9v3zYSs0b254qKA+Lmy1aTZz/NYvvhBmw/zA7plJvRxoi9ZUSOgoQSAjS2lhRnYbFKAMAqggDcoRBeWF2puVbXIDJMl+08imX3f4QXZhRhYalS0WXlrlpL0TTUJAw1jpyyLjagLrcx0KrYOCMAHrjhYtw+7iJDe8xEWzGTh0r/pQQuAjw8eQiGXNhDQUp5f2u1Is/7W6vFvlS9qH330t54dKr4wyMa0pRcnGDn4W/x2PIKru2Fj3yqEYE43RJCSXGWpo3ycs3YxLtfSldHh3lpzT5F/qMNZ0219Z0tB7GlSnxuX1hdibJD9aaIS3e+Wy7r+t0Ym5eGrQfrmX1lte2ANKwkzP5rWz5fWrNPMeQ5qQlxiRrTFWHmzfQL6Q9CyCrVtSW2WnOeY9LzX3DTH+covshhs2CQLt7adAiVdQ2orGswZBoDonIO/zi6eQRMFqJm3gLi4rekrJpxtxZypZiGQCuXoPPQB9vMGcQpVz1kFMCzK/YyjyOo7bl38XbD+JdGeaR7Aq0Up1uCCLRSPLa8QvGl+8qafTijYticaaV4YtlOzdh/tLMW9U3NEYGBaMg0ack+ZKUm4rGPKri289SUAHGuseJ6WrWJd39asg/jBl2AcYMykJbsw6qKWk2ovK/rmrCqQt+fXlrljyykEtZV+nWPm/gbA7jn/XLNvFlX6dcdZyttb5sTIZxuDiLQKpa3pKxa085D9WcN23m+wMxiKn+r76VzzUGM2FXLjl25q7YJG6v0pfs6AuXVJ9uFJGMnzBKGzBKnPtlljoRjtVw1QcROIonZiCQSlvAi5nBUiOyYE0Z2Gakmtee85BGxjAha0URhqak/A2LiazsWMhOv73nPjlki2rkOM4sp5fzN+uwgBlzamy1sflF6IvqldWtna4xRlN2zXUgydsIsYSjJKyDAOAKgxvWXiiQc6SD/8m3fYO3eo9w3xiSvgECr8eu1RBCprGvAmxv2o+Kbb9EcVOaLlkiSlZoY8a8leQVDgspUjkIRT4VIb06ohSmisR0wVk0qyu5p2r8sjt0x3XHTA4+IZUTQiiYKS1ZqIqiJ09qxkJl4fc97dswS0c51mBG6v4AQchfEt1Dpb4Q/Z8TNsvMQy++8Cv3v/0iTXnm888ViHJuXFiHIeAjQYvCzShJeaC+8OKMIv1Ft9XoITBGGJD8jCZ/B9giEK9L/+PcLNQf5pTzPTi9kCge4XAQIUvgEguYgVfSLPOKKWhABEAkvckEFM0SSe1U+0/WVxxV+1JLiLCwsrVHcIy939viBeH6Vcqs30U3w4E1D8K/K44qtv8GZSVySl54whVnbJbtmjs7F/yyr4M67XUdOmfIvLy0/jN8uLI8IzrPGzQg80Q8jMZDi3DT06e5V+N77dPcaEpfmT9fObTk8gnk1JV4drL6fXNQXD3ywQzMPzIienA8ws5i+CiCF8TcAvGa7Recxbn9zS0ebYBpbqurhbwzgk+3fGC6kQPsupAkeF5K8WhHFFir6qfS+rFhRNfSi3fx6wVas2HNcc09LkOKeRW1ROFjlUkKwcs5YAGI4rvRkH0ZdlBaJyMLyRRMAL986LEJ8MYKafAIgciBfijiysLQGy391JVMJR8Lux2/AK2v2Ycn2I5ha0Aezxw9EZV0D01dYWdegWVBZ7ZGiCvEWXz3iTGVdg+68k3zmUhtZEVH8jQHcu2ibInKLetzMgOc3f+iDbXj8+4XcfJV1DRoS25FTzcz+kyO/T3fuNUDU4x6TF9tRFVbfl1b5mb5zo2fqfIGZxdRPKX0p7pY4wFobpQDjD4qa+jNc31V7v4nK4XG5uH6ctfuO6z74kr/orEnhw9V7jzMP8gPiW2ZN/RmkJfuY5foEF5qagygMh3mTg+fzcxEXeiR6LL11pCX7Ivdvqz6pscPjarNDD7PHD8Ts8QMNbSyvPmm6Pax7ebabKY8HyYcoL6um/gwE4gJU1Dj5uJkBz2/+ya46PP59LiZB9AAAIABJREFUfr5o+8So7V5BsGQ/D+q+1/PxOoupOZ/pT+NuhQMA5iOxdA4QZKUmcn1XHclMawmFuH4co8PlVkUmrh6UzjzIDwDBEI1aOIDnd6SI7WC/nWIBVsQm7BamsJqP1cas1EQEqXas5eNmBpLf3Gy6hGj7xOh6vKK/ROPjPZ/giDZ0Ivz1JyM62gQFfAIweoCawC1i/nTRJzNzdC58qh3VJC/BY1OHwC2bXby3NzvhFVzwucVD6RPye1s+SA+0+Yu8gvjm6BVE3x4vSs0jUwvwq/F5museoc33KeGXV+XB5xa3oL0Cwe9vzOe+PbAishAA86cXWTrYb+UQ/4KNVZj+l41YsLFKQxRilZWa5MWNKhLSmAHs/mW1J5ZoO6zy5HhxRpGhUEFasg/zphUq5qk0bgBMi2PwtnL1tnh5bTDTJ7y5YUaUIRrRDwm5GckoyuqhSHMEG9pgZpu3gBDCEm0gACilVH8D30G7YXJhH010l1gQCAIb97OP5LxfWo3JRX1R+MinmrOfTc0Uj31Ugf+ZMgTZqd0AUCzf9g0WfnmYWZZ9oDqfzKP0wAmIMZrb3lo2PzABwx//XHPvmKdXiyQNlc+0X6/ECIlFLpzQGgwhGCJI8Ljw2EcVSElwc8kum/crt/0vyuhmmhijJ9bA8ofJBRDU4h8sQQAK4L7F20FDkeP9oAA27PfjmufWMslFj04Zilkj+6O8+iSKGFvbVrH/GPso2eDMJNNCBW0iDKcAUFx6YQ+srzzeNq4mxTF6d/eiVkUkMoNo+0SdLzXJa9jWaEQ/1HlbVCL/cvGW8x2GUWMIIV9RSi9rJ3vOKViNGjP1f/+F8sONcbTIXvx8TD9N+DU5pOgU9U3NuupNdiPB48LLt1zGjGhiFN2CF8Fl4sXpWLHHmpj367OGoygn1TAqCyuCx6qKWqb9r88absietBopZMHGKjz0YYWZJgEAfG4CgDAj98gRz6g3RhGWzPQTC9FEWVlSVs2MrGRHRCG7EEuUGqPIQvEY5/MuagwhhB0t2UFU2N6FFlKAf2hfgkT6aG9hByMCkh54tkZDDltRUWcqKgvrcH20QgCAdYEHIwEENQTiMrVtH89xNxrHaIUEohHH4IkZ2BFRyC7EEqXGaA53NeGWeMHMYvq+/AMRMYEQ8jqA2MRWHShQ0De5o02wBN6hfQkSEaK9hR1iISDxbI2GHDYxP9NUVBYWWSRaIQDAOsnISABBjSANcUlXcsRz3I3GMVohgWgIWjwxAzsiCtmFWIhnRnO4qwm3xAuGiyml9EkAIISMJIS8COAggKUA1gK4OL7mnV9Y8uvvcK+Zoe9MLrT2pRgLxual4cGbhqBHgvY8JwBFxI/UJK+pyDexQiAiCSkWAhKPFDK8H5uIJZFc1BicmYQJ+b01hB+zEVUm5PfG4EylPyrFZ24jyUqkEH9jAEOzU3XLHpuXpihr3rRCzJsmlu8LE6/U87OkOCuqrT85QUaPLMOKsCShf1piZIt3SVk1bvvbViwpq0ZplR9/XPG1rvZtNFFWpg7L1vhI9SIKqdtlxi4epLIq6xp0iUXRtEsiodU3NUfyqnl4PMLZ+QgzPtMnAUwHcAjAPwD8E0AppTQ3/uZ1bVj1mQJgKiB9PmccPt5ZixdX7UNrO6jZ33pFDvqldcP8FV8jRMGsc3BmEj6bcxUmPveF5uA+ADwxdQge+0gZ8ePIt2fx1Cd7dOsmBDCYkoYYm5eGt28biZFPrtSQQjb97lrD/EvLD+Oe98tB4AJFCDTEVnh6cUaRguRSfqgeKyrqMDE/U+Ovk0K5SW8CZiJ48PpW6nsjyOtk1aMmpNw0tA8OnDiNKQV9MPKidAUphlWWvzGAd7Ycwkur98HtcuFsi0hgSvC4EAIsEVzU9pxpaQUhBAlugUuWmfnaZqznbL/PGpWDFbtqFeMvhzRHeDDqOxaWlFVj+Y5aTBram7uQqvs8p1eiYoyN7GKVRUMUgSBFgkf8QaTX72bbxVKrumPCIDy0ZCc+Ybh39NSsokFX9JmaWUyPAtgL4HkAyyilAULIfkrpgPYwsCvD6mL60AfbsODf2p3zaZf1wbIddYaED7vgAuBxuwzru2P8ALywZr+pMn1ugtZWakvkGDPg2WZECjEiW8jhcxNsvH9CzIfjWeARkCRES7CREAshRa8MOayUZ7UsIwKSGRiR0eyG2bllxi69sqyOoxo8Et7rs4brzkk7iUhdcTE1s2/UB8DjAG4C8B9CyNsAEgkhZo7VOLAAnpLKyt1H2+WcpgQKc+dCl243T7AQiEseFjHu4NlmRAoxG9UFENsUbWQOIxgRaGKN1BELIUWvjGjLs1qWEQHJDOwowwrMzi0zdumVFUvEGIBPKDKac+c7EcmMzzRIKf2UUvpjABdBjGG6EcBhQsjf423g+QSeYsq1l1xgivBhFyiAQIvxO+SUAvNvRkEaald9QZ5tEinE3xjAb975EiOeXIknZLFirSggBWkbgcNsNBSeT/C5z3bjqnlr8NxnuwEYE2hijdRhhxKSGXJVklcwJRJgVFagtVVhmx2qO3Yr97B8vPI0s3PLjF1ZqYnc6EN64yj3z66qqMV9i7Zp4pHyCEVGc+58JyJZeruklAYALAawmBCSAuB7cbHqPMXj3y9kbvPO/8Ew1DVsxrp21O7V0XYHIPof51x3CT6tqMPXDL/eizOKFFEnLu+X2m72j81Lw5zrLmFu804dlo2l5YcVwcNf3XAQr284iP1zb0Rasg8lw7MU/iIXwFTq7dXNw4zuwvMfyf1lZ1uDoJQi0eNGQ6A1cs8La/bjT1/sx76nbkSim2iExYE2clMsSEv2oaQ4C29tarO7pDjLsuavuq8IgGSfGNWmZHgWJr203pRIgDpSyZmWVoUAfXMQeGHV3ki/FuemYXBmEnPuAeIYrNxVqxGSl2C3cg9LEEEStpCnqaOx9OuVqGnDh9u/MbTthc/3oln1kMp9pqxxlPuYX1xdGUl/r7RG4YeXSHjyuTFrVE6EFMfq81jUrM4VmFpMCSHjAfwawOBw0m4AL1FK34qXYecjeBHrF2ysateF1AyON7XA3xjAd/Mz8XWddtH6T90pbLjvatTUn0FLazBm/5YZuAjw6o9EX+KCjVXMe15Zsw9PfbZXkx4C8MSynfjF+IFY+KXyB43X48K1g9OxbOdRRfqRU81YsLHKVDQUedQYuci8fCGV0EKBu98rYy6kD1w3SCE2Hy38jQEsLFW2c2FpDe6YMMiSz1TTV24XXr51GC7skYBJL61XtJcVuUUOuWoRa87I+9XfGMDBE/ytzFkj++PRKUMVpKCs1G5Yu+84xg1Mt3UhZY3tPYu2A6AItFJF+zfcd3XkuchKTWQKmhhF0+FFFJo/rTASdUiN0io/l6wFiNF+VlXURn6ksZSZKusamAtprP77cwWG27yEkBsBvAFgGYAfArgVwMcA3iCE3BBf884v8HwSVg/VtwdCFOGoMewfAEu314oyddk9ccB/ul1sSvK6kZ6SEK6f3WdLdPpy+c5ari/xDGfXm1eP2n9kxRcLiH5yFppMEKPMIF4+U68gRrVpag5GVb7RnJH61ayQwNRh2Xjtx5dj6rBsFOem4a6Jg20nHbFsEVwkHJGmDfLINYXZPZGW7NONHMMD79rZliD3h4oZP6z6+ycvMwXTirMjizqv3vrTLYZlnw8w83TfA2AqpfT/KKXbKKXllNI3AEwFcF98zTu/wPNJWD1U3x5wEYSjxrB/kcrT28uXIvcV8fpsqk5fThrSm+tL5B3A59WjbrPVaDTXXnIBM90uP1+8fKZSGbGWbxRRpTMJCbBsCYaoJiINq/3RRI6JJo+ZeROtT/R895VKMLOY9qaUaqLfUkq3A9DtfUJINiFkDSGkghCyixByRzi9FyFkJSFkX/j/qeH0iwkhmwghAULI3bJyBhNCymX/ThFC7uTU+V1CyNeEkEpCyP2y9F+F0yghhDuzCCHvhPPvJIS8IUkmEkJuJYRsJ4TsIIRsJIToh4SIAqyD+oMzkzDyonTkZXQzzG834dejU96z0wuRluzDnOsu0dwnAJg1ZgAq6xrw5oYq7KltQEmx+fOGelD3jwSvANx8WRbqm0Qf2czRuRpBiR4JAmaPH4gXZxRp8rsAPHjTEO7h9qnDsjV15/RKwPUFF5qK/KEu1yMQuF1gCj4IAB648VLTohNq4guPWMKyx+d2oZtXiETbseozVZfxy6vymO01IxIgh1FEFXn5aiGB9vbfsdo6b1oB5k0r5LZfGjOWoImR/dFEm9ETuQDM+eFPnm5GQV9lXBPHV9oGM+dMv6SUDrd6LXy9D4A+lNKyMGHpS4hvtD8BcIJSOje84KVSSu8jhFwAoF/4nnpK6XxGmQKAwwBGUEoPMq7tBXAtRKnDrQBuoZRWEEIuA1AP4AsAxZRS5r5HeOv6k/DHvwNYSyn9MyFkNIDdlNJ6Qsj1AB6hlOrGTLNLtMEsfG4CGqJotuk4aqKbYNmvx+IXb5ei8rhy201Nsnnus9145981ON7UjBSfG6dbggoGsuAiKMrqji8Pfcutz01Ewu8tV+RgwRatT8gruDB/egHG5KXj9re2csuSbFtafhh3vVsOCpEY89yMoggB5p3NB/HgEpHF6wLwvOwawD7criYaCUQ8j/vMzQXI79PdVOQPnnjDWxv2K/rP7IF+NfGlZ6JbIVSgJ/CwtPww7l20DQJxIUhDmDet0JLIgrwMSoHmIIVPICAuEiEbRSN+IEdlXYNuv/obA/jeyxtwSLZ9bFbUwm7whC3UaSyyktn5I4dR37BQWuWP+I2/PdPCFRlRQy2QQQB4BDEkoNU5YwZd8ZypmcX0JETpQM0lAFdSSlNNV0bIUgAvhf9dRSk9El5wv6CUDpbd9wiARs5iOhHAHyilYxjXRkFc5K4Lf34AACilT8nuOQCdxVRV3hwA6ZTSB1XpqQB2Ukp1Z5HVxfSa+atReTw+5xajhV5kGPkhbStiB7EgwePCgp9eYUhoWjR7JGa+8W+mKAEAy4IFvIPsZvKaQTQH+s3mYRFE4i3aYEefmEEs0XU6Anb0e3tDTyAjXrZ3xcXUzDbvFADPMv7Nh/gGaQqEkP4ALgOwBUAmpVRibtTCYLtYhRkQZQ1Z6AugWva5JpxmGeHt3R8B+JRx+Wdoe3tV57udEFJKCCk9duyYpTo720IK6EeGkRMSrBJsooXH5TJFpli77ziXABMN+UaPEBLrIXkgugP9ZvOwiG3xFm2wo0/MIJboOh0BO/q9vaH3vHV229sTZkQb/qX3T7qPELKYVwYhJBni+dQ7KaWKQONUfDU2dZyfEOIFMBmqSDZxwp8gbvGuU9kwHuJiyiRfUUr/SiktppQWZ2RkWKowL908+aO9oBcZRk48sEqwiRYtoZApMsW4gem2kmP0SBZWiTssRHOg32weFrEk3qINdvSJGcQSXacjYEe/tzf0nrfObnt7ws5XCaZWb/gNbzGAdyilH4ST68Lbu5JflX0OQIvrAZRRSuvCebNlpKRfQPSlyoVXs8JpXBBCPgvnf02W9gcAGQDuUt1bAOA1AFMopbYf/Pz87qtjyp/gcSHRbR8LKdFN8OBNQ5gRX9TEg0VbDyGtmxcEIqlGLUdIABSqyAtqCATwuESRfB5G5aZiz5FTyEj2cu+ZNSoHxblpeObmAkX67yflIy3ZFyGMCBAfAAH8g+4S8jJTUFKcpbHXKrGGhzYyD0E3jwCfm2gITyNyUxUEJBYBSB29hEcsYdU3aWgf/GLBl9wzumrUNzXj5suy4HGJ/mwA8AlE0Sd6kV/sQFFOKnJUX+Z2iFrEC7ESs+TQizbjbwxg7d5jWLv3aNR9L41dbkYyk7zkJsbPzfkEO/V1NW+XhBAC4HWIxJ0/yi59CODHAOaG/7/UZB23QLbFSymtBhChZob1ggcSQnIhLqIzIJ6N5Rsd9q/KyrgNwHUAJlDaxm0nhOQA+ADAjyil2lP/nQCS7yIWEpMcOWkig3h4v14KNRQA2LK/7QG+5KGPFQIDgZZWPDp5SITgA4iTY9thxaaEBkEq/vvDhzsxa1QO3tlSrZFRXLPXjzV7lV8eAgEIIXC7CCiA4nC4tN/IVI4A4MF/7kSKz43JRX3x+yU7FKL7v1+yQ5dIsbT8sEbkIERhq79IbCkRf3lQgoyUBMUh+dKDJ/Fh+WGFnVT6LyUAKB64IR9JXsEUsUReX6CFYlGZ+Ltz64F6zFvxNbY98l1uXjUZy4UQvALwq6sH4ocjcpCW7GMSbewkq0jlt6gCMozo5GHB5OIU0RKz1GpGcnLa0vLD+O3C8oiClEcgeHa6NXIZa+zumDAQt79dihOnRaGRVgq8vGZfXAhIXRGGBCTTBRFSRikdpkq7EsA6ADvQpsj2O4h+04UAciDGRy2hlJ4ghPQGUAqge/j+RgD5lNJThJAkiGHgBlBKuZTQMBv3eYgvHG9QSp8Ip/8GwL0AekN8E/6YUnobI39r2CZJZPUDSumj4TfXm8PXAKDVyEFulYD0w1c2YGNV9GLRRX2TkXdBChZ9ZZ/Iw/MlBbhn0XawOC6vzxqOyroGpqJQRyLB48KkIZncfnjgukFMmx+fnI+Zo7WRBf2NAQx//HNmWT8f0w8P3sR/kzYLs2Qin9uFjfdfHXnri5bMYqY+Xn+YIWMB1kleVmBkv50RTDobeISgRbNHIjcjGaPnrkJApZ4lnzdG4M2rud8bgjsXbtfcHw+yV1ckINn5ZqrZX6SUrmelhzGBcX8txK1ZDSilTQAMf3JSSj+GqNCkTn8RwIsm8jP7JLzwahZfO/Hvg7FFXdh+uBFVfnvJAMt31HId2isq6rD9MP+oS0fB43JxFYQAvgrS0u1HmIuHHsFi+c5aWxZTiZhylqkCrL03LdnHzCNX2Ym1Pl5/mCVjRWubGRjZX1598pxdTHmEoLX7jsPjFsLKS0rJLsFFTPc9b17xIi6tqKjrtNvq7YmYfKaEkPdkHx01pBhxRb/YlEQK+iZzlXOixaShvbm/hibmZ+oqCnUUWkIh3X7g2cxTM9IjWOgRtKzACoFLsicWMouZ+syqO7HqjzfRpjMpILU3eISgcQPTkZWaqFFeAkRFJrN9b1UFrLOSvdobsRKQRkl/UEpXxFjWeY+/z9YcnbWE1/9rJAZeYP3XOG+xvCijG9yCgOsu1T5EgzOTUJSTipF5GVAJDcFrQCIyggtAYZY+WUkOEs7jc7vgFUTBgAduvJR574szijB7/ECmOpL8LUxOnElL9jHbQwCMHZwZE8lDAouYoiZ9CIRg3rQ2wkcsZBYpr1cAfIL2a0DdH3KwFHgkMtZd1w7Cmj1HUd/UjN9PyodXcCHR49IoLJlRaQLELeWXV+/Dy6v3KcLbtdmvnb2xqPIsKavGbX/biiVl1cY3M2w1E4Yv1nwsNSNJHSst2Yd50wrhlg2pR1DOGyNYUQHjkb3iTTzrjIjJZ0oIOUQp1VI9HQCITgFJrTQyNi8NfXomasgvHY0r89JQerAeHpeLGflEcBEFeSg7NQHV9WfbxbaxeWlYX+nXbE/nZXTD578dD+D/t/fu8VVU5/7/59mXXEgChAABIUAwgIJcxFhuhS/IRVtROC1SrZT2/OopPef4rWAtXooe66VqseKlttVav63VU0VAgqCicikqiAQMAYJAJEgSSIAQIAlkJ9l7/f6YPTuzZ9aamb337GQH1vv1ipi5rFlrzWSvPev5rM8DDLxvXdgEoQvA4SdvBGAUX8y9pi+W76wwjS9GI/LgoXfMeflfX+OpD76Cx6UIhXguRdG6DOlFRGMGZCIA5Y1UNJBqUR14BmR1gtfjxhvbvxE+px4X8MxcxS1nxrLNYc5OIsciff2AcOctfTm8YyJh7G8/CnOP6t05CdsemG7rXLtp+Jw6Dwh3M9LbTNbU+7Dv2DkADMMu6xLV1DrvuRr58Ac429g6hdwlxW0QqjkhPOuIMVM7DkijRbsArGWMJd48X4IQ6WBq5jQicYa/zr8Gn399iuvq9B8T+uPnUwZF7eQUicjDDvF0yxGJiKIV7piJklSSPS489T17Ihaz8j5eNAnf1DRwnY+0x0TSjtW7yrn1enau8kZmRrR96fQ9iDevby3DkjUlhu1aoZpTz2xHHEztTPPy3I9UB6Sv4le1Sw87zj6S2PiwpFro6iRKwWYXVeThFPF0y4km9Vc05Wlxu8hUxGK3vKLyM5YOR5G2Q1Qv0XY717Kqg9P3IN6I0g1qt3dEhyensOOANEX0A+A+q/Ml9nEqvZZEzIyh2ULRkCgFm120Ig9ezCiSOFJNvQ9nLzSjyR8fEY9IoJPidQvrt2z9fkxeugmPv7s3rB019T6keN3cc7T4A8y2iMUqBVm06cJEiOol2m7nWlZ1iEdKs3jGKkWCNO32jujw5BSxLo15G8paUYkD5OdmwUtAs2bm3UvAbWP7GUwT2psh2Wn45rTybZM3JapYCLQPvTsnoepck+H6qliivsmP1uXCrahLXH73/RFYrI2Z5vfF8kLrmKkq8uDFjBhgO46kPb9JZ0gwN7+vI9PIedkZGJydZog53r9qD7d+g+5fF3ou//LZN/jLZ98gxesKxZO9LhdcpBhZiPjBtX1BnLd+L8EgYlFFTvrnfmJeFvKyM0ynQbukuCOeJp09OgdPffAVjutiplZTvGpdI9mu3d8r+KxqrxntFG+8TTLmjc/lTvNq4+uqeGmxrh6XgktSrIOpwxk0L21W7yoPG0gBZWAd3CMdSW5Ckz/64emqXmnYW2UUa0TLkZoLeOOn38Itghhvew2kAHD8XBNWLBiLqnM+fFZ6ErXnm3HLNX0xdWgv1NT7cJfOGUll5rObsXbhZK5DTZ/OKVyjhx+N6Yfpw7JDIo+aeh/uXVmMxuZAaJ3er1YUA2DwtbDQtsUrizEhr7vhQ4Z3vpblhRW4a+pgR2KmPPGOKibT1m/Z+v2G5xJQvkSp4hk762Pf2lGBNzhfCpuZou7VD6h3TR2MN784iibNkskd39Sipt6H94uPCa9zttHPLc+KbQ9Mx+pd5Vi7pwozh/eyNZACwOPv7hVuN1uDXFhWEzaQAsqzW1hWw81bawbvuRE9Y9EiUl7r+9oJh6eOSKxLY9rzM/OiQxSfKSg+jmSP9TSaGcfrmqwPipAjNeetD2onjtScx8yRl+GJ74/En3+UH/pjN4vd7NN82chKT8bInK6hD4KPD/AzAH1VXYdJg3uGjuPFjNwuCi6kb0UUR7KK2cY7Zsq7TkGxddzQDm4XKa6HHESZbZI94d/31XqJ4ndm5dlh9ugcvPLja20PpIA4s5JZxiXA3HwhUtoiVhlJhh7938+lgOVgSkTvEtEazs+7sOFIJLGPKD4za0TvmDOyfGeY8wurR+V0TdipCVHcySx2M6xXmnCfnXiRWr7+XvkDzLCQXhRHsorZxjtmyrvOrBHOGFP4Awwk+PodaWYb0f0wKy9emMXgzTAzX4iUtohVdrQMPW2NnTfTpyFW8343flW79Jg9OseQ9aN35yTMG58blh2ER5rX5G2GgClXZCOvu3iwiATVPCAvOwPP3jqKe8z8cf0wrFe6I9eLFO2ifX1mjaz0ZDwvqPPahZOFZc4bn2tp9FBaXYdNX53A3dMHI8XrQlqyG0keFx66aSiWzhlpy1xBv2DeBcBFQCevK3QeAOwuP4PS6rqoxSY84wUASPWSoX6Lrr8SXs63phSvC/PH9QvV1esmeFwItVG7L8XrwtI5I7CM0/dWmW14/TZvfC7Sk/jPfKxZY8yysfD49U1XGT5IXYClzaSZ+YIIkcGDk9loREwd2su2acOliGXMVJuzVAsR5UDJysLdL4mO45wYCqDPDmKkwUQc08xguiaPR9AjAICSyUWLX7M2ufDIacO53dO8+PxwTVhMLiczGf26peOzr2PLXJeTmYITdT6DkbeWgi8r8cis4cLMGrw681JMRYJ+8f3YAZnYVX4GXrcLj64twe++PwKf3XudrTiSGnNasnov3t9bBTDgfLMihGJQDORZgMHnZ0gJfomKRmzyyKzhmD92AP7zjZ04dEK5VxeaGcbmdjWUdeiJG7Fs/X4UFFdh+hU9MHNU31A77po6ONQuAGFt1O5T2zwhrztW7arAvmPncNOI3qYfxqL420Or96C+KfyZT/EQXvzh6Jg+3M2ysZix7NZRWPRmEQJQBlLRl0w9kcTJrAwe2iJWOSY3KyyTUaJn6GlLInJAIqIeAG6BkgrtMgDvMMbuiVPdOjyRmjb839d34N29RoP2GVd0x5avT0dlJBAvktyE/71jTMKaTPzHhP5cY4Zn547gLs4HlKwborcCswXrYy/vbmlYEOnCddGC/iQ3wgQ50ZavYpaBJFIRTFthZuhgx2RBRLR9Ea1RQSTXSwSDh7asw0Vp2kBEGUT0YyJaD+ALAJcDyGWMXS4HUmfZeFAgSCitidpIIF4wltgmE0JRiMkifLP2mC1Yt7PIPlIxiKhMEvzJRis2cVIE01aY9bcdkwUR0fZFtOKfSK6XCAYPiVCHRMbOJ/QJAP8fgMeg5BL9JQDnpaESXDdYIEjIy4pZgOQ0RIltMiEUhZgswjdrj5kAyc4i+0jFIKIymWAJSrRiEydFMG2FWX/bMVkQEW1fRCv+ieR68TB4iJREqEMiY2cwvR9AMoA/ArifiC6Pb5UuXV6Ydy13+8s/GYPpVzibWs0uyZysHADw9C0j0bVTEsZf3s2wr3fnJK5Q4eaRsds4D8hKhUCDFaJLihu/vukqrrhj9ugcrvBGJPxQxShX9O5sECBlJLswPCcTmWlJhjIn5mVFJAZZsmo3rnn0QyxZtRsAXyDUNdWD64f2QorXFbovKRphUjQxsmhEMHpU1x2eIKqm3ocH39mDGcs246VNhyKuHw+ReKpLihtX9Yn+gz0/NwtjczPDttnpi2jFP5H0Pa/Nc/P7oKHJHxe3I9495dUhlgys+okCAAAgAElEQVQ9Fxu2Y6ZENBCK4Og2AIMAPARgNWPMuJJdAiC6rDED7ltn2OYCbCyJjx8fL5qE+1buRuHR1kTgQ7LTwoQIWnp3TsJ93x2KX75VBAZFyDT28qywbDjxRBWNmGUByb1vXZj4Q5s1RkWfwUfvTgUoytXmQADX9s/EJ5pj54/rxxXf8ODd8yNP3sjNmgIAKW7grZ9PQFqSGw1N/pjFJgVFlbhneZEy3cAYfh/M7mL33HtXKjHoxuYAkt0EclHI9UlvkJHqIex/zJlFAC/962s89f5Xhr+NaLPGqG1xAfD5A7hzch4WzRhi+/xos/eYZX/Ro2bqqWlowrKPD8bF7UjtB57IbWFQZKXC+7txgo4YM7WTNSYPQDZj7DPNtuEAngPwfxhjsbkJXMREOpguWbUbr3+RWKnWAOCKnp3w1YnIDBrcADg6mTbjrikD8dymw4btz84dgX2VZ4VZY9TlDE5k8LEjzBDd85uu6skVo6ncf/1gLJgyKKb6AbFl+eCdq5LsccHXwv8K6ETdza4NRC6KiWeGHqeJZ12t+pWH9u/GKTriYGpnmvdZAOe0GxhjewAsBPB+PCp1qfL+vuhcW+JNpAMpIFzB02aIXHvW7qmy5VjjhADHjjBDdM9FYjSV1RYOQHaJxTnHzK3J7RI/AE7U3copKlJRTEfKdhLPukaTNcnK6elSwU6vZQcHzzAYY8UA+jtfpUuXeLgUOUGvdG/E54icbtoKkWvPtf26Iq8H37xCK1pyQoBjR5ghuuciMZrKbAsHILvYEc+ITAzM3Jr8Jo73TtTdyimK1/ciwwNReZGKuuKZsUULr66+Fj++PFrLbZsWsz4QlW3FmP6ZcW9zR8DOYGr2iXDx59VpQx773sj2rgKXqvrmiM9ZduuodrManJiXhUXXX8l9uJ9YfxCflBpNG4Bwx5rKs4226q8KTvTiJLvZP0T3/IV513JFNipOTPEC1uKZea98jjkvfY7nN5Zizkuf40evfB527tz8vmHluQkhtyOe01Sqhxype1Z6MvyCaWQCUHI8bDIND63eg2nLtuCeFcWYtmwLHioIfz+I1UGooKgSE57aiHmvbMeEpzZiTVFlVO2yA6/fm/wMD79bwm2bilUfqGWr/aAXuYmcwzYcOBX3NncE7GSNKSSi/2CM/UW7kYjuABCZrY7EFKtvlR2JVYVH2yULwl1TBmLR9VdiQ0lVxKKtlzYdwoIpg0IZOOzU/4nvDUeq12VwmLKb/UPJBeoyxL9q6n14ZNZw1NY1cmOnS1btduzLl8g5p7CsxiAa+6S0JtSumnoflheGx3vdbhfW3vnt0BeJCXnd8exHB7H9SA2+P6qPY18CXtp0iJvJBlBchbQZU0qr6wxCrte2HcX8sQPCvvBE6yDUFhlb9NfT97sWXtvs9gEQ3g9akdtrnxk1CAA/09CliJ3BdCGAd4jodrQOnvkAkgD8W7wqdilyMS1+3lrGf/uLN/uq6gFElzVkdfFxLJgyKBQ3spNWrLHZj4OCL0FbDp2yHEx511LjX1npydhaVss97/191Xjse5bVs01WerLhQ9DMVCA/N4tb92S3Cw0ai6as9GQ8+m+RK2utsIq7avvQzGxAP5Dw+sEKq3voNHaeT33bIukDgN8PVtmD4tnmjoDlNC9jrJoxNh7AbwAcCf78hjE2jjEmI88OcjEtfh6fa1x/2haoi/ajyWShxvIiiRuNyukak/GBVaxOFFNti/i6VbvaIlOJCKu4q7Ye8TYbaOt+sPN86tvmRB9YZQ9qq3ufqNiWbTHGNjHGXgj+bLRzDhHlENEmIiohon1EdFdwezci+oiIDgX/zQxuv4KIthGRj4ju0ZQzhIiKND/niGih4Jo3ENEBIiolovs02+8MbmNEJPyUEx1HRJOJ6KymDg/Z6YNIEC2KjtWEPVpSPWTIYmOXv90xzjTmFw9SPISMFEUsxctwoY9rakl2t8Yh9fEzNRuK3r9CXbCen5uFMRaL/UXilKz0ZPx80kB4XIRUr9uYsWXGFdz6tkV83crEQN9PyR4Xvnd1H9Q22DNIE/WJdrtIMLNgyiCkeoxRbV68k2940NcxswG1H9SsTskeFx6cORQVtRccE+Zo+6T1eoROXrchts8zUnDCcEGUPSheWWo6GnameWOhBcAvGWO7iCgDwE4i+gjATwBsYIw9GRzw7gNwL4DTAH4BYLa2EMbYAQCjAICI3AAqAbyjv1hw34sApgOoALCDiNYwxkoAfAZgLYDNFnU2O+4TxthM62ZHj5rJo6j8DEbldEVedgYeWr0nzBDAaTp5gQvNrRksCMrShqfmjMTNo/rg9pe34bPD4dO21w/riSHZnTFpUHfsPHoGT7z/VWifKlTQtuV0QxN+qznGjPQklyEjiB0aWxh++tpODMlOw/pFk9EjIyXMWGJE3674n5uGhfr2V28X4csKRaji8wMPFewJLfbXx88AYNJTG8Oy86jZaQqKKrG74iw6ed1o8gdw55TLsXB662J/dRE8b4G91hiiJeDHmNzM0D71vIxkD+p8LUhPcmP2qN5tJlQrKKrE57pp5hN1jWG/q/304Oo9eG9vNf73i3L87xfllsYJoj7Rbj/f7A9TBevLvCU/JywOODe/L24f058b73xk1nD07doJv/vwAJLdhDW7j+Hbed0dMzrQZnXyBwL4n4K9SPV6HDFU4PWVcj0ltVOSx4VfzhiMbp2SQp8ZPK7p3w1v7agABeub3z/y2aPbxvTT9Xkf3D5mQNyy1HQk4uqezhg7zhjbFfz/OgD7AfQBMAvA34OH/R3BwZMxdoIxtgOAmXx0KoCvGWPGVffAtwCUMsYOM8aaALwZvBYYY18yxo7YqLOt4+JJXnYG5uTnIC87gysccJrzzeGpoBiAlgDD4pXFKCyrMQykALB+3wncPPIy5PZIx7KPw02wFq8sDn0jz8vOwJQreuJ3H9gbSAFENZBqOVDdgJc2HeKKZ86cb8KcfCWriDqQqry27WjYG1BWejJG5nRFVnoy3i8+Zkhzd7bRj5c2HQqJT843+9ESYPjzlsOh9mvFKXW+FjQ2B0L9wxP4bC+rRWFZjeE8AGhhTPim6jQ19T788q0iw/YD1Q3YUBIe3altaMJ7e8Nj1Pq+1JfN65PS6rqw7frlNdoyeX8XywsrkJbk5n6o19T78MzHB9HiZ2hoCoTdh1hR2+NrYcFnAGgJwHC/Yylb21e/WrEbi1cUw9cSwPkmP3wtATzz0UFMuaKncCBtrWMAjS0B+Foirxe/zyuFfX6p0WapSIhoAICrAWyHsnZVVRBUAYgkAHQrgH8K9vUBUK75vSK4zSnGEdFuInqfiIbxDiCinxFRIREVnjx5MuYLtqcoyetymZoXFJWfsbWAvKL2AkyWHcYFkUBFbU+kGTBEWWNWFx83bb9Z/5gJfNrbRKCi9oJQzawXd0Xal6K2FZWfsTQMUMt06pptYXQQy3V4ZbvJZTDFsLqGE+2XWWPMaZPBlIjSAawEsJAxpndTYrCZI5eIkgDcDOBtxytpzS4A/RljIwG8AGA17yDG2MuMsXzGWH6PHj1ivmh7ipKaAwFTEc2onK62xBd9M1NhYogTF0QCFbU9kQoyRFljZo/obdp+s/4xE/i0p7gHUOotumV6cVekfSlq26icrraFNU5d04n+tBIExXIdXtl+FjC8tVtdw4n2y6wx5sR9MCUiL5SB9A3G2Krg5moi6h3c3xtKmjc7fAfALsZYdfDcHI0g6OdQYqnazMB9g9vM6rc+eP4rZscxxs4xxuqD//8eAK+ZkCkWbnhmEwbctw43PLNJmCHDjEjNkrukKKIJVWCT5HYh2aMICvJzszA33/hyr4oXzBa7q6IJAHjmB/wF3zySY3R7HpKdhgVTBplm5MjLzsAEXcYbM0HGvPG5BgFTlxQ3FkwZZGi/VnxiJk7J7ZEurKO2X9OS3UgKnsebThM5FMVCVnoy954NyU7D1KHhqs4z55swvE/nsG1mfSl6ZjLTkvDfk/OQ7FG269++5o/rh8y0JOwuP8PN1BPNNWOZntQ+37/7/gh4SBGpEQCPy74wZ0NJFe5dsdswfS6q99I5I7F0TvgzZXWN2oYmfO/qPvC6CF4XIclNEbdfZo0xJ64CJCIiAH8FsJ8x9oxm1xoAPwbwZPDfAptF3gbNFC9jrBxBYVLweh4Ag4goF8ogeiuAH5oVyBi73s6FiagXgGrGGCOib0H5IuK4KkibQeSrE+cx4L51mD82ssE0UoP5s43hZ/hZAB5SPsgKiirxzpfHTM/nLXbXiybm5vdFsofga7GehPA55JA/Jz8H28tqgWDumlvyW79n6TPKdE/zWmYa0feT+ru2/Xsrz+LRtSUcsYgiTmnxB/Dwmn1I8bhD+++aOoibNeTmUX1Q19iC37y7D163C4+uLUFGsidMzKIVMD2/sTSUMccJbh7VB89tOIivT4q9mfWZdQb1SMOf5l1j+QGrf2Y+LVVcdJSpSIafTRqIH47ph9qGppBgbN/xc6FjmgMB9OsW/lZVdpKfxUh0zVgz7Wif766pHmgf7QFZnfD7uVdbXmfGss04GBTJvVVYERLPWdW7oKgS6jNlNbEnyj704qZDEQujPj+si/Efjp8wsqMR7zfTCQB+BOA6zRvkd6EMotOJ6BCAacHfQUS9iKgCwN0AlhBRBRF1Du5Lg6LSXcW7EAAwxloA3AlgPRSx03LG2L7g+b8Ilt0XQLHoTdTkuDkA9hLRbgDPA7iV2c1fZ5MbntnE3R5vAZIefwDwtbCQ0KHZb2ymmViHJ5p4bdtRWwOpExyobsDqXeW4d2UxmvwBNPkZmvytgovVu8rDBlIAONXQjNW7ygUlAj95ZZvp9qz0ZPTNTMWj60oEYhFFnOJnQLOfhYlTcnuk4+4ZQwwGDzX1Pjy6rgRNfoaGJr9BzGLmUOQEG0qqDAOpVoDEu/6hkw04c97e0hj1mQEQ9rz4Whhe3FwKoFWMl5mWZHimDupSANppu/Y5jRbe861/nkpPnsepukbLN1J9G3gCL3299YInXwsTionMBIyiazlR30uReKt5P2WMEWNsBGNsVPDnPcZYDWNsKmNsEGNsGmPsdPD4KsZYX8ZYZ8ZY1+D/nwvua2CMZTHGzlpc8z3G2GDG2OWMscc1258PludhjF3GGLtDcD73OMbYHxhjwxhjIxljYxljW53rKYVosrPEEze5TP1pIxF7tDVr91QJBRdr94gzyogQOTppt9sVi/DqxMNKNGImYHICkYuUut2p69sVsdl5ppxquxl262LlwmXVv5FcX/QcWYmDInEKi7a+lwrt+4knCeOKnp3auwph+FnAdAIpErFHWzNzeC+h4EJ1SeKdI0Lk6KTdblcswqsTDyvRSCzOS3YQuUip2526vl0Rm51nyqm2m2G3LlYuXFb9G8n1Rc+RlTgoEqewaOt7qSAH0wTig7uncLe3tZMQAfAQQkIHr976B+FiEHXN5DMfHsCGkipU1F7AgzOHIslNSPa4kOQmzB/XD0nutnnchmSnYfboHPzu+yOQ5CZ43YrgQhX+TBzc0+Ds1LtzEmaPzhGUqDg6mW2vqffhw31VyM/pCjeAtCS3TiyiuNW4CfC6KUycUnayHo+vK8E/t3+DmnpfmLDl7mmD4XEBXij3Zc7ovqGpw/zcLFORVazwXKS0AiSnri8SBwEwuP5oj9HXzcm2R1pf/fPEE2ppqan3oXtGCvJ6hH+BtjpPe31VgJTkJvz7+AHYd+ysYarXTMBo51parJ6HS514OyBJHODtHeJYXjxgAFqYIlD4rymDhDHT5YUV8LpcaGhqCVtHSppy1P9+uK8KTf62eVs9fEKJ6ywvLEeTpu6/fmcvMpIVV5pGnQHD8XP24nw8CooqsfDNorC3+IYmPx7/t6tCrj6qW43H7cJDM4fiqj5d0DczFXe9+WVY3PH+d/bC4wJSvR6DAxAAvL79KDbsr8K2B6YDAP5xx1gUltVwBUxOcPZCuH/KOd3vc/JzgqIURQijFXlFgpkgSesipD/mnuVFABHAor+2E/V97uODYbHJMQPF90ErXlINOVR6ZqTYur76t9XcwtAcYPjTvw7jT/86DK+b8PtbRoYJi1Qnsv98fScOaURadq+lZUxuVpirmFk7LzXkm2kCsWTVbu72C20k3NFzoLoBi940uuCoqAIM/Swmb+GwXqART5oZcM9buwziGKDVlYbH7Bf+JSxzwm8/4m4f+9iH+NXbu7nT4Q8X7A25+mjdah5dV4K+makoO1nPraPqniOaHj5+rilMLJWfm8UVMMUKT6ilvbYqhGkOAM0BhuYAYnL7EQmStMIr/THNAUXQFeu1Y6lvbUMTN70ZzwGK52ylxY6ISitAatavN/Uz/GqFsR/OnG8KG0jtXkuLKI3bxZQ6MhbkYJpAvL8v8QL57TOMx85H++0uXW6luLJeuK9S8GXAPHE6cV19rByQ7GAmlnIKK6FWvFyFohUktaVDlJZInIHsiJesngurMtwuMvSDE2Ix6YBkjhxME4i2SKsVKR11MJ1+Zc+IzxnRJ12YyaSPIHtOzzQPAsIVUozr6mPlgGQHVSwlyqoSKbx2TxbUT712vFyFohUkNfmVJNZmJgjxQCTySfG6Dc+RHfGS1XNhVYY/wAz3wAmxmHRAMkcOpgmEKBsIL9VUIqAKMBKRp38w2jRFF49/n5iHCU9txLxXtmPCUxuxpqjVPOuzYIxSz7mmANzEvz+/nzsKedkZmHtN37Dtc/MVERFPwKOtp2hJjQvA7NE5eGj1HkxbtgX3rCjGtGVb8FDBHu7xVhQUVRraXVBUiccEWX5UoVZWejLy+4enaLu2f2bMpud23IrUYzyaWxlgwMznt+Cnr+3EW4UV+OlrO3H9ss0x1cUOedkZ3A/S+1ftMTxH+rbpsSOi0paRrBMHet2EpXOMzkZOiMXysjO4AiTpgKSQmJ+Elygi04CfTczFc5sOt3FtrHnxtqvxdmE5PiiJfEo13ixZtZsba/7F1Dxs2l+FrWXGqam7gvHhRijf+hevLMaEvO7ISk8W3htt/NXjAmaPugzX9O+GGcN6hRbYL99ZEXbO8sIK3DV1MLLSk3H90Gxuer3bvpWDGUOzMeelzw37AgBe31rGjV/NHzsgog83bQxPbfevVuwGQPC18N9+Xt9ahnnjc1FaXcc1jSitrov5A9aOW9GEvO5wu1xoCb6lNfuZQUimmgrEU3H60qZD4PWUGhPVPkeAsW1lJ+sjFpBpy0hLcuPY2UYADMMu6yL8MhOrWK20ui5MfAQo/evE/b4YkINpAiGKURUUJ6bDyO6Ks9jxTa31ge2AKP5ceqIehUftxXjUGFxWerKtGGWq14MfjcsNCWSA1vhWo+bjVluuKBvNl+VnMNjkA0p0XlH5mYg+2Hj1c5MLZm4dBcXHMW98rmkMzYkP16z0ZNO33IraC0hyu4SDvsqHJdVxHUxFGYpUtPdbRds2dZYiUrRl2O3v/Nzolw/F+353dOQ0bwIhMg2YNSIx13FNGtQ9IeO8gDj+PGNottCAQY82Tmdm6MA7XsUq/ifKRjNrRG/TWJTovEjjV9EYTajXbu8YmlPmCbEiylCk0pbZfuJJe9/vREcOpgnE7NE5XDOBRddfKYyttRcT87KQ2yMdt1zbn7tfv1C8c0rbxX27pLjx2PdGCheYiwwYnr91lDBOx7s3arYds8wdVvE/UTaaeeNzlcTqQ4wCkbwenTBvfK4jGTzMspLwYstq3YC2ySJiJrDKSk/GLdf0gYuAFI8rKvMEJ1gwZZBpfD7W7DR2EAnnnDhf3Rdppp5LDTnNm2DoYz7q77y4mpYbhmXjw33V3NgNACS5CdOuzMZ7eyObMtbnpCAoIofcHmmaLB/hpHoIj8wajveKj+NUg7J05FwjQ1YnDzole1Be2xhRHbRkJLtQ5xO/jbgBPDpbyf5ytCbc61j7e6/OSWFrKHt3TrKM02WkesPuT6ckNxpbmi0zd1iVu/vhG/D61jIUFB/HrBG9Q4OVNqOIloozjVhTVBlajK9mVYn2Q01Uvwl53fHg6j14b2/rlPmsq8OzjFzTvxve2lERek7y+9t767eDPtvJ/HH9wjL7aDP/NLYE0DPdi20PTMeGkip8WFKNGUOz28ydp0snLy5ono3sDC9env+tmLPT2EGfwUY1uHDifP0+0inXC76stMy2dKlADic+kWjIz89nhYWFto9fsmo3Xv+iwrA9r3sqSk+Zr5/rnAyca7v16pbcdFVPvLu3fYRJKV4XFnx7AFe0df/1g5HdJQULlxcb9j07d4TQUnBDSRV++tpOy+t+du91jnx4Wl3PyWuJKK2uw7RlWwzbP140CXnZGaip92HCUxvDRFhO1cvq2qt3lUd8D+NFe9Yl1ntgdj4Awz4ej908NPQF0CmIaCdjLN/RQuOMnOZNIISiGYuBFEisgRQANh6Mf/YOEV6XSyjaWl18PKqsMXYyYzhpGmB1vbYwKLBapB9P4wSra0dzD+NFe9Yl1ntgdr7d7DgiMdylhhxMEwiRaCavu7V4oXN8Z5Ii5rrB8c/eIaI5EBCKtmaP6B1V1hg7IhYnhSZW12sLUYuV4CRepg12rh3NPYwX7VmXWO+B2fl2BV4iMdylhhxMEwiRacNbP59geW7xb26E10Tjk+yhqLLP6H0D3C5lGmj+uH7CheepHsIL865FdoY3bHu3Tm4M7B5bmjm9WEdLitcVEnwsuv5Kgygk1UNYMGWQUOhlNiXHy5jRu3OSqbGAFq3Aw45YhHc9AHAT2kzUkpmWhBuvCh8QtIITVbyU5FYyAyW5Cbdem4N3dx+L2ZHJStwUzT10Cv3949Ulq5MXEwfbc+GKVDykPd6OwYUZZufz9un/prSCtFjadDEgBUgdgPzHPrZ1XKdkN842+gV7CWUnjWIWK/QrJPwBYEBWCh6ZNRx3TR2MJav34n2dqMnXwlBQVImahnDf2tPn/Th93vkE6Koo6r8n5+GHY/qFPkiSPC5caGntjySNXY5I6GWGmo1G5VRdEz7/9TRTYwEgXMTR2OIHYwypXo+lWOS/pgwKy0bjJmDhtMFhbYwXap1Z8AHwugkuIoPASMnM0/r28ret34T+Xy8YipRr+nfDm1+Ug4jAGDNce9sD07F6VznW7qnCzOG92mQgFYl19MqTmvPNmPDURksxUKTiIdHxVgYXZpidr99321+2hYnienUxZp6JVRDVUZFvpgmEKGuMHYnY0CXrTAZSwNcSsFQE2+Xrk+exoaQKtQ1NhoEUUBx67nqzCBZr6aOC10YGoMnP8OLm0tC217eWGY492+jH61vL8LO/beeWLdoOAMvW70ez7kY0M+C1zw5jZE5X0zdSbZaQZj8LZYXRZkPhnbd4RXHYvfcz4A+bDgnr6BTaOvuCKeya/Qy+lvD6FpbVcLPeqMSSUUStQ1Pwuk1+xu2r2aNz8MqPr22zN1JeNpvXt5ZxsyKZ3V+z8qI5Xs1gE+2XLLPz1X1FR2sN6nLVYSraNl1MyME0gYgla8x5YzanuPJhSXXCZYvQCi9EooiC4uPYIhgARNuV86Jzp7IScYjEIhW1F7jevG6Kv/DIrM7a+trJOBLtM5JIWWFURHUyE+CY1TnSNrZ3n4hEcdrt7V3H9kQOpglEoroJ8ZgxNDvhnE/sOgtNEhhgiLYr55m7U4liRFYiDpFYpG9mKteFyM+Mx+uvHWu8yqzO2vrayTgS7TNiJowpLKvBMx8eQGFZjaOxuZp6H9buPoa/fXaY+0YtqpOZAMfX0iIUA0UqHuId72vxIy1JrCOItn+0fawiEsVpt8dTlJboyHWmcSTSdaYAMOC+dXGpS4rXha6pHseSdHdJcWP3wzdg5MMfmE4vtyVDstOwftHk0O8D71sXZmLhAnD4yRsB8Pv5SHCfCNE5VjGiNUWVWBxFzHRNUSV++fZuNAenWj0u4Jm5o8KO1197bn5fLC+siDlepdZZv8ZQ24cA8KNXPheGD2KNmWr7TW3L8sJyw9RyRrJ1X1pRUFQZFp8W1Z9Xp5tH9TH9OzDrB1F5ItTjWYDB52chlyreedHGLue98nlYH0/My8I/7hgLAIZ2qp8DsbSJR0dcZyoH0zgS6WB6yx8/wY6j5+JSl1F90lFkkvw6GuZ9qy/XZKI9WbFgLPJzs1BYVsPNuKLuB5QY6ZbSGkzKy8LLPxljWu49b+3Cii+N03k3XdUTHx04ZblovqbeFxJxALAtFqmp92HfsbMACMMu62wo02pRfSwmCo+/uxd/+ewbw/a7pgzEouuvDP2uZiIZ2bcLLjQHcKreh2/ndXfEZk7bb2Un67n3VCXattbU+zDuiY/RxBkLVZMIUZ3UzEBW94FXjqg8K0qr6/DdFz5FU4v4mYvWzMHs76ZrpyRTI41Y2qSnIw6mUs2bQOwqj89ACgB7jjk7kAKxxXjjxZZDp5CfmyWM56n7AVgOoFo+2s93c9p48JRpVhgVfQaUSJYuTBIsseBlfNHDq4tdPvrqJHd7QXFV2GAaSyYSK7T99vetR0yPjbatFbUXQHABnH7kZUTR30s798Ess4pVdhw9DU1+JLtdYYOpvu1W2YpEmP3d9OvGX9Zmp48uBWTMNIEYndO5Q5WdiDFeNY4niufZifPxmH4lf0C7bnD3dosR2VlUH0tdrOLEbY3VvYu2rX0zU8EEA6GdmK+d++CkvsBOXDLa2KXZ343MGmNOXAdTIsohok1EVEJE+4joruD2bkT0EREdCv6bGdx+BRFtIyIfEd2jKWcIERVpfs4R0ULBNW8gogNEVEpE92m23xncxohI+FdJRLlEtD147FtElBTc3i/Yli+JqJiIvutUP6m8/V8Tudt5i/ejKZtn2mA3l4v+QRFlZtEyIKttRQfZGUk4e0FZ25qfm2XItDMxL/o3qKd/MJq7/YV518a0aB5QvF3v+PsObgLy1bvK8eNXP8ezHx0wiB5HIBoAACAASURBVEh4i+rnj+uHJDeQ7HYhyY2YzB0WXX+lwQjESwh7KwVaRS6l1XVxXajPu6eAsgbW64q+rVnpyXj6llGGvwW7GVH090GvwnY6s4odo4ZozRzM/m7aIktQRyauMVMi6g2gN2NsFxFlANgJYDaAnwA4zRh7MjjgZTLG7iWingD6B4+pZYw9zSnTDaASwBjG2DecfQcBTAdQAWAHgNsYYyVEdDWAWgCbAeQzxrjzGUS0HMAqxtibRPRnALsZY38iopcBfBn8/6EA3mOMDTBrfzQCJF6A/5HZw3HXm0W2y0hyu0IL6V0EPPsDRbSizbKhcnmPTtjwyylYsmo33ik6joYmP9ykDLKLb7gCR2oasLywAi0aZSkBeO7WViHMb9fuw8ufHgntv/1b/VDna8aa3eExxqxUD2ou8NfwpHqACy0QTLaJyc1KxZnzTai90NpnqhDpyiXv4UJLa71TPYT9j8X2Heiet3bho/0nMP3KnmEDbLQxIv096d05CdsemM7dByhp4vRiDu21n/v4oGmmlUgxqx8Qbu5gJYhxCjVGu/nACRRXtoZGtEKZaKip92Hb1zU4Vd+Ib+f1iHiQ0N6H2oammLP5RHI9s3XO0TyXah9PGtTd8AW0tLou7m3riDHTNhUgEVEBgD8EfyYzxo4HB9zNjLEhmuMeBlAvGExnAPgfxpjBY4+IxgF4mDF2ffD3+wGAMfaE5pgjEAymREQATgLoxRhr0ZZHRC8BOMwYeyq4/feMsfFm7Y10MH19axmWrCkxbHeR0YkoElK8Liz5zhXcsgHgr/Ovwah+mQbBQrKHABB8HPeFZI8LW+/jZ5ZIcoMr5mhL5lzdmysYuv/6wVgwZVA71MiIWbYRANx9bgBfLJnG/WC0yrTiZP1mj84xFd7EO6uNHYGZpOPSEQfTNouZEtEAAFcD2A4gmzGmftJVAYgk+HYrgH8K9vUBoJ0rqwhus0sWgDOMMfX1SXv+wwDmEVEFgPcA/F9eAUT0MyIqJKLCkyf5Ag4RosXfsQykgPXC8g9LqrmLrd3kEk4Du10kzCxBCRCKFwmGVidQhguzbCOifQwQLoC3yrTiZP0A++YO8cBMKCORtAdt8qlHROkAVgJYyBgLk6wy5dXY1nARjF/eDOBtxytpzW0A/sYY6wvguwD+QUSG/mOMvcwYy2eM5ffo0SOiC4gWf3OMcCLCamH5jKHZXMGCnwWEN8YfYMLMEiIxR1siEgzNTqAMF2bZRkT7CBCKSJwWiFhlQ7Fr7hAPnBaYSSSxEvfBlIi8UAbSNxhjq4Kbq4PTu2pc1W4W6e8A2MUYqw6em6MRJf0cSixVa9LZN7jNrH7rg+e/AqAGQFciUpcMac//KYDlAMAY2wYgBYCjf7nzxucasqJ0SXHj2R+MiqicZE1mBxcp8at543MNmS0ARSQ0ql8mKmov4MEbh8JDiqG6h4Clc0Zi6ZwR8LrDR3OPi7B0zgjUNjRh01cncPe0wWFCh6dvGcUVO/XLNJpiq2R2csPrJqQli91ceEzMyzKIoIZkp+HpH4yGPsGMmjUmHpRW12FFYXlEXrRmmU94+wBg2a3Ks8AT+lhleQHCnW3MhE9W9QO0WWOUZwYIz9zjxBSvyMHHKYFZImQ3ET078apbNM+qxJq4rjMNxiD/CmA/Y+wZza41AH4M4MngvwU2i7wNmilexlg5gNBIExwEBxFRLpRB8FYAPzQrUI2vasrYBGAOgDd1dTsKYCqAvxHRlVAG08jmcW3QpItPNrWI3w5F+DSimwADfvFmEW4e1QcZqV5DdpQjNRfwrd9uQCevG/W+lrBrvbjpENYvmoy6xhb8evXe0PaWAMMfNh0KM72em98Xt4/pHxI6FB45bajX0dpGYZ1rzytB1kDAjzG5mdheVmurrcUVZ5Cqs1M7d6EZBUWVgMsFrz+AZgA3De+FF26/xlaZkfLQ6j1Ri37MMp+o+94pqsTVOZn40bgB+LT0FCY8tdHgLqN1u0lyA7dc0w//PmFA2ECqdbZ5fmNrUoCP95/AUx98FSYsslM/ACg8cjosPn7dFT3w6KzhjgykVg4+/7hjrKlQJtby2wLRsxOvusXyrErMibea99sAPgGwB60izQegxE2XA+gH4BsAcxljp4moF4BCAJ2Dx9cDGMoYO0dEaVAGtIGMsbMm1/wugGehaDVeZYw9Htz+CwCLAfSC8ib8HmPsDs75A6EMpN0AfAlgHmPMF1Tw/gVAOpRp6cWMsQ/N2h+pAOmlTYfwxPqDhu2xCpAA4Np+naNyV3p27ggsXllsS1CkCl1EQpi2xA1AW+V4CWKcFv2YIXK1WXvntzHzD5+aut2IBDtaVGGRXeLZ9mgdfBKlfDuI+m/FgrGY9+oXjtetLZ/VWOmIAqS4vpkyxj6FeCnjVM7xVVCmVnllNUARCFld8z0oAiH99ucBPG/j/MMAvsXZXgLAOkt3DIjEMbEOpED07kpr91QJ3WH0qE4oiZBNRt9lsTgBmWEm+nH6A0rkalNUfsbS7caOMGftnqqIBtN4tj1aB59EKd8Oov7bcsieq5ZT14vHs3op0v6yS0kIkTgmVgESEL0D0szhvWwLiqrPNaK0ui4hHFH0NTbL3hENajxrQBbfYs1OH9iJidXU+7Dl4AlsOXgSaUnusETcgCL0GZXTFU1+v2G7tr12hDkj+nSOKD4XT0ccuw4+0cYVm1v8YYnjAesMLE6gNbhI8fKvNWmQ0VXLibrF8qxKrJGDaQIhEseMvzz2dXNv/9dEpHoiG5W7pLgxe3QObr3WKCbiiWOWfngQ05ZtwWufH+EKkOJBlxQ3ty56mvzAcxuMU+jRUFBUiQlPbcS8V7Zj3qtfGIQwdlxhtGVMeGoj1hQZdXIFRZUY+8QGzH91B+a/+gWmL9sStubX7SL87vsjsO/4ubDZCw/HDUjkHqTlL58cEdaFR152BnpxBEpOvOXYcfCx04c8Hlq9B3Ne+hwtwWw86l+Fy0WY+YdPbZcTKWp95/55K6Yt24KFb31pOGb+uH7Iz80KtT05qOyKtW4FRZWY9+oX0GkJpYORg0ij+wRi2fr93O36lFPR8Pi7e8PcgOxwttGPwrIavFVoVHuePt+CFQvGYnvZaSz9MHyQem3bUaxYMBZv7ajgGj5Ey+RBWbjzukH46vg5FBQfx6wRvTFvfC4AcbxZX6/5YwfE9OFRU+/DvcHUZOo03I5varFiwVgcqTlvyxWGV8bilcWYkNc9LOvH4hXFofRrgHHq2h9guKxLCua9+kXYcW6XCxPyjG+iesFORe15rPryGLYdrkGzn6HO18Kti4jCshqDQ9Pxc00oLKtxxDjh5lF9MCGvO9fBx04f8iitrgsT4ACt/arGKO22PxK09VXR/2kkuYG7pg4GoLR9aO/O+O4LnwJgMdWNd22PC3jzP6TBhZPIwTSBKCjmL5J3grV7oyt7y6FTcJML4XIe5a3I63EjuzN/ucuWQ6eQ5HY5Ophmd0kNZShRB1GVrAzxshstscaHRLE2r8eNOfn24o124nUVtRcMHq88ePG1JLc4vqbN8JKfm4XcHhmY98p2NPtbbR7txufsZOaJFVH2kWhjnnbi+fGIndrJLJPs8YRd1052mGivner1wOuJ75T2pYac5k0g4pmNY+ZV0ZU9aVB3+JnxA0A1bRDFW3hxn1iZMVRslGU37hNrfCjabByRltE3MxV+G8ozXj9HUp9Y2tOexgnR1tvO/Y+H4UQ0GX6ceNacLEdijhxMEwhRlo5I4o8jLjO+dXVJcePXN11lGTPTMze/L843+/GdYeEDsZuApXOU+FVedgbm5oevf5s/rh/OXmjGsN4Z8LgUI4ZIRVT6w1O9hKXrv8LrW8tQU+/D2t2V+NtnZaGF5zzDAj3jB3aLrBJBNpRU4d4Vu7GhpCrqbBxaswR9Gckewn9Pzgs7Pis9mWuYoUUbX0tyE5I9LiS5ybQ+esGOWpdkD6GT141kj/n5WpzOzMNDZDAQbb15mU8m5mWZ3k+1DoVlNaZiJzMxVFZ6Mh6cORRJwXsEKFOtAOB1KX9TCyYONNT/vyfnIdlDUWckUq8da2YjiTVymrcDcPhkg/VBQYqPGV1N1Cw0n38dWez17cIKLC+sMGz3M6Dwm9Mhs4DlheGiiNe2HcVr21rjUi0+P+bm98HKnZXw2wzb6g+70MzwVXUDlqwpMRj2T8zLwo5varmG61q2Hj6Nacu2RLRQfcayzSFzircKK0IZaUSxPB56swQ1u8mEvO54Y/tRvLipFC9vOYwXN5eGLc6/eVQffHroJJbvbO3fWSN7Y+KgHmGxWcU4odWVU703ekRGACEZDgFgkX3rqa4LN+I4USc25ogUK4OBaOv9yKzhmD92QFjmE1F2FX0dPC7A43YZTBSsTBYKiirx6NoSeF2EZj/DA9+5AmMGZuE37+7FrqPKsvnnNpZi19Fa/OOOsWHlAYSfTRqIH47pF/UAaBZ/ljiDfDNNIJat349m3SjSzJwRIM18drOhbCvMDn9t21EUltVgoc3UcMsL7Q+kkfJJaY3lQKrltW1HbVmpbSipCnN5AoAD1Q2hN9SROV1tvZHq798npTUoLFO2/XFzKXwtAdT5WtDYHMDilcWhN5vS6rqwgRQACnYfDxtIeYIaXvu0IhTttUqr63DvymL4WgI43+SHryW8DtH2T6xYtUttTzT1BpQ31Dn5OaF+5N1PXh1aAjDcJ1Hf8vY3NPnR5Gd45uODOFXXGBpIVT4prVFmQjTl+VoCeHFzKWLF7jMriQ45mCYQ8RQg7auy/3Zrly2HTkVsdZgo2BGifFhSHdF2HmYiHV7WFW22FTtZYOxmihFdSzV8ENXBDCf6R4RVu6z6zgnMnhHttazqItpv1n/xbpvEeeRgmkDEU4A0rFea9UERMmlQd6G9VaJjR4giEjyZCaH0mIl0rIQhdkwR7BoniK41Kqdr1OIUJ/pHhFW72kJUY/aMaK9lVRfRfrP+k4KhjoccTBMIkQApUuEQj7ULJxvKtsLscFX88tyt9jLaXDuga9wetmv6dYloUBctVNeLXaYO7cXNSDN1KP9Lj1aopGIm0tEKQ1RRyuRBrWsIeWKZufl90dDkR029DzX1Phw724hpunRzvPbxBDsP3jgUDU1+/HzSQHjdhE5J7ojEKZH0j12nIvW4zLQkQ9vVdqnxzQdnDoXXBXhdBC/HqCJWeP3vJsDjJtw9fXDoWlYCH9H+qUN7GZ6NUX27YFS/TEcFQ9q+5wm67DpxmZUhOvZSQgqQEgxezDS3exo+cSBu2inZHRIj2cFsCvftHeV4ZNZw3DyqDx5buw8n6pvD9pPu/B1H4ufXu/OoMe/BTcN74V1dcutUN+HdX0zkDqQiscv6RZOxoaQKH5ZUY8bQbOFAKhIqAcb7l9ujdQC6eVQf3P1WEVQ/jQ9KTmDQ/etw6IkbAYSLZU43NOGZjw/i/T1VaGzxo8XPwvrYTYDbBeT356uWtYKdlhaGh9/dh0CAhWLZzX5FKBZJdpIeGSk4oImb9uSs97WbAUV/3Nxr+iLJrSSbZwggv3+3sGNUkwm1ZW8Xljue9UUv/vMz5T+/fe8rVNSeDwmirAQ+ov36v7HdFWcx4amN+N33R+Cze6+LWTCk7S99Vqj54/rhmv7dLO+NVRlaUVgiZOJpL+KaNeZSJ9KsMUtW7cbrXxjVs07Qr2syjp5x9pvi/dcPRnaXFCxcXuxoufHksZuHGgwfYs2msaGkCj99badh+1/nX4P+WWmmZS9bvx/PbTps2H/XlIFYdP2Vod95WU5E8DKMRHK+3XaLMtGsWNDqrGM3O4ud+iV7XABYWIpBs2vHip1MO7FkXDEr34ksMXb7VGusor+unTLUPnAyE09HzBojp3kTiPf3xS7cEOH0QAooWW7W7omfaCoeFHAy89gV8YgwE5JYlS0Snem380QsInhilUjOt9tuM3GV2XWjrZ/bRUE3rsjrFA12yoolQ5JZ+U4Ijuz0qT48or+unTLaUhSWyMjBNIH4zrDYhRsi+nV1Xg4/e0RvzBweP9FUPJjFycwTa/YTMyGJVdki0Zl+ux0HHRWeWCWS8+22244Dkl2hkJ36+QOM68Zlp07RYKesWBy1zMp3QnBkp0/17/h2XJj0tKUoLJGRg2kC8dj3RnK3z83npniNiC33TUOXlMi9OEXCnlQPYcGUQZg9OoebtcXjciZ1XLQ8zxFGdUlxG6Z4Ab7QJJJsGlOH9sJlXcK/rKhCHKuyRaIz7RRvYVkN/r71CBZMHIgkN8HrIrhdZLg3boLQAUkvgvG4AK+bTLOIWAlJeOKqsbmZ8HrcBocld9BbwQ0Y3J549UvxujB/XL+w3x+6aSjunDIIyR5lmx6n3ZesMu3on5HXt5bhlj9vxetby6IunwDHHIr0fap/XuaP64elc8yFTnbK0K7VvZSdlmTMNI5EGjMFgJEPfxCRSMguR568EQPuW2d5XJIL+PnkPBCAP285jKaWAFeIpBUeDLp/XZhwyg3giyXTAAA3v/AJKs86M8U8eVB3bOZMjQ3ISsWRmtapJLVuP3hpK7aX1Ya2q85DIkqr68JcceyiFR8BQJ8uyfjs/mkRlb1s/X4UFFdh1oheYQOp1j1JT16PTpg2tBde/tfhMPt0M4cnrdMPoEzNNbf4DRlv7ApJ9G0HgIxkT9g5Vy55z5CxSP2g1ZepdyJSf99beRaPriuB1+VCk9+PO6cMQre0JDy8Zi9Uudvv546Ki9hFzbRzoOoc1pecCG3X9rP+77ZLihu7H77Bsmy98O3Gq3rhkdlXOZ6xRu3T2oYmw3Mocn+KpAzRsdG2oyPGTOVgGkciHUxf31pmsMpzij6dk1CpS5cl4q4pA/HSp0csxSofL5qEd4sqhAKaETmZXGFOW/Ds3BFcYZSTAhXAXHwkUv7axY4AxusiNHMM8WMRxtgVkojarj1nwbcHcJ8PUZl265PsIQBkKp5xEjOR2udfn+L+3fLEbnbLvNRzjHbEwVRO8yYQPHGMU9gdSJV6VNkSqxSVnzEV0DjhhBMtImGUkwIVIL4uQHbq6hd8GY5FGGNXSGLVRq/LZerqZVecwquPm1yGFHXxFLuYCclEf7dWf8+xCt8kiYUcTBMInjjGKfpw4poi6i/40NDUYnncgKxOuLZ/JnffrBG9MC7KLC1OIBJGOZ0eTNRGvSgpkoXs6rEj+3axPNZN/MC0KgqJZgG9XSGJldNRcyBg6uplJk5R611YVoMvj56GryX8efSzgCFFXXMggLQkd1wMA8yEZNOG9ODuuzqnq2k9BmR1iuhaerSZiOxiZbhg9xiJEWnakEDMG58bt2nezx6YbitmCgCnzlvHbLukuDHv1S+4b7AuAAOzO+Pele2z/rR35yTMHp2Dlbsqw8wSnBaoFBRV4r539hq2612AIlnIrj32QrP5F5oh2WkYk5tlMGNXRSHRLqBXhSSLdefqp0//dfAk93x9zPTlT8qEMVPelKxa7+aWQFhyBAKQril7eWF5WDy5f7dUzPzDp3ExDMjLzsDg7LSw+PCQ7DTsO34OyzbyTej/+UU5Xvv8G1MjBI9LMc9XsSt8E2UiMsMqC4/dYyR8ZMw0jkQaM3383b34y2ffxKUuN13VE+v3nwym6oovdhbXxxs1NqqKRyYN6u7oQMqL47kAPDN3BGaPzjE9ThTbs1og73UpeWS3HT6tLLvpl8mJJbqw9b7rACDmBfRmQhJRvA8Afv3dK/C90X3Dznlp0yGsLj6OGVf0wHVDewvFKVZ98Ifbrsa4y7NQ29AkvL6KkzFUUXv1pgd26sFro8dNePOOMbaeUTtmGXbrr43PJlIMtyPGTOWbaQKxdm/8DBA2HjwFIr3JX3xwuyiYX9J5VbJdthw6hfzcrNCP06hxvEaNjjYt2YPcHhmWx6mxPf2HPO9YLSlepXx1sN4dzPiiPT7J3Ro3tHtdEVnpycJjzeJ6pSfqDectmDIIC6YMsrymVR80NvuRlZ6MTV+d4O7XEml7zRC1187qL309eG1M9bjh9dhbumZmliF61s3is+pAaecYiRgZM00gZl4VPwOE6wZ3R1vNQthZXB9vnI6N6onFjEAUK7RaIG9nQb16TLwX0JvF9WLJGmPVB+p17cQV26K9dv6iIrlvdrBjlqHHyQxEEj5xHUyJKIeINhFRCRHtI6K7gtu7EdFHRHQo+G9mcPsVRLSNiHxEdI+mnCFEVKT5OUdECwXXvIGIDhBRKRHdp9l+Z3AbIyLhU0dEuUS0PXjsW0SUFNw+iYh2EVELEc1xqo+0/Pqmq7g3xAnvgxfmXYunbxlpMFKItuwh2WkGAwB1ofbSOSPwy+lD4HUTUr0ueN2Eq3q33TfbiXlZyO2Rji0HT2Lt7kpsOXjCcUGK3QXqrdlaXOiU5EayRxwrFBkrpCW7keRx4cGZQ4UL6r3BB+f/5CmP9r5j53DrtX2RFDzfzgL6Zev3Y/LSTVi2fr9l+3lmFIB5Vh07aNtkZijBu/7Y3EylvRFmv7GDyHxDNT3g/R3ZNUJIcgPfv7ovahsUxb2VsMgsE1Gk9de+cdo1L4nkObmUiGvMlIh6A+jNGNtFRBkAdgKYDeAnAE4zxp4MDniZjLF7iagngP7BY2oZY09zynQDqAQwhjH2DWffQQDTAVQA2AHgNsZYCRFdDaAWwGYA+Ywx7lwJES0HsIox9iYR/RnAbsbYn4hoAIDOAO4BsIYxtsKq/dGYNogWcf9mzV6sMVlm8Ivr8vDOlxUor2007NOKExa/XYTlOytt1cXrIng9LpxvCp+u7ZeZgi33TuUaAPTNTMVzHx80iGLs4CGgf/c0lJ1sEEzyGemZ5kVuz/Qwc4Yh2Wn4+mRDmLDD6yb8/paRji/qt7NAvaCoEotX7IabXPCzAJbOMa+HtswP9lbhN+/ug9ftgp8xrpjl8vvXwSwU7nYBj9x8FW4f2194jN54w0sIZa4xI//R9TjV0CqU6t05CdsemG55nhU19T68sf0oXthwEC5SssY8fUu4KQPP0CI92Y0mP8P/3DQUt48RtzcaROKcmnofJj21EQ2aGGjnZBf+ccc4SyOEJav34n1NeKdX5yRUaZaxmQmLItUDFBRV4ldv7wYRgTGGpwV/D2YGI9E+J5HSEWOmcX0zZYwdZ4ztCv5/HYD9APoAmAXg78HD/g5l8ARj7ARjbAeAZk5xKlMBfK0fSIN8C0ApY+wwY6wJwJvBa4Ex9iVj7IhZfUkJKl4HQB0otXU7whgrBmx/zkdMaXWdYRBat7cKRUdrTQdSAHhxYyl3IAWAT0prUFhWg9LqOtsDKQA0B5hhIAWAo7WN2FBShaz0ZIzM6RqKrY3M6YrahqaoBlIAaGHA1xEMpABwoqE5bCAFgAPV4QMpADT7GX61ojgub6hqH/Coqffh3pXF8LUwnG/2w9fCsHileT3UMgHg0XUlaPIzNDT50dgcMJy7bP1+04EUAPwB4JG1JcJrLlu/n5v6z+rNY/Wu8rCBFACOn2vC6l3l5hWyyR83l6I5APj8ATT5Edb2wrIarjNUvc+PppYAHjVpbzTw/jZf23YUpdV1eL/4WNhACgDnfAHsKa81fTOubWgKG0gBhA2kQOvfLo/83CzcPWOIrYFUfQ6b/Ay+lgCa/OLnMC87A3Pyc7hvpNE8J5cKbRYzDb7ZXQ1gO4Bsxpi6orkKQCRBllsB/FOwrw8A7V9yRXCbXbIAnGGMqZ8QkZ4PIvoZERUSUeHJk/ylAyJEAgA7BgBWUp8th045uhhcVKdEXnDudlGbZ7CIJZOGnXPNTBG0mLXdbuYaPSJjDCcyCVm13crQwmkDh7Y0bdDjhNGIExldon1OLhXaZDAlonQAKwEsZIyd0+5jyjyzrbnmYPzyZgBvO15Jh2CMvcwYy2eM5ffowV/MLUIU6Lcj6LDSAU4a1N1RIYGoToksVvAHWJtnsIhFbGLnXDNTBC1mbbebuUaPyBjDiUxCVm23Epg5na3ETJwjMluxMmGJNTtPJDghSIv2OblUiPtgSkReKAPpG4yxVcHN1cF4qhpXtda5K3wHwC7GWHXw3ByNKOnnUGKpOZrj+wa3mdVvffD8VwDUAOhKROqSIcvznUQkAJg6tBdX7KHl6ydvxJDsNO4+VZwgEo2IUAUSesxEJpFeQ389NVOI3YwzQ7LTDGKMIdlp8OiebK+bsHRO22ewiCWThp1zeVln9Fi13U7mGh68jEGqYUasWLVdlNElXtlKzMQ588bnGjIyiTIUWZWp70+njEacyOgS7XNyqRBvARJBiTueZowt1GxfCqBGI0DqxhhbrNn/MIB6vQCJiN4EsJ4x9v8E1/NAESBNhTII7gDwQ8bYPs0xR2AuQHobwEqNAKmYMfZHzf6/AVgbLwESIBYAaLff+OwW+BiQTMABjQBgQ0kV3tj+DRqb/bisayfcem2O4Y+xtLoO6/cpUzPXD1MGxaLyM3j+4wM4esaHvO6p+Pie68KEMEVHa/FhSTVmDM22pdZU6zogqxPON/sBEIZd1hlFR2vx9s5yXNYlFQO7p2HPsXMYN7AbcntkGDKFnKprxO6KsxjYvRNaAso3+TPnm/C3rUdwvqkFt4/pH6qLXoxRU+/DvmPncO5CEzqnejHssi7tmgoqlkwads7VZp2ZP2FgVG0XZa6xYvWucqzdU4WZw3s5MpBqsWq79r7n9kiPOVuJFWbinNe3lqGg+DhmjehtOZCalRkvoxHAmYwu0T4nkdARBUjxHky/DeATAHvQKtx5AErcdDmAfgC+ATCXMXaaiHoBKISimg0AqAcwlDF2jojSABwFMJAxdtbkmt8F8CyUmc9XGWOPB7f/AsBiAL2gvAm/xxi7g3P+QCjCpW4AvgQwjzHmI6JrAbwDIBNAI4Aqxtgws/ZHO5hKJBLJpYwcTCVhyMFUIpFIIqcjDqbSAUkikUgkkhiRg6lEIpFIJDEiB1OJRCKRSGJEDqYS6FBucAAABiZJREFUiUQikcSIFCDFESI6CUWtHA3aldqndL9Hgjz34j23o9VXnnvpnRutfVN/xlhkrjftjBxMExQiCsmAGWP52t8jQZ578Z7b0eorz730zu1oitxYkNO8EolEIpHEiBxMJRKJRCKJEaPxqiRReNni91jKkudePOd2tPrKc+W5FyUyZiqRSCQSSYzIaV6JRCKRSGJEDqYSiUQikcTIRRMzJaJXAdwGQJRXyGaGTIlEIpFcYgQA+KG8YKovmQxAHYAnGWNPWhVw0cRMiWgSgEEAfqPb5QKQBcCrPwVKZ2kHWf3vEolEIrk40H6+MwA+ACnB388H//VCSbHpBdAAYD+APgBmMsZKzAq/aKZ5GWNbAGyA0gHan3QALbrDtR2qpTn4bwASiUQiSTRiefvTf67XaspLhTIeVkHJhX0+uK8CwEkAs6wKv2gGUwFpUAZO0eCob3+SYLtEIpFI2p9YZg7dwX9bguX0Dv6rvmx5ANRDGS8IQCcoY0ISlLdTUy6amCkHgjK9K6dtJRKJ5NJDH7YLQHlRUsc9f3C/Gw5wMQ+m3uCPIx0lkUgkkg6F/kVKP0VMmh+VdCgDLoMy1dsU/Km0utjFPJg2Afha83uu5v/VbyPNUAZcbQyVJ0ySSCQSSfvhxGey/sWqCcrnvwuK6IgB6BX8/05QNDc5AHoAWGNV+EUzmBLRPwHMRqs6yw5Jut9J969EIpFI2p94fCarYwWDsqRSXRqTHtyeBGA4gN8xxvZZVvBiWRojkUgkEkl7IVWrEolEIpHEiBxMJRKJRCKJETmYSiQSiUQSI3IwlUgkEokkRuRgKpFIJBJJjMjBVCKRSCSSGJGDqUTiAETEiOj3mt/vIaKHg///NyKaozu+PvjvgOC5j2n2dSeiZiL6g8U15xPRXiLaQ0RfEtE9mn0eIjpJRE/qztlMRPm6bZOJaC2n/M1EdICIioI/K4LbHyaiyuC2EiK6zaKeofYTUbdgXf892PYLmvKLgm16g4j+U3P+GCIqJiJ95ieJJGGQg6lE4gw+AN8jou5RnFsG4EbN77cAMF0kTkTfAbAQwAzG2HAAYwGc1RwyHcBBALcQUSwL3m9njI0K/mi/ECxjjI2Ckk3jJTsDHRF1AbAewMuMsf8X3Py1pvxRjLHXANwN4FdE1IOIXAD+AOC/GGPNgqIlknZHDqYSiTO0AHgZwKIozj0PYL/mjfEHAJZbnHM/gHsYY8cAgDHmY4z9RbP/NgDPATgKYFwUdbIFY+wQlPpnWhyaDuB9AP/LGPuTRZnVAJ4G8DsAPwdQzBj71IHqSiRxQw6mEolzvAjg9uAbWKS8CeBWIsqBYmt2zOL4qwDs5O0gohQA0wC8C+CfUAbWaHlDMwW7lHOt0QAOMcZOWJTzDIBPGWPLdNsv103zTgxu/zOAoQB+BWBxDPWXSNqEi8abVyJpbxhj54joNQC/AHBBu4t3uO73DwA8CqAawFsxVmUmgE2MsQtEtBLAg0S0kDHmj6Ks2xljhZzti4jo3wEMBnCTjXI2AphFRE/rBt6vg9PFYTDGAkT0EoB8xlhNFPWWSNoU+WYqkTjLswB+CiUxvUoNNNOgRNQNwCntSYyxJihvmr8EsMLGdfYBuEaw7zYA04joSLDMLADX2au+bZYxxoYB+D6Avwbfhs14E8rb5ntElGHzGoHgj0SS8MjBVCJxEMbYaSjxzp9qNm8G8AMiUrMU/QTAJs7pvwdwb7AMK54AsJSIegEAESUR0R1E1BnARAD9GGMDGGMDAPw3YpvqFcIYWwOgEMCPbRy7DMAGAKs0fSGRXBTIwVQicZ7fAwipehljawF8AmAnERUBmADgXv1JjLF9jLG/27kAY+w9KCrXj4loH4BdADoD+DcAGxljPs3hBQBuIqLk4O/riKgi+PN2cNtUzbYKIlJFS9qY6ceC6jwC4O6g8taq3vcCqADwDyifP/qY6S/stF8iSTRkCjaJRCKRSGJEvplKJBKJRBIjUs0rkSQwRPRrKCYOWt5mjD3eHvUxg4hehDKFreU5jUGDRHLRIqd5JRKJRCKJETnNK5FIJBJJjMjBVCKRSCSSGJGDqUQikUgkMSIHU4lEIpFIYuT/B3e/NhfJNFttAAAAAElFTkSuQmCC\n"
          },
          "metadata": {
            "needs_background": "light"
          }
        }
      ]
    },
    {
      "cell_type": "code",
      "source": [
        "orig_data.plot.scatter(\"NUM_CALLER_KEY\", \"TIME_MIN_CALL\")\n",
        "plt.show()"
      ],
      "metadata": {
        "colab": {
          "base_uri": "https://localhost:8080/",
          "height": 280
        },
        "id": "Qb1jgS8f3vdP",
        "outputId": "30035d3b-00dc-4b7b-fa9c-6aa9e546dc56"
      },
      "execution_count": 37,
      "outputs": [
        {
          "output_type": "display_data",
          "data": {
            "text/plain": [
              "<Figure size 432x288 with 1 Axes>"
            ],
            "image/png": "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\n"
          },
          "metadata": {
            "needs_background": "light"
          }
        }
      ]
    },
    {
      "cell_type": "code",
      "source": [
        "orig_data.plot.scatter(\"CALL_DATE\", \"TIME_MIN_CALL\")\n",
        "plt.show()"
      ],
      "metadata": {
        "colab": {
          "base_uri": "https://localhost:8080/",
          "height": 280
        },
        "id": "Qyy17UqJ3474",
        "outputId": "04e84f1c-0d28-4929-ce21-6f4641a84253"
      },
      "execution_count": 38,
      "outputs": [
        {
          "output_type": "display_data",
          "data": {
            "text/plain": [
              "<Figure size 432x288 with 1 Axes>"
            ],
            "image/png": "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\n"
          },
          "metadata": {
            "needs_background": "light"
          }
        }
      ]
    },
    {
      "cell_type": "markdown",
      "source": [
        "#**Synthetic Data Bivariate Distribution on NUM_CALLER_KEY and CELL_CALL_CODE**"
      ],
      "metadata": {
        "id": "fWb-Mi3xnIv_"
      }
    },
    {
      "cell_type": "code",
      "source": [
        "synth_data.plot.scatter(\"NUM_CALLER_KEY\", \"CELL_CALL_CODE\")\n",
        "plt.show()"
      ],
      "metadata": {
        "colab": {
          "base_uri": "https://localhost:8080/",
          "height": 280
        },
        "id": "l8vIKVT-mMbj",
        "outputId": "7f08f900-549b-472a-ee65-4fd72021aaa9"
      },
      "execution_count": null,
      "outputs": [
        {
          "output_type": "display_data",
          "data": {
            "text/plain": [
              "<Figure size 432x288 with 1 Axes>"
            ],
            "image/png": "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\n"
          },
          "metadata": {
            "needs_background": "light"
          }
        }
      ]
    },
    {
      "cell_type": "code",
      "source": [
        "synth_data.plot.scatter(\"NUM_CALLER_KEY\", \"CALL_DATE\")\n",
        "plt.show()"
      ],
      "metadata": {
        "colab": {
          "base_uri": "https://localhost:8080/",
          "height": 280
        },
        "id": "32YOhSDg4Dr8",
        "outputId": "b73bed2c-dae2-4a84-ccf3-9440594ecabe"
      },
      "execution_count": 39,
      "outputs": [
        {
          "output_type": "display_data",
          "data": {
            "text/plain": [
              "<Figure size 432x288 with 1 Axes>"
            ],
            "image/png": "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\n"
          },
          "metadata": {
            "needs_background": "light"
          }
        }
      ]
    },
    {
      "cell_type": "code",
      "source": [
        "synth_data.plot.scatter(\"NUM_CALLER_KEY\", \"TIME_MIN_CALL\")\n",
        "plt.show()"
      ],
      "metadata": {
        "colab": {
          "base_uri": "https://localhost:8080/",
          "height": 280
        },
        "id": "3ce-Fphv4Lni",
        "outputId": "ac123664-37cd-445d-99da-1abad6d04921"
      },
      "execution_count": 40,
      "outputs": [
        {
          "output_type": "display_data",
          "data": {
            "text/plain": [
              "<Figure size 432x288 with 1 Axes>"
            ],
            "image/png": "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\n"
          },
          "metadata": {
            "needs_background": "light"
          }
        }
      ]
    },
    {
      "cell_type": "code",
      "source": [
        "synth_data.plot.scatter(\"CALL_DATE\", \"TIME_MIN_CALL\")\n",
        "plt.show()"
      ],
      "metadata": {
        "colab": {
          "base_uri": "https://localhost:8080/",
          "height": 280
        },
        "id": "yvjQQQzV4VZa",
        "outputId": "2ed7801e-88d5-42b1-9a32-8738ec6481cd"
      },
      "execution_count": 41,
      "outputs": [
        {
          "output_type": "display_data",
          "data": {
            "text/plain": [
              "<Figure size 432x288 with 1 Axes>"
            ],
            "image/png": "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\n"
          },
          "metadata": {
            "needs_background": "light"
          }
        }
      ]
    },
    {
      "cell_type": "markdown",
      "source": [
        "#**Original and Synthetic Data Univariate Distribution Comparison on CALL_DATE**"
      ],
      "metadata": {
        "id": "n9K64B0Nngi3"
      }
    },
    {
      "cell_type": "code",
      "source": [
        "orig_data.CALL_DATE.hist()\n",
        "plt.show()"
      ],
      "metadata": {
        "colab": {
          "base_uri": "https://localhost:8080/",
          "height": 265
        },
        "id": "TQCx3H8cnoyq",
        "outputId": "03447998-9382-4196-81e1-113598230763"
      },
      "execution_count": 44,
      "outputs": [
        {
          "output_type": "display_data",
          "data": {
            "text/plain": [
              "<Figure size 432x288 with 1 Axes>"
            ],
            "image/png": "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\n"
          },
          "metadata": {
            "needs_background": "light"
          }
        }
      ]
    },
    {
      "cell_type": "code",
      "source": [
        "synth_data.CALL_DATE.hist()\n",
        "plt.show()"
      ],
      "metadata": {
        "colab": {
          "base_uri": "https://localhost:8080/",
          "height": 265
        },
        "id": "wue9a5kan6Wk",
        "outputId": "f1884ba4-5d12-4298-a8f3-88f020ff2af1"
      },
      "execution_count": 45,
      "outputs": [
        {
          "output_type": "display_data",
          "data": {
            "text/plain": [
              "<Figure size 432x288 with 1 Axes>"
            ],
            "image/png": "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\n"
          },
          "metadata": {
            "needs_background": "light"
          }
        }
      ]
    },
    {
      "cell_type": "markdown",
      "source": [
        "#**Original and Synthetic Data Univariate Distribution Comparison on TIME_MIN_CALL**"
      ],
      "metadata": {
        "id": "d8xC5RuuoBFE"
      }
    },
    {
      "cell_type": "code",
      "source": [
        "orig_data.TIME_MIN_CALL.hist()\n",
        "plt.show()"
      ],
      "metadata": {
        "colab": {
          "base_uri": "https://localhost:8080/",
          "height": 265
        },
        "id": "OtxnKVQhnOpt",
        "outputId": "595ff155-22ee-4f03-eccf-8e5f96d10f10"
      },
      "execution_count": 46,
      "outputs": [
        {
          "output_type": "display_data",
          "data": {
            "text/plain": [
              "<Figure size 432x288 with 1 Axes>"
            ],
            "image/png": "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\n"
          },
          "metadata": {
            "needs_background": "light"
          }
        }
      ]
    },
    {
      "cell_type": "code",
      "source": [
        "synth_data.TIME_MIN_CALL.hist()\n",
        "plt.show()"
      ],
      "metadata": {
        "colab": {
          "base_uri": "https://localhost:8080/",
          "height": 265
        },
        "id": "QNZEk2EgnaaV",
        "outputId": "6388774f-c71e-46b1-c317-3974e9eca204"
      },
      "execution_count": 47,
      "outputs": [
        {
          "output_type": "display_data",
          "data": {
            "text/plain": [
              "<Figure size 432x288 with 1 Axes>"
            ],
            "image/png": "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\n"
          },
          "metadata": {
            "needs_background": "light"
          }
        }
      ]
    },
    {
      "cell_type": "markdown",
      "source": [
        "#**Disjoint Sets Test**"
      ],
      "metadata": {
        "id": "_Y4ElpxN42DM"
      }
    },
    {
      "cell_type": "code",
      "source": [
        "A=set(orig_data.NUM_CALLER_KEY.astype(\"str\"))\n",
        "B=set(synth_data.NUM_CALLER_KEY.astype(\"str\"))\n",
        "print(B.difference(A))"
      ],
      "metadata": {
        "id": "rw6-W5NVIwxU",
        "colab": {
          "base_uri": "https://localhost:8080/"
        },
        "outputId": "88cbf735-f724-4d4d-d51e-6e31281f094e"
      },
      "execution_count": 48,
      "outputs": [
        {
          "output_type": "stream",
          "name": "stdout",
          "text": [
            "set()\n"
          ]
        }
      ]
    },
    {
      "cell_type": "markdown",
      "source": [
        ""
      ],
      "metadata": {
        "id": "6MKpWU-qI6Jc"
      }
    },
    {
      "cell_type": "code",
      "source": [
        ""
      ],
      "metadata": {
        "id": "DqCOoWQGI82R"
=======
        "outputId": "92bba1dc-5898-4909-8a6c-c5132021d8e5"
>>>>>>> e268813069110c05f9123a4bfc18d8087957aa03
      },
      "execution_count": 77,
      "outputs": [
        {
          "output_type": "stream",
          "name": "stderr",
          "text": [
            "/usr/local/lib/python3.7/dist-packages/scipy/stats/_continuous_distns.py:5320: RuntimeWarning: divide by zero encountered in true_divide\n",
            "  return c**2 / (c**2 - n**2)\n",
            "/usr/local/lib/python3.7/dist-packages/scipy/stats/_distn_infrastructure.py:2606: RuntimeWarning: invalid value encountered in double_scalars\n",
            "  Lhat = muhat - Shat*mu\n"
          ]
        },
        {
          "output_type": "stream",
          "name": "stdout",
          "text": [
            "Privacy Metrics 1 Test n.1 Results:  0.08976442388552597\n",
            "Privacy Metrics 1 Test n.1 - Elapsed Time =  50.414666835999924\n"
          ]
        }
      ]
    },
    {
      "cell_type": "code",
      "source": [
        "start_test_time = timeit.default_timer()\n",
        "tmp_orig_data = orig_data.copy()\n",
        "tmp_synth_data = synth_data.copy()\n",
        "tmp_orig_data.CELL_CALL_CODE = pd.to_numeric(tmp_orig_data.CELL_CALL_CODE)\n",
        "tmp_orig_data.NUM_CALLER_KEY = pd.to_numeric(tmp_orig_data.NUM_CALLER_KEY)\n",
        "tmp_synth_data.CELL_CALL_CODE = pd.to_numeric(tmp_synth_data.CELL_CALL_CODE)\n",
        "tmp_synth_data.NUM_CALLER_KEY = pd.to_numeric(tmp_synth_data.NUM_CALLER_KEY)\n",
        "results = NumericalLR.compute(tmp_orig_data.fillna(0), tmp_synth_data.fillna(0), key_fields=['CELL_CALL_CODE'], sensitive_fields=['NUM_CALLER_KEY'])\n",
        "print(\"Privacy Metrics 1 Test n.2 Results: \", results)\n",
        "print(\"Privacy Metrics 1 Test n.2 - Elapsed Time = \", timeit.default_timer() - start_test_time)"
      ],
      "metadata": {
        "colab": {
          "base_uri": "https://localhost:8080/"
        },
        "id": "pr4B4JM_IEZ4",
        "outputId": "593f5fbe-e4ce-484f-fd8c-ba2c48ffd3d7"
      },
      "execution_count": 78,
      "outputs": [
        {
          "output_type": "stream",
          "name": "stderr",
          "text": [
            "/usr/local/lib/python3.7/dist-packages/scipy/stats/_continuous_distns.py:639: RuntimeWarning: invalid value encountered in sqrt\n",
            "  sk = 2*(b-a)*np.sqrt(a + b + 1) / (a + b + 2) / np.sqrt(a*b)\n",
            "/usr/local/lib/python3.7/dist-packages/scipy/stats/_continuous_distns.py:5320: RuntimeWarning: divide by zero encountered in true_divide\n",
            "  return c**2 / (c**2 - n**2)\n",
            "/usr/local/lib/python3.7/dist-packages/scipy/stats/_distn_infrastructure.py:2606: RuntimeWarning: invalid value encountered in double_scalars\n",
            "  Lhat = muhat - Shat*mu\n"
          ]
        },
        {
          "output_type": "stream",
          "name": "stdout",
          "text": [
            "Privacy Metrics 1 Test n.2 Results:  0.156501232102125\n",
            "Privacy Metrics 1 Test n.2 - Elapsed Time =  58.19724421200044\n"
          ]
        }
      ]
    },
    {
      "cell_type": "markdown",
      "source": [
<<<<<<< HEAD
        "#**Random Forest Evaluation of Original Data**"
      ],
      "metadata": {
        "id": "x7tdwbaJC6P2"
=======
        "The output of this metric is between 0 and 1, where the closer the value is to 0, the less private it is."
      ],
      "metadata": {
        "id": "xaGkB-xBIb5g"
      }
    },
    {
      "cell_type": "markdown",
      "source": [
        "#**Privacy Metrics 2**"
      ],
      "metadata": {
        "id": "ceewix1GJePb"
      }
    },
    {
      "cell_type": "markdown",
      "source": [
        "**Pmetrics.py to evaluate Privacy**"
      ],
      "metadata": {
        "id": "nQn2a5wHVGul"
      }
    },
    {
      "cell_type": "markdown",
      "source": [
        "#**All Privacy Metrics Functions Definitions**"
      ],
      "metadata": {
        "id": "JZneMC-9J5TB"
      }
    },
    {
      "cell_type": "code",
      "source": [
        "def cellchange(df1, df2, quasi, exclude_cols):\n",
        "    uniques1 = df1.drop_duplicates(subset=quasi, keep=False)\n",
        "    uniques2 = df2.drop_duplicates(subset=quasi, keep=False)\n",
        "    matcheduniq = uniques1.merge(uniques2, how='inner', on = quasi)\n",
        "    allcols = set(df1.columns).intersection(set(df2.columns))\n",
        "       \n",
        "    cols = allcols - set(quasi) - set(exclude_cols)\n",
        "    m = match(matcheduniq, cols)\n",
        "    \n",
        "    return m, uniques1, uniques2, matcheduniq\n",
        "\n",
        "def match(df, cols):\n",
        "    S = pd.Series(data=0, index=df.index)\n",
        "    for c in cols:\n",
        "        c_x = c + \"_x\"\n",
        "        c_y = c + \"_y\"\n",
        "        S = S + (df[c_x] == df[c_y]).astype(int)\n",
        "\n",
        "    S = (S/len(cols))*100\n",
        "\n",
        "    return S"
      ],
      "metadata": {
        "id": "2vF54Wl1VVlx"
      },
      "execution_count": 82,
      "outputs": []
    },
    {
      "cell_type": "code",
      "source": [
        "start_test_time = timeit.default_timer()\n",
        "'''\n",
        "# Load datasets \n",
        "dataset = pd.read_csv('/content/telephony_synth_data_generated_by_method_copulagantotal_time_2863.58_score_0.45_export.csv')  \n",
        "#groundtruth = pd.read_csv(args.groundtruth, dtypye=dtypes)\n",
        "groundtruth = pd.read_csv('/content/syntetic_telephony_export.csv')\n",
        "\n",
        "dataset.drop(\"Unnamed: 0\", axis=1, inplace=True)\n",
        "groundtruth.drop(\"Unnamed: 0\", axis=1, inplace=True)\n",
        "'''\n",
        "\n",
        "q = 'CELL_CALL_CODE'\n",
        "Qs = q.split(\",\")\n",
        "Qs = [s.strip(\" \") for s in Qs]\n",
        "\n",
        "x = 'CALL_DATE,TIME_MIN_CALL'\n",
        "Xs = x.split(\",\")\n",
        "Xs = [s.strip(\" \") for s in Xs]\n",
        "#percents, uniques1, uniques2, matched  = cellchange(groundtruth, dataset, Qs, Xs)\n",
        "percents, uniques1, uniques2, matched  = cellchange(orig_data, synth_data, Qs, Xs)\n",
        "    \n",
        "#print(\"Matched: \\n\",matched)\n",
        "#print(\"Percents: \\n\",percents)\n",
        "\n",
        "#Histogram\n",
        "plt.figure(figsize = (10,10))\n",
        "plt.title('Percentage of raw synthetic records that had an apparent match with groundtruth dataset')\n",
        "percents.hist()\n",
        "plt.xlim(0,100)\n",
        "plt.savefig('privacy_metric.png')\n",
        "plt.show()\n",
        "print(\"Privacy Metrics 2 Test n.1 - Elapsed Time = \", timeit.default_timer() - start_test_time)"
      ],
      "metadata": {
        "colab": {
          "base_uri": "https://localhost:8080/",
          "height": 626
        },
        "id": "JeWdJDI8XFb5",
        "outputId": "27944c1c-6b89-4bcd-8c17-7846f228b55d"
      },
      "execution_count": 85,
      "outputs": [
        {
          "output_type": "display_data",
          "data": {
            "text/plain": [
              "<Figure size 720x720 with 1 Axes>"
            ],
            "image/png": "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\n"
          },
          "metadata": {
            "needs_background": "light"
          }
        },
        {
          "output_type": "stream",
          "name": "stdout",
          "text": [
            "Privacy Metrics 2 Test n.1 - Elapsed Time =  0.28096183900015603\n"
          ]
        }
      ]
    },
    {
      "cell_type": "code",
      "source": [
        "start_test_time = timeit.default_timer()\n",
        "\n",
        "q = 'NUM_CALLER_KEY'\n",
        "Qs = q.split(\",\")\n",
        "Qs = [s.strip(\" \") for s in Qs]\n",
        "\n",
        "x = 'CALL_DATE,TIME_MIN_CALL'\n",
        "Xs = x.split(\",\")\n",
        "Xs = [s.strip(\" \") for s in Xs]\n",
        "percents, uniques1, uniques2, matched  = cellchange(orig_data, synth_data, Qs, Xs)\n",
        "\n",
        "#Histogram\n",
        "plt.figure(figsize = (10,10))\n",
        "plt.title('Percentage of raw synthetic records that had an apparent match with groundtruth dataset')\n",
        "percents.hist()\n",
        "plt.xlim(0,100)\n",
        "plt.savefig('privacy_metric.png')\n",
        "plt.show()\n",
        "print(\"Privacy Metrics 2 Test n.2 - Elapsed Time = \", timeit.default_timer() - start_test_time)"
      ],
      "metadata": {
        "colab": {
          "base_uri": "https://localhost:8080/",
          "height": 626
        },
        "id": "h5Gl1PbUKs2A",
        "outputId": "a4acfeb7-dbe7-49cc-f5b1-df5e1b0b8881"
      },
      "execution_count": 86,
      "outputs": [
        {
          "output_type": "display_data",
          "data": {
            "text/plain": [
              "<Figure size 720x720 with 1 Axes>"
            ],
            "image/png": "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\n"
          },
          "metadata": {
            "needs_background": "light"
          }
        },
        {
          "output_type": "stream",
          "name": "stdout",
          "text": [
            "Privacy Metrics 2 Test n.2 - Elapsed Time =  0.2607539310001812\n"
          ]
        }
      ]
    },
    {
      "cell_type": "markdown",
      "source": [
        "#**Model Visual Evaluation**"
      ],
      "metadata": {
        "id": "WuWYB-vvIwIG"
>>>>>>> e268813069110c05f9123a4bfc18d8087957aa03
      }
    },
    {
      "cell_type": "code",
      "source": [
        "X = orig_data[[\"CELL_CALL_CODE\", \"CALL_DATE\", \"TIME_MIN_CALL\"]]\n",
        "y = orig_data[[\"NUM_CALLER_KEY\"]]\n",
        "X.CALL_DATE = X.CALL_DATE.astype(\"int\")\n",
        "X.TIME_MIN_CALL = X.TIME_MIN_CALL.astype(\"int\")\n",
        "\n",
        "X_train, X_test, y_train, y_test = train_test_split(X, y, test_size=0.30, random_state=42)"
      ],
      "metadata": {
<<<<<<< HEAD
        "colab": {
          "base_uri": "https://localhost:8080/"
        },
        "id": "Yg6CoAhcEtSf",
        "outputId": "45b44c3d-c9df-4f48-b413-6d1f6388c01e"
=======
        "id": "rw6-W5NVIwxU"
>>>>>>> e268813069110c05f9123a4bfc18d8087957aa03
      },
      "execution_count": 38,
      "outputs": [
        {
          "output_type": "stream",
          "name": "stderr",
          "text": [
            "/usr/local/lib/python3.7/dist-packages/ipykernel_launcher.py:3: FutureWarning: casting datetime64[ns] values to int64 with .astype(...) is deprecated and will raise in a future version. Use .view(...) instead.\n",
            "  This is separate from the ipykernel package so we can avoid doing imports until\n",
            "/usr/local/lib/python3.7/dist-packages/pandas/core/generic.py:5516: SettingWithCopyWarning: \n",
            "A value is trying to be set on a copy of a slice from a DataFrame.\n",
            "Try using .loc[row_indexer,col_indexer] = value instead\n",
            "\n",
            "See the caveats in the documentation: https://pandas.pydata.org/pandas-docs/stable/user_guide/indexing.html#returning-a-view-versus-a-copy\n",
            "  self[name] = value\n",
            "/usr/local/lib/python3.7/dist-packages/ipykernel_launcher.py:4: FutureWarning: casting datetime64[ns] values to int64 with .astype(...) is deprecated and will raise in a future version. Use .view(...) instead.\n",
            "  after removing the cwd from sys.path.\n"
          ]
        }
      ]
    },
    {
      "cell_type": "code",
      "source": [
        "X_train.shape"
      ],
      "metadata": {
        "colab": {
          "base_uri": "https://localhost:8080/"
        },
        "id": "JWvHL6tmExMT",
        "outputId": "a0feee8d-9d5b-45a6-a746-6f57bd79216f"
      },
      "execution_count": 39,
      "outputs": [
        {
          "output_type": "execute_result",
          "data": {
            "text/plain": [
              "(7000, 3)"
            ]
          },
          "metadata": {},
          "execution_count": 39
        }
      ]
    },
    {
      "cell_type": "code",
      "source": [
        "X_train"
      ],
      "metadata": {
        "colab": {
          "base_uri": "https://localhost:8080/",
          "height": 424
        },
        "id": "1j07KQrCFAZv",
        "outputId": "5a72c1a1-576e-4118-e35b-6108a5c49c19"
      },
      "execution_count": 40,
      "outputs": [
        {
          "output_type": "execute_result",
          "data": {
            "text/plain": [
              "     CELL_CALL_CODE            CALL_DATE        TIME_MIN_CALL\n",
              "9069            190  1484956800000000000  1653675516000000000\n",
              "2603             11  1484697600000000000  1653640031000000000\n",
              "7738            769  1484524800000000000  1653668010000000000\n",
              "1579            255  1486684800000000000  1653642028000000000\n",
              "5058            155  1484179200000000000  1653669014000000000\n",
              "...             ...                  ...                  ...\n",
              "5734            255  1483574400000000000  1653658763000000000\n",
              "5191            597  1486080000000000000  1653668940000000000\n",
              "5390            233  1483488000000000000  1653676630000000000\n",
              "860             157  1486425600000000000  1653669121000000000\n",
              "7270            651  1486857600000000000  1653686771000000000\n",
              "\n",
              "[7000 rows x 3 columns]"
            ],
            "text/html": [
              "\n",
              "  <div id=\"df-ef9b5c75-9c64-44cf-b133-04b79a25acdf\">\n",
              "    <div class=\"colab-df-container\">\n",
              "      <div>\n",
              "<style scoped>\n",
              "    .dataframe tbody tr th:only-of-type {\n",
              "        vertical-align: middle;\n",
              "    }\n",
              "\n",
              "    .dataframe tbody tr th {\n",
              "        vertical-align: top;\n",
              "    }\n",
              "\n",
              "    .dataframe thead th {\n",
              "        text-align: right;\n",
              "    }\n",
              "</style>\n",
              "<table border=\"1\" class=\"dataframe\">\n",
              "  <thead>\n",
              "    <tr style=\"text-align: right;\">\n",
              "      <th></th>\n",
              "      <th>CELL_CALL_CODE</th>\n",
              "      <th>CALL_DATE</th>\n",
              "      <th>TIME_MIN_CALL</th>\n",
              "    </tr>\n",
              "  </thead>\n",
              "  <tbody>\n",
              "    <tr>\n",
              "      <th>9069</th>\n",
              "      <td>190</td>\n",
              "      <td>1484956800000000000</td>\n",
              "      <td>1653675516000000000</td>\n",
              "    </tr>\n",
              "    <tr>\n",
              "      <th>2603</th>\n",
              "      <td>11</td>\n",
              "      <td>1484697600000000000</td>\n",
              "      <td>1653640031000000000</td>\n",
              "    </tr>\n",
              "    <tr>\n",
              "      <th>7738</th>\n",
              "      <td>769</td>\n",
              "      <td>1484524800000000000</td>\n",
              "      <td>1653668010000000000</td>\n",
              "    </tr>\n",
              "    <tr>\n",
              "      <th>1579</th>\n",
              "      <td>255</td>\n",
              "      <td>1486684800000000000</td>\n",
              "      <td>1653642028000000000</td>\n",
              "    </tr>\n",
              "    <tr>\n",
              "      <th>5058</th>\n",
              "      <td>155</td>\n",
              "      <td>1484179200000000000</td>\n",
              "      <td>1653669014000000000</td>\n",
              "    </tr>\n",
              "    <tr>\n",
              "      <th>...</th>\n",
              "      <td>...</td>\n",
              "      <td>...</td>\n",
              "      <td>...</td>\n",
              "    </tr>\n",
              "    <tr>\n",
              "      <th>5734</th>\n",
              "      <td>255</td>\n",
              "      <td>1483574400000000000</td>\n",
              "      <td>1653658763000000000</td>\n",
              "    </tr>\n",
              "    <tr>\n",
              "      <th>5191</th>\n",
              "      <td>597</td>\n",
              "      <td>1486080000000000000</td>\n",
              "      <td>1653668940000000000</td>\n",
              "    </tr>\n",
              "    <tr>\n",
              "      <th>5390</th>\n",
              "      <td>233</td>\n",
              "      <td>1483488000000000000</td>\n",
              "      <td>1653676630000000000</td>\n",
              "    </tr>\n",
              "    <tr>\n",
              "      <th>860</th>\n",
              "      <td>157</td>\n",
              "      <td>1486425600000000000</td>\n",
              "      <td>1653669121000000000</td>\n",
              "    </tr>\n",
              "    <tr>\n",
              "      <th>7270</th>\n",
              "      <td>651</td>\n",
              "      <td>1486857600000000000</td>\n",
              "      <td>1653686771000000000</td>\n",
              "    </tr>\n",
              "  </tbody>\n",
              "</table>\n",
              "<p>7000 rows × 3 columns</p>\n",
              "</div>\n",
              "      <button class=\"colab-df-convert\" onclick=\"convertToInteractive('df-ef9b5c75-9c64-44cf-b133-04b79a25acdf')\"\n",
              "              title=\"Convert this dataframe to an interactive table.\"\n",
              "              style=\"display:none;\">\n",
              "        \n",
              "  <svg xmlns=\"http://www.w3.org/2000/svg\" height=\"24px\"viewBox=\"0 0 24 24\"\n",
              "       width=\"24px\">\n",
              "    <path d=\"M0 0h24v24H0V0z\" fill=\"none\"/>\n",
              "    <path d=\"M18.56 5.44l.94 2.06.94-2.06 2.06-.94-2.06-.94-.94-2.06-.94 2.06-2.06.94zm-11 1L8.5 8.5l.94-2.06 2.06-.94-2.06-.94L8.5 2.5l-.94 2.06-2.06.94zm10 10l.94 2.06.94-2.06 2.06-.94-2.06-.94-.94-2.06-.94 2.06-2.06.94z\"/><path d=\"M17.41 7.96l-1.37-1.37c-.4-.4-.92-.59-1.43-.59-.52 0-1.04.2-1.43.59L10.3 9.45l-7.72 7.72c-.78.78-.78 2.05 0 2.83L4 21.41c.39.39.9.59 1.41.59.51 0 1.02-.2 1.41-.59l7.78-7.78 2.81-2.81c.8-.78.8-2.07 0-2.86zM5.41 20L4 18.59l7.72-7.72 1.47 1.35L5.41 20z\"/>\n",
              "  </svg>\n",
              "      </button>\n",
              "      \n",
              "  <style>\n",
              "    .colab-df-container {\n",
              "      display:flex;\n",
              "      flex-wrap:wrap;\n",
              "      gap: 12px;\n",
              "    }\n",
              "\n",
              "    .colab-df-convert {\n",
              "      background-color: #E8F0FE;\n",
              "      border: none;\n",
              "      border-radius: 50%;\n",
              "      cursor: pointer;\n",
              "      display: none;\n",
              "      fill: #1967D2;\n",
              "      height: 32px;\n",
              "      padding: 0 0 0 0;\n",
              "      width: 32px;\n",
              "    }\n",
              "\n",
              "    .colab-df-convert:hover {\n",
              "      background-color: #E2EBFA;\n",
              "      box-shadow: 0px 1px 2px rgba(60, 64, 67, 0.3), 0px 1px 3px 1px rgba(60, 64, 67, 0.15);\n",
              "      fill: #174EA6;\n",
              "    }\n",
              "\n",
              "    [theme=dark] .colab-df-convert {\n",
              "      background-color: #3B4455;\n",
              "      fill: #D2E3FC;\n",
              "    }\n",
              "\n",
              "    [theme=dark] .colab-df-convert:hover {\n",
              "      background-color: #434B5C;\n",
              "      box-shadow: 0px 1px 3px 1px rgba(0, 0, 0, 0.15);\n",
              "      filter: drop-shadow(0px 1px 2px rgba(0, 0, 0, 0.3));\n",
              "      fill: #FFFFFF;\n",
              "    }\n",
              "  </style>\n",
              "\n",
              "      <script>\n",
              "        const buttonEl =\n",
              "          document.querySelector('#df-ef9b5c75-9c64-44cf-b133-04b79a25acdf button.colab-df-convert');\n",
              "        buttonEl.style.display =\n",
              "          google.colab.kernel.accessAllowed ? 'block' : 'none';\n",
              "\n",
              "        async function convertToInteractive(key) {\n",
              "          const element = document.querySelector('#df-ef9b5c75-9c64-44cf-b133-04b79a25acdf');\n",
              "          const dataTable =\n",
              "            await google.colab.kernel.invokeFunction('convertToInteractive',\n",
              "                                                     [key], {});\n",
              "          if (!dataTable) return;\n",
              "\n",
              "          const docLinkHtml = 'Like what you see? Visit the ' +\n",
              "            '<a target=\"_blank\" href=https://colab.research.google.com/notebooks/data_table.ipynb>data table notebook</a>'\n",
              "            + ' to learn more about interactive tables.';\n",
              "          element.innerHTML = '';\n",
              "          dataTable['output_type'] = 'display_data';\n",
              "          await google.colab.output.renderOutput(dataTable, element);\n",
              "          const docLink = document.createElement('div');\n",
              "          docLink.innerHTML = docLinkHtml;\n",
              "          element.appendChild(docLink);\n",
              "        }\n",
              "      </script>\n",
              "    </div>\n",
              "  </div>\n",
              "  "
            ]
          },
          "metadata": {},
          "execution_count": 40
        }
      ]
    },
    {
      "cell_type": "code",
      "source": [
        "y_train"
      ],
      "metadata": {
        "colab": {
          "base_uri": "https://localhost:8080/",
          "height": 424
        },
        "id": "VLTa3xKfFDmR",
        "outputId": "6cb02030-6439-42f8-c52d-30ed8952c799"
      },
      "execution_count": 41,
      "outputs": [
        {
          "output_type": "execute_result",
          "data": {
            "text/plain": [
              "         NUM_CALLER_KEY\n",
              "9069  14616947669245890\n",
              "2603  14615415193963470\n",
              "7738  14615438056365470\n",
              "1579   1511265983244300\n",
              "5058   1511450097286867\n",
              "...                 ...\n",
              "5734  14615169567198860\n",
              "5191   1511070392230259\n",
              "5390  14615362915496210\n",
              "860    1511450097286867\n",
              "7270  14615350739796570\n",
              "\n",
              "[7000 rows x 1 columns]"
            ],
            "text/html": [
              "\n",
              "  <div id=\"df-3ac74701-3400-4f86-8339-915a6fb02fc5\">\n",
              "    <div class=\"colab-df-container\">\n",
              "      <div>\n",
              "<style scoped>\n",
              "    .dataframe tbody tr th:only-of-type {\n",
              "        vertical-align: middle;\n",
              "    }\n",
              "\n",
              "    .dataframe tbody tr th {\n",
              "        vertical-align: top;\n",
              "    }\n",
              "\n",
              "    .dataframe thead th {\n",
              "        text-align: right;\n",
              "    }\n",
              "</style>\n",
              "<table border=\"1\" class=\"dataframe\">\n",
              "  <thead>\n",
              "    <tr style=\"text-align: right;\">\n",
              "      <th></th>\n",
              "      <th>NUM_CALLER_KEY</th>\n",
              "    </tr>\n",
              "  </thead>\n",
              "  <tbody>\n",
              "    <tr>\n",
              "      <th>9069</th>\n",
              "      <td>14616947669245890</td>\n",
              "    </tr>\n",
              "    <tr>\n",
              "      <th>2603</th>\n",
              "      <td>14615415193963470</td>\n",
              "    </tr>\n",
              "    <tr>\n",
              "      <th>7738</th>\n",
              "      <td>14615438056365470</td>\n",
              "    </tr>\n",
              "    <tr>\n",
              "      <th>1579</th>\n",
              "      <td>1511265983244300</td>\n",
              "    </tr>\n",
              "    <tr>\n",
              "      <th>5058</th>\n",
              "      <td>1511450097286867</td>\n",
              "    </tr>\n",
              "    <tr>\n",
              "      <th>...</th>\n",
              "      <td>...</td>\n",
              "    </tr>\n",
              "    <tr>\n",
              "      <th>5734</th>\n",
              "      <td>14615169567198860</td>\n",
              "    </tr>\n",
              "    <tr>\n",
              "      <th>5191</th>\n",
              "      <td>1511070392230259</td>\n",
              "    </tr>\n",
              "    <tr>\n",
              "      <th>5390</th>\n",
              "      <td>14615362915496210</td>\n",
              "    </tr>\n",
              "    <tr>\n",
              "      <th>860</th>\n",
              "      <td>1511450097286867</td>\n",
              "    </tr>\n",
              "    <tr>\n",
              "      <th>7270</th>\n",
              "      <td>14615350739796570</td>\n",
              "    </tr>\n",
              "  </tbody>\n",
              "</table>\n",
              "<p>7000 rows × 1 columns</p>\n",
              "</div>\n",
              "      <button class=\"colab-df-convert\" onclick=\"convertToInteractive('df-3ac74701-3400-4f86-8339-915a6fb02fc5')\"\n",
              "              title=\"Convert this dataframe to an interactive table.\"\n",
              "              style=\"display:none;\">\n",
              "        \n",
              "  <svg xmlns=\"http://www.w3.org/2000/svg\" height=\"24px\"viewBox=\"0 0 24 24\"\n",
              "       width=\"24px\">\n",
              "    <path d=\"M0 0h24v24H0V0z\" fill=\"none\"/>\n",
              "    <path d=\"M18.56 5.44l.94 2.06.94-2.06 2.06-.94-2.06-.94-.94-2.06-.94 2.06-2.06.94zm-11 1L8.5 8.5l.94-2.06 2.06-.94-2.06-.94L8.5 2.5l-.94 2.06-2.06.94zm10 10l.94 2.06.94-2.06 2.06-.94-2.06-.94-.94-2.06-.94 2.06-2.06.94z\"/><path d=\"M17.41 7.96l-1.37-1.37c-.4-.4-.92-.59-1.43-.59-.52 0-1.04.2-1.43.59L10.3 9.45l-7.72 7.72c-.78.78-.78 2.05 0 2.83L4 21.41c.39.39.9.59 1.41.59.51 0 1.02-.2 1.41-.59l7.78-7.78 2.81-2.81c.8-.78.8-2.07 0-2.86zM5.41 20L4 18.59l7.72-7.72 1.47 1.35L5.41 20z\"/>\n",
              "  </svg>\n",
              "      </button>\n",
              "      \n",
              "  <style>\n",
              "    .colab-df-container {\n",
              "      display:flex;\n",
              "      flex-wrap:wrap;\n",
              "      gap: 12px;\n",
              "    }\n",
              "\n",
              "    .colab-df-convert {\n",
              "      background-color: #E8F0FE;\n",
              "      border: none;\n",
              "      border-radius: 50%;\n",
              "      cursor: pointer;\n",
              "      display: none;\n",
              "      fill: #1967D2;\n",
              "      height: 32px;\n",
              "      padding: 0 0 0 0;\n",
              "      width: 32px;\n",
              "    }\n",
              "\n",
              "    .colab-df-convert:hover {\n",
              "      background-color: #E2EBFA;\n",
              "      box-shadow: 0px 1px 2px rgba(60, 64, 67, 0.3), 0px 1px 3px 1px rgba(60, 64, 67, 0.15);\n",
              "      fill: #174EA6;\n",
              "    }\n",
              "\n",
              "    [theme=dark] .colab-df-convert {\n",
              "      background-color: #3B4455;\n",
              "      fill: #D2E3FC;\n",
              "    }\n",
              "\n",
              "    [theme=dark] .colab-df-convert:hover {\n",
              "      background-color: #434B5C;\n",
              "      box-shadow: 0px 1px 3px 1px rgba(0, 0, 0, 0.15);\n",
              "      filter: drop-shadow(0px 1px 2px rgba(0, 0, 0, 0.3));\n",
              "      fill: #FFFFFF;\n",
              "    }\n",
              "  </style>\n",
              "\n",
              "      <script>\n",
              "        const buttonEl =\n",
              "          document.querySelector('#df-3ac74701-3400-4f86-8339-915a6fb02fc5 button.colab-df-convert');\n",
              "        buttonEl.style.display =\n",
              "          google.colab.kernel.accessAllowed ? 'block' : 'none';\n",
              "\n",
              "        async function convertToInteractive(key) {\n",
              "          const element = document.querySelector('#df-3ac74701-3400-4f86-8339-915a6fb02fc5');\n",
              "          const dataTable =\n",
              "            await google.colab.kernel.invokeFunction('convertToInteractive',\n",
              "                                                     [key], {});\n",
              "          if (!dataTable) return;\n",
              "\n",
              "          const docLinkHtml = 'Like what you see? Visit the ' +\n",
              "            '<a target=\"_blank\" href=https://colab.research.google.com/notebooks/data_table.ipynb>data table notebook</a>'\n",
              "            + ' to learn more about interactive tables.';\n",
              "          element.innerHTML = '';\n",
              "          dataTable['output_type'] = 'display_data';\n",
              "          await google.colab.output.renderOutput(dataTable, element);\n",
              "          const docLink = document.createElement('div');\n",
              "          docLink.innerHTML = docLinkHtml;\n",
              "          element.appendChild(docLink);\n",
              "        }\n",
              "      </script>\n",
              "    </div>\n",
              "  </div>\n",
              "  "
            ]
          },
          "metadata": {},
          "execution_count": 41
        }
      ]
    },
    {
      "cell_type": "code",
      "source": [
        "clf_true = RandomForestClassifier(n_estimators=100)\n",
        "clf_true.fit(X_train, y_train)\n",
        "\n",
        "y_pred=clf_true.predict(X_test)\n",
        "print(\"Base Accuracy:\",metrics.accuracy_score(y_test, y_pred))\n",
        "print(\"Base classification report:\",metrics.classification_report(y_test, y_pred))"
      ],
      "metadata": {
        "colab": {
          "base_uri": "https://localhost:8080/"
        },
        "id": "M3RDX8CsC-4h",
        "outputId": "6fa1cf4e-7efa-4cc0-c259-36d3c1e960fc"
      },
      "execution_count": 42,
      "outputs": [
        {
          "output_type": "stream",
          "name": "stderr",
          "text": [
            "/usr/local/lib/python3.7/dist-packages/ipykernel_launcher.py:2: DataConversionWarning: A column-vector y was passed when a 1d array was expected. Please change the shape of y to (n_samples,), for example using ravel().\n",
            "  \n"
          ]
        },
        {
          "output_type": "stream",
          "name": "stdout",
          "text": [
            "Base Accuracy: 0.576\n",
            "Base classification report:                    precision    recall  f1-score   support\n",
            "\n",
            "14615166004947990       0.43      0.35      0.39        63\n",
            "14615168023534590       0.00      0.00      0.00         0\n",
            "14615169361679290       0.00      0.00      0.00         0\n",
            "14615169567198860       0.58      0.73      0.65       151\n",
            "14615178436353960       0.33      0.50      0.40         4\n",
            "14615179217320090       0.00      0.00      0.00         1\n",
            "14615184062907090       0.00      0.00      0.00         1\n",
            "14615184263859660       0.50      0.25      0.33         4\n",
            "14615186538202820       0.00      0.00      0.00         0\n",
            "14615194667453690       0.86      0.85      0.86       141\n",
            "14615202088856090       0.41      0.39      0.40        33\n",
            "14615205906858960       0.73      0.57      0.64        14\n",
            "14615206258522520       0.00      0.00      0.00         0\n",
            "14615206459470520       0.00      0.00      0.00         1\n",
            "14615208500896690       0.00      0.00      0.00         0\n",
            "14615209638088820       0.80      0.55      0.65        29\n",
            "14615212830453790       0.00      0.00      0.00         0\n",
            "14615213615941260       0.32      0.39      0.35        31\n",
            "14615213693580260       0.00      0.00      0.00         3\n",
            "14615214716597390       1.00      0.50      0.67         2\n",
            "14615215913165090       0.31      0.39      0.35        23\n",
            "14615219210525390       0.00      0.00      0.00         2\n",
            "14615220005192520       0.36      0.29      0.32        14\n",
            "14615220009759520       0.54      0.59      0.56        37\n",
            "14615220416227090       0.00      0.00      0.00         2\n",
            "14615220484732090       0.50      0.20      0.29         5\n",
            "14615223521819060       0.67      0.75      0.71         8\n",
            "14615224293646630       0.44      1.00      0.62         4\n",
            "14615224311914630       0.18      0.29      0.22         7\n",
            "14615224339316630       0.67      0.75      0.71        89\n",
            "14615227001859360       1.00      1.00      1.00         1\n",
            "14615228723636630       0.69      0.58      0.63        57\n",
            "14615230806211460       0.57      0.70      0.62       129\n",
            "14615232865901060       0.67      1.00      0.80         2\n",
            "14615232970942060       0.00      0.00      0.00         4\n",
            "14615232998344060       0.00      0.00      0.00         0\n",
            "14615238277805200       0.59      0.76      0.67        21\n",
            "14615241447289490       1.00      0.75      0.86         4\n",
            "14615244297124900       0.50      0.33      0.40         3\n",
            "14615257870248900       0.00      0.00      0.00         2\n",
            "14615262724974460       0.00      0.00      0.00         1\n",
            "14615272982465600       1.00      1.00      1.00         1\n",
            "14615279243840860       0.50      0.50      0.50         2\n",
            "14615279595499860       0.00      0.00      0.00         1\n",
            "14615279654875430       0.00      0.00      0.00         1\n",
            "14615280052204430       0.00      0.00      0.00         0\n",
            "14615280550016570       0.00      0.00      0.00         3\n",
            "14615281906383600       0.00      0.00      0.00         0\n",
            "14615286875279600       0.54      0.60      0.57        53\n",
            "14615287455297730       0.30      0.43      0.35         7\n",
            "14615287459864730       0.33      0.33      0.33         3\n",
            "14615287532936730       0.00      0.00      0.00         3\n",
            "14615296758276730       0.00      0.00      0.00         1\n",
            "14615330147216400       0.50      0.50      0.50         4\n",
            "14615330160917400       0.50      0.50      0.50         2\n",
            "14615330398405970       0.00      0.00      0.00         2\n",
            "14615330681559970       0.33      0.17      0.22        12\n",
            "14615331508196100       0.00      0.00      0.00         1\n",
            "14615332289116570       0.00      0.00      0.00         2\n",
            "14615332316518570       0.00      0.00      0.00         1\n",
            "14615333503952270       0.00      0.00      0.00         1\n",
            "14615335924485100       0.00      0.00      0.00         0\n",
            "14615336477051000       0.67      0.71      0.69        31\n",
            "14615336577525000       0.00      0.00      0.00         3\n",
            "14615336865250570       0.00      0.00      0.00         1\n",
            "14615337422429130       0.20      0.21      0.21        19\n",
            "14615338358673270       0.38      0.32      0.35        41\n",
            "14615339806425970       0.49      0.47      0.48        68\n",
            "14615340116986540       0.41      0.42      0.41        31\n",
            "14615341185628000       0.00      0.00      0.00         2\n",
            "14615341249566000       0.63      0.77      0.70        71\n",
            "14615341847852130       0.00      0.00      0.00         2\n",
            "14615342747560270       0.84      0.98      0.91       110\n",
            "14615343172295840       0.50      0.60      0.55         5\n",
            "14615345483175000       0.00      0.00      0.00         1\n",
            "14615345629319000       0.67      1.00      0.80         2\n",
            "14615345770896000       0.00      0.00      0.00         2\n",
            "14615345898776570       1.00      1.00      1.00         1\n",
            "14615347981346840       0.00      0.00      0.00         1\n",
            "14615350474910570       0.00      0.00      0.00         1\n",
            "14615350520580570       0.25      0.50      0.33         2\n",
            "14615350739796570       0.31      0.27      0.29        30\n",
            "14615350776332570       1.00      0.33      0.50         6\n",
            "14615354393433100       0.00      0.00      0.00         1\n",
            "14615357247794400       0.00      0.00      0.00         1\n",
            "14615357316299400       0.50      0.25      0.33         4\n",
            "14615359243591670       0.80      0.57      0.67         7\n",
            "14615362180200070       0.00      0.00      0.00         0\n",
            "14615362687141640       0.00      0.00      0.00         1\n",
            "14615362915496210       0.68      0.81      0.74       244\n",
            "14615363285427770       0.68      0.70      0.69        46\n",
            "14615366112382500       0.00      0.00      0.00         7\n",
            "14615366199155500       0.00      0.00      0.00         0\n",
            "14615366422943070       0.67      1.00      0.80         2\n",
            "14615366751767070       0.67      0.67      0.67         3\n",
            "14615366820272070       0.67      0.25      0.36        24\n",
            "14615367719980210       0.38      0.20      0.26        25\n",
            "14615367852427770       0.38      0.45      0.42        22\n",
            "14615368752090240       0.56      0.41      0.47        37\n",
            "14615369286433800       0.00      0.00      0.00         0\n",
            "14615369368639800       0.00      0.00      0.00         1\n",
            "14615371186324070       0.00      0.00      0.00         0\n",
            "14615371875950210       0.00      0.00      0.00         2\n",
            "14615372369190770       0.31      0.28      0.29        18\n",
            "14615374693770940       1.00      1.00      1.00         1\n",
            "14615376808310210       0.00      0.00      0.00         0\n",
            "14615377050365770       0.00      0.00      0.00         0\n",
            "14615378630515800       0.00      0.00      0.00         0\n",
            "14615379091787370       1.00      1.00      1.00         1\n",
            "14615379863619500       0.27      0.12      0.17        25\n",
            "14615381297671210       0.00      0.00      0.00         1\n",
            "14615381507757770       0.00      0.00      0.00         3\n",
            "14615381681303770       0.00      0.00      0.00         4\n",
            "14615383750131940       0.50      0.67      0.57         3\n",
            "14615384010450940       1.00      1.00      1.00         1\n",
            "14615384343846500       0.00      0.00      0.00         2\n",
            "14615385618053210       0.00      0.00      0.00         1\n",
            "14615386348777770       1.00      1.00      1.00         1\n",
            "14615388134447370       0.47      0.32      0.38        25\n",
            "14615388586584940       0.50      0.19      0.28        21\n",
            "14615388641388940       0.50      0.17      0.25        12\n",
            "14615389847090640       0.43      0.61      0.51        33\n",
            "14615390824437770       0.32      0.26      0.29        23\n",
            "14615393701629500       0.50      0.35      0.41        23\n",
            "14615395354901770       0.42      0.45      0.43        11\n",
            "14615396446378240       0.50      0.39      0.44        44\n",
            "14615396980726370       0.33      0.25      0.29         4\n",
            "14615397907836500       1.00      1.00      1.00         1\n",
            "14615400278086670       0.00      0.00      0.00         4\n",
            "14615405110018340       0.00      0.00      0.00         1\n",
            "14615406050829470       0.00      0.00      0.00         1\n",
            "14615407078418180       0.00      0.00      0.00         1\n",
            "14615407585359740       0.46      0.52      0.48        31\n",
            "14615411572341610       0.00      0.00      0.00         2\n",
            "14615414061338340       0.33      1.00      0.50         1\n",
            "14615414362764910       1.00      0.50      0.67         2\n",
            "14615415171128470       0.00      0.00      0.00         1\n",
            "14615415193963470       0.00      0.00      0.00         5\n",
            "14615416349428180       1.00      0.50      0.67         2\n",
            "14615416710225740       0.00      0.00      0.00         1\n",
            "14615417034482740       0.00      0.00      0.00         0\n",
            "14615418217349440       1.00      0.33      0.50         3\n",
            "14615418322390440       0.44      0.29      0.35        14\n",
            "14615420085225040       0.00      0.00      0.00         1\n",
            "14615421332029740       1.00      1.00      1.00         1\n",
            "14615422734112440       0.67      0.55      0.60        11\n",
            "14615422793483440       0.50      0.75      0.60         4\n",
            "14615424428442040       0.50      0.21      0.30        14\n",
            "14615424460411040       0.00      0.00      0.00         1\n",
            "14615424524349040       0.00      0.00      0.00         1\n",
            "14615426104544740       0.67      0.80      0.73        64\n",
            "14615426209590310       0.00      0.00      0.00         0\n",
            "14615426593218310       0.40      0.29      0.33         7\n",
            "14615426766768880       1.00      1.00      1.00         1\n",
            "14615427835410340       0.00      0.00      0.00         1\n",
            "14615429182689040       0.00      0.00      0.00         3\n",
            "14615430050428180       0.50      1.00      0.67         1\n",
            "14615431854411440       0.75      0.75      0.75         4\n",
            "14615432110163440       0.00      0.00      0.00         2\n",
            "14615432649032910       0.00      0.00      0.00         2\n",
            "14615432776908910       0.00      0.00      0.00         0\n",
            "14615437485485910       0.86      0.83      0.84        23\n",
            "14615438056365470       0.73      0.89      0.80         9\n",
            "14615440495170880       0.62      0.31      0.42        16\n",
            "14615442335644470       0.43      0.38      0.41        78\n",
            "14615443025266040       0.00      0.00      0.00         1\n",
            "14615443431733610       0.00      0.00      0.00         0\n",
            "14615443459135610       0.77      0.50      0.61        20\n",
            "14615443733160180       0.00      0.00      0.00         3\n",
            "14615443737727180       0.00      0.00      0.00         5\n",
            "14615443760562180       0.50      0.50      0.50         4\n",
            "14615444153328740       0.00      0.00      0.00         2\n",
            "14616935434220920       0.55      0.66      0.60        35\n",
            "14616947523101890       0.44      0.36      0.40        11\n",
            "14616947669245890       0.63      0.64      0.64        42\n",
            "14616947678379890       0.00      0.00      0.00         0\n",
            "14616948317764450       0.00      0.00      0.00         1\n",
            "14616949084983920       0.00      0.00      0.00         0\n",
            "14616951204094750       0.00      0.00      0.00         0\n",
            "14616970979264120       0.55      0.50      0.52        68\n",
            "14616972901943720       0.33      0.29      0.31        17\n",
            "14616991777363860       0.46      0.49      0.47        47\n",
            "14617008108978690       0.58      1.00      0.74         7\n",
            "14617008232292260       0.50      1.00      0.67         1\n",
            "14617008615920260       0.00      0.00      0.00         1\n",
            "14617010392501520       0.80      0.80      0.80        10\n",
            " 1508316675572647       0.70      0.82      0.76        72\n",
            " 1508335167561162       0.00      0.00      0.00         1\n",
            " 1508338528891430       0.50      0.48      0.49        27\n",
            " 1508348000516039       0.48      0.37      0.42        43\n",
            " 1508350932502637       0.00      0.00      0.00         1\n",
            " 1508354357821142       0.00      0.00      0.00         1\n",
            " 1508359705810111       0.00      0.00      0.00         1\n",
            " 1508363701971647       0.50      0.50      0.50         2\n",
            " 1511070392230259       0.65      0.58      0.61        19\n",
            " 1511183507398538       0.50      0.50      0.50         2\n",
            " 1511211215693527       0.00      0.00      0.00         1\n",
            " 1511265750761165       0.00      0.00      0.00         1\n",
            " 1511265983244300       0.33      0.60      0.43         5\n",
            " 1511351423050227       0.73      0.89      0.80        27\n",
            " 1511354076559433       0.00      0.00      0.00         2\n",
            " 1511401655524330       0.00      0.00      0.00         1\n",
            " 1511449234128434       0.00      0.00      0.00         1\n",
            " 1511450097286867       0.73      0.86      0.79        71\n",
            " 1511461610794341       0.00      0.00      0.00         0\n",
            " 1511478687008289       0.00      0.00      0.00         3\n",
            " 1511531737380763       0.00      0.00      0.00         0\n",
            " 1511535961864897       0.00      0.00      0.00         2\n",
            " 1511541336849403       0.40      0.14      0.21        14\n",
            " 1511581759754598       0.00      0.00      0.00         1\n",
            " 1511582362612299       1.00      0.67      0.80         3\n",
            " 1511583111586598       0.00      0.00      0.00         3\n",
            "\n",
            "         accuracy                           0.58      3000\n",
            "        macro avg       0.32      0.31      0.30      3000\n",
            "     weighted avg       0.56      0.58      0.56      3000\n",
            "\n"
          ]
        },
        {
          "output_type": "stream",
          "name": "stderr",
          "text": [
            "/usr/local/lib/python3.7/dist-packages/sklearn/metrics/_classification.py:1318: UndefinedMetricWarning: Precision and F-score are ill-defined and being set to 0.0 in labels with no predicted samples. Use `zero_division` parameter to control this behavior.\n",
            "  _warn_prf(average, modifier, msg_start, len(result))\n",
            "/usr/local/lib/python3.7/dist-packages/sklearn/metrics/_classification.py:1318: UndefinedMetricWarning: Recall and F-score are ill-defined and being set to 0.0 in labels with no true samples. Use `zero_division` parameter to control this behavior.\n",
            "  _warn_prf(average, modifier, msg_start, len(result))\n",
            "/usr/local/lib/python3.7/dist-packages/sklearn/metrics/_classification.py:1318: UndefinedMetricWarning: Precision and F-score are ill-defined and being set to 0.0 in labels with no predicted samples. Use `zero_division` parameter to control this behavior.\n",
            "  _warn_prf(average, modifier, msg_start, len(result))\n",
            "/usr/local/lib/python3.7/dist-packages/sklearn/metrics/_classification.py:1318: UndefinedMetricWarning: Recall and F-score are ill-defined and being set to 0.0 in labels with no true samples. Use `zero_division` parameter to control this behavior.\n",
            "  _warn_prf(average, modifier, msg_start, len(result))\n",
            "/usr/local/lib/python3.7/dist-packages/sklearn/metrics/_classification.py:1318: UndefinedMetricWarning: Precision and F-score are ill-defined and being set to 0.0 in labels with no predicted samples. Use `zero_division` parameter to control this behavior.\n",
            "  _warn_prf(average, modifier, msg_start, len(result))\n",
            "/usr/local/lib/python3.7/dist-packages/sklearn/metrics/_classification.py:1318: UndefinedMetricWarning: Recall and F-score are ill-defined and being set to 0.0 in labels with no true samples. Use `zero_division` parameter to control this behavior.\n",
            "  _warn_prf(average, modifier, msg_start, len(result))\n"
          ]
        }
      ]
    },
    {
      "cell_type": "markdown",
      "source": [
        "#**Random Forest Evaluation of Synthetic Data**"
      ],
      "metadata": {
<<<<<<< HEAD
        "id": "uPKEfMsYG-o3"
=======
        "id": "6MKpWU-qI6Jc"
>>>>>>> e268813069110c05f9123a4bfc18d8087957aa03
      }
    },
    {
      "cell_type": "code",
      "source": [
<<<<<<< HEAD
        "X = synth_data[[\"CELL_CALL_CODE\", \"CALL_DATE\", \"TIME_MIN_CALL\"]]\n",
        "y = synth_data[[\"NUM_CALLER_KEY\"]]\n",
        "X.CALL_DATE = X.CALL_DATE.astype(\"int\")\n",
        "X.TIME_MIN_CALL = X.TIME_MIN_CALL.astype(\"int\")\n",
        "\n",
        "X_train, X_test, y_train, y_test = train_test_split(X, y, test_size=0.30, random_state=42)"
      ],
      "metadata": {
        "colab": {
          "base_uri": "https://localhost:8080/"
        },
        "id": "cbFWhXdyHB15",
        "outputId": "93c1faa1-2f3b-435c-a806-5e7da6d76956"
=======
        "start_test_time = timeit.default_timer()\n",
        "tmp_orig_data = orig_data.copy()\n",
        "tmp_synth_data = synth_data.copy()\n",
        "tmp_orig_data.CELL_CALL_CODE = pd.to_numeric(tmp_orig_data.CELL_CALL_CODE)\n",
        "tmp_orig_data.NUM_CALLER_KEY = pd.to_numeric(tmp_orig_data.NUM_CALLER_KEY)\n",
        "tmp_synth_data.CELL_CALL_CODE = pd.to_numeric(tmp_synth_data.CELL_CALL_CODE)\n",
        "tmp_synth_data.NUM_CALLER_KEY = pd.to_numeric(tmp_synth_data.NUM_CALLER_KEY)\n",
        "results = evaluate(tmp_synth_data, orig_data)\n",
        "results = NumericalLR.compute(tmp_orig_data.fillna(0), tmp_synth_data.fillna(0), key_fields=['NUM_CALLER_KEY'], sensitive_fields=['CELL_CALL_CODE'])\n",
        "print(\"Aggregated Metrics Results: \", results)\n",
        "print(\"Aggregated Metrics - Elapsed Time = \", timeit.default_timer() - start_test_time)"
      ],
      "metadata": {
        "id": "DqCOoWQGI82R"
>>>>>>> e268813069110c05f9123a4bfc18d8087957aa03
      },
      "execution_count": 43,
      "outputs": [
        {
          "output_type": "stream",
          "name": "stderr",
          "text": [
            "/usr/local/lib/python3.7/dist-packages/ipykernel_launcher.py:3: FutureWarning: casting datetime64[ns] values to int64 with .astype(...) is deprecated and will raise in a future version. Use .view(...) instead.\n",
            "  This is separate from the ipykernel package so we can avoid doing imports until\n",
            "/usr/local/lib/python3.7/dist-packages/pandas/core/generic.py:5516: SettingWithCopyWarning: \n",
            "A value is trying to be set on a copy of a slice from a DataFrame.\n",
            "Try using .loc[row_indexer,col_indexer] = value instead\n",
            "\n",
            "See the caveats in the documentation: https://pandas.pydata.org/pandas-docs/stable/user_guide/indexing.html#returning-a-view-versus-a-copy\n",
            "  self[name] = value\n",
            "/usr/local/lib/python3.7/dist-packages/ipykernel_launcher.py:4: FutureWarning: casting datetime64[ns] values to int64 with .astype(...) is deprecated and will raise in a future version. Use .view(...) instead.\n",
            "  after removing the cwd from sys.path.\n"
          ]
        }
      ]
    },
    {
      "cell_type": "code",
      "source": [
        "X_train.shape"
      ],
      "metadata": {
        "colab": {
          "base_uri": "https://localhost:8080/"
        },
        "id": "leYYk2nBHBuB",
        "outputId": "3ec855a4-a19b-4379-a414-294b155591aa"
      },
      "execution_count": 44,
      "outputs": [
        {
          "output_type": "execute_result",
          "data": {
            "text/plain": [
              "(7000, 3)"
            ]
          },
          "metadata": {},
          "execution_count": 44
        }
      ]
    },
    {
      "cell_type": "code",
      "source": [
        "X_train"
      ],
      "metadata": {
        "colab": {
          "base_uri": "https://localhost:8080/",
          "height": 424
        },
        "id": "96UVprq8HL9z",
        "outputId": "d4508ce9-2755-4e51-d8d2-dcc9aea04264"
      },
      "execution_count": 45,
      "outputs": [
        {
          "output_type": "execute_result",
          "data": {
            "text/plain": [
              "     CELL_CALL_CODE            CALL_DATE        TIME_MIN_CALL\n",
              "9069             91  1485993600000000000  1653679625000000000\n",
              "2603             14  1485561600000000000  1653692649000000000\n",
              "7738            769  1485043200000000000  1653651110000000000\n",
              "1579            852  1486339200000000000  1653659713000000000\n",
              "5058             91  1485993600000000000  1653677636000000000\n",
              "...             ...                  ...                  ...\n",
              "5734             70  1483833600000000000  1653675976000000000\n",
              "5191            144  1484352000000000000  1653654973000000000\n",
              "5390            101  1484438400000000000  1653668331000000000\n",
              "860             203  1483574400000000000  1653636373000000000\n",
              "7270            367  1483833600000000000  1653652070000000000\n",
              "\n",
              "[7000 rows x 3 columns]"
            ],
            "text/html": [
              "\n",
              "  <div id=\"df-77f32f71-2e04-40eb-b41e-02f4aa8719f4\">\n",
              "    <div class=\"colab-df-container\">\n",
              "      <div>\n",
              "<style scoped>\n",
              "    .dataframe tbody tr th:only-of-type {\n",
              "        vertical-align: middle;\n",
              "    }\n",
              "\n",
              "    .dataframe tbody tr th {\n",
              "        vertical-align: top;\n",
              "    }\n",
              "\n",
              "    .dataframe thead th {\n",
              "        text-align: right;\n",
              "    }\n",
              "</style>\n",
              "<table border=\"1\" class=\"dataframe\">\n",
              "  <thead>\n",
              "    <tr style=\"text-align: right;\">\n",
              "      <th></th>\n",
              "      <th>CELL_CALL_CODE</th>\n",
              "      <th>CALL_DATE</th>\n",
              "      <th>TIME_MIN_CALL</th>\n",
              "    </tr>\n",
              "  </thead>\n",
              "  <tbody>\n",
              "    <tr>\n",
              "      <th>9069</th>\n",
              "      <td>91</td>\n",
              "      <td>1485993600000000000</td>\n",
              "      <td>1653679625000000000</td>\n",
              "    </tr>\n",
              "    <tr>\n",
              "      <th>2603</th>\n",
              "      <td>14</td>\n",
              "      <td>1485561600000000000</td>\n",
              "      <td>1653692649000000000</td>\n",
              "    </tr>\n",
              "    <tr>\n",
              "      <th>7738</th>\n",
              "      <td>769</td>\n",
              "      <td>1485043200000000000</td>\n",
              "      <td>1653651110000000000</td>\n",
              "    </tr>\n",
              "    <tr>\n",
              "      <th>1579</th>\n",
              "      <td>852</td>\n",
              "      <td>1486339200000000000</td>\n",
              "      <td>1653659713000000000</td>\n",
              "    </tr>\n",
              "    <tr>\n",
              "      <th>5058</th>\n",
              "      <td>91</td>\n",
              "      <td>1485993600000000000</td>\n",
              "      <td>1653677636000000000</td>\n",
              "    </tr>\n",
              "    <tr>\n",
              "      <th>...</th>\n",
              "      <td>...</td>\n",
              "      <td>...</td>\n",
              "      <td>...</td>\n",
              "    </tr>\n",
              "    <tr>\n",
              "      <th>5734</th>\n",
              "      <td>70</td>\n",
              "      <td>1483833600000000000</td>\n",
              "      <td>1653675976000000000</td>\n",
              "    </tr>\n",
              "    <tr>\n",
              "      <th>5191</th>\n",
              "      <td>144</td>\n",
              "      <td>1484352000000000000</td>\n",
              "      <td>1653654973000000000</td>\n",
              "    </tr>\n",
              "    <tr>\n",
              "      <th>5390</th>\n",
              "      <td>101</td>\n",
              "      <td>1484438400000000000</td>\n",
              "      <td>1653668331000000000</td>\n",
              "    </tr>\n",
              "    <tr>\n",
              "      <th>860</th>\n",
              "      <td>203</td>\n",
              "      <td>1483574400000000000</td>\n",
              "      <td>1653636373000000000</td>\n",
              "    </tr>\n",
              "    <tr>\n",
              "      <th>7270</th>\n",
              "      <td>367</td>\n",
              "      <td>1483833600000000000</td>\n",
              "      <td>1653652070000000000</td>\n",
              "    </tr>\n",
              "  </tbody>\n",
              "</table>\n",
              "<p>7000 rows × 3 columns</p>\n",
              "</div>\n",
              "      <button class=\"colab-df-convert\" onclick=\"convertToInteractive('df-77f32f71-2e04-40eb-b41e-02f4aa8719f4')\"\n",
              "              title=\"Convert this dataframe to an interactive table.\"\n",
              "              style=\"display:none;\">\n",
              "        \n",
              "  <svg xmlns=\"http://www.w3.org/2000/svg\" height=\"24px\"viewBox=\"0 0 24 24\"\n",
              "       width=\"24px\">\n",
              "    <path d=\"M0 0h24v24H0V0z\" fill=\"none\"/>\n",
              "    <path d=\"M18.56 5.44l.94 2.06.94-2.06 2.06-.94-2.06-.94-.94-2.06-.94 2.06-2.06.94zm-11 1L8.5 8.5l.94-2.06 2.06-.94-2.06-.94L8.5 2.5l-.94 2.06-2.06.94zm10 10l.94 2.06.94-2.06 2.06-.94-2.06-.94-.94-2.06-.94 2.06-2.06.94z\"/><path d=\"M17.41 7.96l-1.37-1.37c-.4-.4-.92-.59-1.43-.59-.52 0-1.04.2-1.43.59L10.3 9.45l-7.72 7.72c-.78.78-.78 2.05 0 2.83L4 21.41c.39.39.9.59 1.41.59.51 0 1.02-.2 1.41-.59l7.78-7.78 2.81-2.81c.8-.78.8-2.07 0-2.86zM5.41 20L4 18.59l7.72-7.72 1.47 1.35L5.41 20z\"/>\n",
              "  </svg>\n",
              "      </button>\n",
              "      \n",
              "  <style>\n",
              "    .colab-df-container {\n",
              "      display:flex;\n",
              "      flex-wrap:wrap;\n",
              "      gap: 12px;\n",
              "    }\n",
              "\n",
              "    .colab-df-convert {\n",
              "      background-color: #E8F0FE;\n",
              "      border: none;\n",
              "      border-radius: 50%;\n",
              "      cursor: pointer;\n",
              "      display: none;\n",
              "      fill: #1967D2;\n",
              "      height: 32px;\n",
              "      padding: 0 0 0 0;\n",
              "      width: 32px;\n",
              "    }\n",
              "\n",
              "    .colab-df-convert:hover {\n",
              "      background-color: #E2EBFA;\n",
              "      box-shadow: 0px 1px 2px rgba(60, 64, 67, 0.3), 0px 1px 3px 1px rgba(60, 64, 67, 0.15);\n",
              "      fill: #174EA6;\n",
              "    }\n",
              "\n",
              "    [theme=dark] .colab-df-convert {\n",
              "      background-color: #3B4455;\n",
              "      fill: #D2E3FC;\n",
              "    }\n",
              "\n",
              "    [theme=dark] .colab-df-convert:hover {\n",
              "      background-color: #434B5C;\n",
              "      box-shadow: 0px 1px 3px 1px rgba(0, 0, 0, 0.15);\n",
              "      filter: drop-shadow(0px 1px 2px rgba(0, 0, 0, 0.3));\n",
              "      fill: #FFFFFF;\n",
              "    }\n",
              "  </style>\n",
              "\n",
              "      <script>\n",
              "        const buttonEl =\n",
              "          document.querySelector('#df-77f32f71-2e04-40eb-b41e-02f4aa8719f4 button.colab-df-convert');\n",
              "        buttonEl.style.display =\n",
              "          google.colab.kernel.accessAllowed ? 'block' : 'none';\n",
              "\n",
              "        async function convertToInteractive(key) {\n",
              "          const element = document.querySelector('#df-77f32f71-2e04-40eb-b41e-02f4aa8719f4');\n",
              "          const dataTable =\n",
              "            await google.colab.kernel.invokeFunction('convertToInteractive',\n",
              "                                                     [key], {});\n",
              "          if (!dataTable) return;\n",
              "\n",
              "          const docLinkHtml = 'Like what you see? Visit the ' +\n",
              "            '<a target=\"_blank\" href=https://colab.research.google.com/notebooks/data_table.ipynb>data table notebook</a>'\n",
              "            + ' to learn more about interactive tables.';\n",
              "          element.innerHTML = '';\n",
              "          dataTable['output_type'] = 'display_data';\n",
              "          await google.colab.output.renderOutput(dataTable, element);\n",
              "          const docLink = document.createElement('div');\n",
              "          docLink.innerHTML = docLinkHtml;\n",
              "          element.appendChild(docLink);\n",
              "        }\n",
              "      </script>\n",
              "    </div>\n",
              "  </div>\n",
              "  "
            ]
          },
          "metadata": {},
          "execution_count": 45
        }
      ]
    },
    {
      "cell_type": "code",
      "source": [
        "y_train"
      ],
      "metadata": {
        "colab": {
          "base_uri": "https://localhost:8080/",
          "height": 424
        },
        "id": "qmzubi7vHNXJ",
        "outputId": "07c67151-5d06-4fe8-fc4a-d2ba18667979"
      },
      "execution_count": 46,
      "outputs": [
        {
          "output_type": "execute_result",
          "data": {
            "text/plain": [
              "         NUM_CALLER_KEY\n",
              "9069  14616970979264120\n",
              "2603  14615224339316630\n",
              "7738  14615366751767070\n",
              "1579  14615424428442040\n",
              "5058  14615418322390440\n",
              "...                 ...\n",
              "5734  14615389847090640\n",
              "5191  14615407585359740\n",
              "5390  14615388641388940\n",
              "860   14615342747560270\n",
              "7270  14615359243591670\n",
              "\n",
              "[7000 rows x 1 columns]"
            ],
            "text/html": [
              "\n",
              "  <div id=\"df-fe438f39-3849-40bf-8ac3-ed5e7cc3e0a0\">\n",
              "    <div class=\"colab-df-container\">\n",
              "      <div>\n",
              "<style scoped>\n",
              "    .dataframe tbody tr th:only-of-type {\n",
              "        vertical-align: middle;\n",
              "    }\n",
              "\n",
              "    .dataframe tbody tr th {\n",
              "        vertical-align: top;\n",
              "    }\n",
              "\n",
              "    .dataframe thead th {\n",
              "        text-align: right;\n",
              "    }\n",
              "</style>\n",
              "<table border=\"1\" class=\"dataframe\">\n",
              "  <thead>\n",
              "    <tr style=\"text-align: right;\">\n",
              "      <th></th>\n",
              "      <th>NUM_CALLER_KEY</th>\n",
              "    </tr>\n",
              "  </thead>\n",
              "  <tbody>\n",
              "    <tr>\n",
              "      <th>9069</th>\n",
              "      <td>14616970979264120</td>\n",
              "    </tr>\n",
              "    <tr>\n",
              "      <th>2603</th>\n",
              "      <td>14615224339316630</td>\n",
              "    </tr>\n",
              "    <tr>\n",
              "      <th>7738</th>\n",
              "      <td>14615366751767070</td>\n",
              "    </tr>\n",
              "    <tr>\n",
              "      <th>1579</th>\n",
              "      <td>14615424428442040</td>\n",
              "    </tr>\n",
              "    <tr>\n",
              "      <th>5058</th>\n",
              "      <td>14615418322390440</td>\n",
              "    </tr>\n",
              "    <tr>\n",
              "      <th>...</th>\n",
              "      <td>...</td>\n",
              "    </tr>\n",
              "    <tr>\n",
              "      <th>5734</th>\n",
              "      <td>14615389847090640</td>\n",
              "    </tr>\n",
              "    <tr>\n",
              "      <th>5191</th>\n",
              "      <td>14615407585359740</td>\n",
              "    </tr>\n",
              "    <tr>\n",
              "      <th>5390</th>\n",
              "      <td>14615388641388940</td>\n",
              "    </tr>\n",
              "    <tr>\n",
              "      <th>860</th>\n",
              "      <td>14615342747560270</td>\n",
              "    </tr>\n",
              "    <tr>\n",
              "      <th>7270</th>\n",
              "      <td>14615359243591670</td>\n",
              "    </tr>\n",
              "  </tbody>\n",
              "</table>\n",
              "<p>7000 rows × 1 columns</p>\n",
              "</div>\n",
              "      <button class=\"colab-df-convert\" onclick=\"convertToInteractive('df-fe438f39-3849-40bf-8ac3-ed5e7cc3e0a0')\"\n",
              "              title=\"Convert this dataframe to an interactive table.\"\n",
              "              style=\"display:none;\">\n",
              "        \n",
              "  <svg xmlns=\"http://www.w3.org/2000/svg\" height=\"24px\"viewBox=\"0 0 24 24\"\n",
              "       width=\"24px\">\n",
              "    <path d=\"M0 0h24v24H0V0z\" fill=\"none\"/>\n",
              "    <path d=\"M18.56 5.44l.94 2.06.94-2.06 2.06-.94-2.06-.94-.94-2.06-.94 2.06-2.06.94zm-11 1L8.5 8.5l.94-2.06 2.06-.94-2.06-.94L8.5 2.5l-.94 2.06-2.06.94zm10 10l.94 2.06.94-2.06 2.06-.94-2.06-.94-.94-2.06-.94 2.06-2.06.94z\"/><path d=\"M17.41 7.96l-1.37-1.37c-.4-.4-.92-.59-1.43-.59-.52 0-1.04.2-1.43.59L10.3 9.45l-7.72 7.72c-.78.78-.78 2.05 0 2.83L4 21.41c.39.39.9.59 1.41.59.51 0 1.02-.2 1.41-.59l7.78-7.78 2.81-2.81c.8-.78.8-2.07 0-2.86zM5.41 20L4 18.59l7.72-7.72 1.47 1.35L5.41 20z\"/>\n",
              "  </svg>\n",
              "      </button>\n",
              "      \n",
              "  <style>\n",
              "    .colab-df-container {\n",
              "      display:flex;\n",
              "      flex-wrap:wrap;\n",
              "      gap: 12px;\n",
              "    }\n",
              "\n",
              "    .colab-df-convert {\n",
              "      background-color: #E8F0FE;\n",
              "      border: none;\n",
              "      border-radius: 50%;\n",
              "      cursor: pointer;\n",
              "      display: none;\n",
              "      fill: #1967D2;\n",
              "      height: 32px;\n",
              "      padding: 0 0 0 0;\n",
              "      width: 32px;\n",
              "    }\n",
              "\n",
              "    .colab-df-convert:hover {\n",
              "      background-color: #E2EBFA;\n",
              "      box-shadow: 0px 1px 2px rgba(60, 64, 67, 0.3), 0px 1px 3px 1px rgba(60, 64, 67, 0.15);\n",
              "      fill: #174EA6;\n",
              "    }\n",
              "\n",
              "    [theme=dark] .colab-df-convert {\n",
              "      background-color: #3B4455;\n",
              "      fill: #D2E3FC;\n",
              "    }\n",
              "\n",
              "    [theme=dark] .colab-df-convert:hover {\n",
              "      background-color: #434B5C;\n",
              "      box-shadow: 0px 1px 3px 1px rgba(0, 0, 0, 0.15);\n",
              "      filter: drop-shadow(0px 1px 2px rgba(0, 0, 0, 0.3));\n",
              "      fill: #FFFFFF;\n",
              "    }\n",
              "  </style>\n",
              "\n",
              "      <script>\n",
              "        const buttonEl =\n",
              "          document.querySelector('#df-fe438f39-3849-40bf-8ac3-ed5e7cc3e0a0 button.colab-df-convert');\n",
              "        buttonEl.style.display =\n",
              "          google.colab.kernel.accessAllowed ? 'block' : 'none';\n",
              "\n",
              "        async function convertToInteractive(key) {\n",
              "          const element = document.querySelector('#df-fe438f39-3849-40bf-8ac3-ed5e7cc3e0a0');\n",
              "          const dataTable =\n",
              "            await google.colab.kernel.invokeFunction('convertToInteractive',\n",
              "                                                     [key], {});\n",
              "          if (!dataTable) return;\n",
              "\n",
              "          const docLinkHtml = 'Like what you see? Visit the ' +\n",
              "            '<a target=\"_blank\" href=https://colab.research.google.com/notebooks/data_table.ipynb>data table notebook</a>'\n",
              "            + ' to learn more about interactive tables.';\n",
              "          element.innerHTML = '';\n",
              "          dataTable['output_type'] = 'display_data';\n",
              "          await google.colab.output.renderOutput(dataTable, element);\n",
              "          const docLink = document.createElement('div');\n",
              "          docLink.innerHTML = docLinkHtml;\n",
              "          element.appendChild(docLink);\n",
              "        }\n",
              "      </script>\n",
              "    </div>\n",
              "  </div>\n",
              "  "
            ]
          },
          "metadata": {},
          "execution_count": 46
        }
      ]
    },
    {
      "cell_type": "code",
      "source": [
        "clf_true = RandomForestClassifier(n_estimators=100)\n",
        "clf_true.fit(X_train, y_train)\n",
        "\n",
        "y_pred=clf_true.predict(X_test)\n",
        "print(\"Base Accuracy:\",metrics.accuracy_score(y_test, y_pred))\n",
        "print(\"Base classification report:\",metrics.classification_report(y_test, y_pred))"
      ],
      "metadata": {
        "colab": {
          "base_uri": "https://localhost:8080/"
        },
        "id": "8nXfuNNyHWwM",
        "outputId": "66af50bd-790d-44ec-feaa-326adc2da69f"
      },
      "execution_count": 47,
      "outputs": [
        {
          "output_type": "stream",
          "name": "stderr",
          "text": [
            "/usr/local/lib/python3.7/dist-packages/ipykernel_launcher.py:2: DataConversionWarning: A column-vector y was passed when a 1d array was expected. Please change the shape of y to (n_samples,), for example using ravel().\n",
            "  \n"
          ]
        },
        {
          "output_type": "stream",
          "name": "stdout",
          "text": [
            "Base Accuracy: 0.05266666666666667\n",
            "Base classification report:                    precision    recall  f1-score   support\n",
            "\n",
            "14615166004947990       0.00      0.00      0.00        34\n",
            "14615166466219560       0.00      0.00      0.00         0\n",
            "14615169567198860       0.08      0.11      0.09       183\n",
            "14615174677676420       0.00      0.00      0.00         2\n",
            "14615178436353960       0.00      0.00      0.00         9\n",
            "14615179217320090       0.00      0.00      0.00         3\n",
            "14615179591818660       0.00      0.00      0.00         2\n",
            "14615183281945520       0.00      0.00      0.00         0\n",
            "14615184062907090       0.00      0.00      0.00         1\n",
            "14615184263859660       0.00      0.00      0.00         8\n",
            "14615186538202820       0.00      0.00      0.00         0\n",
            "14615194667453690       0.05      0.05      0.05       123\n",
            "14615202088856090       0.00      0.00      0.00        19\n",
            "14615205906858960       0.07      0.09      0.08        11\n",
            "14615206258522520       0.00      0.00      0.00         4\n",
            "14615206459470520       0.00      0.00      0.00         4\n",
            "14615208500896690       0.00      0.00      0.00         3\n",
            "14615209638088820       0.00      0.00      0.00        17\n",
            "14615210067391390       0.00      0.00      0.00         2\n",
            "14615212830453790       0.00      0.00      0.00         5\n",
            "14615213615941260       0.00      0.00      0.00        30\n",
            "14615213693580260       0.00      0.00      0.00         5\n",
            "14615214716597390       0.00      0.00      0.00         1\n",
            "14615215913165090       0.00      0.00      0.00        17\n",
            "14615218986742390       0.00      0.00      0.00         0\n",
            "14615219210525390       0.00      0.00      0.00         4\n",
            "14615220005192520       0.00      0.00      0.00        13\n",
            "14615220009759520       0.04      0.03      0.04        33\n",
            "14615220416227090       0.00      0.00      0.00         5\n",
            "14615220484732090       0.00      0.00      0.00         9\n",
            "14615223521819060       0.00      0.00      0.00         6\n",
            "14615224293646630       0.00      0.00      0.00         8\n",
            "14615224311914630       0.00      0.00      0.00         8\n",
            "14615224325615630       0.00      0.00      0.00         0\n",
            "14615224339316630       0.02      0.02      0.02        58\n",
            "14615227001859360       0.00      0.00      0.00         0\n",
            "14615228723636630       0.04      0.03      0.03        35\n",
            "14615230806211460       0.03      0.04      0.03        78\n",
            "14615230924953460       0.00      0.00      0.00         1\n",
            "14615231751543930       0.00      0.00      0.00         1\n",
            "14615232865901060       0.00      0.00      0.00         5\n",
            "14615232952674060       0.00      0.00      0.00         0\n",
            "14615232970942060       0.00      0.00      0.00        11\n",
            "14615232998344060       0.00      0.00      0.00         3\n",
            "14615233002911060       0.00      0.00      0.00         1\n",
            "14615238277805200       0.00      0.00      0.00        20\n",
            "14615238958297330       0.00      0.00      0.00         0\n",
            "14615241447289490       0.00      0.00      0.00         6\n",
            "14615244297124900       0.00      0.00      0.00         7\n",
            "14615249083345460       0.00      0.00      0.00         2\n",
            "14615255732870060       0.00      0.00      0.00         0\n",
            "14615257870248900       0.00      0.00      0.00         1\n",
            "14615262724974460       0.00      0.00      0.00        10\n",
            "14615272982465600       0.00      0.00      0.00         2\n",
            "14615273672091730       0.00      0.00      0.00         0\n",
            "14615275928208000       0.00      0.00      0.00         0\n",
            "14615279198170860       0.00      0.00      0.00         1\n",
            "14615279243840860       0.00      0.00      0.00         2\n",
            "14615280052204430       0.00      0.00      0.00         5\n",
            "14615280550016570       0.00      0.00      0.00         4\n",
            "14615281906383600       0.00      0.00      0.00         2\n",
            "14615286875279600       0.00      0.00      0.00        37\n",
            "14615287446163730       0.00      0.00      0.00         0\n",
            "14615287455297730       0.00      0.00      0.00        10\n",
            "14615287459864730       0.00      0.00      0.00         7\n",
            "14615287532936730       0.00      0.00      0.00         3\n",
            "14615296758276730       0.00      0.00      0.00         1\n",
            "14615330147216400       0.00      0.00      0.00         3\n",
            "14615330160917400       0.00      0.00      0.00         1\n",
            "14615330398405970       0.00      0.00      0.00         7\n",
            "14615330681559970       0.00      0.00      0.00        17\n",
            "14615331585835100       0.00      0.00      0.00         1\n",
            "14615332289116570       0.00      0.00      0.00         2\n",
            "14615332316518570       0.00      0.00      0.00         1\n",
            "14615333503952270       0.00      0.00      0.00         1\n",
            "14615334645711400       0.00      0.00      0.00         1\n",
            "14615335924485100       0.00      0.00      0.00         2\n",
            "14615335979289100       0.00      0.00      0.00         0\n",
            "14615336477051000       0.00      0.00      0.00        10\n",
            "14615336577525000       0.00      0.00      0.00         3\n",
            "14615336865250570       0.00      0.00      0.00         8\n",
            "14615337422429130       0.00      0.00      0.00        10\n",
            "14615338358673270       0.00      0.00      0.00        18\n",
            "14615339806425970       0.02      0.02      0.02        63\n",
            "14615340116986540       0.00      0.00      0.00        19\n",
            "14615341185628000       0.00      0.00      0.00         3\n",
            "14615341249566000       0.01      0.02      0.01        58\n",
            "14615341847852130       0.00      0.00      0.00         1\n",
            "14615342747560270       0.04      0.04      0.04        75\n",
            "14615343172295840       0.00      0.00      0.00        12\n",
            "14615344935176100       0.00      0.00      0.00         0\n",
            "14615345483175000       0.00      0.00      0.00         1\n",
            "14615345629319000       0.00      0.00      0.00         5\n",
            "14615345770896000       0.00      0.00      0.00         5\n",
            "14615345898776570       0.00      0.00      0.00         0\n",
            "14615345994683570       0.00      0.00      0.00         1\n",
            "14615347908274840       0.00      0.00      0.00         1\n",
            "14615347981346840       0.00      0.00      0.00         4\n",
            "14615348520257400       0.00      0.00      0.00         1\n",
            "14615350474910570       0.00      0.00      0.00         4\n",
            "14615350520580570       0.00      0.00      0.00         7\n",
            "14615350739796570       0.00      0.00      0.00        22\n",
            "14615350776332570       0.00      0.00      0.00         7\n",
            "14615352347398840       0.00      0.00      0.00         1\n",
            "14615354393433100       0.00      0.00      0.00         3\n",
            "14615357316299400       0.00      0.00      0.00         8\n",
            "14615359243591670       0.00      0.00      0.00        12\n",
            "14615362915496210       0.15      0.27      0.19       407\n",
            "14615363285427770       0.00      0.00      0.00        36\n",
            "14615366112382500       0.00      0.00      0.00        12\n",
            "14615366199155500       0.00      0.00      0.00         2\n",
            "14615366422943070       0.00      0.00      0.00         7\n",
            "14615366751767070       0.00      0.00      0.00         8\n",
            "14615366820272070       0.00      0.00      0.00        29\n",
            "14615367719980210       0.00      0.00      0.00        16\n",
            "14615367852427770       0.00      0.00      0.00        16\n",
            "14615368752090240       0.00      0.00      0.00        18\n",
            "14615369286433800       0.00      0.00      0.00         1\n",
            "14615369368639800       0.00      0.00      0.00         2\n",
            "14615371186324070       0.00      0.00      0.00         1\n",
            "14615371875950210       0.00      0.00      0.00         1\n",
            "14615372122568210       0.00      0.00      0.00         1\n",
            "14615372369190770       0.00      0.00      0.00        29\n",
            "14615374693770940       0.00      0.00      0.00         5\n",
            "14615377050365770       0.00      0.00      0.00         0\n",
            "14615378630515800       0.00      0.00      0.00         3\n",
            "14615379863619500       0.05      0.04      0.04        24\n",
            "14615381297671210       0.00      0.00      0.00         2\n",
            "14615381507757770       0.00      0.00      0.00         3\n",
            "14615381681303770       0.00      0.00      0.00        11\n",
            "14615382284106670       0.00      0.00      0.00         2\n",
            "14615383750131940       0.00      0.00      0.00         4\n",
            "14615384010450940       0.00      0.00      0.00         2\n",
            "14615384343846500       0.00      0.00      0.00         1\n",
            "14615385494739640       0.00      0.00      0.00         2\n",
            "14615385618053210       0.00      0.00      0.00         5\n",
            "14615386348777770       0.00      0.00      0.00         6\n",
            "14615388134447370       0.00      0.00      0.00        28\n",
            "14615388586584940       0.09      0.05      0.06        20\n",
            "14615388641388940       0.09      0.07      0.08        14\n",
            "14615389847090640       0.00      0.00      0.00        29\n",
            "14615390824437770       0.00      0.00      0.00        19\n",
            "14615393596588500       0.00      0.00      0.00         2\n",
            "14615393701629500       0.00      0.00      0.00        10\n",
            "14615395354901770       0.00      0.00      0.00        13\n",
            "14615396446378240       0.00      0.00      0.00        28\n",
            "14615396980726370       0.00      0.00      0.00        10\n",
            "14615397953506500       0.00      0.00      0.00         1\n",
            "14615400278086670       0.00      0.00      0.00        11\n",
            "14615402173409940       0.00      0.00      0.00         0\n",
            "14615402794526500       0.00      0.00      0.00         1\n",
            "14615403589193640       0.00      0.00      0.00         0\n",
            "14615405110018340       0.00      0.00      0.00         2\n",
            "14615407288500180       0.00      0.00      0.00         1\n",
            "14615407585359740       0.07      0.06      0.06        16\n",
            "14615411572341610       0.00      0.00      0.00         3\n",
            "14615414061338340       0.00      0.00      0.00         3\n",
            "14615414362764910       0.00      0.00      0.00        10\n",
            "14615415075221470       0.00      0.00      0.00         0\n",
            "14615415171128470       0.00      0.00      0.00         2\n",
            "14615415193963470       0.00      0.00      0.00         9\n",
            "14615415321844040       0.00      0.00      0.00         2\n",
            "14615416349428180       0.00      0.00      0.00         5\n",
            "14615416710225740       0.00      0.00      0.00         1\n",
            "14615417034482740       0.00      0.00      0.00         2\n",
            "14615418217349440       0.00      0.00      0.00         1\n",
            "14615418322390440       0.00      0.00      0.00        28\n",
            "14615418783616340       0.00      0.00      0.00         1\n",
            "14615420085225040       0.00      0.00      0.00         4\n",
            "14615421332029740       0.00      0.00      0.00         2\n",
            "14615422734112440       0.00      0.00      0.00        18\n",
            "14615422793483440       0.00      0.00      0.00         6\n",
            "14615423286678340       0.00      0.00      0.00         1\n",
            "14615423428255340       0.00      0.00      0.00         1\n",
            "14615424428442040       0.00      0.00      0.00        18\n",
            "14615424460411040       0.00      0.00      0.00         3\n",
            "14615424524349040       0.00      0.00      0.00         5\n",
            "14615426104544740       0.00      0.00      0.00        60\n",
            "14615426209590310       0.00      0.00      0.00         5\n",
            "14615426593218310       0.00      0.00      0.00         7\n",
            "14615426766768880       0.00      0.00      0.00         1\n",
            "14615427835410340       0.00      0.00      0.00         1\n",
            "14615429182689040       0.00      0.00      0.00        10\n",
            "14615430050428180       0.00      0.00      0.00         2\n",
            "14615431854411440       0.00      0.00      0.00         5\n",
            "14615432110163440       0.00      0.00      0.00         2\n",
            "14615432649032910       0.00      0.00      0.00         2\n",
            "14615435220276740       0.00      0.00      0.00         2\n",
            "14615435964706880       0.00      0.00      0.00         2\n",
            "14615437485485910       0.00      0.00      0.00        10\n",
            "14615438056365470       0.00      0.00      0.00        20\n",
            "14615440495170880       0.07      0.05      0.06        19\n",
            "14615442335644470       0.00      0.00      0.00        71\n",
            "14615443025266040       0.00      0.00      0.00         1\n",
            "14615443431733610       0.00      0.00      0.00         0\n",
            "14615443459135610       0.05      0.05      0.05        21\n",
            "14615443733160180       0.00      0.00      0.00        10\n",
            "14615443737727180       0.00      0.00      0.00         5\n",
            "14615443760562180       0.00      0.00      0.00        11\n",
            "14615444153328740       0.00      0.00      0.00         2\n",
            "14616935434220920       0.00      0.00      0.00        16\n",
            "14616947523101890       0.00      0.00      0.00        21\n",
            "14616947669245890       0.07      0.05      0.05        22\n",
            "14616947678379890       0.00      0.00      0.00         1\n",
            "14616948317764450       0.00      0.00      0.00         4\n",
            "14616948450166350       0.00      0.00      0.00         2\n",
            "14616948952540920       0.00      0.00      0.00         0\n",
            "14616949084983920       0.00      0.00      0.00         7\n",
            "14616951204094750       0.00      0.00      0.00         2\n",
            "14616970979264120       0.00      0.00      0.00        30\n",
            "14616972276260150       0.00      0.00      0.00         2\n",
            "14616972901943720       0.00      0.00      0.00        22\n",
            "14616973669208860       0.00      0.00      0.00         1\n",
            "14616991777363860       0.00      0.00      0.00        34\n",
            "14617008108978690       0.00      0.00      0.00        11\n",
            "14617008232292260       0.00      0.00      0.00         0\n",
            "14617008332766260       0.00      0.00      0.00         1\n",
            "14617008615920260       0.00      0.00      0.00         2\n",
            "14617010392501520       0.00      0.00      0.00        18\n",
            " 1508316675572647       0.00      0.00      0.00        52\n",
            " 1508335167561162       0.00      0.00      0.00         1\n",
            " 1508338528891430       0.00      0.00      0.00        10\n",
            " 1508348000516039       0.00      0.00      0.00        22\n",
            " 1508350932502637       0.00      0.00      0.00         1\n",
            " 1508359705810111       0.00      0.00      0.00         1\n",
            " 1508363701971647       0.00      0.00      0.00         3\n",
            " 1511070392230259       0.00      0.00      0.00        32\n",
            " 1511183507398538       0.00      0.00      0.00         4\n",
            " 1511215517825795       0.00      0.00      0.00         0\n",
            " 1511227547454506       0.00      0.00      0.00         0\n",
            " 1511255511432990       0.00      0.00      0.00         0\n",
            " 1511265750761165       0.00      0.00      0.00         3\n",
            " 1511265983244300       0.00      0.00      0.00        10\n",
            " 1511351423050227       0.00      0.00      0.00        22\n",
            " 1511354076559433       0.00      0.00      0.00         0\n",
            " 1511401655524330       0.00      0.00      0.00         2\n",
            " 1511449234128434       0.00      0.00      0.00         1\n",
            " 1511450097286867       0.02      0.01      0.02        67\n",
            " 1511461610794341       0.00      0.00      0.00         4\n",
            " 1511478687008289       0.00      0.00      0.00         1\n",
            " 1511531737380763       0.00      0.00      0.00         3\n",
            " 1511535961864897       0.00      0.00      0.00         1\n",
            " 1511541336849403       0.00      0.00      0.00        13\n",
            " 1511581759754598       0.00      0.00      0.00         3\n",
            " 1511582362612299       0.00      0.00      0.00         2\n",
            " 1511583111586598       0.00      0.00      0.00        11\n",
            "\n",
            "         accuracy                           0.05      3000\n",
            "        macro avg       0.00      0.00      0.00      3000\n",
            "     weighted avg       0.03      0.05      0.04      3000\n",
            "\n"
          ]
        },
        {
          "output_type": "stream",
          "name": "stderr",
          "text": [
            "/usr/local/lib/python3.7/dist-packages/sklearn/metrics/_classification.py:1318: UndefinedMetricWarning: Precision and F-score are ill-defined and being set to 0.0 in labels with no predicted samples. Use `zero_division` parameter to control this behavior.\n",
            "  _warn_prf(average, modifier, msg_start, len(result))\n",
            "/usr/local/lib/python3.7/dist-packages/sklearn/metrics/_classification.py:1318: UndefinedMetricWarning: Recall and F-score are ill-defined and being set to 0.0 in labels with no true samples. Use `zero_division` parameter to control this behavior.\n",
            "  _warn_prf(average, modifier, msg_start, len(result))\n",
            "/usr/local/lib/python3.7/dist-packages/sklearn/metrics/_classification.py:1318: UndefinedMetricWarning: Precision and F-score are ill-defined and being set to 0.0 in labels with no predicted samples. Use `zero_division` parameter to control this behavior.\n",
            "  _warn_prf(average, modifier, msg_start, len(result))\n",
            "/usr/local/lib/python3.7/dist-packages/sklearn/metrics/_classification.py:1318: UndefinedMetricWarning: Recall and F-score are ill-defined and being set to 0.0 in labels with no true samples. Use `zero_division` parameter to control this behavior.\n",
            "  _warn_prf(average, modifier, msg_start, len(result))\n",
            "/usr/local/lib/python3.7/dist-packages/sklearn/metrics/_classification.py:1318: UndefinedMetricWarning: Precision and F-score are ill-defined and being set to 0.0 in labels with no predicted samples. Use `zero_division` parameter to control this behavior.\n",
            "  _warn_prf(average, modifier, msg_start, len(result))\n",
            "/usr/local/lib/python3.7/dist-packages/sklearn/metrics/_classification.py:1318: UndefinedMetricWarning: Recall and F-score are ill-defined and being set to 0.0 in labels with no true samples. Use `zero_division` parameter to control this behavior.\n",
            "  _warn_prf(average, modifier, msg_start, len(result))\n"
          ]
        }
      ]
    },
    {
      "cell_type": "markdown",
      "source": [
        "Random Forest Accuracy on the Original Data is **0.576** while Random Forest Accuracy on the Synthetic Data is **0.0526** so Original Data and Synthetic Data have the same characteristics, they are comparable. "
      ],
      "metadata": {
        "id": "dt8EedLrHoYo"
      }
    },
    {
      "cell_type": "markdown",
      "source": [
        "#**Overall Aggregated Score Metrics**"
      ],
      "metadata": {
        "id": "r8jk_CnLdncO"
      }
    },
    {
      "cell_type": "code",
      "source": [
        "start_test_time = timeit.default_timer()\n",
        "tmp_orig_data = orig_data.copy()\n",
        "tmp_synth_data = synth_data.copy()\n",
        "tmp_orig_data.CELL_CALL_CODE = pd.to_numeric(tmp_orig_data.CELL_CALL_CODE)\n",
        "tmp_orig_data.NUM_CALLER_KEY = pd.to_numeric(tmp_orig_data.NUM_CALLER_KEY)\n",
        "tmp_synth_data.CELL_CALL_CODE = pd.to_numeric(tmp_synth_data.CELL_CALL_CODE)\n",
        "tmp_synth_data.NUM_CALLER_KEY = pd.to_numeric(tmp_synth_data.NUM_CALLER_KEY)\n",
        "results = evaluate(tmp_synth_data, tmp_orig_data)\n",
        "print(\"Overall Aggregated Metrics Results: \", results)\n",
        "print(\"Overall Aggregated Metrics - Elapsed Time = \", timeit.default_timer() - start_test_time)"
      ],
      "metadata": {
        "colab": {
          "base_uri": "https://localhost:8080/"
        },
        "id": "A4Xj-WG0db9z",
        "outputId": "3d4513c6-e500-42ac-d8d4-89f3ab1bb9f3"
      },
      "execution_count": 15,
      "outputs": [
        {
          "output_type": "stream",
          "name": "stdout",
          "text": [
            "Overall Aggregated Metrics Results:  0.9596909762062428\n",
            "Overall Aggregated Metrics - Elapsed Time =  154.49360118200002\n"
          ]
        },
        {
          "output_type": "stream",
          "name": "stderr",
          "text": [
            "/usr/local/lib/python3.7/dist-packages/sdmetrics/column_pairs/statistical/kl_divergence.py:51: SettingWithCopyWarning: \n",
            "A value is trying to be set on a copy of a slice from a DataFrame.\n",
            "Try using .loc[row_indexer,col_indexer] = value instead\n",
            "\n",
            "See the caveats in the documentation: https://pandas.pydata.org/pandas-docs/stable/user_guide/indexing.html#returning-a-view-versus-a-copy\n",
            "  real_data[pd.isna(real_data)] = 0.0\n",
            "/usr/local/lib/python3.7/dist-packages/pandas/core/frame.py:3718: SettingWithCopyWarning: \n",
            "A value is trying to be set on a copy of a slice from a DataFrame\n",
            "\n",
            "See the caveats in the documentation: https://pandas.pydata.org/pandas-docs/stable/user_guide/indexing.html#returning-a-view-versus-a-copy\n",
            "  self._where(-key, value, inplace=True)\n",
            "/usr/local/lib/python3.7/dist-packages/sdmetrics/column_pairs/statistical/kl_divergence.py:52: SettingWithCopyWarning: \n",
            "A value is trying to be set on a copy of a slice from a DataFrame.\n",
            "Try using .loc[row_indexer,col_indexer] = value instead\n",
            "\n",
            "See the caveats in the documentation: https://pandas.pydata.org/pandas-docs/stable/user_guide/indexing.html#returning-a-view-versus-a-copy\n",
            "  synthetic_data[pd.isna(synthetic_data)] = 0.0\n"
          ]
        }
      ]
    }
  ]
}