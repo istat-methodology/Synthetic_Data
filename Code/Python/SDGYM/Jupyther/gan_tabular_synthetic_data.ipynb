{
  "nbformat": 4,
  "nbformat_minor": 0,
  "metadata": {
    "colab": {
      "name": "gan_tabular_synthetic_data.ipynb",
      "provenance": []
    },
    "kernelspec": {
      "name": "python3",
      "display_name": "Python 3"
    },
    "language_info": {
      "name": "python"
    }
  },
  "cells": [
    {
      "cell_type": "markdown",
      "source": [
        "#**Generative Adversarial Networks (Gans) for Tabular Synthetic Data**"
      ],
      "metadata": {
        "id": "ntTd3eoke-ua"
      }
    },
    {
      "cell_type": "markdown",
      "source": [
        "#**All Imports**"
      ],
      "metadata": {
        "id": "LEs6hZtte69y"
      }
    },
    {
      "cell_type": "code",
      "execution_count": 8,
      "metadata": {
        "id": "Wyv7pfztekYk"
      },
      "outputs": [],
      "source": [
        "import timeit\n",
        "import platform\n",
        "import numpy as np\n",
        "import pandas as pd\n",
        "%matplotlib inline\n",
        "import os\n",
        "import matplotlib.pyplot as plt\n",
        "from numpy.random import randn\n",
        "from matplotlib import pyplot"
      ]
    },
    {
      "cell_type": "markdown",
      "source": [
        "#**All Tensorflow 2.x imports**"
      ],
      "metadata": {
        "id": "_tT-B2YvfH3Y"
      }
    },
    {
      "cell_type": "code",
      "source": [
        "from tensorflow.keras.models import Sequential\n",
        "from tensorflow.keras.layers import Dense"
      ],
      "metadata": {
        "id": "8BKU_X9Je6Xi"
      },
      "execution_count": 9,
      "outputs": []
    },
    {
      "cell_type": "markdown",
      "source": [
        "#**All Functions Definition**"
      ],
      "metadata": {
        "id": "OZxolQ2szAKR"
      }
    },
    {
      "cell_type": "code",
      "source": [
        "def explore_data(data): \n",
        "  print(\"\\nHead of Data: \\n\", data.head())\n",
        "  print(\"\\nTail of Data: \\n\", data.tail())\n",
        "  print(\"\\nShape of Data: \", data.shape)\n",
        "  print(\"\\nInformation about Data: \\n\")\n",
        "  try: \n",
        "    data.info()\n",
        "  except: \n",
        "    pass\n",
        "  print(\"\\nTypes of Data attributes: \\n\")\n",
        "  try: \n",
        "    data.dtypes\n",
        "  except: \n",
        "    pass\n",
        "  print(\"\\nSummary of all numerical fields in the dataset: \\n\")\n",
        "  try: \n",
        "    data.describe(include = [np.number])\n",
        "  except: \n",
        "    pass\n",
        "  print(\"\\nSummary of all categorical fields in the dataset: \\n\")\n",
        "  try: \n",
        "    data.describe(include = ['O'])\n",
        "  except: \n",
        "    pass\n",
        "  print(\"\\nLoop Through Each Column and Check for nulls: \\n\")\n",
        "  try: \n",
        "    for i in range(len(data.columns)):\n",
        "        print(data.columns[i] + \": \" + str(data[data.columns[i]].isna().sum()))\n",
        "  except: \n",
        "    pass\n",
        "    \n",
        "def data_download(file_to_download, gdrive_code, OS, uncompress = True):\n",
        "  if not os.path.exists(file_to_download):\n",
        "    os.system('gdown --id \"'+gdrive_code+'\" --output '+file_to_download)\n",
        "    if OS == \"Linux\" and uncompress:\n",
        "        os.system('unzip -o -n \"./'+file_to_download+'\" -d \"./\"')\n",
        "    return True\n",
        "  else: \n",
        "    return None    "
      ],
      "metadata": {
        "id": "9MD3XQvQzAmZ"
      },
      "execution_count": 17,
      "outputs": []
    },
    {
      "cell_type": "markdown",
      "source": [
        "# **Data Download - Diabetes, Telephony, etc.**"
      ],
      "metadata": {
        "id": "3-6iNzaUxwDg"
      }
    },
    {
      "cell_type": "code",
      "source": [
        "start_time = timeit.default_timer()\n",
        "# Operating System\n",
        "OS = platform.system()                           # returns 'Windows', 'Linux', etc\n",
        "\n",
        "os.system('pip install --upgrade --no-cache-dir gdown')\n",
        "\n",
        "out = data_download(\"./diabetes.zip\", \"1y-JNu2gHldlhhLfBD17mVj4wP69jx2ks\", OS)\n",
        "print(\"Elapsed Time: \", timeit.default_timer() - start_time)"
      ],
      "metadata": {
        "colab": {
          "base_uri": "https://localhost:8080/"
        },
        "id": "mMSDpaJsxxtd",
        "outputId": "46a2b0ab-33c7-4e0d-ebb3-c5c066417ef5"
      },
      "execution_count": 12,
      "outputs": [
        {
          "output_type": "stream",
          "name": "stdout",
          "text": [
            "Elapsed Time:  4.19292636199998\n"
          ]
        }
      ]
    },
    {
      "cell_type": "code",
      "source": [
        "data = pd.read_csv('./diabetes.csv')\n",
        "# data = pd.read_csv('/Iris.csv')"
      ],
      "metadata": {
        "id": "EdN1xv-gfoaT",
        "colab": {
          "base_uri": "https://localhost:8080/"
        },
        "outputId": "188455a2-cebc-440a-eef5-07112984ff2e"
      },
      "execution_count": 14,
      "outputs": [
        {
          "output_type": "stream",
          "name": "stdout",
          "text": [
            "(768, 9)\n",
            "     Pregnancies  Glucose  BloodPressure  SkinThickness  Insulin   BMI  \\\n",
            "763           10      101             76             48      180  32.9   \n",
            "764            2      122             70             27        0  36.8   \n",
            "765            5      121             72             23      112  26.2   \n",
            "766            1      126             60              0        0  30.1   \n",
            "767            1       93             70             31        0  30.4   \n",
            "\n",
            "     DiabetesPedigreeFunction  Age  Outcome  \n",
            "763                     0.171   63        0  \n",
            "764                     0.340   27        0  \n",
            "765                     0.245   30        0  \n",
            "766                     0.349   47        1  \n",
            "767                     0.315   23        0  \n",
            "Index(['Pregnancies', 'Glucose', 'BloodPressure', 'SkinThickness', 'Insulin',\n",
            "       'BMI', 'DiabetesPedigreeFunction', 'Age', 'Outcome'],\n",
            "      dtype='object')\n"
          ]
        }
      ]
    },
    {
      "cell_type": "code",
      "source": [
        "explore_data(data)"
      ],
      "metadata": {
        "colab": {
          "base_uri": "https://localhost:8080/"
        },
        "id": "MjQHbLO65qsV",
        "outputId": "0bcdee05-a6d6-480e-aa87-b7edb9f78121"
      },
      "execution_count": 18,
      "outputs": [
        {
          "output_type": "stream",
          "name": "stdout",
          "text": [
            "\n",
            "Head of Data: \n",
            "    Pregnancies  Glucose  BloodPressure  SkinThickness  Insulin   BMI  \\\n",
            "0            6      148             72             35        0  33.6   \n",
            "1            1       85             66             29        0  26.6   \n",
            "2            8      183             64              0        0  23.3   \n",
            "3            1       89             66             23       94  28.1   \n",
            "4            0      137             40             35      168  43.1   \n",
            "\n",
            "   DiabetesPedigreeFunction  Age  Outcome  \n",
            "0                     0.627   50        1  \n",
            "1                     0.351   31        0  \n",
            "2                     0.672   32        1  \n",
            "3                     0.167   21        0  \n",
            "4                     2.288   33        1  \n",
            "\n",
            "Tail of Data: \n",
            "      Pregnancies  Glucose  BloodPressure  SkinThickness  Insulin   BMI  \\\n",
            "763           10      101             76             48      180  32.9   \n",
            "764            2      122             70             27        0  36.8   \n",
            "765            5      121             72             23      112  26.2   \n",
            "766            1      126             60              0        0  30.1   \n",
            "767            1       93             70             31        0  30.4   \n",
            "\n",
            "     DiabetesPedigreeFunction  Age  Outcome  \n",
            "763                     0.171   63        0  \n",
            "764                     0.340   27        0  \n",
            "765                     0.245   30        0  \n",
            "766                     0.349   47        1  \n",
            "767                     0.315   23        0  \n",
            "\n",
            "Shape of Data:  (768, 9)\n",
            "\n",
            "Information about Data: \n",
            "\n",
            "<class 'pandas.core.frame.DataFrame'>\n",
            "RangeIndex: 768 entries, 0 to 767\n",
            "Data columns (total 9 columns):\n",
            " #   Column                    Non-Null Count  Dtype  \n",
            "---  ------                    --------------  -----  \n",
            " 0   Pregnancies               768 non-null    int64  \n",
            " 1   Glucose                   768 non-null    int64  \n",
            " 2   BloodPressure             768 non-null    int64  \n",
            " 3   SkinThickness             768 non-null    int64  \n",
            " 4   Insulin                   768 non-null    int64  \n",
            " 5   BMI                       768 non-null    float64\n",
            " 6   DiabetesPedigreeFunction  768 non-null    float64\n",
            " 7   Age                       768 non-null    int64  \n",
            " 8   Outcome                   768 non-null    int64  \n",
            "dtypes: float64(2), int64(7)\n",
            "memory usage: 54.1 KB\n",
            "\n",
            "Types of Data attributes: \n",
            "\n",
            "\n",
            "Summary of all numerical fields in the dataset: \n",
            "\n",
            "\n",
            "Summary of all categorical fields in the dataset: \n",
            "\n",
            "\n",
            "Loop Through Each Column and Check for nulls: \n",
            "\n",
            "Pregnancies: 0\n",
            "Glucose: 0\n",
            "BloodPressure: 0\n",
            "SkinThickness: 0\n",
            "Insulin: 0\n",
            "BMI: 0\n",
            "DiabetesPedigreeFunction: 0\n",
            "Age: 0\n",
            "Outcome: 0\n"
          ]
        }
      ]
    },
    {
      "cell_type": "code",
      "source": [
        "data.Outcome.unique()"
      ],
      "metadata": {
        "colab": {
          "base_uri": "https://localhost:8080/"
        },
        "id": "rCCCMyTq6dTS",
        "outputId": "53a71251-14f5-4d06-f9f1-32e4ecf4e878"
      },
      "execution_count": 20,
      "outputs": [
        {
          "output_type": "execute_result",
          "data": {
            "text/plain": [
              "array([1, 0])"
            ]
          },
          "metadata": {},
          "execution_count": 20
        }
      ]
    },
    {
      "cell_type": "code",
      "source": [
        "features = ['Pregnancies', 'Glucose', 'BloodPressure', 'SkinThickness', 'Insulin',\n",
        "       'BMI', 'DiabetesPedigreeFunction', 'Age']\n",
        "\n",
        "label = ['Outcome']\n",
        "X = data[features]\n",
        "y = data[label]"
      ],
      "metadata": {
        "id": "KH2-TRrv6zo9"
      },
      "execution_count": 21,
      "outputs": []
    },
    {
      "cell_type": "code",
      "source": [
        "print (y)"
      ],
      "metadata": {
        "colab": {
          "base_uri": "https://localhost:8080/"
        },
        "id": "TWe1fdcU64Pq",
        "outputId": "c53b00a0-a144-478e-80af-890c46796357"
      },
      "execution_count": 22,
      "outputs": [
        {
          "output_type": "stream",
          "name": "stdout",
          "text": [
            "     Outcome\n",
            "0          1\n",
            "1          0\n",
            "2          1\n",
            "3          0\n",
            "4          1\n",
            "..       ...\n",
            "763        0\n",
            "764        0\n",
            "765        0\n",
            "766        1\n",
            "767        0\n",
            "\n",
            "[768 rows x 1 columns]\n"
          ]
        }
      ]
    },
    {
      "cell_type": "code",
      "source": [
        "from sklearn.model_selection import train_test_split\n",
        "from sklearn.ensemble import RandomForestClassifier\n",
        "from sklearn import metrics\n",
        "\n",
        "X_true_train, X_true_test, y_true_train, y_true_test = train_test_split(X, y, test_size=0.30, random_state=42)\n",
        "clf_true = RandomForestClassifier(n_estimators=100)\n",
        "clf_true.fit(X_true_train,y_true_train)\n",
        "\n",
        "y_true_pred=clf_true.predict(X_true_test)\n",
        "print(\"Base Accuracy:\",metrics.accuracy_score(y_true_test, y_true_pred))\n",
        "print(\"Base classification report:\",metrics.classification_report(y_true_test, y_true_pred))"
      ],
      "metadata": {
        "id": "bwG4h1Wh69cM"
      },
      "execution_count": null,
      "outputs": []
    },
    {
      "cell_type": "code",
      "source": [
        "X.shape"
      ],
      "metadata": {
        "id": "Q98YphYZ7CfB"
      },
      "execution_count": null,
      "outputs": []
    },
    {
      "cell_type": "code",
      "source": [
        "data.shape"
      ],
      "metadata": {
        "id": "u12uLkA37I9m"
      },
      "execution_count": null,
      "outputs": []
    },
    {
      "cell_type": "code",
      "source": [
        "print (y_true_test)"
      ],
      "metadata": {
        "id": "S6ExFS137M5h"
      },
      "execution_count": null,
      "outputs": []
    },
    {
      "cell_type": "code",
      "source": [
        "# generate points in latent space as input for the generator\n",
        "def generate_latent_points(latent_dim, n_samples):\n",
        "\t# generate points in the latent space\n",
        "\tx_input = randn(latent_dim * n_samples)\n",
        "\t# reshape into a batch of inputs for the network\n",
        "\tx_input = x_input.reshape(n_samples, latent_dim)\n",
        "\treturn x_input"
      ],
      "metadata": {
        "id": "oZfTAdu47Qsg"
      },
      "execution_count": null,
      "outputs": []
    },
    {
      "cell_type": "code",
      "source": [
        "# use the generator to generate n fake examples, with class labels\n",
        "def generate_fake_samples(generator, latent_dim, n_samples):\n",
        "\t# generate points in latent space\n",
        "\tx_input = generate_latent_points(latent_dim, n_samples)\n",
        "\t# predict outputs\n",
        "\tX = generator.predict(x_input)\n",
        "\t# create class labels\n",
        "\ty = np.zeros((n_samples, 1))\n",
        "\treturn X, y"
      ],
      "metadata": {
        "id": "qXnDZFCc7UdY"
      },
      "execution_count": null,
      "outputs": []
    },
    {
      "cell_type": "code",
      "source": [
        "# generate n real samples with class labels\n",
        "def generate_real_samples(n):\n",
        "  X = data.sample(n)\n",
        "\n",
        "  #generate class labels\n",
        "  y = np.ones((n, 1))\n",
        "  return X, y"
      ],
      "metadata": {
        "id": "KSUmrGZF7ZSK"
      },
      "execution_count": null,
      "outputs": []
    },
    {
      "cell_type": "code",
      "source": [
        "# define the standalone generator model\n",
        "def define_generator(latent_dim, n_outputs=9):\n",
        "  model = Sequential()\n",
        "  model.add(Dense(15, activation='relu', kernel_initializer='he_uniform', input_dim=latent_dim))\n",
        "  model.add(Dense(30, activation='relu'))\n",
        "  # model.add(Dense(n_outputs, activation='sigmoid'))\n",
        "  model.add(Dense(n_outputs, activation='linear'))\n",
        "  return model"
      ],
      "metadata": {
        "id": "QZaDz3B97bs-"
      },
      "execution_count": null,
      "outputs": []
    },
    {
      "cell_type": "code",
      "source": [
        "generator1 = define_generator(10, 9)\n",
        "generator1.summary()"
      ],
      "metadata": {
        "id": "wYAn0Jvw7bhz"
      },
      "execution_count": null,
      "outputs": []
    },
    {
      "cell_type": "code",
      "source": [
        "# from keras.layers import Reshape\n",
        "# from keras.layers import Flatten\n",
        "# from keras.layers import Conv2D\n",
        "# from keras.layers import Conv2DTranspose\n",
        "# from keras.layers import LeakyReLU\n",
        "# from keras.layers import BatchNormalization\n",
        "# from keras.initializers import RandomNormal\n",
        "# from matplotlib import pyplot"
      ],
      "metadata": {
        "id": "y8yYUWp67uiH"
      },
      "execution_count": null,
      "outputs": []
    },
    {
      "cell_type": "code",
      "source": [
        "# define the standalone discriminator model\n",
        "def define_discriminator(n_inputs=9):\n",
        "  model = Sequential()\n",
        "  # model.add(Conv2D(64, (4,4), strides=(2,2), padding='same', kernel_initializer='he_uniform', input_shape=n_inputs))\n",
        "  # model.add(BatchNormalization())\n",
        "  # model.add(LeakyReLU(alpha=0.2))\n",
        "  # model.add(Dense(25, activation='relu'))\n",
        "  model.add(Dense(25, activation='relu', kernel_initializer='he_uniform', input_dim=n_inputs))\n",
        "  model.add(Dense(50, activation='relu'))\n",
        "  model.add(Dense(1, activation='sigmoid'))\n",
        "\t# compile model\n",
        "  model.compile(loss='binary_crossentropy', optimizer='adam', metrics=['accuracy'])\n",
        "  return model"
      ],
      "metadata": {
        "id": "ExV0hq4V7xxQ"
      },
      "execution_count": null,
      "outputs": []
    },
    {
      "cell_type": "code",
      "source": [
        "discriminator1 = define_discriminator(9)\n",
        "discriminator1.summary()"
      ],
      "metadata": {
        "id": "48Mjoox876rZ"
      },
      "execution_count": null,
      "outputs": []
    },
    {
      "cell_type": "code",
      "source": [
        "# define the combined generator and discriminator model, for updating the generator\n",
        "def define_gan(generator, discriminator):\n",
        "\t# make weights in the discriminator not trainable\n",
        "\tdiscriminator.trainable = False\n",
        "\t# connect them\n",
        "\tmodel = Sequential()\n",
        "\t# add generator\n",
        "\tmodel.add(generator)\n",
        "\t# add the discriminator\n",
        "\tmodel.add(discriminator)\n",
        "\t# compile model\n",
        "\tmodel.compile(loss='binary_crossentropy', optimizer='adam')\n",
        "\treturn model"
      ],
      "metadata": {
        "id": "j-W8jNoU79ku"
      },
      "execution_count": null,
      "outputs": []
    },
    {
      "cell_type": "code",
      "source": [
        "# create a line plot of loss for the gan and save to file\n",
        "def plot_history(d_hist, g_hist):\n",
        "\t# plot loss\n",
        "\tplt.subplot(1, 1, 1)\n",
        "\tplt.plot(d_hist, label='d')\n",
        "\tplt.plot(g_hist, label='gen')\n",
        "\t# plt.legend()\n",
        "\t# plot discriminator accuracy\n",
        "\t# pyplot.subplot(2, 1, 2)\n",
        "\t# pyplot.plot(a1_hist, label='acc-real')\n",
        "\t# pyplot.plot(a2_hist, label='acc-fake')\n",
        "\tplt.show()\n",
        "\t# save plot to file\n",
        "\t# plt.savefig('results_baseline/plot_line_plot_loss.png')\n",
        "\tplt.close()"
      ],
      "metadata": {
        "id": "89SRKbph8JHp"
      },
      "execution_count": null,
      "outputs": []
    },
    {
      "cell_type": "code",
      "source": [
        "# train the generator and discriminator\n",
        "def train(g_model, d_model, gan_model, latent_dim, n_epochs=10000, n_batch=128):\n",
        "  \n",
        "  # determine half the size of one batch, for updating the discriminator\n",
        "  half_batch = int(n_batch / 2)\n",
        "\n",
        "  d_history = []\n",
        "  g_history = []\n",
        "  \n",
        "  # manually enumerate epochs\n",
        "  for epoch in range(n_epochs):\n",
        "    # prepare real samples\n",
        "    x_real, y_real = generate_real_samples(half_batch)\n",
        "    # prepare fake examples\n",
        "    x_fake, y_fake = generate_fake_samples(g_model, latent_dim, half_batch)\n",
        "    # update discriminator\n",
        "    d_loss_real, d_real_acc = d_model.train_on_batch(x_real, y_real)\n",
        "    d_loss_fake, d_fake_acc = d_model.train_on_batch(x_fake, y_fake)\n",
        "    d_loss = 0.5 * np.add(d_loss_real, d_loss_fake)\n",
        "    \n",
        "    # prepare points in latent space as input for the generator\n",
        "    x_gan = generate_latent_points(latent_dim, n_batch)\n",
        "    \n",
        "    # create inverted labels for the fake samples\n",
        "    y_gan = np.ones((n_batch, 1))\n",
        "    \n",
        "    # update the generator via the discriminator's error\n",
        "    g_loss_fake = gan_model.train_on_batch(x_gan, y_gan)\n",
        "\n",
        "    print('>%d, d1=%.3f, d2=%.3f d=%.3f g=%.3f' % (epoch+1, d_loss_real, d_loss_fake, d_loss,  g_loss_fake))\n",
        "    d_history.append(d_loss)\n",
        "    g_history.append(g_loss_fake)\n",
        "\n",
        "  plot_history(d_history, g_history)\n",
        "\n",
        "    # if i==999:\n",
        "    #   np.savetxt(\"new_X.csv\", X, delimiter=\",\")\n",
        "    \n",
        "    # evaluate the model every n_eval epochs\n",
        "    # if (i+1) % n_eval == 0:\n",
        "    #   summarize_performance(i, g_model, d_model, latent_dim)\n",
        "  g_model.save('trained_generated_model_20210205_v3.h5')"
      ],
      "metadata": {
        "id": "LeX0wI6c8RO2"
      },
      "execution_count": null,
      "outputs": []
    },
    {
      "cell_type": "code",
      "source": [
        "# evaluate the discriminator and plot real and fake points\n",
        "def summarize_performance(epoch, generator, discriminator, latent_dim, n=100):\n",
        "\t# prepare real samples\n",
        "\tx_real, y_real = generate_real_samples(n)\n",
        "\t# evaluate discriminator on real examples\n",
        "\t_, acc_real = discriminator.evaluate(x_real, y_real, verbose=0)\n",
        "\t# prepare fake examples\n",
        "\tx_fake, y_fake = generate_fake_samples(generator, latent_dim, n)\n",
        "\t# evaluate discriminator on fake examples\n",
        "\t_, acc_fake = discriminator.evaluate(x_fake, y_fake, verbose=0)\n",
        "\t# summarize discriminator performance\n",
        "\tprint(epoch, acc_real, acc_fake)\n",
        "  # scatter plot real and fake data points\n",
        "\tpyplot.scatter(x_real[:, 0], color='red')\n",
        "\tpyplot.scatter(x_fake[:, 0], color='blue')\n",
        "\tpyplot.show()"
      ],
      "metadata": {
        "id": "0cQSxnrW8VgN"
      },
      "execution_count": null,
      "outputs": []
    },
    {
      "cell_type": "code",
      "source": [
        "# size of the latent space\n",
        "latent_dim = 10\n",
        "# create the discriminator\n",
        "discriminator = define_discriminator()\n",
        "# create the generator\n",
        "generator = define_generator(latent_dim)\n",
        "# create the gan\n",
        "gan_model = define_gan(generator, discriminator)\n",
        "# train model\n",
        "train(generator, discriminator, gan_model, latent_dim)"
      ],
      "metadata": {
        "id": "lpRIAKh-8Xz1"
      },
      "execution_count": null,
      "outputs": []
    },
    {
      "cell_type": "code",
      "source": [
        "from keras.models import load_model\n",
        "model = load_model('/content/trained_generated_model_20210205_v3.h5')"
      ],
      "metadata": {
        "id": "aoDURADu8gWo"
      },
      "execution_count": null,
      "outputs": []
    },
    {
      "cell_type": "code",
      "source": [
        "latent_points = generate_latent_points(10, 750)"
      ],
      "metadata": {
        "id": "spHkezu8gJmY"
      },
      "execution_count": null,
      "outputs": []
    },
    {
      "cell_type": "code",
      "source": [
        "X = model.predict(latent_points)"
      ],
      "metadata": {
        "id": "lmw5u9dSgMy2"
      },
      "execution_count": null,
      "outputs": []
    },
    {
      "cell_type": "code",
      "source": [
        "data_fake = pd.DataFrame(data=X,  columns=['Pregnancies', 'Glucose', 'BloodPressure', 'SkinThickness', 'Insulin',\n",
        "       'BMI', 'DiabetesPedigreeFunction', 'Age', 'Outcome'])"
      ],
      "metadata": {
        "id": "QFpmiRX4gRkA"
      },
      "execution_count": null,
      "outputs": []
    },
    {
      "cell_type": "code",
      "source": [
        "data_fake.head()"
      ],
      "metadata": {
        "id": "bEOBW1gMpgXu"
      },
      "execution_count": null,
      "outputs": []
    },
    {
      "cell_type": "code",
      "source": [
        "data_fake.Outcome.min()"
      ],
      "metadata": {
        "id": "-RT-t5IMpkum"
      },
      "execution_count": null,
      "outputs": []
    },
    {
      "cell_type": "code",
      "source": [
        "data_fake.Outcome.max()"
      ],
      "metadata": {
        "id": "qFmcLSpzpoIM"
      },
      "execution_count": null,
      "outputs": []
    },
    {
      "cell_type": "code",
      "source": [
        "outcome_mean = data_fake.Outcome.mean()"
      ],
      "metadata": {
        "id": "j1G4JbVVpqgE"
      },
      "execution_count": null,
      "outputs": []
    },
    {
      "cell_type": "code",
      "source": [
        "data_fake['Outcome'] = data_fake['Outcome'] > outcome_mean"
      ],
      "metadata": {
        "id": "yy4uMEwPpvZs"
      },
      "execution_count": null,
      "outputs": []
    },
    {
      "cell_type": "code",
      "source": [
        "data_fake['Outcome']"
      ],
      "metadata": {
        "id": "H30g9zH0pyEA"
      },
      "execution_count": null,
      "outputs": []
    },
    {
      "cell_type": "code",
      "source": [
        "data_fake[\"Outcome\"] = data_fake[\"Outcome\"].astype(int)"
      ],
      "metadata": {
        "id": "i5fVSB5Fp1US"
      },
      "execution_count": null,
      "outputs": []
    },
    {
      "cell_type": "code",
      "source": [
        "data_fake.head()"
      ],
      "metadata": {
        "id": "jkImt6x2p3DU"
      },
      "execution_count": null,
      "outputs": []
    },
    {
      "cell_type": "code",
      "source": [
        "features = ['Pregnancies', 'Glucose', 'BloodPressure', 'SkinThickness', 'Insulin',\n",
        "       'BMI', 'DiabetesPedigreeFunction', 'Age']\n",
        "\n",
        "label = ['Outcome']\n",
        "X_fake_created = data_fake[features]\n",
        "y_fake_created = data_fake[label]"
      ],
      "metadata": {
        "id": "O2WXLTvYp7PK"
      },
      "execution_count": null,
      "outputs": []
    },
    {
      "cell_type": "code",
      "source": [
        "X_fake_train, X_fake_test, y_fake_train, y_fake_test = train_test_split(X_fake_created, y_fake_created, test_size=0.30, random_state=42)\n",
        "clf_fake = RandomForestClassifier(n_estimators=100)\n",
        "clf_fake.fit(X_fake_train,y_fake_train)\n",
        "\n",
        "y_fake_pred=clf_fake.predict(X_fake_test)\n",
        "print(\"Accuracy of fake data model:\",metrics.accuracy_score(y_fake_test, y_fake_pred))\n",
        "print(\"Classification report of fake data model:\",metrics.classification_report(y_fake_test, y_fake_pred))"
      ],
      "metadata": {
        "id": "fgeZRYOdp_H_"
      },
      "execution_count": null,
      "outputs": []
    },
    {
      "cell_type": "code",
      "source": [
        "X_final = X[:, :8]\n",
        "print ('X_final: ', X_final[:3])\n",
        "\n",
        "y_final = X[:, :]\n",
        "print ('y_final: ', y_final[:3])"
      ],
      "metadata": {
        "id": "bgCt9z8yqEDt"
      },
      "execution_count": null,
      "outputs": []
    },
    {
      "cell_type": "code",
      "source": [
        "X = X [:,:8]"
      ],
      "metadata": {
        "id": "yWehbuzGqiRF"
      },
      "execution_count": null,
      "outputs": []
    },
    {
      "cell_type": "code",
      "source": [
        "y_fake_pred = clf_true.predict(X)"
      ],
      "metadata": {
        "id": "JjSNvDToqmd6"
      },
      "execution_count": null,
      "outputs": []
    },
    {
      "cell_type": "code",
      "source": [
        "y_fake_pred"
      ],
      "metadata": {
        "id": "efW8rEG2qoko"
      },
      "execution_count": null,
      "outputs": []
    },
    {
      "cell_type": "code",
      "source": [
        "!pip install table_evaluator"
      ],
      "metadata": {
        "id": "Uj1L_fI2qviK"
      },
      "execution_count": null,
      "outputs": []
    },
    {
      "cell_type": "code",
      "source": [
        "data_fake.shape"
      ],
      "metadata": {
        "id": "itai8teXtPSz"
      },
      "execution_count": null,
      "outputs": []
    },
    {
      "cell_type": "code",
      "source": [
        "data.shape"
      ],
      "metadata": {
        "id": "hpaTiQKNtSa1"
      },
      "execution_count": null,
      "outputs": []
    },
    {
      "cell_type": "code",
      "source": [
        "data_fake.head()"
      ],
      "metadata": {
        "id": "5R8LLmOJtXPd"
      },
      "execution_count": null,
      "outputs": []
    },
    {
      "cell_type": "code",
      "source": [
        "from table_evaluator import load_data, TableEvaluator"
      ],
      "metadata": {
        "id": "nEwdLFSvtbIQ"
      },
      "execution_count": null,
      "outputs": []
    },
    {
      "cell_type": "code",
      "source": [
        "table_evaluator = TableEvaluator(data, data_fake)"
      ],
      "metadata": {
        "id": "gKEhxGWEtdJ5"
      },
      "execution_count": null,
      "outputs": []
    },
    {
      "cell_type": "code",
      "source": [
        "table_evaluator.evaluate(target_col='Outcome')"
      ],
      "metadata": {
        "id": "7fAoMG81vpJc"
      },
      "execution_count": null,
      "outputs": []
    },
    {
      "cell_type": "code",
      "source": [
        "table_evaluator.visual_evaluation()"
      ],
      "metadata": {
        "id": "cg9zN8iavvII"
      },
      "execution_count": null,
      "outputs": []
    }
  ]
}